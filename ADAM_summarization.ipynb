{
 "cells": [
  {
   "cell_type": "code",
   "execution_count": 4,
   "id": "b6679541-fc82-43d0-90c2-f408526bde3e",
   "metadata": {},
   "outputs": [],
   "source": [
    "import os\n",
    "from glob import glob\n",
    "import hashlib\n",
    "import numpy as np\n",
    "import pandas as pd\n",
    "from sklearn.model_selection import train_test_split\n",
    "from copy import deepcopy\n",
    "import ipynbname\n",
    "import matplotlib.pyplot as plt\n",
    "import shap\n",
    "from datetime import datetime\n",
    "import re\n",
    "import requests\n",
    "import json\n",
    "import platform\n",
    "\n",
    "# Constants\n",
    "EXPERIMENT_NAME = \"nursing_home\"\n",
    "DATA_PATH = f\"..{os.sep}data{os.sep}\""
   ]
  },
  {
   "cell_type": "code",
   "execution_count": 5,
   "id": "11b2399a-ac6f-4dad-8a2d-9471ff46e546",
   "metadata": {},
   "outputs": [],
   "source": [
    "def query_vector_db(query_text, top_k=5, similarity_threshold=0.75):\n",
    "    \"\"\"\n",
    "    Query the vector database service.\n",
    "    \"\"\"\n",
    "    try:\n",
    "        response = requests.post(\n",
    "            f\"{SERVER_URL}/query\",\n",
    "            json={\n",
    "                \"query\": query_text,\n",
    "                \"top_k\": top_k,\n",
    "                \"similarity_threshold\": similarity_threshold\n",
    "            }\n",
    "        )\n",
    "        response.raise_for_status()\n",
    "        return response.json()\n",
    "    except Exception as e:\n",
    "        print(f\"Error querying vector DB: {str(e)}\")\n",
    "        return None\n",
    " \n",
    "def rag_model(test_query, top_k, similarity):\n",
    "    \"\"\"\n",
    "    Queries the vector database and extracts Source and Content as a JSON object.\n",
    "\n",
    "    Args:\n",
    "        test_query (str): The query string to search in the vector database.\n",
    "        top_k (int): Number of top results to retrieve.\n",
    "        similarity_threshold (float): Minimum similarity score threshold for the results.\n",
    "\n",
    "    Returns:\n",
    "        str: JSON-formatted string containing Source and Content.\n",
    "    \"\"\"\n",
    "\n",
    "    # Query the vector database\n",
    "    results = query_vector_db(\n",
    "        query_text=test_query,\n",
    "        top_k=top_k,\n",
    "        similarity_threshold=similarity\n",
    "    )\n",
    "\n",
    "    # Regular expression to match Source and Content\n",
    "    rag_pattern = r\"Source: (.+?)\\nContent: (.+?)(?:\\nRelevance Score:|\\n---|$)\"\n",
    "\n",
    "    # Find all matches\n",
    "    rag_matches = re.findall(rag_pattern, results['context'], re.DOTALL)\n",
    "\n",
    "    # Convert matches into a list of dictionaries\n",
    "    rag_data = [{\"Source\": source.strip(), \"Content\": content.strip()} for source, content in rag_matches]\n",
    "\n",
    "    # Convert the list of dictionaries to JSON\n",
    "    rag_json = json.dumps(rag_data, indent=4)\n",
    "\n",
    "    return rag_json"
   ]
  },
  {
   "cell_type": "code",
   "execution_count": 7,
   "id": "4170d242-8a1a-4f39-87cc-d4ad46f6930c",
   "metadata": {},
   "outputs": [
    {
     "name": "stdout",
     "output_type": "stream",
     "text": [
      "SERVER_URL set to: http://146.189.163.52:5000\n",
      "\n",
      "Message: Found 5 relevant context entries\n",
      "\n",
      "Results:\n",
      "\n",
      "Result 1:\n",
      "Database: chroma_db1\n",
      "Source: PMC8599320.xml\n",
      "Relevance Score: 0.832\n",
      "Content: will need to obtain permission directly from the copyright holder. to view a copy of this licence, visit http://creativecommons.org/licenses/by/4.0/. alzheimer's disease (ad) is a progressive neurodeg...\n",
      "\n",
      "Result 2:\n",
      "Database: chroma_db1\n",
      "Source: PMC9792538.xml\n",
      "Relevance Score: 0.832\n",
      "Content: alzheimer's disease (ad) is considered one of the most diseases that much prevalent among elderly people all over the world. ad is an incurable neurodegenerative disease affecting cognitive functions ...\n",
      "\n",
      "Result 3:\n",
      "Database: chroma_db1\n",
      "Source: PMC8434202.xml\n",
      "Relevance Score: 0.832\n",
      "Content: alzheimer’s disease (ad) is a progressive age-related neurodegenerative disease recognized as the most common form of dementia among elderly people. due to the fact that the exact pathogenesis of ad s...\n",
      "\n",
      "Result 4:\n",
      "Database: chroma_db1\n",
      "Source: PMC10093856.xml\n",
      "Relevance Score: 0.831\n",
      "Content: disease 2.1. overview of the disease alzheimer’s disease is a progressive neurodegenerative disorder characterized by several pathological hallmarks, including amyloid-β pathology, tau pathology (i.e....\n",
      "\n",
      "Result 5:\n",
      "Database: chroma_db1\n",
      "Source: PMC9072437.xml\n",
      "Relevance Score: 0.831\n",
      "Content: de ciencia e innovación basque excellence research centres agencia estatal de investigacion sev-2017-0718 melnik roderick issue-copyright-statement © the author(s) 2022 introduction alzheimer’s diseas...\n",
      "\n",
      "Full Context:\n",
      "Database: chroma_db1\n",
      "Source: PMC8599320.xml\n",
      "Content: will need to obtain permission directly from the copyright holder. to view a copy of this licence, visit http://creativecommons.org/licenses/by/4.0/. alzheimer's disease (ad) is a progressive neurodegenerative disorder of the central nervous system (cns) leading to mental deterioration and devastation, and eventually a fatal outcome. ad affects mostly the elderly. ad is frequently accompanied by hypercholesterolemia, hypertension, atherosclerosis, and diabetes mellitus, and these are significant risk factors of ad. other conditions triggered by the progression of ad include psychosis, sleep disorders, epilepsy, and depression. one important comorbidity is down’s syndrome, which directly contributes to the severity and rapid progression of ad. the development of new therapeutic strategies for ad includes the repurposing of drugs currently used for the treatment of comorbidities. a better understanding of the influence of comorbidities on the pathogenesis of ad, and the medications used in its treatment, might allow better control of disease progression, and more effective pharmacotherapy. graphic abstract keywords alzheimer's disease comorbidities depression diabetes mellitus down syndrome hypercholesterolemia http://dx.doi.org/10.13039/501100004442 narodowym centrum nauki 2015/19/b/nz7/02847 szymański paweł issue-copyright-statement © the author(s) under exclusive licence to maj institute of pharmacology polish academy of sciences 2021 introduction the most common type of senile dementia is alzheimer' s disease (ad). this incurable neurodegenerative disorder, characterized by a progressive decline of cognitive function, eventually leads to death. it mostly affects people above the age of 65 years [1]. official reports indicate that 50 million people worldwide are affected by ad and other types of dementia, and this number is expected to triple by 2050 [2]. ad is now most common in western europe and the us; however, a rapid increase in morbidity is predicted in low\n",
      "Relevance Score: 0.83\n",
      "\n",
      "---\n",
      "\n",
      "Database: chroma_db1\n",
      "Source: PMC9792538.xml\n",
      "Content: alzheimer's disease (ad) is considered one of the most diseases that much prevalent among elderly people all over the world. ad is an incurable neurodegenerative disease affecting cognitive functions and were characterized by progressive and collective functions deteriorating. remarkably, early detection of ad is essential for the development of new and invented treatment strategies. as dementia causes irreversible damage to the brain neurons and leads to changes in its structure that can be described adequately within the framework of multifractals. hence, the present work focus on developing a promising and efficient computing technique to pre-process and classify the ad disease especially in the early stages using multifractal geometry to extract the most changeable features due to ad. then, a machine learning classification algorithm (k-nearest neighbor) has been implemented in order to classify and detect the main four early stages of ad. two datasets have been used to ensure the validation of the proposed methodology. the proposed technique has achieved 99.4% accuracy and 100% sensitivity. the comparative results show that the proposed classification technique outperforms is recent techniques in terms of performance measures. subject terms biological techniques biophysics computational biology and bioinformatics medical research engineering physics mansoura university open access funding provided by the science, technology & innovation funding authority (stdf) in cooperation with the egyptian knowledge bank (ekb). issue-copyright-statement © the author(s) 2022 introduction alzheimer’s disease (ad) is a widely frequent form of neurodegenerative brain disease1. it is responsible for the psychological decline of up to three-quarters of all patients with dementia, which is the major cause of death, leading to a progressive loss of memory and cognitive abilities. as is well known, the healthy brain has about 100 billion neurons; each neuron has long extensions and\n",
      "Relevance Score: 0.83\n",
      "\n",
      "---\n",
      "\n",
      "Database: chroma_db1\n",
      "Source: PMC8434202.xml\n",
      "Content: alzheimer’s disease (ad) is a progressive age-related neurodegenerative disease recognized as the most common form of dementia among elderly people. due to the fact that the exact pathogenesis of ad still remains to be fully elucidated, the treatment is only symptomatic and available drugs are not able to modify ad progression. considering the increase in life expectancy worldwide, ad rates are predicted to increase enormously, and thus the search for new ad drugs is urgently needed. due to their complex nitrogen-containing structures, alkaloids are considered to be promising candidates for use in the treatment of ad. since the introduction of galanthamine as an antidementia drug in 2001, amaryllidaceae alkaloids (aas) and further isoquinoline alkaloids (ias) have been one of the most studied groups of alkaloids. in the last few years, several compounds of new structure types have been isolated and evaluated for their biological activity connected with ad. the present review aims to comprehensively summarize recent progress on aas and ias since 2010 up to june 2021 as potential drugs for the treatment of ad. isoquinoline alkaloids alzheimer’s disease acetylcholinesterase butyrylcholinesterase prolyl oligopeptidase monoaminooxidase neuroprotective activity docking study 1. introduction alzheimer’s disease (ad), a multifactorial neurodegenerative disease that affects the elderly population, is the most common form of dementia that is generally diagnosed in individuals over the age of 65 years, and the one with the strongest societal impact with regard to incidence, prevalence, mortality rate, and cost of care [1,2,3]. the prevalence of ad is growing rapidly, in line with an increase in the age of the population. ad currently affects over 50 million people worldwide and is estimated to nearly triple by 2050 [4]. the exact cause of ad is constantly under debate and review. several hypotheses have been put forward, including cholinergic, amyloid beta (aβ),\n",
      "Relevance Score: 0.83\n",
      "\n",
      "---\n",
      "\n",
      "Database: chroma_db1\n",
      "Source: PMC10093856.xml\n",
      "Content: disease 2.1. overview of the disease alzheimer’s disease is a progressive neurodegenerative disorder characterized by several pathological hallmarks, including amyloid-β pathology, tau pathology (i.e., neurofibrillary tangles), and inflammation, in which individuals present with cognitive dysfunction, memory loss, dementia, and the impairment of daily living activities [19]. in the advanced stages of the disease, individuals with alzheimer’s disease are unable to recognize faces, unable to use or understand language, and display a lack of awareness for their surroundings. continued functional decline ultimately results in the individual’s death. due to the size of the affected population and the current lack of effective disease-modifying therapies, alzheimer’s disease is one of the most serious unmet medical needs of our time. nearly six million people in the united states alone have been diagnosed with alzheimer’s disease and disease prevalence is expected to more than double by 2050 [19]. the direct healthcare costs to care for individuals with alzheimer’s disease and other dementias in the united states is currently estimated to exceed usd 300 billion and projected to increase to usd 1 trillion by 2050 [19]. absent is the development of meaningful interventions in the course of the disease, as the number of people suffering with alzheimer’s disease is anticipated to escalate appreciably as lifespans lengthen, because prevalence increases significantly with age. the centers for disease control listed alzheimer’s disease as the primary cause of death for more than 121,000 americans in 2019. the disease is equally devastating worldwide, with the world health organization estimating that alzheimer’s disease affects as many as 35 million people globally [20]. 2.2. currently approved alzheimer’s disease therapeutics most therapies approved for alzheimer’s disease are indicated to only treat the symptoms of alzheimer’s disease: acetylcholinesterase inhibitors, a\n",
      "Relevance Score: 0.83\n",
      "\n",
      "---\n",
      "\n",
      "Database: chroma_db1\n",
      "Source: PMC9072437.xml\n",
      "Content: de ciencia e innovación basque excellence research centres agencia estatal de investigacion sev-2017-0718 melnik roderick issue-copyright-statement © the author(s) 2022 introduction alzheimer’s disease (ad) is the most prevalent neurodegenerative disorder that slowly increases degrees of dementia over time1. in most people with ad, the first symptoms appear after 60 years of age, whereas some persons reported ad before 60 years of age, and it is not frequent. according to the alzheimer’s association, five years ago 5.5 million americans in the u.s. and 44 million worldwide dealt with this disease in all ranges of ages2. at the same time, \\documentclass[12pt]{minimal} \\usepackage{amsmath} \\usepackage{wasysym} \\usepackage{amsfonts} \\usepackage{amssymb} \\usepackage{amsbsy} \\usepackage{mathrsfs} \\usepackage{upgreek} \\setlength{\\oddsidemargin}{-69pt} \\begin{document}$$10\\%$$\\end{document}10% of the population over 65 years of age is suffering, and it is predicted to be a public health crisis in the coming decades caused by this disease. baumgart et al. estimated that to increase to 131 million people by 20503. the history of the disease goes back well over 100 years ago, when dr. alois alzheimer in 1906 noticed that a woman died with an unusual mental illness, and the symptoms were memory loss, language problems, etc. he examined her dead brain and identified many amyloid plaques and neurofibrillary tangles (nfts) in the brain tissue4–6. today a wealth of medical and bioengineering tools exist for the detection, prevention, and treatments of such disorders. researchers believe that the toxic changes in the brain destroy the communications between neurons2,7. the research involving amyloid-beta (a\\documentclass[12pt]{minimal} \\usepackage{amsmath} \\usepackage{wasysym} \\usepackage{amsfonts} \\usepackage{amssymb} \\usepackage{amsbsy} \\usepackage{mathrsfs} \\usepackage{upgreek} \\setlength{\\oddsidemargin}{-69pt} \\begin{document}$$\\beta$$\\end{document}β) in ad has progressed more\n",
      "Relevance Score: 0.83\n"
     ]
    }
   ],
   "source": [
    "win_url = \"http://127.0.0.1:5000\"\n",
    "ubuntu_url = \"http://146.189.163.52:5000\"\n",
    "\n",
    "# Check operating system\n",
    "if platform.system() == \"Windows\":\n",
    "    SERVER_URL = win_url\n",
    "else:\n",
    "    SERVER_URL = ubuntu_url\n",
    "\n",
    "print(f\"SERVER_URL set to: {SERVER_URL}\")\n",
    "\n",
    "def query_vector_db(query_text, top_k=5, similarity_threshold=0.75):\n",
    "    \"\"\"\n",
    "    Query the vector database service.\n",
    "    \"\"\"\n",
    "    try:\n",
    "        response = requests.post(\n",
    "            f\"{SERVER_URL}/query\",\n",
    "            json={\n",
    "                \"query\": query_text,\n",
    "                \"top_k\": top_k,\n",
    "                \"similarity_threshold\": similarity_threshold\n",
    "            }\n",
    "        )\n",
    "        response.raise_for_status()\n",
    "        return response.json()\n",
    "    except Exception as e:\n",
    "        print(f\"Error querying vector DB: {str(e)}\")\n",
    "        return None\n",
    "\n",
    "# Test the function\n",
    "test_query = \"what is alzheimer's disease\"\n",
    "results = query_vector_db(\n",
    "    query_text=test_query,\n",
    "    top_k=5,\n",
    "    similarity_threshold=0.75\n",
    ")\n",
    "\n",
    "if results:\n",
    "    print(f\"\\nMessage: {results.get('message')}\")\n",
    "    print(\"\\nResults:\")\n",
    "    for i, result in enumerate(results.get('results', []), 1):\n",
    "        print(f\"\\nResult {i}:\")\n",
    "        print(f\"Database: {result['db_name']}\")\n",
    "        print(f\"Source: {result['source']}\")\n",
    "        print(f\"Relevance Score: {result['relevance_score']:.3f}\")\n",
    "        print(f\"Content: {result['content'][:200]}...\")\n",
    "    print(\"\\nFull Context:\")\n",
    "    print(results.get('context', ''))"
   ]
  },
  {
   "cell_type": "code",
   "execution_count": 9,
   "id": "60521c5a-a754-48ff-927d-86e713784621",
   "metadata": {},
   "outputs": [
    {
     "name": "stdout",
     "output_type": "stream",
     "text": [
      "Current time is: 2025-02-26 09:41:28.761058\n",
      "File: ADAM_summarization\n"
     ]
    }
   ],
   "source": [
    "current_time = datetime.now()\n",
    "print(\"Current time is:\",current_time)\n",
    "\n",
    "nb_fname = ipynbname.name()\n",
    "print(\"File:\",nb_fname)"
   ]
  },
  {
   "cell_type": "code",
   "execution_count": 10,
   "id": "a1b0ccc6-65af-4dd7-b671-bea658a42f6f",
   "metadata": {},
   "outputs": [
    {
     "name": "stdout",
     "output_type": "stream",
     "text": [
      "Experiment Name: nursing_home, Initial Seed: 127573839\n"
     ]
    }
   ],
   "source": [
    "# Function to generate a consistent hash number for a given file name\n",
    "def generate_hash_number(file_name):\n",
    "    \"\"\"\n",
    "    Generates a consistent hash number based on the file name.\n",
    "    \n",
    "    Args:\n",
    "        file_name (str): The file name to hash.\n",
    "    \n",
    "    Returns:\n",
    "        int: A 32-bit hash number.\n",
    "    \"\"\"\n",
    "    # Create an MD5 hash object\n",
    "    hash_obj = hashlib.md5()\n",
    "    \n",
    "    # Update the hash object with the file name, encoded to bytes\n",
    "    hash_obj.update(file_name.encode())\n",
    "\n",
    "    # Convert the hash to an integer and ensure the range fits 32-bit\n",
    "    return int(hash_obj.hexdigest(), 16) % (2**32)\n",
    "\n",
    "# Generate experiment seed from experiment name\n",
    "initial_seed = generate_hash_number(EXPERIMENT_NAME)\n",
    "print(f\"Experiment Name: {EXPERIMENT_NAME}, Initial Seed: {initial_seed}\")"
   ]
  },
  {
   "cell_type": "code",
   "execution_count": 11,
   "id": "2ccd6498-27b0-4a98-a155-7e4e54219aa0",
   "metadata": {},
   "outputs": [
    {
     "name": "stdout",
     "output_type": "stream",
     "text": [
      "Random Integers List: [315491657, 135304577, 1572185508, 1029933563, 1950160822, 563269619, 1573902777, 513873336, 442822283, 1770168448, 2042199113, 441301073, 236793113, 387615796, 1899788307, 788877054, 681076636, 504404028, 1620098870, 847071637, 1967649092, 1010220053, 644534191, 844067037, 59236795, 1814102137, 787036043, 1853222053, 745124550, 2136397237]\n",
      "Data File Path: ../data/clinical_microbiome_df.csv\n",
      "Clinical Microbiome Data Loaded.\n",
      "Alzheimers Counts:\n",
      " 0.0    225\n",
      "1.0    110\n",
      "Name: Alzheimers, dtype: int64\n",
      "Normalized Alzheimers Counts:\n",
      " 0.0    0.671642\n",
      "1.0    0.328358\n",
      "Name: Alzheimers, dtype: float64\n",
      "Seed in this experiment: 127573839\n"
     ]
    }
   ],
   "source": [
    "# Set the seed for reproducibility\n",
    "np.random.seed(initial_seed)\n",
    "\n",
    "# Generate a list of 5 random integers in the range of 32-bit integers\n",
    "random_integers_list = np.random.randint(low=0, high=2**31 - 1, size=30).tolist()\n",
    "print(\"Random Integers List:\", random_integers_list)\n",
    "seed = random_integers_list[experiment_number - 1] if 'experiment_number' in locals() and 0 < experiment_number <= len(random_integers_list) else initial_seed\n",
    "\n",
    "# Load clinical microbiome data\n",
    "df_path = glob(f'{DATA_PATH}*clinical_microbiome_df*')[0]\n",
    "print(f\"Data File Path: {df_path}\")\n",
    "\n",
    "clinical_microbiome_df = pd.read_csv(df_path)\n",
    "print(\"Clinical Microbiome Data Loaded.\")\n",
    "\n",
    "# Display value counts for the 'Alzheimers' column\n",
    "alzheimers_counts = clinical_microbiome_df['Alzheimers'].value_counts()\n",
    "alzheimers_counts_normalized = clinical_microbiome_df['Alzheimers'].value_counts(normalize=True)\n",
    "\n",
    "print(\"Alzheimers Counts:\\n\", alzheimers_counts)\n",
    "print(\"Normalized Alzheimers Counts:\\n\", alzheimers_counts_normalized)\n",
    "print(f\"Seed in this experiment: {seed}\")"
   ]
  },
  {
   "cell_type": "code",
   "execution_count": 12,
   "id": "0a65013c-020e-4791-a5b5-267c88b31571",
   "metadata": {},
   "outputs": [
    {
     "data": {
      "text/plain": [
       "0    335\n",
       "Name: Dementia Other, dtype: int64"
      ]
     },
     "execution_count": 12,
     "metadata": {},
     "output_type": "execute_result"
    }
   ],
   "source": [
    "clinical_microbiome_df[\"Dementia Other\"].value_counts()"
   ]
  },
  {
   "cell_type": "code",
   "execution_count": 13,
   "id": "7b7a05b7-bf8c-4ac6-8d63-4857991845f2",
   "metadata": {},
   "outputs": [
    {
     "name": "stdout",
     "output_type": "stream",
     "text": [
      "Alzheimers Counts:\n",
      " 0.0    225\n",
      "1.0    110\n",
      "Name: Alzheimers, dtype: int64\n",
      "Normalized Alzheimers Counts:\n",
      " 0.0    0.671642\n",
      "1.0    0.328358\n",
      "Name: Alzheimers, dtype: float64\n"
     ]
    }
   ],
   "source": [
    "clinical_microbiome_df = clinical_microbiome_df[clinical_microbiome_df[\"Dementia Other\"] != 1]\n",
    "# Display value counts for the 'Alzheimers' column\n",
    "alzheimers_counts = clinical_microbiome_df['Alzheimers'].value_counts()\n",
    "alzheimers_counts_normalized = clinical_microbiome_df['Alzheimers'].value_counts(normalize=True)\n",
    "print(\"Alzheimers Counts:\\n\", alzheimers_counts)\n",
    "print(\"Normalized Alzheimers Counts:\\n\", alzheimers_counts_normalized)"
   ]
  },
  {
   "cell_type": "code",
   "execution_count": 21,
   "id": "9a7bae32-bfc0-4220-82ae-c4cca9c374a3",
   "metadata": {},
   "outputs": [
    {
     "data": {
      "text/plain": [
       "['local_resources/experiment01/classification/classification_agent_output_gpt-4o-mini-2024-07-18 - Copy.csv',\n",
       " 'local_resources/experiment01/classification/classification_agent_output_gpt-4o-mini-2024-07-18.csv',\n",
       " 'local_resources/experiment02/classification/classification_agent_output_gpt-4o-mini-2024-07-18.csv',\n",
       " 'local_resources/experiment07/classification/classification_agent_output_gpt-4o-mini-2024-07-18.csv']"
      ]
     },
     "execution_count": 21,
     "metadata": {},
     "output_type": "execute_result"
    }
   ],
   "source": [
    "sorted(glob(f\"local_resources{os.sep}*{os.sep}classification{os.sep}*agent_output*\"))"
   ]
  },
  {
   "cell_type": "code",
   "execution_count": 22,
   "id": "17d1f986-5a1a-4f0a-b996-7aedf24956c3",
   "metadata": {},
   "outputs": [
    {
     "data": {
      "text/plain": [
       "['local_resources/experiment01/summarization/summarization_agent_output.csv',\n",
       " 'local_resources/experiment01/summarization/summarization_agent_output_gpt-4o-2024-11-20.csv',\n",
       " 'local_resources/experiment01/summarization/summarization_agent_output_gpt-4o-2024-11-20_bugfix.csv',\n",
       " 'local_resources/experiment01/summarization/summarization_agent_outputgpt-4o-2024-11-20_bug.csv',\n",
       " 'local_resources/experiment02/summarization/summarization_agent_output_gpt-4o-2024-11-20.csv',\n",
       " 'local_resources/experiment07/summarization/summarization_agent_output_gpt-4o-2024-11-20.csv',\n",
       " 'local_resources/experiment15/summarization/summarization_agent_output.csv']"
      ]
     },
     "execution_count": 22,
     "metadata": {},
     "output_type": "execute_result"
    }
   ],
   "source": [
    "sorted(glob(f\"local_resources{os.sep}*{os.sep}summarization{os.sep}*agent_output*\"))"
   ]
  },
  {
   "cell_type": "code",
   "execution_count": null,
   "id": "a71fbd0f-fed9-49b8-ae8d-9513a1b9796a",
   "metadata": {},
   "outputs": [],
   "source": []
  }
 ],
 "metadata": {
  "kernelspec": {
   "display_name": "Python 3 (ipykernel)",
   "language": "python",
   "name": "python3"
  },
  "language_info": {
   "codemirror_mode": {
    "name": "ipython",
    "version": 3
   },
   "file_extension": ".py",
   "mimetype": "text/x-python",
   "name": "python",
   "nbconvert_exporter": "python",
   "pygments_lexer": "ipython3",
   "version": "3.12.7"
  }
 },
 "nbformat": 4,
 "nbformat_minor": 5
}
