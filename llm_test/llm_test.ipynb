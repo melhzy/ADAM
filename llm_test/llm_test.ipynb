{
 "cells": [
  {
   "cell_type": "code",
   "execution_count": 1,
   "id": "326f3a12-3380-4976-9b42-40ebb3878709",
   "metadata": {},
   "outputs": [],
   "source": [
    "from load_llms import run_comparison, quick_test"
   ]
  },
  {
   "cell_type": "code",
   "execution_count": 2,
   "id": "12f443aa-4c9c-4a41-bbca-1fdece4420d3",
   "metadata": {},
   "outputs": [
    {
     "name": "stdout",
     "output_type": "stream",
     "text": [
      "Discovered 4-bit models:\n",
      " - unsloth/c4ai-command-r-08-2024-bnb-4bit\n",
      " - unsloth/c4ai-command-r-plus-08-2024-bnb-4bit\n",
      " - unsloth/codegemma-2b-bnb-4bit\n",
      " - unsloth/codegemma-7b-bnb-4bit\n",
      " - unsloth/codegemma-7b-it-bnb-4bit\n",
      " - unsloth/codellama-13b-bnb-4bit\n",
      " - unsloth/codellama-34b-bnb-4bit\n",
      " - unsloth/codellama-7b-bnb-4bit\n",
      " - unsloth/Cosmos-Reason1-7B-bnb-4bit\n",
      " - unsloth/Cosmos-Reason1-7B-unsloth-bnb-4bit\n",
      " - unsloth/DeepScaleR-1.5B-Preview-unsloth-bnb-4bit\n",
      " - unsloth/DeepSeek-Prover-V2-7B-bnb-4bit\n",
      " - unsloth/DeepSeek-Prover-V2-7B-unsloth-bnb-4bit\n",
      " - unsloth/DeepSeek-R1-0528-Qwen3-8B-bnb-4bit\n",
      " - unsloth/DeepSeek-R1-0528-Qwen3-8B-unsloth-bnb-4bit\n",
      " - unsloth/DeepSeek-R1-Distill-Llama-70B-bnb-4bit\n",
      " - unsloth/DeepSeek-R1-Distill-Llama-70B-unsloth-bnb-4bit\n",
      " - unsloth/DeepSeek-R1-Distill-Llama-8B-bnb-4bit\n",
      " - unsloth/DeepSeek-R1-Distill-Llama-8B-unsloth-bnb-4bit\n",
      " - unsloth/DeepSeek-R1-Distill-Qwen-1.5B-bnb-4bit\n",
      " - unsloth/DeepSeek-R1-Distill-Qwen-1.5B-unsloth-bnb-4bit\n",
      " - unsloth/DeepSeek-R1-Distill-Qwen-14B-bnb-4bit\n",
      " - unsloth/DeepSeek-R1-Distill-Qwen-14B-unsloth-bnb-4bit\n",
      " - unsloth/DeepSeek-R1-Distill-Qwen-32B-bnb-4bit\n",
      " - unsloth/DeepSeek-R1-Distill-Qwen-32B-unsloth-bnb-4bit\n",
      " - unsloth/DeepSeek-R1-Distill-Qwen-7B-bnb-4bit\n",
      " - unsloth/DeepSeek-R1-Distill-Qwen-7B-unsloth-bnb-4bit\n",
      " - unsloth/Devstral-Small-2505-unsloth-bnb-4bit\n",
      " - unsloth/gemma-1.1-2b-it-bnb-4bit\n",
      " - unsloth/gemma-1.1-7b-it-bnb-4bit\n",
      " - unsloth/gemma-2-27b-bnb-4bit\n",
      " - unsloth/gemma-2-27b-it-bnb-4bit\n",
      " - unsloth/gemma-2-2b-bnb-4bit\n",
      " - unsloth/gemma-2-2b-it-bnb-4bit\n",
      " - unsloth/gemma-2-9b-bnb-4bit\n",
      " - unsloth/gemma-2-9b-it-bnb-4bit\n",
      " - unsloth/gemma-2b-bnb-4bit\n",
      " - unsloth/gemma-2b-it-bnb-4bit\n",
      " - unsloth/gemma-3-12b-it-bnb-4bit\n",
      " - unsloth/gemma-3-12b-it-qat-bnb-4bit\n",
      " - unsloth/gemma-3-12b-it-qat-unsloth-bnb-4bit\n",
      " - unsloth/gemma-3-12b-it-unsloth-bnb-4bit\n",
      " - unsloth/gemma-3-12b-pt-bnb-4bit\n",
      " - unsloth/gemma-3-12b-pt-unsloth-bnb-4bit\n",
      " - unsloth/gemma-3-1b-it-bnb-4bit\n",
      " - unsloth/gemma-3-1b-it-qat-bnb-4bit\n",
      " - unsloth/gemma-3-1b-it-qat-unsloth-bnb-4bit\n",
      " - unsloth/gemma-3-1b-it-unsloth-bnb-4bit\n",
      " - unsloth/gemma-3-1b-pt-bnb-4bit\n",
      " - unsloth/gemma-3-1b-pt-unsloth-bnb-4bit\n",
      " - unsloth/gemma-3-270m-bnb-4bit\n",
      " - unsloth/gemma-3-270m-it-bnb-4bit\n",
      " - unsloth/gemma-3-270m-it-qat-bnb-4bit\n",
      " - unsloth/gemma-3-270m-it-qat-unsloth-bnb-4bit\n",
      " - unsloth/gemma-3-270m-it-unsloth-bnb-4bit\n",
      " - unsloth/gemma-3-270m-unsloth-bnb-4bit\n",
      " - unsloth/gemma-3-27b-it-bnb-4bit\n",
      " - unsloth/gemma-3-27b-it-qat-bnb-4bit\n",
      " - unsloth/gemma-3-27b-it-qat-unsloth-bnb-4bit\n",
      " - unsloth/gemma-3-27b-it-unsloth-bnb-4bit\n",
      " - unsloth/gemma-3-27b-pt-bnb-4bit\n",
      " - unsloth/gemma-3-27b-pt-unsloth-bnb-4bit\n",
      " - unsloth/gemma-3-4b-it-bnb-4bit\n",
      " - unsloth/gemma-3-4b-it-qat-bnb-4bit\n",
      " - unsloth/gemma-3-4b-it-qat-int4-bnb-4bit\n",
      " - unsloth/gemma-3-4b-it-qat-int4-unsloth-bnb-4bit\n",
      " - unsloth/gemma-3-4b-it-qat-unsloth-bnb-4bit\n",
      " - unsloth/gemma-3-4b-it-unsloth-bnb-4bit\n",
      " - unsloth/gemma-3-4b-pt-bnb-4bit\n",
      " - unsloth/gemma-3-4b-pt-unsloth-bnb-4bit\n",
      " - unsloth/gemma-3n-E2B-it-unsloth-bnb-4bit\n",
      " - unsloth/gemma-3n-E2B-unsloth-bnb-4bit\n",
      " - unsloth/gemma-3n-E4B-it-unsloth-bnb-4bit\n",
      " - unsloth/gemma-3n-E4B-unsloth-bnb-4bit\n",
      " - unsloth/gemma-7b-bnb-4bit\n",
      " - unsloth/gemma-7b-it-bnb-4bit\n",
      " - unsloth/GLM-4-32B-0414-bnb-4bit\n",
      " - unsloth/GLM-4-32B-0414-unsloth-bnb-4bit\n",
      " - unsloth/GLM-4-9B-0414-bnb-4bit\n",
      " - unsloth/GLM-4-9B-0414-unsloth-bnb-4bit\n",
      " - unsloth/GLM-Z1-32B-0414-bnb-4bit\n",
      " - unsloth/GLM-Z1-9B-0414-bnb-4bit\n",
      " - unsloth/GLM-Z1-9B-0414-unsloth-bnb-4bit\n",
      " - unsloth/gpt-oss-120b-bnb-4bit\n",
      " - unsloth/gpt-oss-120b-unsloth-bnb-4bit\n",
      " - unsloth/gpt-oss-20b-bnb-4bit\n",
      " - unsloth/gpt-oss-20b-unsloth-bnb-4bit\n",
      " - unsloth/Hermes-2-Pro-Mistral-7B-bnb-4bit\n",
      " - unsloth/Hermes-3-Llama-3.1-70B-bnb-4bit\n",
      " - unsloth/Hermes-3-Llama-3.1-8B-bnb-4bit\n",
      " - unsloth/KernelLLM-bnb-4bit\n",
      " - unsloth/KernelLLM-unsloth-bnb-4bit\n",
      " - unsloth/LFM2-1.2B-unsloth-bnb-4bit\n",
      " - unsloth/LFM2-350M-unsloth-bnb-4bit\n",
      " - unsloth/LFM2-700M-unsloth-bnb-4bit\n",
      " - unsloth/llama-2-13b-bnb-4bit\n",
      " - unsloth/llama-2-7b-bnb-4bit\n",
      " - unsloth/llama-2-7b-chat-bnb-4bit\n",
      " - unsloth/llama-3-70b-bnb-4bit\n",
      " - unsloth/llama-3-70b-Instruct-bnb-4bit\n",
      " - unsloth/llama-3-8b-bnb-4bit\n",
      " - unsloth/llama-3-8b-Instruct-bnb-4bit\n",
      " - unsloth/Llama-3.1-8B-bnb-4bit\n",
      " - unsloth/Llama-3.1-8B-Instruct-bnb-4bit\n",
      " - unsloth/Llama-3.1-8B-Instruct-unsloth-bnb-4bit\n",
      " - unsloth/Llama-3.1-8B-unsloth-bnb-4bit\n",
      " - unsloth/Llama-3.1-Nemotron-70B-Instruct-bnb-4bit\n",
      " - unsloth/Llama-3.1-Nemotron-Nano-4B-v1.1-bnb-4bit\n",
      " - unsloth/Llama-3.1-Nemotron-Nano-4B-v1.1-unsloth-bnb-4bit\n",
      " - unsloth/Llama-3.1-Storm-8B-bnb-4bit\n",
      " - unsloth/Llama-3.2-11B-Vision-bnb-4bit\n",
      " - unsloth/Llama-3.2-11B-Vision-Instruct-bnb-4bit\n",
      " - unsloth/Llama-3.2-11B-Vision-Instruct-unsloth-bnb-4bit\n",
      " - unsloth/Llama-3.2-11B-Vision-unsloth-bnb-4bit\n",
      " - unsloth/Llama-3.2-1B-bnb-4bit\n",
      " - unsloth/Llama-3.2-1B-Instruct-bnb-4bit\n",
      " - unsloth/Llama-3.2-1B-Instruct-unsloth-bnb-4bit\n",
      " - unsloth/Llama-3.2-1B-unsloth-bnb-4bit\n",
      " - unsloth/Llama-3.2-3B-bnb-4bit\n",
      " - unsloth/Llama-3.2-3B-Instruct-bnb-4bit\n",
      " - unsloth/Llama-3.2-3B-Instruct-unsloth-bnb-4bit\n",
      " - unsloth/Llama-3.2-3B-unsloth-bnb-4bit\n",
      " - unsloth/Llama-3.2-90B-Vision-bnb-4bit\n",
      " - unsloth/Llama-3.2-90B-Vision-Instruct-bnb-4bit\n",
      " - unsloth/Llama-3.2-90B-Vision-Instruct-unsloth-bnb-4bit\n",
      " - unsloth/Llama-3.3-70B-Instruct-bnb-4bit\n",
      " - unsloth/llava-1.5-7b-hf-bnb-4bit\n",
      " - unsloth/llava-v1.6-mistral-7b-hf-bnb-4bit\n",
      " - unsloth/Magistral-Small-2506-bnb-4bit\n",
      " - unsloth/Magistral-Small-2506-unsloth-bnb-4bit\n",
      " - unsloth/Magistral-Small-2509-bnb-4bit\n",
      " - unsloth/Magistral-Small-2509-unsloth-bnb-4bit\n",
      " - unsloth/medgemma-27b-text-it-unsloth-bnb-4bit\n",
      " - unsloth/medgemma-4b-it-bnb-4bit\n",
      " - unsloth/medgemma-4b-it-unsloth-bnb-4bit\n",
      " - unsloth/Meta-Llama-3.1-405B-bnb-4bit\n",
      " - unsloth/Meta-Llama-3.1-405B-Instruct-bnb-4bit\n",
      " - unsloth/Meta-Llama-3.1-70B-bnb-4bit\n",
      " - unsloth/Meta-Llama-3.1-70B-Instruct-bnb-4bit\n",
      " - unsloth/Meta-Llama-3.1-8B-bnb-4bit\n",
      " - unsloth/Meta-Llama-3.1-8B-Instruct-bnb-4bit\n",
      " - unsloth/Meta-Llama-3.1-8B-Instruct-unsloth-bnb-4bit\n",
      " - unsloth/meta-Llama-3.1-8B-unsloth-bnb-4bit\n",
      " - unsloth/mistral-7b-bnb-4bit\n",
      " - unsloth/mistral-7b-instruct-v0.1-bnb-4bit\n",
      " - unsloth/mistral-7b-instruct-v0.2-bnb-4bit\n",
      " - unsloth/mistral-7b-instruct-v0.3-bnb-4bit\n",
      " - unsloth/mistral-7b-v0.2-bnb-4bit\n",
      " - unsloth/mistral-7b-v0.3-bnb-4bit\n",
      " - unsloth/Mistral-Large-Instruct-2407-bnb-4bit\n",
      " - unsloth/Mistral-Nemo-Base-2407-bnb-4bit\n",
      " - unsloth/Mistral-Nemo-Instruct-2407-bnb-4bit\n",
      " - unsloth/Mistral-Small-24B-Base-2501-bnb-4bit\n",
      " - unsloth/Mistral-Small-24B-Base-2501-unsloth-bnb-4bit\n",
      " - unsloth/Mistral-Small-24B-Instruct-2501-bnb-4bit\n",
      " - unsloth/Mistral-Small-24B-Instruct-2501-unsloth-bnb-4bit\n",
      " - unsloth/Mistral-Small-Instruct-2409-bnb-4bit\n",
      " - unsloth/OLMo-2-0425-1B-Instruct-bnb-4bit\n",
      " - unsloth/OLMo-2-0425-1B-Instruct-unsloth-bnb-4bit\n",
      " - unsloth/OpenHermes-2.5-Mistral-7B-bnb-4bit\n",
      " - unsloth/Phi-3-medium-4k-instruct-bnb-4bit\n",
      " - unsloth/Phi-3-mini-4k-instruct-bnb-4bit\n",
      " - unsloth/Phi-3-mini-4k-instruct-v0-bnb-4bit\n",
      " - unsloth/Phi-3.5-mini-instruct-bnb-4bit\n",
      " - unsloth/phi-4-bnb-4bit\n",
      " - unsloth/Phi-4-mini-instruct-bnb-4bit\n",
      " - unsloth/Phi-4-mini-instruct-unsloth-bnb-4bit\n",
      " - unsloth/Phi-4-mini-reasoning-bnb-4bit\n",
      " - unsloth/Phi-4-mini-reasoning-unsloth-bnb-4bit\n",
      " - unsloth/phi-4-reasoning-bnb-4bit\n",
      " - unsloth/Phi-4-reasoning-plus-bnb-4bit\n",
      " - unsloth/Phi-4-reasoning-plus-unsloth-bnb-4bit\n",
      " - unsloth/phi-4-reasoning-unsloth-bnb-4bit\n",
      " - unsloth/phi-4-unsloth-bnb-4bit\n",
      " - unsloth/Pixtral-12B-2409-bnb-4bit\n",
      " - unsloth/Pixtral-12B-2409-unsloth-bnb-4bit\n",
      " - unsloth/Pixtral-12B-Base-2409-bnb-4bit\n",
      " - unsloth/Qwen2-0.5B-bnb-4bit\n",
      " - unsloth/Qwen2-0.5B-Instruct-bnb-4bit\n",
      " - unsloth/Qwen2-1.5B-bnb-4bit\n",
      " - unsloth/Qwen2-1.5B-Instruct-bnb-4bit\n",
      " - unsloth/Qwen2-72B-bnb-4bit\n",
      " - unsloth/Qwen2-72B-Instruct-bnb-4bit\n",
      " - unsloth/Qwen2-7B-bnb-4bit\n",
      " - unsloth/Qwen2-7B-Instruct-bnb-4bit\n",
      " - unsloth/Qwen2-VL-2B-Instruct-bnb-4bit\n",
      " - unsloth/Qwen2-VL-2B-Instruct-unsloth-bnb-4bit\n",
      " - unsloth/Qwen2-VL-72B-bnb-4bit\n",
      " - unsloth/Qwen2-VL-72B-Instruct-bnb-4bit\n",
      " - unsloth/Qwen2-VL-7B-bnb-4bit\n",
      " - unsloth/Qwen2-VL-7B-Instruct-bnb-4bit\n",
      " - unsloth/Qwen2-VL-7B-Instruct-unsloth-bnb-4bit\n",
      " - unsloth/Qwen2.5-0.5B-bnb-4bit\n",
      " - unsloth/Qwen2.5-0.5B-Instruct-bnb-4bit\n",
      " - unsloth/Qwen2.5-0.5B-Instruct-unsloth-bnb-4bit\n",
      " - unsloth/Qwen2.5-0.5B-unsloth-bnb-4bit\n",
      " - unsloth/Qwen2.5-1.5B-bnb-4bit\n",
      " - unsloth/Qwen2.5-1.5B-Instruct-bnb-4bit\n",
      " - unsloth/Qwen2.5-1.5B-Instruct-unsloth-bnb-4bit\n",
      " - unsloth/Qwen2.5-1.5B-unsloth-bnb-4bit\n",
      " - unsloth/Qwen2.5-14B-bnb-4bit\n",
      " - unsloth/Qwen2.5-14B-Instruct-1M-bnb-4bit\n",
      " - unsloth/Qwen2.5-14B-Instruct-1M-unsloth-bnb-4bit\n",
      " - unsloth/Qwen2.5-14B-Instruct-bnb-4bit\n",
      " - unsloth/Qwen2.5-14B-Instruct-unsloth-bnb-4bit\n",
      " - unsloth/Qwen2.5-14B-unsloth-bnb-4bit\n",
      " - unsloth/Qwen2.5-32B-bnb-4bit\n",
      " - unsloth/Qwen2.5-32B-Instruct-bnb-4bit\n",
      " - unsloth/Qwen2.5-3B-bnb-4bit\n",
      " - unsloth/Qwen2.5-3B-Instruct-bnb-4bit\n",
      " - unsloth/Qwen2.5-3B-Instruct-unsloth-bnb-4bit\n",
      " - unsloth/Qwen2.5-3B-unsloth-bnb-4bit\n",
      " - unsloth/Qwen2.5-72B-bnb-4bit\n",
      " - unsloth/Qwen2.5-72B-Instruct-bnb-4bit\n",
      " - unsloth/Qwen2.5-7B-bnb-4bit\n",
      " - unsloth/Qwen2.5-7B-Instruct-1M-bnb-4bit\n",
      " - unsloth/Qwen2.5-7B-Instruct-1M-unsloth-bnb-4bit\n",
      " - unsloth/Qwen2.5-7B-Instruct-bnb-4bit\n",
      " - unsloth/Qwen2.5-7B-Instruct-unsloth-bnb-4bit\n",
      " - unsloth/Qwen2.5-7B-unsloth-bnb-4bit\n",
      " - unsloth/Qwen2.5-Coder-0.5B-bnb-4bit\n",
      " - unsloth/Qwen2.5-Coder-0.5B-Instruct-bnb-4bit\n",
      " - unsloth/Qwen2.5-Coder-1.5B-bnb-4bit\n",
      " - unsloth/Qwen2.5-Coder-1.5B-Instruct-bnb-4bit\n",
      " - unsloth/Qwen2.5-Coder-14B-bnb-4bit\n",
      " - unsloth/Qwen2.5-Coder-14B-Instruct-bnb-4bit\n",
      " - unsloth/Qwen2.5-Coder-32B-bnb-4bit\n",
      " - unsloth/Qwen2.5-Coder-32B-Instruct-bnb-4bit\n",
      " - unsloth/Qwen2.5-Coder-3B-bnb-4bit\n",
      " - unsloth/Qwen2.5-Coder-3B-Instruct-bnb-4bit\n",
      " - unsloth/Qwen2.5-Coder-7B-bnb-4bit\n",
      " - unsloth/Qwen2.5-Coder-7B-Instruct-bnb-4bit\n",
      " - unsloth/Qwen2.5-Math-1.5B-bnb-4bit\n",
      " - unsloth/Qwen2.5-Math-1.5B-Instruct-bnb-4bit\n",
      " - unsloth/Qwen2.5-Math-72B-bnb-4bit\n",
      " - unsloth/Qwen2.5-Math-72B-Instruct-bnb-4bit\n",
      " - unsloth/Qwen2.5-Math-7B-bnb-4bit\n",
      " - unsloth/Qwen2.5-Math-7B-Instruct-bnb-4bit\n",
      " - unsloth/Qwen2.5-VL-32B-Instruct-bnb-4bit\n",
      " - unsloth/Qwen2.5-VL-32B-Instruct-unsloth-bnb-4bit\n",
      " - unsloth/Qwen2.5-VL-3B-Instruct-bnb-4bit\n",
      " - unsloth/Qwen2.5-VL-3B-Instruct-unsloth-bnb-4bit\n",
      " - unsloth/Qwen2.5-VL-72B-Instruct-bnb-4bit\n",
      " - unsloth/Qwen2.5-VL-72B-Instruct-unsloth-bnb-4bit\n",
      " - unsloth/Qwen2.5-VL-7B-Instruct-bnb-4bit\n",
      " - unsloth/Qwen2.5-VL-7B-Instruct-unsloth-bnb-4bit\n",
      " - unsloth/Qwen3-0.6B-Base-bnb-4bit\n",
      " - unsloth/Qwen3-0.6B-Base-unsloth-bnb-4bit\n",
      " - unsloth/Qwen3-0.6B-bnb-4bit\n",
      " - unsloth/Qwen3-0.6B-unsloth-bnb-4bit\n",
      " - unsloth/Qwen3-1.7B-Base-bnb-4bit\n",
      " - unsloth/Qwen3-1.7B-Base-unsloth-bnb-4bit\n",
      " - unsloth/Qwen3-1.7B-bnb-4bit\n",
      " - unsloth/Qwen3-1.7B-unsloth-bnb-4bit\n",
      " - unsloth/Qwen3-14B-Base-bnb-4bit\n",
      " - unsloth/Qwen3-14B-Base-unsloth-bnb-4bit\n",
      " - unsloth/Qwen3-14B-bnb-4bit\n",
      " - unsloth/Qwen3-14B-unsloth-bnb-4bit\n",
      " - unsloth/Qwen3-30B-A3B-Base-bnb-4bit\n",
      " - unsloth/Qwen3-30B-A3B-bnb-4bit\n",
      " - unsloth/Qwen3-32B-bnb-4bit\n",
      " - unsloth/Qwen3-32B-unsloth-bnb-4bit\n",
      " - unsloth/Qwen3-4B-Base-bnb-4bit\n",
      " - unsloth/Qwen3-4B-Base-unsloth-bnb-4bit\n",
      " - unsloth/Qwen3-4B-bnb-4bit\n",
      " - unsloth/Qwen3-4B-Instruct-2507-bnb-4bit\n",
      " - unsloth/Qwen3-4B-Instruct-2507-unsloth-bnb-4bit\n",
      " - unsloth/Qwen3-4B-Thinking-2507-bnb-4bit\n",
      " - unsloth/Qwen3-4B-Thinking-2507-unsloth-bnb-4bit\n",
      " - unsloth/Qwen3-4B-unsloth-bnb-4bit\n",
      " - unsloth/Qwen3-8B-Base-bnb-4bit\n",
      " - unsloth/Qwen3-8B-Base-unsloth-bnb-4bit\n",
      " - unsloth/Qwen3-8B-bnb-4bit\n",
      " - unsloth/Qwen3-8B-unsloth-bnb-4bit\n",
      " - unsloth/Qwen3-Next-80B-A3B-Instruct-bnb-4bit\n",
      " - unsloth/r1-1776-distill-llama-70b-unsloth-bnb-4bit\n",
      " - unsloth/Reflection-Llama-3.1-70B-bnb-4bit\n",
      " - unsloth/Seed-Coder-8B-Instruct-bnb-4bit\n",
      " - unsloth/Seed-Coder-8B-Instruct-unsloth-bnb-4bit\n",
      " - unsloth/Seed-Coder-8B-Reasoning-bnb-4bit\n",
      " - unsloth/Seed-Coder-8B-Reasoning-unsloth-bnb-4bit\n",
      " - unsloth/SmolLM-1.7B-bnb-4bit\n",
      " - unsloth/SmolLM-1.7B-Instruct-bnb-4bit\n",
      " - unsloth/SmolLM-135M-bnb-4bit\n",
      " - unsloth/SmolLM-135M-Instruct-bnb-4bit\n",
      " - unsloth/SmolLM-360M-bnb-4bit\n",
      " - unsloth/SmolLM-360M-Instruct-bnb-4bit\n",
      " - unsloth/SmolLM2-1.7B-bnb-4bit\n",
      " - unsloth/SmolLM2-1.7B-Instruct-bnb-4bit\n",
      " - unsloth/SmolLM2-135M-bnb-4bit\n",
      " - unsloth/SmolLM2-135M-Instruct-bnb-4bit\n",
      " - unsloth/SmolLM2-360M-bnb-4bit\n",
      " - unsloth/SmolLM2-360M-Instruct-bnb-4bit\n",
      " - unsloth/SmolLM3-3B-Base-bnb-4bit\n",
      " - unsloth/SmolLM3-3B-Base-unsloth-bnb-4bit\n",
      " - unsloth/SmolLM3-3B-bnb-4bit\n",
      " - unsloth/SmolLM3-3B-unsloth-bnb-4bit\n",
      " - unsloth/tinyllama-bnb-4bit\n",
      " - unsloth/tinyllama-chat-bnb-4bit\n",
      " - unsloth/yi-34b-bnb-4bit\n",
      " - unsloth/yi-34b-chat-bnb-4bit\n",
      " - unsloth/yi-6b-bnb-4bit\n",
      " - unsloth/zephyr-sft-bnb-4bit\n",
      " - unsloth/aya-vision-32b-bnb-4bit\n",
      " - unsloth/aya-vision-32b-unsloth-bnb-4bit\n",
      " - unsloth/aya-vision-8b-bnb-4bit\n",
      " - unsloth/aya-vision-8b-unsloth-bnb-4bit\n",
      " - unsloth/c4ai-command-a-03-2025-bnb-4bit\n",
      " - unsloth/c4ai-command-a-03-2025-unsloth-bnb-4bit\n",
      " - unsloth/Devstral-Small-2505-bnb-4bit\n",
      " - unsloth/Devstral-Small-2507-bnb-4bit\n",
      " - unsloth/Devstral-Small-2507-unsloth-bnb-4bit\n",
      " - unsloth/gemma-3-12b-it-qat-int4-bnb-4bit\n",
      " - unsloth/gemma-3-12b-it-qat-int4-unsloth-bnb-4bit\n",
      " - unsloth/gemma-7b-unsloth-bnb-4bit\n",
      " - unsloth/granite-3.2-2b-instruct-bnb-4bit\n",
      " - unsloth/granite-3.2-2b-instruct-unsloth-bnb-4bit\n",
      " - unsloth/granite-3.2-8b-instruct-bnb-4bit\n",
      " - unsloth/granite-3.2-8b-instruct-unsloth-bnb-4bit\n",
      " - unsloth/granite-vision-3.2-2b-bnb-4bit\n",
      " - unsloth/granite-vision-3.2-2b-unsloth-bnb-4bit\n",
      " - unsloth/Llama-3.2-90B-Vision-unsloth-bnb-4bit\n",
      " - unsloth/Llama-4-Scout-17B-16E-Instruct-unsloth-bnb-4bit\n",
      " - unsloth/Llama-4-Scout-17B-16E-Instruct-unsloth-dynamic-bnb-4bit\n",
      " - unsloth/Llama-4-Scout-17B-16E-unsloth-bnb-4bit\n",
      " - unsloth/Llama-4-Scout-17B-16E-unsloth-dynamic-bnb-4bit\n",
      " - unsloth/Magistral-Small-2507-bnb-4bit\n",
      " - unsloth/Magistral-Small-2507-unsloth-bnb-4bit\n",
      " - unsloth/medgemma-27b-text-it-bnb-4bit\n",
      " - unsloth/Mistral-Small-3.1-24B-Base-2503-bnb-4bit\n",
      " - unsloth/Mistral-Small-3.1-24B-Base-2503-unsloth-bnb-4bit\n",
      " - unsloth/Mistral-Small-3.1-24B-Instruct-2503-bnb-4bit\n",
      " - unsloth/Mistral-Small-3.1-24B-Instruct-2503-unsloth-bnb-4bit\n",
      " - unsloth/Mistral-Small-3.2-24B-Instruct-2506-bnb-4bit\n",
      " - unsloth/Mistral-Small-3.2-24B-Instruct-2506-unsloth-bnb-4bit\n",
      " - unsloth/Mixtral-8x7B-Instruct-v0.1-bnb-4bit\n",
      " - unsloth/Mixtral-8x7B-Instruct-v0.1-unsloth-bnb-4bit\n",
      " - unsloth/Mixtral-8x7B-v0.1-bnb-4bit\n",
      " - unsloth/Mixtral-8x7B-v0.1-unsloth-bnb-4bit\n",
      " - unsloth/OLMo-2-0325-32B-Instruct-bnb-4bit\n",
      " - unsloth/OLMo-2-0325-32B-Instruct-unsloth-bnb-4bit\n",
      " - unsloth/orpheus-3b-0.1-ft-bnb-4bit\n",
      " - unsloth/orpheus-3b-0.1-ft-unsloth-bnb-4bit\n",
      " - unsloth/orpheus-3b-0.1-pretrained-bnb-4bit\n",
      " - unsloth/orpheus-3b-0.1-pretrained-unsloth-bnb-4bit\n",
      " - unsloth/QVQ-72B-Preview-bnb-4bit\n",
      " - unsloth/Qwen2-VL-2B-bnb-4bit\n",
      " - unsloth/Qwen2.5-0.5-bnb-4bit\n",
      " - unsloth/Qwen3-30B-A3B-128K-bnb-4bit\n",
      " - unsloth/QwQ-32B-bnb-4bit\n",
      " - unsloth/QwQ-32B-Preview-bnb-4bit\n",
      " - unsloth/QwQ-32B-Preview-unsloth-bnb-4bit\n",
      " - unsloth/QwQ-32B-unsloth-bnb-4bit\n",
      " - unsloth/reka-flash-3-unsloth-bnb-4bit\n",
      " - unsloth/Yi-1.5-6B-bnb-4bit\n"
     ]
    }
   ],
   "source": [
    "#!/usr/bin/env python3\n",
    "\"\"\"\n",
    "Pull all 4-bit models from Hugging Face org `unsloth`.\n",
    "\n",
    "Requirements:\n",
    "  pip install huggingface_hub unsloth accelerate transformers bitsandbytes tqdm\n",
    "\n",
    "Notes:\n",
    "- \"4-bit\" models are matched by common naming/tag patterns (e.g., 'bnb-4bit', 'gptq-4bit', '-4bit').\n",
    "- By default we only *download* the models to the local HF cache.\n",
    "- Set VERIFY_WITH_UNSLOTH=True to do a lightweight CPU-only load check via Unsloth.\n",
    "\"\"\"\n",
    "\n",
    "from huggingface_hub import list_models, snapshot_download, HfApi\n",
    "from tqdm import tqdm\n",
    "import os\n",
    "import re\n",
    "\n",
    "# Optional: set your HF token via env var for private models\n",
    "HF_TOKEN = os.environ.get(\"HF_TOKEN\", None)\n",
    "\n",
    "# Discovery parameters\n",
    "ORG = \"unsloth\"               # HF organization\n",
    "LIB_TAGS = {\"unsloth\"}        # prefer models tagged with library=unsloth (best-effort)\n",
    "FOURBIT_PATTERNS = [\n",
    "    r\"\\bbnb[-_]4bit\\b\",\n",
    "    r\"\\bgptq[-_ ]?4bit\\b\",\n",
    "    r\"\\b4bit\\b\",\n",
    "    r\"-4bit\\b\",\n",
    "]\n",
    "EXCLUDE_PATTERNS = [\n",
    "    r\"\\b8bit\\b\",              # avoid accidental 8-bit matches\n",
    "    r\"gguf\",                  # often quantized for llama.cpp, not Unsloth/Transformers\n",
    "]\n",
    "\n",
    "# Download parameters\n",
    "REVISION = None               # pin a revision/commit if you need reproducibility\n",
    "LOCAL_DIR = None              # None -> default HF cache; else path to store snapshots\n",
    "ALLOW_PATTERNS = None         # e.g., [\"*.safetensors\", \"config.json\"] to limit files\n",
    "IGNORE_PATTERNS = None\n",
    "\n",
    "# Optional verification: try loading configs with Unsloth (CPU only to avoid GPU OOM)\n",
    "VERIFY_WITH_UNSLOTH = False   # set True if you want to sanity-check loading on CPU\n",
    "\n",
    "def is_4bit_model(card) -> bool:\n",
    "    mid = card.modelId.lower()\n",
    "    # quick exclude\n",
    "    if any(re.search(p, mid) for p in EXCLUDE_PATTERNS):\n",
    "        return False\n",
    "\n",
    "    # positive matches in id\n",
    "    if any(re.search(p, mid) for p in FOURBIT_PATTERNS):\n",
    "        return True\n",
    "\n",
    "    # also check tags/fields if available\n",
    "    tags = set((card.tags or [])) | set((card.library_name or '').split())\n",
    "    text = \" \".join([mid] + list(tags))\n",
    "    if any(re.search(p, text) for p in FOURBIT_PATTERNS) and not any(\n",
    "        re.search(p, text) for p in EXCLUDE_PATTERNS\n",
    "    ):\n",
    "        return True\n",
    "\n",
    "    return False\n",
    "\n",
    "def prefer_unsloth_tag(card) -> bool:\n",
    "    tags = set(card.tags or [])\n",
    "    return len(LIB_TAGS & {t.lower() for t in tags}) > 0 or (card.library_name or \"\").lower() == \"unsloth\"\n",
    "\n",
    "def discover_unsloth_4bit_models():\n",
    "    api = HfApi()\n",
    "    # Broad search under the org; we’ll locally filter for 4-bit\n",
    "    candidates = list_models(author=ORG, fetch_config=True, token=HF_TOKEN)\n",
    "    fourbit = [c for c in candidates if is_4bit_model(c)]\n",
    "\n",
    "    # Prefer models explicitly tagged with unsloth first\n",
    "    fourbit.sort(key=lambda c: (not prefer_unsloth_tag(c), c.modelId.lower()))\n",
    "    return fourbit\n",
    "\n",
    "def pull_models(models):\n",
    "    downloaded = []\n",
    "    for card in tqdm(models, desc=\"Downloading 4-bit models\"):\n",
    "        try:\n",
    "            path = snapshot_download(\n",
    "                repo_id=card.modelId,\n",
    "                revision=REVISION,\n",
    "                local_dir=LOCAL_DIR,\n",
    "                allow_patterns=ALLOW_PATTERNS,\n",
    "                ignore_patterns=IGNORE_PATTERNS,\n",
    "                token=HF_TOKEN,\n",
    "                local_files_only=False,\n",
    "                resume_download=True,\n",
    "            )\n",
    "            downloaded.append((card.modelId, path))\n",
    "        except Exception as e:\n",
    "            print(f\"[WARN] Failed to download {card.modelId}: {e}\")\n",
    "    return downloaded\n",
    "\n",
    "def verify_with_unsloth(models):\n",
    "    # CPU-only check to avoid GPU usage\n",
    "    import torch\n",
    "    from unsloth import FastLanguageModel\n",
    "\n",
    "    torch.set_default_device(\"cpu\")\n",
    "\n",
    "    verified = []\n",
    "    for model_id, _ in tqdm(models, desc=\"Verifying with Unsloth (CPU)\"):\n",
    "        try:\n",
    "            _m, _t = FastLanguageModel.from_pretrained(\n",
    "                model_name=model_id,\n",
    "                max_seq_length=8,    # tiny for a smoke test\n",
    "                load_in_4bit=True,   # ensure 4-bit path\n",
    "                dtype=None,          # let Unsloth decide\n",
    "                device_map={\"\": \"cpu\"},\n",
    "            )\n",
    "            verified.append(model_id)\n",
    "        except Exception as e:\n",
    "            print(f\"[WARN] Unsloth load failed for {model_id}: {e}\")\n",
    "    return verified\n",
    "\n",
    "def main():\n",
    "    models = discover_unsloth_4bit_models()\n",
    "    if not models:\n",
    "        print(\"No 4-bit models found under the 'unsloth' org with the current filters.\")\n",
    "        return\n",
    "\n",
    "    print(\"Discovered 4-bit models:\")\n",
    "    for c in models:\n",
    "        print(\" -\", c.modelId)\n",
    "\n",
    "    # downloads = pull_models(models)\n",
    "    # print(\"\\nDownloaded:\")\n",
    "    # for mid, path in downloads:\n",
    "    #     print(f\" - {mid} -> {path}\")\n",
    "\n",
    "    # if VERIFY_WITH_UNSLOTH and downloads:\n",
    "    #     ok = verify_with_unsloth(downloads)\n",
    "    #     print(\"\\nVerified with Unsloth (CPU):\")\n",
    "    #     for mid in ok:\n",
    "    #         print(\" -\", mid)\n",
    "\n",
    "if __name__ == \"__main__\":\n",
    "    main()"
   ]
  },
  {
   "cell_type": "code",
   "execution_count": 3,
   "id": "5cb70577-ad93-48ee-ae73-6c1a41dcff4d",
   "metadata": {},
   "outputs": [
    {
     "name": "stderr",
     "output_type": "stream",
     "text": [
      "Scanning HF repos:  32%|███▏      | 112/355 [00:24<01:04,  3.78it/s]"
     ]
    },
    {
     "data": {
      "application/vnd.jupyter.widget-view+json": {
       "model_id": "c55333451642425fb1f50f5a98d62782",
       "version_major": 2,
       "version_minor": 0
      },
      "text/plain": [
       "config.json: 0.00B [00:00, ?B/s]"
      ]
     },
     "metadata": {},
     "output_type": "display_data"
    },
    {
     "data": {
      "application/vnd.jupyter.widget-view+json": {
       "model_id": "8818ec5a9fa54429a0f99e924ca6f682",
       "version_major": 2,
       "version_minor": 0
      },
      "text/plain": [
       "tokenizer_config.json: 0.00B [00:00, ?B/s]"
      ]
     },
     "metadata": {},
     "output_type": "display_data"
    },
    {
     "name": "stderr",
     "output_type": "stream",
     "text": [
      "Scanning HF repos:  32%|███▏      | 113/355 [00:25<01:14,  3.23it/s]"
     ]
    },
    {
     "data": {
      "application/vnd.jupyter.widget-view+json": {
       "model_id": "4e8ae8e305694811acbea6dd697c6ae5",
       "version_major": 2,
       "version_minor": 0
      },
      "text/plain": [
       "config.json: 0.00B [00:00, ?B/s]"
      ]
     },
     "metadata": {},
     "output_type": "display_data"
    },
    {
     "data": {
      "application/vnd.jupyter.widget-view+json": {
       "model_id": "53d35b2a6dad49b08314643a836086e8",
       "version_major": 2,
       "version_minor": 0
      },
      "text/plain": [
       "tokenizer_config.json: 0.00B [00:00, ?B/s]"
      ]
     },
     "metadata": {},
     "output_type": "display_data"
    },
    {
     "name": "stderr",
     "output_type": "stream",
     "text": [
      "Scanning HF repos:  32%|███▏      | 114/355 [00:25<01:25,  2.83it/s]"
     ]
    },
    {
     "data": {
      "application/vnd.jupyter.widget-view+json": {
       "model_id": "ac35cc5e4e124c45b2a5e99cd82e6911",
       "version_major": 2,
       "version_minor": 0
      },
      "text/plain": [
       "config.json: 0.00B [00:00, ?B/s]"
      ]
     },
     "metadata": {},
     "output_type": "display_data"
    },
    {
     "data": {
      "application/vnd.jupyter.widget-view+json": {
       "model_id": "b6513bd5c4494e31b86cd4f08db89c43",
       "version_major": 2,
       "version_minor": 0
      },
      "text/plain": [
       "tokenizer_config.json: 0.00B [00:00, ?B/s]"
      ]
     },
     "metadata": {},
     "output_type": "display_data"
    },
    {
     "name": "stderr",
     "output_type": "stream",
     "text": [
      "Scanning HF repos:  32%|███▏      | 115/355 [00:26<01:30,  2.66it/s]"
     ]
    },
    {
     "data": {
      "application/vnd.jupyter.widget-view+json": {
       "model_id": "cbb344c75200482485ed17cff5c8f84e",
       "version_major": 2,
       "version_minor": 0
      },
      "text/plain": [
       "config.json: 0.00B [00:00, ?B/s]"
      ]
     },
     "metadata": {},
     "output_type": "display_data"
    },
    {
     "data": {
      "application/vnd.jupyter.widget-view+json": {
       "model_id": "a671c9f41e334de6834d175fdb3ea744",
       "version_major": 2,
       "version_minor": 0
      },
      "text/plain": [
       "tokenizer_config.json: 0.00B [00:00, ?B/s]"
      ]
     },
     "metadata": {},
     "output_type": "display_data"
    },
    {
     "name": "stderr",
     "output_type": "stream",
     "text": [
      "Scanning HF repos:  33%|███▎      | 116/355 [00:26<01:28,  2.70it/s]"
     ]
    },
    {
     "data": {
      "application/vnd.jupyter.widget-view+json": {
       "model_id": "bcfb4c3c3c6a4a8c8bc4eb3271766e5f",
       "version_major": 2,
       "version_minor": 0
      },
      "text/plain": [
       "config.json: 0.00B [00:00, ?B/s]"
      ]
     },
     "metadata": {},
     "output_type": "display_data"
    },
    {
     "data": {
      "application/vnd.jupyter.widget-view+json": {
       "model_id": "3fa7514af2a24590b078bd653e997b43",
       "version_major": 2,
       "version_minor": 0
      },
      "text/plain": [
       "tokenizer_config.json: 0.00B [00:00, ?B/s]"
      ]
     },
     "metadata": {},
     "output_type": "display_data"
    },
    {
     "name": "stderr",
     "output_type": "stream",
     "text": [
      "Scanning HF repos:  33%|███▎      | 117/355 [00:26<01:31,  2.59it/s]"
     ]
    },
    {
     "data": {
      "application/vnd.jupyter.widget-view+json": {
       "model_id": "d95ee05fbbd049d5b0b322f6a01c7ef0",
       "version_major": 2,
       "version_minor": 0
      },
      "text/plain": [
       "config.json: 0.00B [00:00, ?B/s]"
      ]
     },
     "metadata": {},
     "output_type": "display_data"
    },
    {
     "data": {
      "application/vnd.jupyter.widget-view+json": {
       "model_id": "c40550be30cd4c2fbd57bb0c96b04401",
       "version_major": 2,
       "version_minor": 0
      },
      "text/plain": [
       "tokenizer_config.json: 0.00B [00:00, ?B/s]"
      ]
     },
     "metadata": {},
     "output_type": "display_data"
    },
    {
     "name": "stderr",
     "output_type": "stream",
     "text": [
      "Scanning HF repos:  33%|███▎      | 118/355 [00:27<01:41,  2.33it/s]"
     ]
    },
    {
     "data": {
      "application/vnd.jupyter.widget-view+json": {
       "model_id": "a6cf5f7ac0404dcdba53a1ea90b57a79",
       "version_major": 2,
       "version_minor": 0
      },
      "text/plain": [
       "config.json: 0.00B [00:00, ?B/s]"
      ]
     },
     "metadata": {},
     "output_type": "display_data"
    },
    {
     "data": {
      "application/vnd.jupyter.widget-view+json": {
       "model_id": "f34bc4c369e945d480666bb9d4f38788",
       "version_major": 2,
       "version_minor": 0
      },
      "text/plain": [
       "tokenizer_config.json: 0.00B [00:00, ?B/s]"
      ]
     },
     "metadata": {},
     "output_type": "display_data"
    },
    {
     "name": "stderr",
     "output_type": "stream",
     "text": [
      "Scanning HF repos:  34%|███▍      | 120/355 [00:28<01:27,  2.68it/s]"
     ]
    },
    {
     "data": {
      "application/vnd.jupyter.widget-view+json": {
       "model_id": "3da90f767b2a48dbb37d4704f102c213",
       "version_major": 2,
       "version_minor": 0
      },
      "text/plain": [
       "config.json: 0.00B [00:00, ?B/s]"
      ]
     },
     "metadata": {},
     "output_type": "display_data"
    },
    {
     "data": {
      "application/vnd.jupyter.widget-view+json": {
       "model_id": "23e587fb7ce84e1d8ab3feefaf19a0e4",
       "version_major": 2,
       "version_minor": 0
      },
      "text/plain": [
       "tokenizer_config.json: 0.00B [00:00, ?B/s]"
      ]
     },
     "metadata": {},
     "output_type": "display_data"
    },
    {
     "name": "stderr",
     "output_type": "stream",
     "text": [
      "Scanning HF repos:  34%|███▍      | 121/355 [00:28<01:24,  2.78it/s]"
     ]
    },
    {
     "data": {
      "application/vnd.jupyter.widget-view+json": {
       "model_id": "e7c3891eddd64d37b1f4654d51359b79",
       "version_major": 2,
       "version_minor": 0
      },
      "text/plain": [
       "config.json: 0.00B [00:00, ?B/s]"
      ]
     },
     "metadata": {},
     "output_type": "display_data"
    },
    {
     "data": {
      "application/vnd.jupyter.widget-view+json": {
       "model_id": "f08c93c3ff6f4dbebe3ef5cb43a60ab4",
       "version_major": 2,
       "version_minor": 0
      },
      "text/plain": [
       "tokenizer_config.json: 0.00B [00:00, ?B/s]"
      ]
     },
     "metadata": {},
     "output_type": "display_data"
    },
    {
     "name": "stderr",
     "output_type": "stream",
     "text": [
      "Scanning HF repos:  34%|███▍      | 122/355 [00:28<01:24,  2.75it/s]"
     ]
    },
    {
     "data": {
      "application/vnd.jupyter.widget-view+json": {
       "model_id": "764d58bdc84a4b8ab625816b3d26d89a",
       "version_major": 2,
       "version_minor": 0
      },
      "text/plain": [
       "config.json: 0.00B [00:00, ?B/s]"
      ]
     },
     "metadata": {},
     "output_type": "display_data"
    },
    {
     "data": {
      "application/vnd.jupyter.widget-view+json": {
       "model_id": "fd4675e7ee6345d7a266771963d5d164",
       "version_major": 2,
       "version_minor": 0
      },
      "text/plain": [
       "tokenizer_config.json: 0.00B [00:00, ?B/s]"
      ]
     },
     "metadata": {},
     "output_type": "display_data"
    },
    {
     "name": "stderr",
     "output_type": "stream",
     "text": [
      "Scanning HF repos:  35%|███▍      | 123/355 [00:29<01:27,  2.66it/s]"
     ]
    },
    {
     "data": {
      "application/vnd.jupyter.widget-view+json": {
       "model_id": "97f5c46a0afa4da9b6621b8b9976e177",
       "version_major": 2,
       "version_minor": 0
      },
      "text/plain": [
       "config.json: 0.00B [00:00, ?B/s]"
      ]
     },
     "metadata": {},
     "output_type": "display_data"
    },
    {
     "data": {
      "application/vnd.jupyter.widget-view+json": {
       "model_id": "3f19a36ea03342219f50366d5d61333b",
       "version_major": 2,
       "version_minor": 0
      },
      "text/plain": [
       "tokenizer_config.json: 0.00B [00:00, ?B/s]"
      ]
     },
     "metadata": {},
     "output_type": "display_data"
    },
    {
     "name": "stderr",
     "output_type": "stream",
     "text": [
      "Scanning HF repos:  35%|███▍      | 124/355 [00:29<01:27,  2.63it/s]"
     ]
    },
    {
     "data": {
      "application/vnd.jupyter.widget-view+json": {
       "model_id": "3a021dd9ab374b67ac3841f41bfd3294",
       "version_major": 2,
       "version_minor": 0
      },
      "text/plain": [
       "config.json: 0.00B [00:00, ?B/s]"
      ]
     },
     "metadata": {},
     "output_type": "display_data"
    },
    {
     "data": {
      "application/vnd.jupyter.widget-view+json": {
       "model_id": "284c0addec0945faa43d23657a39081f",
       "version_major": 2,
       "version_minor": 0
      },
      "text/plain": [
       "tokenizer_config.json: 0.00B [00:00, ?B/s]"
      ]
     },
     "metadata": {},
     "output_type": "display_data"
    },
    {
     "name": "stderr",
     "output_type": "stream",
     "text": [
      "Scanning HF repos:  35%|███▌      | 125/355 [00:30<01:33,  2.46it/s]"
     ]
    },
    {
     "data": {
      "application/vnd.jupyter.widget-view+json": {
       "model_id": "c4f9a1049cbd4f098a2acb32a1a5ec1f",
       "version_major": 2,
       "version_minor": 0
      },
      "text/plain": [
       "config.json: 0.00B [00:00, ?B/s]"
      ]
     },
     "metadata": {},
     "output_type": "display_data"
    },
    {
     "data": {
      "application/vnd.jupyter.widget-view+json": {
       "model_id": "bc42658363cb4e7c888a26ef7d2d8397",
       "version_major": 2,
       "version_minor": 0
      },
      "text/plain": [
       "tokenizer_config.json: 0.00B [00:00, ?B/s]"
      ]
     },
     "metadata": {},
     "output_type": "display_data"
    },
    {
     "name": "stderr",
     "output_type": "stream",
     "text": [
      "Scanning HF repos:  35%|███▌      | 126/355 [00:30<01:33,  2.46it/s]"
     ]
    },
    {
     "data": {
      "application/vnd.jupyter.widget-view+json": {
       "model_id": "f38deb13be5e425abb72b3d52636a03a",
       "version_major": 2,
       "version_minor": 0
      },
      "text/plain": [
       "config.json: 0.00B [00:00, ?B/s]"
      ]
     },
     "metadata": {},
     "output_type": "display_data"
    },
    {
     "data": {
      "application/vnd.jupyter.widget-view+json": {
       "model_id": "e547cfbbe3aa44779c11b21cb170dc32",
       "version_major": 2,
       "version_minor": 0
      },
      "text/plain": [
       "tokenizer_config.json: 0.00B [00:00, ?B/s]"
      ]
     },
     "metadata": {},
     "output_type": "display_data"
    },
    {
     "name": "stderr",
     "output_type": "stream",
     "text": [
      "Scanning HF repos:  36%|███▌      | 127/355 [00:30<01:30,  2.53it/s]"
     ]
    },
    {
     "data": {
      "application/vnd.jupyter.widget-view+json": {
       "model_id": "aac6d74031bd414ca376085cd1b24e0b",
       "version_major": 2,
       "version_minor": 0
      },
      "text/plain": [
       "config.json: 0.00B [00:00, ?B/s]"
      ]
     },
     "metadata": {},
     "output_type": "display_data"
    },
    {
     "data": {
      "application/vnd.jupyter.widget-view+json": {
       "model_id": "40a085c15746483e8223d8542e1871f3",
       "version_major": 2,
       "version_minor": 0
      },
      "text/plain": [
       "tokenizer_config.json: 0.00B [00:00, ?B/s]"
      ]
     },
     "metadata": {},
     "output_type": "display_data"
    },
    {
     "name": "stderr",
     "output_type": "stream",
     "text": [
      "Scanning HF repos:  36%|███▌      | 128/355 [00:31<01:28,  2.56it/s]"
     ]
    },
    {
     "data": {
      "application/vnd.jupyter.widget-view+json": {
       "model_id": "5c98ec81dbc942d0b1fe9f92cb21f04e",
       "version_major": 2,
       "version_minor": 0
      },
      "text/plain": [
       "config.json: 0.00B [00:00, ?B/s]"
      ]
     },
     "metadata": {},
     "output_type": "display_data"
    },
    {
     "data": {
      "application/vnd.jupyter.widget-view+json": {
       "model_id": "636bff5f157447b19cc3712d8bc7a465",
       "version_major": 2,
       "version_minor": 0
      },
      "text/plain": [
       "tokenizer_config.json: 0.00B [00:00, ?B/s]"
      ]
     },
     "metadata": {},
     "output_type": "display_data"
    },
    {
     "name": "stderr",
     "output_type": "stream",
     "text": [
      "Scanning HF repos:  36%|███▋      | 129/355 [00:31<01:35,  2.37it/s]"
     ]
    },
    {
     "data": {
      "application/vnd.jupyter.widget-view+json": {
       "model_id": "8f48b756f4bf4a6eb955734b3d859fb5",
       "version_major": 2,
       "version_minor": 0
      },
      "text/plain": [
       "config.json: 0.00B [00:00, ?B/s]"
      ]
     },
     "metadata": {},
     "output_type": "display_data"
    },
    {
     "data": {
      "application/vnd.jupyter.widget-view+json": {
       "model_id": "8b7a57ddcf254524af0a66892bbec6f1",
       "version_major": 2,
       "version_minor": 0
      },
      "text/plain": [
       "tokenizer_config.json: 0.00B [00:00, ?B/s]"
      ]
     },
     "metadata": {},
     "output_type": "display_data"
    },
    {
     "name": "stderr",
     "output_type": "stream",
     "text": [
      "Scanning HF repos:  37%|███▋      | 130/355 [00:32<01:50,  2.04it/s]"
     ]
    },
    {
     "data": {
      "application/vnd.jupyter.widget-view+json": {
       "model_id": "2fb554f94b5c4058b47477e93e34277d",
       "version_major": 2,
       "version_minor": 0
      },
      "text/plain": [
       "config.json: 0.00B [00:00, ?B/s]"
      ]
     },
     "metadata": {},
     "output_type": "display_data"
    },
    {
     "data": {
      "application/vnd.jupyter.widget-view+json": {
       "model_id": "f18217b4870f4d6db7256e3e8d668f53",
       "version_major": 2,
       "version_minor": 0
      },
      "text/plain": [
       "tokenizer_config.json: 0.00B [00:00, ?B/s]"
      ]
     },
     "metadata": {},
     "output_type": "display_data"
    },
    {
     "name": "stderr",
     "output_type": "stream",
     "text": [
      "Scanning HF repos:  37%|███▋      | 131/355 [00:32<01:43,  2.17it/s]"
     ]
    },
    {
     "data": {
      "application/vnd.jupyter.widget-view+json": {
       "model_id": "8382e2529d25496abe0673396dedcdd2",
       "version_major": 2,
       "version_minor": 0
      },
      "text/plain": [
       "config.json: 0.00B [00:00, ?B/s]"
      ]
     },
     "metadata": {},
     "output_type": "display_data"
    },
    {
     "data": {
      "application/vnd.jupyter.widget-view+json": {
       "model_id": "4bfe4a64c1444e6d9fd79357586723bb",
       "version_major": 2,
       "version_minor": 0
      },
      "text/plain": [
       "tokenizer_config.json: 0.00B [00:00, ?B/s]"
      ]
     },
     "metadata": {},
     "output_type": "display_data"
    },
    {
     "name": "stderr",
     "output_type": "stream",
     "text": [
      "Scanning HF repos:  37%|███▋      | 132/355 [00:33<01:37,  2.29it/s]"
     ]
    },
    {
     "data": {
      "application/vnd.jupyter.widget-view+json": {
       "model_id": "5659fdd6bff0421882d438f90ee436dd",
       "version_major": 2,
       "version_minor": 0
      },
      "text/plain": [
       "config.json: 0.00B [00:00, ?B/s]"
      ]
     },
     "metadata": {},
     "output_type": "display_data"
    },
    {
     "data": {
      "application/vnd.jupyter.widget-view+json": {
       "model_id": "cb6b63d579d44ac3b693e234480ea63b",
       "version_major": 2,
       "version_minor": 0
      },
      "text/plain": [
       "tokenizer_config.json: 0.00B [00:00, ?B/s]"
      ]
     },
     "metadata": {},
     "output_type": "display_data"
    },
    {
     "name": "stderr",
     "output_type": "stream",
     "text": [
      "Scanning HF repos: 100%|██████████| 355/355 [00:55<00:00,  6.42it/s]"
     ]
    },
    {
     "name": "stdout",
     "output_type": "stream",
     "text": [
      "                                                        repo_id  model_type                                      arch  max_context_window  max_input_tokens  max_output_tokens_theoretical  tokenizer_model_max_length                                                                     rope_scaling  sliding_window error\n",
      "                        unsloth/c4ai-command-r-08-2024-bnb-4bit      cohere        CohereForAI/c4ai-command-r-08-2024            131072.0          131072.0                       131072.0                         NaN                                                                             None             NaN  None\n",
      "                   unsloth/c4ai-command-r-plus-08-2024-bnb-4bit      cohere   CohereForAI/c4ai-command-r-plus-08-2024            131072.0          131072.0                       131072.0                         NaN                                                                             None             NaN  None\n",
      "                                  unsloth/codegemma-2b-bnb-4bit       gemma                      unsloth/codegemma-2b              8192.0            8192.0                         8192.0                         NaN                                                                             None             NaN  None\n",
      "                                  unsloth/codegemma-7b-bnb-4bit       gemma                      unsloth/codegemma-7b              8192.0            8192.0                         8192.0                         NaN                                                                             None             NaN  None\n",
      "                               unsloth/codegemma-7b-it-bnb-4bit       gemma                   unsloth/codegemma-7b-it              8192.0            8192.0                         8192.0                         NaN                                                                             None             NaN  None\n",
      "                                 unsloth/codellama-13b-bnb-4bit       llama                     unsloth/codellama-13b             16384.0           16384.0                        16384.0                         NaN                                                                             None             NaN  None\n",
      "                                 unsloth/codellama-34b-bnb-4bit       llama                     unsloth/codellama-34b             16384.0           16384.0                        16384.0                         NaN                                                                             None             NaN  None\n",
      "                                  unsloth/codellama-7b-bnb-4bit       llama                      unsloth/codellama-7b             16384.0           16384.0                        16384.0                         NaN                                                                             None             NaN  None\n",
      "                             unsloth/Cosmos-Reason1-7B-bnb-4bit  qwen2_5_vl                                qwen2_5_vl            128000.0          128000.0                       128000.0                    128000.0       {'mrope_section': [16, 24, 24], 'rope_type': 'default', 'type': 'default'}         32768.0  None\n",
      "                     unsloth/Cosmos-Reason1-7B-unsloth-bnb-4bit  qwen2_5_vl                                qwen2_5_vl            128000.0          128000.0                       128000.0                    128000.0       {'mrope_section': [16, 24, 24], 'rope_type': 'default', 'type': 'default'}         32768.0  None\n",
      "               unsloth/DeepScaleR-1.5B-Preview-unsloth-bnb-4bit       qwen2      agentica-org/DeepScaleR-1.5B-Preview             24576.0           24576.0                        24576.0                     24576.0                                                                             None             NaN  None\n",
      "                         unsloth/DeepSeek-Prover-V2-7B-bnb-4bit       llama                                     llama             65536.0           32768.0                        32768.0                     32768.0 {'beta_fast': 32, 'beta_slow': 1, 'factor': 16, 'mscale': True, 'original_max...             NaN  None\n",
      "                 unsloth/DeepSeek-Prover-V2-7B-unsloth-bnb-4bit       llama                                     llama             65536.0           32768.0                        32768.0                     32768.0 {'beta_fast': 32, 'beta_slow': 1, 'factor': 16, 'mscale': True, 'original_max...             NaN  None\n",
      "                     unsloth/DeepSeek-R1-0528-Qwen3-8B-bnb-4bit       qwen3                                     qwen3            131072.0          131072.0                       131072.0                    131072.0 {'attn_factor': 0.8782488562869419, 'factor': 4.0, 'original_max_position_emb...             NaN  None\n",
      "             unsloth/DeepSeek-R1-0528-Qwen3-8B-unsloth-bnb-4bit       qwen3                                     qwen3            131072.0          131072.0                       131072.0                    131072.0 {'attn_factor': 0.8782488562869419, 'factor': 4.0, 'original_max_position_emb...             NaN  None\n",
      "                 unsloth/DeepSeek-R1-Distill-Llama-70B-bnb-4bit       llama deepseek-ai/DeepSeek-R1-Distill-Llama-70B             65536.0           65536.0                        65536.0                    131072.0 {'factor': 8.0, 'high_freq_factor': 4.0, 'low_freq_factor': 1.0, 'original_ma...             NaN  None\n",
      "         unsloth/DeepSeek-R1-Distill-Llama-70B-unsloth-bnb-4bit       llama deepseek-ai/DeepSeek-R1-Distill-Llama-70B             65536.0           65536.0                        65536.0                    131072.0 {'factor': 8.0, 'high_freq_factor': 4.0, 'low_freq_factor': 1.0, 'original_ma...             NaN  None\n",
      "                  unsloth/DeepSeek-R1-Distill-Llama-8B-bnb-4bit       llama  deepseek-ai/DeepSeek-R1-Distill-Llama-8B             65536.0           65536.0                        65536.0                    131072.0 {'factor': 8.0, 'high_freq_factor': 4.0, 'low_freq_factor': 1.0, 'original_ma...             NaN  None\n",
      "          unsloth/DeepSeek-R1-Distill-Llama-8B-unsloth-bnb-4bit       llama  deepseek-ai/DeepSeek-R1-Distill-Llama-8B             65536.0           65536.0                        65536.0                    131072.0 {'factor': 8.0, 'high_freq_factor': 4.0, 'low_freq_factor': 1.0, 'original_ma...             NaN  None\n",
      "                 unsloth/DeepSeek-R1-Distill-Qwen-1.5B-bnb-4bit       qwen2 deepseek-ai/DeepSeek-R1-Distill-Qwen-1.5B            131072.0          131072.0                       131072.0                    131072.0                                                                             None             NaN  None\n",
      "         unsloth/DeepSeek-R1-Distill-Qwen-1.5B-unsloth-bnb-4bit       qwen2 deepseek-ai/DeepSeek-R1-Distill-Qwen-1.5B            131072.0          131072.0                       131072.0                    131072.0                                                                             None             NaN  None\n",
      "                  unsloth/DeepSeek-R1-Distill-Qwen-14B-bnb-4bit       qwen2  deepseek-ai/DeepSeek-R1-Distill-Qwen-14B            131072.0          131072.0                       131072.0                    131072.0                                                                             None             NaN  None\n",
      "          unsloth/DeepSeek-R1-Distill-Qwen-14B-unsloth-bnb-4bit       qwen2  deepseek-ai/DeepSeek-R1-Distill-Qwen-14B            131072.0          131072.0                       131072.0                    131072.0                                                                             None             NaN  None\n",
      "                  unsloth/DeepSeek-R1-Distill-Qwen-32B-bnb-4bit       qwen2  deepseek-ai/DeepSeek-R1-Distill-Qwen-32B            131072.0          131072.0                       131072.0                    131072.0                                                                             None             NaN  None\n",
      "          unsloth/DeepSeek-R1-Distill-Qwen-32B-unsloth-bnb-4bit       qwen2  deepseek-ai/DeepSeek-R1-Distill-Qwen-32B            131072.0          131072.0                       131072.0                    131072.0                                                                             None             NaN  None\n",
      "                   unsloth/DeepSeek-R1-Distill-Qwen-7B-bnb-4bit       qwen2   deepseek-ai/DeepSeek-R1-Distill-Qwen-7B            131072.0          131072.0                       131072.0                    131072.0                                                                             None             NaN  None\n",
      "           unsloth/DeepSeek-R1-Distill-Qwen-7B-unsloth-bnb-4bit       qwen2   deepseek-ai/DeepSeek-R1-Distill-Qwen-7B            131072.0          131072.0                       131072.0                    131072.0                                                                             None             NaN  None\n",
      "                   unsloth/Devstral-Small-2505-unsloth-bnb-4bit     mistral                                   mistral            131072.0          131072.0                       131072.0                    131072.0                                                                             None             NaN  None\n",
      "                               unsloth/gemma-1.1-2b-it-bnb-4bit       gemma                   unsloth/gemma-1.1-2b-it              8192.0            8192.0                         8192.0                         NaN                                                                             None             NaN  None\n",
      "                               unsloth/gemma-1.1-7b-it-bnb-4bit       gemma                   unsloth/gemma-1.1-7b-it              8192.0            8192.0                         8192.0                         NaN                                                                             None             NaN  None\n",
      "                                   unsloth/gemma-2-27b-bnb-4bit      gemma2                       unsloth/gemma-2-27b              8192.0            8192.0                         8192.0                         NaN                                                                             None          4096.0  None\n",
      "                                unsloth/gemma-2-27b-it-bnb-4bit      gemma2                    unsloth/gemma-2-27b-it              8192.0            8192.0                         8192.0                         NaN                                                                             None          4096.0  None\n",
      "                                    unsloth/gemma-2-2b-bnb-4bit      gemma2                        unsloth/gemma-2-2b              8192.0            8192.0                         8192.0                         NaN                                                                             None          4096.0  None\n",
      "                                 unsloth/gemma-2-2b-it-bnb-4bit      gemma2                     unsloth/gemma-2-2b-it              8192.0            8192.0                         8192.0                         NaN                                                                             None          4096.0  None\n",
      "                                    unsloth/gemma-2-9b-bnb-4bit      gemma2                                    gemma2              8192.0            8192.0                         8192.0                      8192.0                                                                             None          4096.0  None\n",
      "                                 unsloth/gemma-2-9b-it-bnb-4bit      gemma2                     unsloth/gemma-2-9b-it              8192.0            8192.0                         8192.0                         NaN                                                                             None          4096.0  None\n",
      "                                      unsloth/gemma-2b-bnb-4bit       gemma                          unsloth/gemma-2b              8192.0            8192.0                         8192.0                         NaN                                                                             None             NaN  None\n",
      "                                   unsloth/gemma-2b-it-bnb-4bit       gemma                       unsloth/gemma-2b-it              8192.0            8192.0                         8192.0                         NaN                                                                             None             NaN  None\n",
      "                                unsloth/gemma-3-12b-it-bnb-4bit      gemma3                                    gemma3            131072.0          131072.0                       131072.0                    131072.0                                                                             None             NaN  None\n",
      "                            unsloth/gemma-3-12b-it-qat-bnb-4bit      gemma3                                    gemma3            131072.0          131072.0                       131072.0                    131072.0                                                                             None             NaN  None\n",
      "                    unsloth/gemma-3-12b-it-qat-unsloth-bnb-4bit      gemma3                                    gemma3            131072.0          131072.0                       131072.0                    131072.0                                                                             None             NaN  None\n",
      "                        unsloth/gemma-3-12b-it-unsloth-bnb-4bit      gemma3                                    gemma3            131072.0          131072.0                       131072.0                    131072.0                                                                             None             NaN  None\n",
      "                                unsloth/gemma-3-12b-pt-bnb-4bit      gemma3                                    gemma3            131072.0          131072.0                       131072.0                    131072.0                                                                             None             NaN  None\n",
      "                        unsloth/gemma-3-12b-pt-unsloth-bnb-4bit      gemma3                                    gemma3            131072.0          131072.0                       131072.0                    131072.0                                                                             None             NaN  None\n",
      "                                 unsloth/gemma-3-1b-it-bnb-4bit gemma3_text                               gemma3_text             32768.0           32768.0                        32768.0                     32768.0                                                                             None           512.0  None\n",
      "                             unsloth/gemma-3-1b-it-qat-bnb-4bit gemma3_text                               gemma3_text             32768.0           32768.0                        32768.0                     32768.0                                                                             None           512.0  None\n",
      "                     unsloth/gemma-3-1b-it-qat-unsloth-bnb-4bit gemma3_text                               gemma3_text             32768.0           32768.0                        32768.0                     32768.0                                                                             None           512.0  None\n",
      "                         unsloth/gemma-3-1b-it-unsloth-bnb-4bit gemma3_text                               gemma3_text             32768.0           32768.0                        32768.0                     32768.0                                                                             None           512.0  None\n",
      "                                 unsloth/gemma-3-1b-pt-bnb-4bit gemma3_text                               gemma3_text             32768.0           32768.0                        32768.0                     32768.0                                                                             None           512.0  None\n",
      "                         unsloth/gemma-3-1b-pt-unsloth-bnb-4bit gemma3_text                               gemma3_text             32768.0           32768.0                        32768.0                     32768.0                                                                             None           512.0  None\n",
      "                                  unsloth/gemma-3-270m-bnb-4bit gemma3_text                               gemma3_text             32768.0           32768.0                        32768.0                     32768.0                                                                             None           512.0  None\n",
      "                               unsloth/gemma-3-270m-it-bnb-4bit gemma3_text                               gemma3_text             32768.0           32768.0                        32768.0                     32768.0                                                                             None           512.0  None\n",
      "                           unsloth/gemma-3-270m-it-qat-bnb-4bit gemma3_text                               gemma3_text             32768.0           32768.0                        32768.0                     32768.0                                                                             None           512.0  None\n",
      "                   unsloth/gemma-3-270m-it-qat-unsloth-bnb-4bit gemma3_text                               gemma3_text             32768.0           32768.0                        32768.0                     32768.0                                                                             None           512.0  None\n",
      "                       unsloth/gemma-3-270m-it-unsloth-bnb-4bit gemma3_text                               gemma3_text             32768.0           32768.0                        32768.0                     32768.0                                                                             None           512.0  None\n",
      "                          unsloth/gemma-3-270m-unsloth-bnb-4bit gemma3_text                               gemma3_text             32768.0           32768.0                        32768.0                     32768.0                                                                             None           512.0  None\n",
      "                                unsloth/gemma-3-27b-it-bnb-4bit      gemma3                                    gemma3            131072.0          131072.0                       131072.0                    131072.0                                                                             None             NaN  None\n",
      "                            unsloth/gemma-3-27b-it-qat-bnb-4bit      gemma3                                    gemma3            131072.0          131072.0                       131072.0                    131072.0                                                                             None             NaN  None\n",
      "                    unsloth/gemma-3-27b-it-qat-unsloth-bnb-4bit      gemma3                                    gemma3            131072.0          131072.0                       131072.0                    131072.0                                                                             None             NaN  None\n",
      "                        unsloth/gemma-3-27b-it-unsloth-bnb-4bit      gemma3                                    gemma3            131072.0          131072.0                       131072.0                    131072.0                                                                             None             NaN  None\n",
      "                                unsloth/gemma-3-27b-pt-bnb-4bit      gemma3                                    gemma3            131072.0          131072.0                       131072.0                    131072.0                                                                             None             NaN  None\n",
      "                        unsloth/gemma-3-27b-pt-unsloth-bnb-4bit      gemma3                                    gemma3            131072.0          131072.0                       131072.0                    131072.0                                                                             None             NaN  None\n",
      "                                 unsloth/gemma-3-4b-it-bnb-4bit      gemma3                                    gemma3            131072.0          131072.0                       131072.0                    131072.0                                                                             None             NaN  None\n",
      "                             unsloth/gemma-3-4b-it-qat-bnb-4bit      gemma3                                    gemma3            131072.0          131072.0                       131072.0                    131072.0                                                                             None             NaN  None\n",
      "                        unsloth/gemma-3-4b-it-qat-int4-bnb-4bit      gemma3                                    gemma3            131072.0          131072.0                       131072.0                    131072.0                                                                             None             NaN  None\n",
      "                unsloth/gemma-3-4b-it-qat-int4-unsloth-bnb-4bit      gemma3                                    gemma3            131072.0          131072.0                       131072.0                    131072.0                                                                             None             NaN  None\n",
      "                     unsloth/gemma-3-4b-it-qat-unsloth-bnb-4bit      gemma3                                    gemma3            131072.0          131072.0                       131072.0                    131072.0                                                                             None             NaN  None\n",
      "                         unsloth/gemma-3-4b-it-unsloth-bnb-4bit      gemma3                                    gemma3            131072.0          131072.0                       131072.0                    131072.0                                                                             None             NaN  None\n",
      "                                 unsloth/gemma-3-4b-pt-bnb-4bit      gemma3                                    gemma3            131072.0          131072.0                       131072.0                    131072.0                                                                             None             NaN  None\n",
      "                         unsloth/gemma-3-4b-pt-unsloth-bnb-4bit      gemma3                                    gemma3            131072.0          131072.0                       131072.0                    131072.0                                                                             None             NaN  None\n",
      "                       unsloth/gemma-3n-E2B-it-unsloth-bnb-4bit     gemma3n                                   gemma3n             32768.0           32768.0                        32768.0                     32768.0                                                                             None             NaN  None\n",
      "                          unsloth/gemma-3n-E2B-unsloth-bnb-4bit     gemma3n                                   gemma3n             32768.0           32768.0                        32768.0                     32768.0                                                                             None             NaN  None\n",
      "                       unsloth/gemma-3n-E4B-it-unsloth-bnb-4bit     gemma3n                                   gemma3n             32768.0           32768.0                        32768.0                     32768.0                                                                             None             NaN  None\n",
      "                          unsloth/gemma-3n-E4B-unsloth-bnb-4bit     gemma3n                                   gemma3n             32768.0           32768.0                        32768.0                     32768.0                                                                             None             NaN  None\n",
      "                                      unsloth/gemma-7b-bnb-4bit       gemma                                     gemma              8192.0            8192.0                         8192.0                      8192.0                                                                             None             NaN  None\n",
      "                                   unsloth/gemma-7b-it-bnb-4bit       gemma                       unsloth/gemma-7b-it              8192.0            8192.0                         8192.0                         NaN                                                                             None             NaN  None\n",
      "                                unsloth/GLM-4-32B-0414-bnb-4bit        glm4                                      glm4             32768.0           32768.0                        32768.0                     32768.0                                                                             None             NaN  None\n",
      "                        unsloth/GLM-4-32B-0414-unsloth-bnb-4bit        glm4                                      glm4             32768.0           32768.0                        32768.0                     32768.0                                                                             None             NaN  None\n",
      "                                 unsloth/GLM-4-9B-0414-bnb-4bit        glm4                                      glm4             32768.0           32768.0                        32768.0                     32768.0                                                                             None             NaN  None\n",
      "                         unsloth/GLM-4-9B-0414-unsloth-bnb-4bit        glm4                                      glm4             32768.0           32768.0                        32768.0                     32768.0                                                                             None             NaN  None\n",
      "                               unsloth/GLM-Z1-32B-0414-bnb-4bit        glm4                                      glm4             32768.0           32768.0                        32768.0                     32768.0                                                                             None             NaN  None\n",
      "                                unsloth/GLM-Z1-9B-0414-bnb-4bit        glm4                                      glm4             32768.0           32768.0                        32768.0                     32768.0                                                                             None             NaN  None\n",
      "                        unsloth/GLM-Z1-9B-0414-unsloth-bnb-4bit        glm4                                      glm4             32768.0           32768.0                        32768.0                     32768.0                                                                             None             NaN  None\n",
      "                                  unsloth/gpt-oss-120b-bnb-4bit        None                                      None                 NaN               NaN                            NaN                         NaN                                                                             None             NaN  None\n",
      "                          unsloth/gpt-oss-120b-unsloth-bnb-4bit     gpt_oss                                   gpt_oss            131072.0          131072.0                       131072.0                    131072.0 {'beta_fast': 32.0, 'beta_slow': 1.0, 'factor': 32.0, 'original_max_position_...           128.0  None\n",
      "                                   unsloth/gpt-oss-20b-bnb-4bit     gpt_oss                                   gpt_oss            131072.0          131072.0                       131072.0                    131072.0 {'beta_fast': 32.0, 'beta_slow': 1.0, 'factor': 32.0, 'original_max_position_...           128.0  None\n",
      "                           unsloth/gpt-oss-20b-unsloth-bnb-4bit     gpt_oss                                   gpt_oss            131072.0          131072.0                       131072.0                    131072.0 {'beta_fast': 32.0, 'beta_slow': 1.0, 'factor': 32.0, 'original_max_position_...           128.0  None\n",
      "                       unsloth/Hermes-2-Pro-Mistral-7B-bnb-4bit     mistral      NousResearch/Hermes-2-Pro-Mistral-7B             32768.0           32768.0                        32768.0                     32768.0                                                                             None          4096.0  None\n",
      "                        unsloth/Hermes-3-Llama-3.1-70B-bnb-4bit       llama       NousResearch/Hermes-3-Llama-3.1-70B             65536.0           65536.0                        65536.0                    131072.0 {'factor': 8.0, 'high_freq_factor': 4.0, 'low_freq_factor': 1.0, 'original_ma...             NaN  None\n",
      "                         unsloth/Hermes-3-Llama-3.1-8B-bnb-4bit       llama        NousResearch/Hermes-3-Llama-3.1-8B             65536.0           65536.0                        65536.0                    131072.0 {'factor': 8.0, 'high_freq_factor': 4.0, 'low_freq_factor': 1.0, 'original_ma...             NaN  None\n",
      "                                     unsloth/KernelLLM-bnb-4bit       llama                                     llama             65536.0           65536.0                        65536.0                    131072.0 {'factor': 8.0, 'high_freq_factor': 4.0, 'low_freq_factor': 1.0, 'original_ma...             NaN  None\n",
      "                             unsloth/KernelLLM-unsloth-bnb-4bit       llama                                     llama             65536.0           65536.0                        65536.0                    131072.0 {'factor': 8.0, 'high_freq_factor': 4.0, 'low_freq_factor': 1.0, 'original_ma...             NaN  None\n",
      "                             unsloth/LFM2-1.2B-unsloth-bnb-4bit        lfm2                                      lfm2             32768.0           32768.0                        32768.0                     32768.0                                                                             None             NaN  None\n",
      "                             unsloth/LFM2-350M-unsloth-bnb-4bit        lfm2                                      lfm2             32768.0           32768.0                        32768.0                     32768.0                                                                             None             NaN  None\n",
      "                             unsloth/LFM2-700M-unsloth-bnb-4bit        lfm2                                      lfm2             32768.0           32768.0                        32768.0                     32768.0                                                                             None             NaN  None\n",
      "                                   unsloth/llama-2-13b-bnb-4bit       llama                       unsloth/llama-2-13b              4096.0            4096.0                         4096.0                         NaN                                                                             None             NaN  None\n",
      "                                    unsloth/llama-2-7b-bnb-4bit       llama                        unsloth/llama-2-7b              4096.0            4096.0                         4096.0                         NaN                                                                             None             NaN  None\n",
      "                               unsloth/llama-2-7b-chat-bnb-4bit       llama                   unsloth/llama-2-7b-chat              4096.0            4096.0                         4096.0                         NaN                                                                             None             NaN  None\n",
      "                                   unsloth/llama-3-70b-bnb-4bit       llama                       unsloth/llama-3-70b              8192.0            8192.0                         8192.0                         NaN                                                                             None             NaN  None\n",
      "                          unsloth/llama-3-70b-Instruct-bnb-4bit       llama              unsloth/llama-3-70b-Instruct              8192.0            8192.0                         8192.0                         NaN                                                                             None             NaN  None\n",
      "                                    unsloth/llama-3-8b-bnb-4bit       llama                        unsloth/llama-3-8b              8192.0            8192.0                         8192.0                         NaN                                                                             None             NaN  None\n",
      "                           unsloth/llama-3-8b-Instruct-bnb-4bit       llama               unsloth/llama-3-8b-Instruct              8192.0            8192.0                         8192.0                         NaN                                                                             None             NaN  None\n",
      "                                  unsloth/Llama-3.1-8B-bnb-4bit       llama                   meta-llama/Llama-3.1-8B             65536.0           65536.0                        65536.0                    131072.0 {'factor': 8.0, 'high_freq_factor': 4.0, 'low_freq_factor': 1.0, 'original_ma...             NaN  None\n",
      "                         unsloth/Llama-3.1-8B-Instruct-bnb-4bit       llama          meta-llama/Llama-3.1-8B-Instruct             65536.0           65536.0                        65536.0                    131072.0 {'factor': 8.0, 'high_freq_factor': 4.0, 'low_freq_factor': 1.0, 'original_ma...             NaN  None\n",
      "                 unsloth/Llama-3.1-8B-Instruct-unsloth-bnb-4bit       llama          meta-llama/Llama-3.1-8B-Instruct             65536.0           65536.0                        65536.0                    131072.0 {'factor': 8.0, 'high_freq_factor': 4.0, 'low_freq_factor': 1.0, 'original_ma...             NaN  None\n",
      "                          unsloth/Llama-3.1-8B-unsloth-bnb-4bit       llama                   meta-llama/Llama-3.1-8B             65536.0           65536.0                        65536.0                    131072.0 {'factor': 8.0, 'high_freq_factor': 4.0, 'low_freq_factor': 1.0, 'original_ma...             NaN  None\n",
      "               unsloth/Llama-3.1-Nemotron-70B-Instruct-bnb-4bit       llama nvidia/Llama-3.1-Nemotron-70B-Instruct-HF             65536.0           65536.0                        65536.0                    131072.0 {'factor': 8.0, 'high_freq_factor': 4.0, 'low_freq_factor': 1.0, 'original_ma...             NaN  None\n",
      "               unsloth/Llama-3.1-Nemotron-Nano-4B-v1.1-bnb-4bit       llama                                     llama             32768.0           32768.0                        32768.0                    131072.0 {'factor': 4.0, 'high_freq_factor': 4.0, 'low_freq_factor': 1.0, 'original_ma...             NaN  None\n",
      "       unsloth/Llama-3.1-Nemotron-Nano-4B-v1.1-unsloth-bnb-4bit       llama                                     llama             32768.0           32768.0                        32768.0                    131072.0 {'factor': 4.0, 'high_freq_factor': 4.0, 'low_freq_factor': 1.0, 'original_ma...             NaN  None\n",
      "                            unsloth/Llama-3.1-Storm-8B-bnb-4bit       llama          akjindal53244/Llama-3.1-Storm-8B             65536.0           65536.0                        65536.0                    131072.0 {'factor': 8.0, 'high_freq_factor': 4.0, 'low_freq_factor': 1.0, 'original_ma...             NaN  None\n",
      "                          unsloth/Llama-3.2-11B-Vision-bnb-4bit      mllama           meta-llama/Llama-3.2-11B-Vision            131072.0          131072.0                       131072.0                    131072.0                                                                             None             NaN  None\n",
      "                 unsloth/Llama-3.2-11B-Vision-Instruct-bnb-4bit      mllama  meta-llama/Llama-3.2-11B-Vision-Instruct            131072.0          131072.0                       131072.0                    131072.0                                                                             None             NaN  None\n",
      "         unsloth/Llama-3.2-11B-Vision-Instruct-unsloth-bnb-4bit      mllama     unsloth/Llama-3.2-11B-Vision-Instruct            131072.0          131072.0                       131072.0                    131072.0                                                                             None             NaN  None\n",
      "                  unsloth/Llama-3.2-11B-Vision-unsloth-bnb-4bit      mllama              unsloth/Llama-3.2-11B-Vision            131072.0          131072.0                       131072.0                    131072.0                                                                             None             NaN  None\n",
      "                                  unsloth/Llama-3.2-1B-bnb-4bit       llama                                     llama            262144.0          131072.0                       131072.0                    131072.0 {'factor': 32.0, 'high_freq_factor': 4.0, 'low_freq_factor': 1.0, 'original_m...             NaN  None\n",
      "                         unsloth/Llama-3.2-1B-Instruct-bnb-4bit       llama          meta-llama/Llama-3.2-1B-Instruct            262144.0          131072.0                       131072.0                    131072.0 {'factor': 32.0, 'high_freq_factor': 4.0, 'low_freq_factor': 1.0, 'original_m...             NaN  None\n",
      "                 unsloth/Llama-3.2-1B-Instruct-unsloth-bnb-4bit       llama                                     llama            262144.0          131072.0                       131072.0                    131072.0 {'factor': 32.0, 'high_freq_factor': 4.0, 'low_freq_factor': 1.0, 'original_m...             NaN  None\n",
      "                          unsloth/Llama-3.2-1B-unsloth-bnb-4bit       llama                                     llama            262144.0          131072.0                       131072.0                    131072.0 {'factor': 32.0, 'high_freq_factor': 4.0, 'low_freq_factor': 1.0, 'original_m...             NaN  None\n",
      "                                  unsloth/Llama-3.2-3B-bnb-4bit       llama                                     llama            262144.0          131072.0                       131072.0                    131072.0 {'factor': 32.0, 'high_freq_factor': 4.0, 'low_freq_factor': 1.0, 'original_m...             NaN  None\n",
      "                         unsloth/Llama-3.2-3B-Instruct-bnb-4bit       llama                                     llama            262144.0          131072.0                       131072.0                    131072.0 {'factor': 32.0, 'high_freq_factor': 4.0, 'low_freq_factor': 1.0, 'original_m...             NaN  None\n",
      "                 unsloth/Llama-3.2-3B-Instruct-unsloth-bnb-4bit       llama                                     llama            262144.0          131072.0                       131072.0                    131072.0 {'factor': 32.0, 'high_freq_factor': 4.0, 'low_freq_factor': 1.0, 'original_m...             NaN  None\n",
      "                          unsloth/Llama-3.2-3B-unsloth-bnb-4bit       llama                                     llama            262144.0          131072.0                       131072.0                    131072.0 {'factor': 32.0, 'high_freq_factor': 4.0, 'low_freq_factor': 1.0, 'original_m...             NaN  None\n",
      "                          unsloth/Llama-3.2-90B-Vision-bnb-4bit      mllama                                    mllama            131072.0          131072.0                       131072.0                    131072.0                                                                             None             NaN  None\n",
      "                 unsloth/Llama-3.2-90B-Vision-Instruct-bnb-4bit      mllama  meta-llama/Llama-3.2-90B-Vision-Instruct            131072.0          131072.0                       131072.0                    131072.0                                                                             None             NaN  None\n",
      "         unsloth/Llama-3.2-90B-Vision-Instruct-unsloth-bnb-4bit      mllama     unsloth/Llama-3.2-90B-Vision-Instruct            131072.0          131072.0                       131072.0                    131072.0                                                                             None             NaN  None\n",
      "                        unsloth/Llama-3.3-70B-Instruct-bnb-4bit       llama         meta-llama/Llama-3.3-70B-Instruct             65536.0           65536.0                        65536.0                    131072.0 {'factor': 8.0, 'high_freq_factor': 4.0, 'low_freq_factor': 1.0, 'original_ma...             NaN  None\n",
      "                               unsloth/llava-1.5-7b-hf-bnb-4bit       llava                  llava-hf/llava-1.5-7b-hf                 NaN               NaN                            NaN                         NaN                                                                             None             NaN  None\n",
      "                      unsloth/llava-v1.6-mistral-7b-hf-bnb-4bit  llava_next         llava-hf/llava-v1.6-mistral-7b-hf                 NaN               NaN                            NaN                         NaN                                                                             None             NaN  None\n",
      "                          unsloth/Magistral-Small-2506-bnb-4bit     mistral                                   mistral             40960.0           40960.0                        40960.0                     40960.0                                                                             None             NaN  None\n",
      "                  unsloth/Magistral-Small-2506-unsloth-bnb-4bit     mistral                                   mistral             40960.0           40960.0                        40960.0                     40960.0                                                                             None             NaN  None\n",
      "                          unsloth/Magistral-Small-2509-bnb-4bit    mistral3                                  mistral3            131072.0          131072.0                       131072.0                    131072.0                                                                             None             NaN  None\n",
      "                  unsloth/Magistral-Small-2509-unsloth-bnb-4bit    mistral3                                  mistral3            131072.0          131072.0                       131072.0                    131072.0                                                                             None             NaN  None\n",
      "                  unsloth/medgemma-27b-text-it-unsloth-bnb-4bit gemma3_text                               gemma3_text            131072.0          131072.0                       131072.0                    131072.0                                           {'factor': 8.0, 'rope_type': 'linear'}          1024.0  None\n",
      "                                unsloth/medgemma-4b-it-bnb-4bit        None                                      None                 NaN               NaN                            NaN                         NaN                                                                             None             NaN  None\n",
      "                        unsloth/medgemma-4b-it-unsloth-bnb-4bit        None                                      None                 NaN               NaN                            NaN                         NaN                                                                             None             NaN  None\n",
      "                           unsloth/Meta-Llama-3.1-405B-bnb-4bit        None                                      None                 NaN               NaN                            NaN                         NaN                                                                             None             NaN  None\n",
      "                  unsloth/Meta-Llama-3.1-405B-Instruct-bnb-4bit        None                                      None                 NaN               NaN                            NaN                         NaN                                                                             None             NaN  None\n",
      "                            unsloth/Meta-Llama-3.1-70B-bnb-4bit        None                                      None                 NaN               NaN                            NaN                         NaN                                                                             None             NaN  None\n",
      "                   unsloth/Meta-Llama-3.1-70B-Instruct-bnb-4bit        None                                      None                 NaN               NaN                            NaN                         NaN                                                                             None             NaN  None\n",
      "                             unsloth/Meta-Llama-3.1-8B-bnb-4bit        None                                      None                 NaN               NaN                            NaN                         NaN                                                                             None             NaN  None\n",
      "                    unsloth/Meta-Llama-3.1-8B-Instruct-bnb-4bit       llama     meta-llama/meta-Llama-3.1-8B-Instruct             65536.0           65536.0                        65536.0                    131072.0 {'factor': 8.0, 'high_freq_factor': 4.0, 'low_freq_factor': 1.0, 'original_ma...             NaN  None\n",
      "            unsloth/Meta-Llama-3.1-8B-Instruct-unsloth-bnb-4bit        None                                      None                 NaN               NaN                            NaN                         NaN                                                                             None             NaN  None\n",
      "                     unsloth/meta-Llama-3.1-8B-unsloth-bnb-4bit        None                                      None                 NaN               NaN                            NaN                         NaN                                                                             None             NaN  None\n",
      "                                    unsloth/mistral-7b-bnb-4bit        None                                      None                 NaN               NaN                            NaN                         NaN                                                                             None             NaN  None\n",
      "                      unsloth/mistral-7b-instruct-v0.1-bnb-4bit        None                                      None                 NaN               NaN                            NaN                         NaN                                                                             None             NaN  None\n",
      "                      unsloth/mistral-7b-instruct-v0.2-bnb-4bit     mistral          unsloth/Mistral-7B-Instruct-v0.2             32768.0           32768.0                        32768.0                         NaN                                                                             None             NaN  None\n",
      "                      unsloth/mistral-7b-instruct-v0.3-bnb-4bit        None                                      None                 NaN               NaN                            NaN                         NaN                                                                             None             NaN  None\n",
      "                               unsloth/mistral-7b-v0.2-bnb-4bit        None                                      None                 NaN               NaN                            NaN                         NaN                                                                             None             NaN  None\n",
      "                               unsloth/mistral-7b-v0.3-bnb-4bit        None                                      None                 NaN               NaN                            NaN                         NaN                                                                             None             NaN  None\n",
      "                   unsloth/Mistral-Large-Instruct-2407-bnb-4bit        None                                      None                 NaN               NaN                            NaN                         NaN                                                                             None             NaN  None\n",
      "                        unsloth/Mistral-Nemo-Base-2407-bnb-4bit        None                                      None                 NaN               NaN                            NaN                         NaN                                                                             None             NaN  None\n",
      "                    unsloth/Mistral-Nemo-Instruct-2407-bnb-4bit        None                                      None                 NaN               NaN                            NaN                         NaN                                                                             None             NaN  None\n",
      "                   unsloth/Mistral-Small-24B-Base-2501-bnb-4bit        None                                      None                 NaN               NaN                            NaN                         NaN                                                                             None             NaN  None\n",
      "           unsloth/Mistral-Small-24B-Base-2501-unsloth-bnb-4bit        None                                      None                 NaN               NaN                            NaN                         NaN                                                                             None             NaN  None\n",
      "               unsloth/Mistral-Small-24B-Instruct-2501-bnb-4bit        None                                      None                 NaN               NaN                            NaN                         NaN                                                                             None             NaN  None\n",
      "       unsloth/Mistral-Small-24B-Instruct-2501-unsloth-bnb-4bit        None                                      None                 NaN               NaN                            NaN                         NaN                                                                             None             NaN  None\n",
      "                   unsloth/Mistral-Small-Instruct-2409-bnb-4bit        None                                      None                 NaN               NaN                            NaN                         NaN                                                                             None             NaN  None\n",
      "                       unsloth/OLMo-2-0425-1B-Instruct-bnb-4bit        None                                      None                 NaN               NaN                            NaN                         NaN                                                                             None             NaN  None\n",
      "               unsloth/OLMo-2-0425-1B-Instruct-unsloth-bnb-4bit        None                                      None                 NaN               NaN                            NaN                         NaN                                                                             None             NaN  None\n",
      "                     unsloth/OpenHermes-2.5-Mistral-7B-bnb-4bit        None                                      None                 NaN               NaN                            NaN                         NaN                                                                             None             NaN  None\n",
      "                      unsloth/Phi-3-medium-4k-instruct-bnb-4bit        None                                      None                 NaN               NaN                            NaN                         NaN                                                                             None             NaN  None\n",
      "                        unsloth/Phi-3-mini-4k-instruct-bnb-4bit        None                                      None                 NaN               NaN                            NaN                         NaN                                                                             None             NaN  None\n",
      "                     unsloth/Phi-3-mini-4k-instruct-v0-bnb-4bit        None                                      None                 NaN               NaN                            NaN                         NaN                                                                             None             NaN  None\n",
      "                         unsloth/Phi-3.5-mini-instruct-bnb-4bit        None                                      None                 NaN               NaN                            NaN                         NaN                                                                             None             NaN  None\n",
      "                                         unsloth/phi-4-bnb-4bit        None                                      None                 NaN               NaN                            NaN                         NaN                                                                             None             NaN  None\n",
      "                           unsloth/Phi-4-mini-instruct-bnb-4bit        None                                      None                 NaN               NaN                            NaN                         NaN                                                                             None             NaN  None\n",
      "                   unsloth/Phi-4-mini-instruct-unsloth-bnb-4bit        None                                      None                 NaN               NaN                            NaN                         NaN                                                                             None             NaN  None\n",
      "                          unsloth/Phi-4-mini-reasoning-bnb-4bit        None                                      None                 NaN               NaN                            NaN                         NaN                                                                             None             NaN  None\n",
      "                  unsloth/Phi-4-mini-reasoning-unsloth-bnb-4bit        None                                      None                 NaN               NaN                            NaN                         NaN                                                                             None             NaN  None\n",
      "                               unsloth/phi-4-reasoning-bnb-4bit        None                                      None                 NaN               NaN                            NaN                         NaN                                                                             None             NaN  None\n",
      "                          unsloth/Phi-4-reasoning-plus-bnb-4bit        None                                      None                 NaN               NaN                            NaN                         NaN                                                                             None             NaN  None\n",
      "                  unsloth/Phi-4-reasoning-plus-unsloth-bnb-4bit        None                                      None                 NaN               NaN                            NaN                         NaN                                                                             None             NaN  None\n",
      "                       unsloth/phi-4-reasoning-unsloth-bnb-4bit        None                                      None                 NaN               NaN                            NaN                         NaN                                                                             None             NaN  None\n",
      "                                 unsloth/phi-4-unsloth-bnb-4bit        None                                      None                 NaN               NaN                            NaN                         NaN                                                                             None             NaN  None\n",
      "                              unsloth/Pixtral-12B-2409-bnb-4bit        None                                      None                 NaN               NaN                            NaN                         NaN                                                                             None             NaN  None\n",
      "                      unsloth/Pixtral-12B-2409-unsloth-bnb-4bit        None                                      None                 NaN               NaN                            NaN                         NaN                                                                             None             NaN  None\n",
      "                         unsloth/Pixtral-12B-Base-2409-bnb-4bit        None                                      None                 NaN               NaN                            NaN                         NaN                                                                             None             NaN  None\n",
      "                                    unsloth/Qwen2-0.5B-bnb-4bit        None                                      None                 NaN               NaN                            NaN                         NaN                                                                             None             NaN  None\n",
      "                           unsloth/Qwen2-0.5B-Instruct-bnb-4bit        None                                      None                 NaN               NaN                            NaN                         NaN                                                                             None             NaN  None\n",
      "                                    unsloth/Qwen2-1.5B-bnb-4bit        None                                      None                 NaN               NaN                            NaN                         NaN                                                                             None             NaN  None\n",
      "                           unsloth/Qwen2-1.5B-Instruct-bnb-4bit        None                                      None                 NaN               NaN                            NaN                         NaN                                                                             None             NaN  None\n",
      "                                     unsloth/Qwen2-72B-bnb-4bit        None                                      None                 NaN               NaN                            NaN                         NaN                                                                             None             NaN  None\n",
      "                            unsloth/Qwen2-72B-Instruct-bnb-4bit        None                                      None                 NaN               NaN                            NaN                         NaN                                                                             None             NaN  None\n",
      "                                      unsloth/Qwen2-7B-bnb-4bit        None                                      None                 NaN               NaN                            NaN                         NaN                                                                             None             NaN  None\n",
      "                             unsloth/Qwen2-7B-Instruct-bnb-4bit        None                                      None                 NaN               NaN                            NaN                         NaN                                                                             None             NaN  None\n",
      "                          unsloth/Qwen2-VL-2B-Instruct-bnb-4bit        None                                      None                 NaN               NaN                            NaN                         NaN                                                                             None             NaN  None\n",
      "                  unsloth/Qwen2-VL-2B-Instruct-unsloth-bnb-4bit        None                                      None                 NaN               NaN                            NaN                         NaN                                                                             None             NaN  None\n",
      "                                  unsloth/Qwen2-VL-72B-bnb-4bit        None                                      None                 NaN               NaN                            NaN                         NaN                                                                             None             NaN  None\n",
      "                         unsloth/Qwen2-VL-72B-Instruct-bnb-4bit        None                                      None                 NaN               NaN                            NaN                         NaN                                                                             None             NaN  None\n",
      "                                   unsloth/Qwen2-VL-7B-bnb-4bit        None                                      None                 NaN               NaN                            NaN                         NaN                                                                             None             NaN  None\n",
      "                          unsloth/Qwen2-VL-7B-Instruct-bnb-4bit        None                                      None                 NaN               NaN                            NaN                         NaN                                                                             None             NaN  None\n",
      "                  unsloth/Qwen2-VL-7B-Instruct-unsloth-bnb-4bit        None                                      None                 NaN               NaN                            NaN                         NaN                                                                             None             NaN  None\n",
      "                                  unsloth/Qwen2.5-0.5B-bnb-4bit        None                                      None                 NaN               NaN                            NaN                         NaN                                                                             None             NaN  None\n",
      "                         unsloth/Qwen2.5-0.5B-Instruct-bnb-4bit        None                                      None                 NaN               NaN                            NaN                         NaN                                                                             None             NaN  None\n",
      "                 unsloth/Qwen2.5-0.5B-Instruct-unsloth-bnb-4bit        None                                      None                 NaN               NaN                            NaN                         NaN                                                                             None             NaN  None\n",
      "                          unsloth/Qwen2.5-0.5B-unsloth-bnb-4bit        None                                      None                 NaN               NaN                            NaN                         NaN                                                                             None             NaN  None\n",
      "                                  unsloth/Qwen2.5-1.5B-bnb-4bit        None                                      None                 NaN               NaN                            NaN                         NaN                                                                             None             NaN  None\n",
      "                         unsloth/Qwen2.5-1.5B-Instruct-bnb-4bit        None                                      None                 NaN               NaN                            NaN                         NaN                                                                             None             NaN  None\n",
      "                 unsloth/Qwen2.5-1.5B-Instruct-unsloth-bnb-4bit        None                                      None                 NaN               NaN                            NaN                         NaN                                                                             None             NaN  None\n",
      "                          unsloth/Qwen2.5-1.5B-unsloth-bnb-4bit        None                                      None                 NaN               NaN                            NaN                         NaN                                                                             None             NaN  None\n",
      "                                   unsloth/Qwen2.5-14B-bnb-4bit        None                                      None                 NaN               NaN                            NaN                         NaN                                                                             None             NaN  None\n",
      "                       unsloth/Qwen2.5-14B-Instruct-1M-bnb-4bit        None                                      None                 NaN               NaN                            NaN                         NaN                                                                             None             NaN  None\n",
      "               unsloth/Qwen2.5-14B-Instruct-1M-unsloth-bnb-4bit        None                                      None                 NaN               NaN                            NaN                         NaN                                                                             None             NaN  None\n",
      "                          unsloth/Qwen2.5-14B-Instruct-bnb-4bit        None                                      None                 NaN               NaN                            NaN                         NaN                                                                             None             NaN  None\n",
      "                  unsloth/Qwen2.5-14B-Instruct-unsloth-bnb-4bit        None                                      None                 NaN               NaN                            NaN                         NaN                                                                             None             NaN  None\n",
      "                           unsloth/Qwen2.5-14B-unsloth-bnb-4bit        None                                      None                 NaN               NaN                            NaN                         NaN                                                                             None             NaN  None\n",
      "                                   unsloth/Qwen2.5-32B-bnb-4bit        None                                      None                 NaN               NaN                            NaN                         NaN                                                                             None             NaN  None\n",
      "                          unsloth/Qwen2.5-32B-Instruct-bnb-4bit        None                                      None                 NaN               NaN                            NaN                         NaN                                                                             None             NaN  None\n",
      "                                    unsloth/Qwen2.5-3B-bnb-4bit        None                                      None                 NaN               NaN                            NaN                         NaN                                                                             None             NaN  None\n",
      "                           unsloth/Qwen2.5-3B-Instruct-bnb-4bit        None                                      None                 NaN               NaN                            NaN                         NaN                                                                             None             NaN  None\n",
      "                   unsloth/Qwen2.5-3B-Instruct-unsloth-bnb-4bit        None                                      None                 NaN               NaN                            NaN                         NaN                                                                             None             NaN  None\n",
      "                            unsloth/Qwen2.5-3B-unsloth-bnb-4bit        None                                      None                 NaN               NaN                            NaN                         NaN                                                                             None             NaN  None\n",
      "                                   unsloth/Qwen2.5-72B-bnb-4bit        None                                      None                 NaN               NaN                            NaN                         NaN                                                                             None             NaN  None\n",
      "                          unsloth/Qwen2.5-72B-Instruct-bnb-4bit        None                                      None                 NaN               NaN                            NaN                         NaN                                                                             None             NaN  None\n",
      "                                    unsloth/Qwen2.5-7B-bnb-4bit        None                                      None                 NaN               NaN                            NaN                         NaN                                                                             None             NaN  None\n",
      "                        unsloth/Qwen2.5-7B-Instruct-1M-bnb-4bit        None                                      None                 NaN               NaN                            NaN                         NaN                                                                             None             NaN  None\n",
      "                unsloth/Qwen2.5-7B-Instruct-1M-unsloth-bnb-4bit        None                                      None                 NaN               NaN                            NaN                         NaN                                                                             None             NaN  None\n",
      "                           unsloth/Qwen2.5-7B-Instruct-bnb-4bit        None                                      None                 NaN               NaN                            NaN                         NaN                                                                             None             NaN  None\n",
      "                   unsloth/Qwen2.5-7B-Instruct-unsloth-bnb-4bit        None                                      None                 NaN               NaN                            NaN                         NaN                                                                             None             NaN  None\n",
      "                            unsloth/Qwen2.5-7B-unsloth-bnb-4bit        None                                      None                 NaN               NaN                            NaN                         NaN                                                                             None             NaN  None\n",
      "                            unsloth/Qwen2.5-Coder-0.5B-bnb-4bit        None                                      None                 NaN               NaN                            NaN                         NaN                                                                             None             NaN  None\n",
      "                   unsloth/Qwen2.5-Coder-0.5B-Instruct-bnb-4bit        None                                      None                 NaN               NaN                            NaN                         NaN                                                                             None             NaN  None\n",
      "                            unsloth/Qwen2.5-Coder-1.5B-bnb-4bit        None                                      None                 NaN               NaN                            NaN                         NaN                                                                             None             NaN  None\n",
      "                   unsloth/Qwen2.5-Coder-1.5B-Instruct-bnb-4bit        None                                      None                 NaN               NaN                            NaN                         NaN                                                                             None             NaN  None\n",
      "                             unsloth/Qwen2.5-Coder-14B-bnb-4bit        None                                      None                 NaN               NaN                            NaN                         NaN                                                                             None             NaN  None\n",
      "                    unsloth/Qwen2.5-Coder-14B-Instruct-bnb-4bit        None                                      None                 NaN               NaN                            NaN                         NaN                                                                             None             NaN  None\n",
      "                             unsloth/Qwen2.5-Coder-32B-bnb-4bit        None                                      None                 NaN               NaN                            NaN                         NaN                                                                             None             NaN  None\n",
      "                    unsloth/Qwen2.5-Coder-32B-Instruct-bnb-4bit        None                                      None                 NaN               NaN                            NaN                         NaN                                                                             None             NaN  None\n",
      "                              unsloth/Qwen2.5-Coder-3B-bnb-4bit        None                                      None                 NaN               NaN                            NaN                         NaN                                                                             None             NaN  None\n",
      "                     unsloth/Qwen2.5-Coder-3B-Instruct-bnb-4bit        None                                      None                 NaN               NaN                            NaN                         NaN                                                                             None             NaN  None\n",
      "                              unsloth/Qwen2.5-Coder-7B-bnb-4bit        None                                      None                 NaN               NaN                            NaN                         NaN                                                                             None             NaN  None\n",
      "                     unsloth/Qwen2.5-Coder-7B-Instruct-bnb-4bit        None                                      None                 NaN               NaN                            NaN                         NaN                                                                             None             NaN  None\n",
      "                             unsloth/Qwen2.5-Math-1.5B-bnb-4bit        None                                      None                 NaN               NaN                            NaN                         NaN                                                                             None             NaN  None\n",
      "                    unsloth/Qwen2.5-Math-1.5B-Instruct-bnb-4bit        None                                      None                 NaN               NaN                            NaN                         NaN                                                                             None             NaN  None\n",
      "                              unsloth/Qwen2.5-Math-72B-bnb-4bit        None                                      None                 NaN               NaN                            NaN                         NaN                                                                             None             NaN  None\n",
      "                     unsloth/Qwen2.5-Math-72B-Instruct-bnb-4bit        None                                      None                 NaN               NaN                            NaN                         NaN                                                                             None             NaN  None\n",
      "                               unsloth/Qwen2.5-Math-7B-bnb-4bit        None                                      None                 NaN               NaN                            NaN                         NaN                                                                             None             NaN  None\n",
      "                      unsloth/Qwen2.5-Math-7B-Instruct-bnb-4bit        None                                      None                 NaN               NaN                            NaN                         NaN                                                                             None             NaN  None\n",
      "                       unsloth/Qwen2.5-VL-32B-Instruct-bnb-4bit        None                                      None                 NaN               NaN                            NaN                         NaN                                                                             None             NaN  None\n",
      "               unsloth/Qwen2.5-VL-32B-Instruct-unsloth-bnb-4bit        None                                      None                 NaN               NaN                            NaN                         NaN                                                                             None             NaN  None\n",
      "                        unsloth/Qwen2.5-VL-3B-Instruct-bnb-4bit        None                                      None                 NaN               NaN                            NaN                         NaN                                                                             None             NaN  None\n",
      "                unsloth/Qwen2.5-VL-3B-Instruct-unsloth-bnb-4bit        None                                      None                 NaN               NaN                            NaN                         NaN                                                                             None             NaN  None\n",
      "                       unsloth/Qwen2.5-VL-72B-Instruct-bnb-4bit        None                                      None                 NaN               NaN                            NaN                         NaN                                                                             None             NaN  None\n",
      "               unsloth/Qwen2.5-VL-72B-Instruct-unsloth-bnb-4bit        None                                      None                 NaN               NaN                            NaN                         NaN                                                                             None             NaN  None\n",
      "                        unsloth/Qwen2.5-VL-7B-Instruct-bnb-4bit        None                                      None                 NaN               NaN                            NaN                         NaN                                                                             None             NaN  None\n",
      "                unsloth/Qwen2.5-VL-7B-Instruct-unsloth-bnb-4bit        None                                      None                 NaN               NaN                            NaN                         NaN                                                                             None             NaN  None\n",
      "                               unsloth/Qwen3-0.6B-Base-bnb-4bit        None                                      None                 NaN               NaN                            NaN                         NaN                                                                             None             NaN  None\n",
      "                       unsloth/Qwen3-0.6B-Base-unsloth-bnb-4bit        None                                      None                 NaN               NaN                            NaN                         NaN                                                                             None             NaN  None\n",
      "                                    unsloth/Qwen3-0.6B-bnb-4bit        None                                      None                 NaN               NaN                            NaN                         NaN                                                                             None             NaN  None\n",
      "                            unsloth/Qwen3-0.6B-unsloth-bnb-4bit        None                                      None                 NaN               NaN                            NaN                         NaN                                                                             None             NaN  None\n",
      "                               unsloth/Qwen3-1.7B-Base-bnb-4bit        None                                      None                 NaN               NaN                            NaN                         NaN                                                                             None             NaN  None\n",
      "                       unsloth/Qwen3-1.7B-Base-unsloth-bnb-4bit        None                                      None                 NaN               NaN                            NaN                         NaN                                                                             None             NaN  None\n",
      "                                    unsloth/Qwen3-1.7B-bnb-4bit        None                                      None                 NaN               NaN                            NaN                         NaN                                                                             None             NaN  None\n",
      "                            unsloth/Qwen3-1.7B-unsloth-bnb-4bit        None                                      None                 NaN               NaN                            NaN                         NaN                                                                             None             NaN  None\n",
      "                                unsloth/Qwen3-14B-Base-bnb-4bit        None                                      None                 NaN               NaN                            NaN                         NaN                                                                             None             NaN  None\n",
      "                        unsloth/Qwen3-14B-Base-unsloth-bnb-4bit        None                                      None                 NaN               NaN                            NaN                         NaN                                                                             None             NaN  None\n",
      "                                     unsloth/Qwen3-14B-bnb-4bit        None                                      None                 NaN               NaN                            NaN                         NaN                                                                             None             NaN  None\n",
      "                             unsloth/Qwen3-14B-unsloth-bnb-4bit        None                                      None                 NaN               NaN                            NaN                         NaN                                                                             None             NaN  None\n",
      "                            unsloth/Qwen3-30B-A3B-Base-bnb-4bit        None                                      None                 NaN               NaN                            NaN                         NaN                                                                             None             NaN  None\n",
      "                                 unsloth/Qwen3-30B-A3B-bnb-4bit        None                                      None                 NaN               NaN                            NaN                         NaN                                                                             None             NaN  None\n",
      "                                     unsloth/Qwen3-32B-bnb-4bit        None                                      None                 NaN               NaN                            NaN                         NaN                                                                             None             NaN  None\n",
      "                             unsloth/Qwen3-32B-unsloth-bnb-4bit        None                                      None                 NaN               NaN                            NaN                         NaN                                                                             None             NaN  None\n",
      "                                 unsloth/Qwen3-4B-Base-bnb-4bit        None                                      None                 NaN               NaN                            NaN                         NaN                                                                             None             NaN  None\n",
      "                         unsloth/Qwen3-4B-Base-unsloth-bnb-4bit        None                                      None                 NaN               NaN                            NaN                         NaN                                                                             None             NaN  None\n",
      "                                      unsloth/Qwen3-4B-bnb-4bit        None                                      None                 NaN               NaN                            NaN                         NaN                                                                             None             NaN  None\n",
      "                        unsloth/Qwen3-4B-Instruct-2507-bnb-4bit        None                                      None                 NaN               NaN                            NaN                         NaN                                                                             None             NaN  None\n",
      "                unsloth/Qwen3-4B-Instruct-2507-unsloth-bnb-4bit        None                                      None                 NaN               NaN                            NaN                         NaN                                                                             None             NaN  None\n",
      "                        unsloth/Qwen3-4B-Thinking-2507-bnb-4bit        None                                      None                 NaN               NaN                            NaN                         NaN                                                                             None             NaN  None\n",
      "                unsloth/Qwen3-4B-Thinking-2507-unsloth-bnb-4bit        None                                      None                 NaN               NaN                            NaN                         NaN                                                                             None             NaN  None\n",
      "                              unsloth/Qwen3-4B-unsloth-bnb-4bit        None                                      None                 NaN               NaN                            NaN                         NaN                                                                             None             NaN  None\n",
      "                                 unsloth/Qwen3-8B-Base-bnb-4bit        None                                      None                 NaN               NaN                            NaN                         NaN                                                                             None             NaN  None\n",
      "                         unsloth/Qwen3-8B-Base-unsloth-bnb-4bit        None                                      None                 NaN               NaN                            NaN                         NaN                                                                             None             NaN  None\n",
      "                                      unsloth/Qwen3-8B-bnb-4bit        None                                      None                 NaN               NaN                            NaN                         NaN                                                                             None             NaN  None\n",
      "                              unsloth/Qwen3-8B-unsloth-bnb-4bit        None                                      None                 NaN               NaN                            NaN                         NaN                                                                             None             NaN  None\n",
      "                   unsloth/Qwen3-Next-80B-A3B-Instruct-bnb-4bit        None                                      None                 NaN               NaN                            NaN                         NaN                                                                             None             NaN  None\n",
      "             unsloth/r1-1776-distill-llama-70b-unsloth-bnb-4bit        None                                      None                 NaN               NaN                            NaN                         NaN                                                                             None             NaN  None\n",
      "                      unsloth/Reflection-Llama-3.1-70B-bnb-4bit        None                                      None                 NaN               NaN                            NaN                         NaN                                                                             None             NaN  None\n",
      "                        unsloth/Seed-Coder-8B-Instruct-bnb-4bit        None                                      None                 NaN               NaN                            NaN                         NaN                                                                             None             NaN  None\n",
      "                unsloth/Seed-Coder-8B-Instruct-unsloth-bnb-4bit        None                                      None                 NaN               NaN                            NaN                         NaN                                                                             None             NaN  None\n",
      "                       unsloth/Seed-Coder-8B-Reasoning-bnb-4bit        None                                      None                 NaN               NaN                            NaN                         NaN                                                                             None             NaN  None\n",
      "               unsloth/Seed-Coder-8B-Reasoning-unsloth-bnb-4bit        None                                      None                 NaN               NaN                            NaN                         NaN                                                                             None             NaN  None\n",
      "                                   unsloth/SmolLM-1.7B-bnb-4bit        None                                      None                 NaN               NaN                            NaN                         NaN                                                                             None             NaN  None\n",
      "                          unsloth/SmolLM-1.7B-Instruct-bnb-4bit        None                                      None                 NaN               NaN                            NaN                         NaN                                                                             None             NaN  None\n",
      "                                   unsloth/SmolLM-135M-bnb-4bit        None                                      None                 NaN               NaN                            NaN                         NaN                                                                             None             NaN  None\n",
      "                          unsloth/SmolLM-135M-Instruct-bnb-4bit        None                                      None                 NaN               NaN                            NaN                         NaN                                                                             None             NaN  None\n",
      "                                   unsloth/SmolLM-360M-bnb-4bit        None                                      None                 NaN               NaN                            NaN                         NaN                                                                             None             NaN  None\n",
      "                          unsloth/SmolLM-360M-Instruct-bnb-4bit        None                                      None                 NaN               NaN                            NaN                         NaN                                                                             None             NaN  None\n",
      "                                  unsloth/SmolLM2-1.7B-bnb-4bit        None                                      None                 NaN               NaN                            NaN                         NaN                                                                             None             NaN  None\n",
      "                         unsloth/SmolLM2-1.7B-Instruct-bnb-4bit        None                                      None                 NaN               NaN                            NaN                         NaN                                                                             None             NaN  None\n",
      "                                  unsloth/SmolLM2-135M-bnb-4bit        None                                      None                 NaN               NaN                            NaN                         NaN                                                                             None             NaN  None\n",
      "                         unsloth/SmolLM2-135M-Instruct-bnb-4bit        None                                      None                 NaN               NaN                            NaN                         NaN                                                                             None             NaN  None\n",
      "                                  unsloth/SmolLM2-360M-bnb-4bit        None                                      None                 NaN               NaN                            NaN                         NaN                                                                             None             NaN  None\n",
      "                         unsloth/SmolLM2-360M-Instruct-bnb-4bit        None                                      None                 NaN               NaN                            NaN                         NaN                                                                             None             NaN  None\n",
      "                               unsloth/SmolLM3-3B-Base-bnb-4bit        None                                      None                 NaN               NaN                            NaN                         NaN                                                                             None             NaN  None\n",
      "                       unsloth/SmolLM3-3B-Base-unsloth-bnb-4bit        None                                      None                 NaN               NaN                            NaN                         NaN                                                                             None             NaN  None\n",
      "                                    unsloth/SmolLM3-3B-bnb-4bit        None                                      None                 NaN               NaN                            NaN                         NaN                                                                             None             NaN  None\n",
      "                            unsloth/SmolLM3-3B-unsloth-bnb-4bit        None                                      None                 NaN               NaN                            NaN                         NaN                                                                             None             NaN  None\n",
      "                                     unsloth/tinyllama-bnb-4bit        None                                      None                 NaN               NaN                            NaN                         NaN                                                                             None             NaN  None\n",
      "                                unsloth/tinyllama-chat-bnb-4bit        None                                      None                 NaN               NaN                            NaN                         NaN                                                                             None             NaN  None\n",
      "                                        unsloth/yi-34b-bnb-4bit        None                                      None                 NaN               NaN                            NaN                         NaN                                                                             None             NaN  None\n",
      "                                   unsloth/yi-34b-chat-bnb-4bit        None                                      None                 NaN               NaN                            NaN                         NaN                                                                             None             NaN  None\n",
      "                                         unsloth/yi-6b-bnb-4bit        None                                      None                 NaN               NaN                            NaN                         NaN                                                                             None             NaN  None\n",
      "                                    unsloth/zephyr-sft-bnb-4bit        None                                      None                 NaN               NaN                            NaN                         NaN                                                                             None             NaN  None\n",
      "                                unsloth/aya-vision-32b-bnb-4bit        None                                      None                 NaN               NaN                            NaN                         NaN                                                                             None             NaN  None\n",
      "                        unsloth/aya-vision-32b-unsloth-bnb-4bit        None                                      None                 NaN               NaN                            NaN                         NaN                                                                             None             NaN  None\n",
      "                                 unsloth/aya-vision-8b-bnb-4bit        None                                      None                 NaN               NaN                            NaN                         NaN                                                                             None             NaN  None\n",
      "                         unsloth/aya-vision-8b-unsloth-bnb-4bit        None                                      None                 NaN               NaN                            NaN                         NaN                                                                             None             NaN  None\n",
      "                        unsloth/c4ai-command-a-03-2025-bnb-4bit        None                                      None                 NaN               NaN                            NaN                         NaN                                                                             None             NaN  None\n",
      "                unsloth/c4ai-command-a-03-2025-unsloth-bnb-4bit        None                                      None                 NaN               NaN                            NaN                         NaN                                                                             None             NaN  None\n",
      "                           unsloth/Devstral-Small-2505-bnb-4bit        None                                      None                 NaN               NaN                            NaN                         NaN                                                                             None             NaN  None\n",
      "                           unsloth/Devstral-Small-2507-bnb-4bit        None                                      None                 NaN               NaN                            NaN                         NaN                                                                             None             NaN  None\n",
      "                   unsloth/Devstral-Small-2507-unsloth-bnb-4bit        None                                      None                 NaN               NaN                            NaN                         NaN                                                                             None             NaN  None\n",
      "                       unsloth/gemma-3-12b-it-qat-int4-bnb-4bit        None                                      None                 NaN               NaN                            NaN                         NaN                                                                             None             NaN  None\n",
      "               unsloth/gemma-3-12b-it-qat-int4-unsloth-bnb-4bit        None                                      None                 NaN               NaN                            NaN                         NaN                                                                             None             NaN  None\n",
      "                              unsloth/gemma-7b-unsloth-bnb-4bit        None                                      None                 NaN               NaN                            NaN                         NaN                                                                             None             NaN  None\n",
      "                       unsloth/granite-3.2-2b-instruct-bnb-4bit        None                                      None                 NaN               NaN                            NaN                         NaN                                                                             None             NaN  None\n",
      "               unsloth/granite-3.2-2b-instruct-unsloth-bnb-4bit        None                                      None                 NaN               NaN                            NaN                         NaN                                                                             None             NaN  None\n",
      "                       unsloth/granite-3.2-8b-instruct-bnb-4bit        None                                      None                 NaN               NaN                            NaN                         NaN                                                                             None             NaN  None\n",
      "               unsloth/granite-3.2-8b-instruct-unsloth-bnb-4bit        None                                      None                 NaN               NaN                            NaN                         NaN                                                                             None             NaN  None\n",
      "                         unsloth/granite-vision-3.2-2b-bnb-4bit        None                                      None                 NaN               NaN                            NaN                         NaN                                                                             None             NaN  None\n",
      "                 unsloth/granite-vision-3.2-2b-unsloth-bnb-4bit        None                                      None                 NaN               NaN                            NaN                         NaN                                                                             None             NaN  None\n",
      "                  unsloth/Llama-3.2-90B-Vision-unsloth-bnb-4bit        None                                      None                 NaN               NaN                            NaN                         NaN                                                                             None             NaN  None\n",
      "        unsloth/Llama-4-Scout-17B-16E-Instruct-unsloth-bnb-4bit        None                                      None                 NaN               NaN                            NaN                         NaN                                                                             None             NaN  None\n",
      "unsloth/Llama-4-Scout-17B-16E-Instruct-unsloth-dynamic-bnb-4bit        None                                      None                 NaN               NaN                            NaN                         NaN                                                                             None             NaN  None\n",
      "                 unsloth/Llama-4-Scout-17B-16E-unsloth-bnb-4bit        None                                      None                 NaN               NaN                            NaN                         NaN                                                                             None             NaN  None\n",
      "         unsloth/Llama-4-Scout-17B-16E-unsloth-dynamic-bnb-4bit        None                                      None                 NaN               NaN                            NaN                         NaN                                                                             None             NaN  None\n",
      "                          unsloth/Magistral-Small-2507-bnb-4bit        None                                      None                 NaN               NaN                            NaN                         NaN                                                                             None             NaN  None\n",
      "                  unsloth/Magistral-Small-2507-unsloth-bnb-4bit        None                                      None                 NaN               NaN                            NaN                         NaN                                                                             None             NaN  None\n",
      "                          unsloth/medgemma-27b-text-it-bnb-4bit        None                                      None                 NaN               NaN                            NaN                         NaN                                                                             None             NaN  None\n",
      "               unsloth/Mistral-Small-3.1-24B-Base-2503-bnb-4bit        None                                      None                 NaN               NaN                            NaN                         NaN                                                                             None             NaN  None\n",
      "       unsloth/Mistral-Small-3.1-24B-Base-2503-unsloth-bnb-4bit        None                                      None                 NaN               NaN                            NaN                         NaN                                                                             None             NaN  None\n",
      "           unsloth/Mistral-Small-3.1-24B-Instruct-2503-bnb-4bit        None                                      None                 NaN               NaN                            NaN                         NaN                                                                             None             NaN  None\n",
      "   unsloth/Mistral-Small-3.1-24B-Instruct-2503-unsloth-bnb-4bit        None                                      None                 NaN               NaN                            NaN                         NaN                                                                             None             NaN  None\n",
      "           unsloth/Mistral-Small-3.2-24B-Instruct-2506-bnb-4bit        None                                      None                 NaN               NaN                            NaN                         NaN                                                                             None             NaN  None\n",
      "   unsloth/Mistral-Small-3.2-24B-Instruct-2506-unsloth-bnb-4bit        None                                      None                 NaN               NaN                            NaN                         NaN                                                                             None             NaN  None\n",
      "                    unsloth/Mixtral-8x7B-Instruct-v0.1-bnb-4bit        None                                      None                 NaN               NaN                            NaN                         NaN                                                                             None             NaN  None\n",
      "            unsloth/Mixtral-8x7B-Instruct-v0.1-unsloth-bnb-4bit        None                                      None                 NaN               NaN                            NaN                         NaN                                                                             None             NaN  None\n",
      "                             unsloth/Mixtral-8x7B-v0.1-bnb-4bit        None                                      None                 NaN               NaN                            NaN                         NaN                                                                             None             NaN  None\n",
      "                     unsloth/Mixtral-8x7B-v0.1-unsloth-bnb-4bit        None                                      None                 NaN               NaN                            NaN                         NaN                                                                             None             NaN  None\n",
      "                      unsloth/OLMo-2-0325-32B-Instruct-bnb-4bit        None                                      None                 NaN               NaN                            NaN                         NaN                                                                             None             NaN  None\n",
      "              unsloth/OLMo-2-0325-32B-Instruct-unsloth-bnb-4bit        None                                      None                 NaN               NaN                            NaN                         NaN                                                                             None             NaN  None\n",
      "                             unsloth/orpheus-3b-0.1-ft-bnb-4bit        None                                      None                 NaN               NaN                            NaN                         NaN                                                                             None             NaN  None\n",
      "                     unsloth/orpheus-3b-0.1-ft-unsloth-bnb-4bit        None                                      None                 NaN               NaN                            NaN                         NaN                                                                             None             NaN  None\n",
      "                     unsloth/orpheus-3b-0.1-pretrained-bnb-4bit        None                                      None                 NaN               NaN                            NaN                         NaN                                                                             None             NaN  None\n",
      "             unsloth/orpheus-3b-0.1-pretrained-unsloth-bnb-4bit        None                                      None                 NaN               NaN                            NaN                         NaN                                                                             None             NaN  None\n",
      "                               unsloth/QVQ-72B-Preview-bnb-4bit        None                                      None                 NaN               NaN                            NaN                         NaN                                                                             None             NaN  None\n",
      "                                   unsloth/Qwen2-VL-2B-bnb-4bit        None                                      None                 NaN               NaN                            NaN                         NaN                                                                             None             NaN  None\n",
      "                                   unsloth/Qwen2.5-0.5-bnb-4bit        None                                      None                 NaN               NaN                            NaN                         NaN                                                                             None             NaN  None\n",
      "                            unsloth/Qwen3-30B-A3B-128K-bnb-4bit        None                                      None                 NaN               NaN                            NaN                         NaN                                                                             None             NaN  None\n",
      "                                       unsloth/QwQ-32B-bnb-4bit        None                                      None                 NaN               NaN                            NaN                         NaN                                                                             None             NaN  None\n",
      "                               unsloth/QwQ-32B-Preview-bnb-4bit        None                                      None                 NaN               NaN                            NaN                         NaN                                                                             None             NaN  None\n",
      "                       unsloth/QwQ-32B-Preview-unsloth-bnb-4bit        None                                      None                 NaN               NaN                            NaN                         NaN                                                                             None             NaN  None\n",
      "                               unsloth/QwQ-32B-unsloth-bnb-4bit        None                                      None                 NaN               NaN                            NaN                         NaN                                                                             None             NaN  None\n",
      "                          unsloth/reka-flash-3-unsloth-bnb-4bit        None                                      None                 NaN               NaN                            NaN                         NaN                                                                             None             NaN  None\n",
      "                                     unsloth/Yi-1.5-6B-bnb-4bit        None                                      None                 NaN               NaN                            NaN                         NaN                                                                             None             NaN  None\n",
      "\n",
      "Saved: C:\\Users\\huang\\unsloth_4bit_context_windows.csv\n"
     ]
    },
    {
     "name": "stderr",
     "output_type": "stream",
     "text": [
      "\n"
     ]
    }
   ],
   "source": [
    "#!/usr/bin/env python3\n",
    "# -*- coding: utf-8 -*-\n",
    "\n",
    "from typing import Optional\n",
    "from huggingface_hub import hf_hub_download, HfApi\n",
    "# ---- Compat shim for HfHubHTTPError across hub versions ----\n",
    "try:\n",
    "    from huggingface_hub.errors import HfHubHTTPError  # modern versions\n",
    "except Exception:\n",
    "    try:\n",
    "        from huggingface_hub.utils import HfHubHTTPError  # older versions\n",
    "    except Exception:\n",
    "        class HfHubHTTPError(Exception):\n",
    "            pass\n",
    "# ------------------------------------------------------------\n",
    "\n",
    "import json, os\n",
    "from pathlib import Path\n",
    "from tqdm import tqdm\n",
    "import pandas as pd\n",
    "\n",
    "REPOS = [\n",
    "    \"unsloth/c4ai-command-r-08-2024-bnb-4bit\",\n",
    "    \"unsloth/c4ai-command-r-plus-08-2024-bnb-4bit\",\n",
    "    \"unsloth/codegemma-2b-bnb-4bit\",\n",
    "    \"unsloth/codegemma-7b-bnb-4bit\",\n",
    "    \"unsloth/codegemma-7b-it-bnb-4bit\",\n",
    "    \"unsloth/codellama-13b-bnb-4bit\",\n",
    "    \"unsloth/codellama-34b-bnb-4bit\",\n",
    "    \"unsloth/codellama-7b-bnb-4bit\",\n",
    "    \"unsloth/Cosmos-Reason1-7B-bnb-4bit\",\n",
    "    \"unsloth/Cosmos-Reason1-7B-unsloth-bnb-4bit\",\n",
    "    \"unsloth/DeepScaleR-1.5B-Preview-unsloth-bnb-4bit\",\n",
    "    \"unsloth/DeepSeek-Prover-V2-7B-bnb-4bit\",\n",
    "    \"unsloth/DeepSeek-Prover-V2-7B-unsloth-bnb-4bit\",\n",
    "    \"unsloth/DeepSeek-R1-0528-Qwen3-8B-bnb-4bit\",\n",
    "    \"unsloth/DeepSeek-R1-0528-Qwen3-8B-unsloth-bnb-4bit\",\n",
    "    \"unsloth/DeepSeek-R1-Distill-Llama-70B-bnb-4bit\",\n",
    "    \"unsloth/DeepSeek-R1-Distill-Llama-70B-unsloth-bnb-4bit\",\n",
    "    \"unsloth/DeepSeek-R1-Distill-Llama-8B-bnb-4bit\",\n",
    "    \"unsloth/DeepSeek-R1-Distill-Llama-8B-unsloth-bnb-4bit\",\n",
    "    \"unsloth/DeepSeek-R1-Distill-Qwen-1.5B-bnb-4bit\",\n",
    "    \"unsloth/DeepSeek-R1-Distill-Qwen-1.5B-unsloth-bnb-4bit\",\n",
    "    \"unsloth/DeepSeek-R1-Distill-Qwen-14B-bnb-4bit\",\n",
    "    \"unsloth/DeepSeek-R1-Distill-Qwen-14B-unsloth-bnb-4bit\",\n",
    "    \"unsloth/DeepSeek-R1-Distill-Qwen-32B-bnb-4bit\",\n",
    "    \"unsloth/DeepSeek-R1-Distill-Qwen-32B-unsloth-bnb-4bit\",\n",
    "    \"unsloth/DeepSeek-R1-Distill-Qwen-7B-bnb-4bit\",\n",
    "    \"unsloth/DeepSeek-R1-Distill-Qwen-7B-unsloth-bnb-4bit\",\n",
    "    \"unsloth/Devstral-Small-2505-unsloth-bnb-4bit\",\n",
    "    \"unsloth/gemma-1.1-2b-it-bnb-4bit\",\n",
    "    \"unsloth/gemma-1.1-7b-it-bnb-4bit\",\n",
    "    \"unsloth/gemma-2-27b-bnb-4bit\",\n",
    "    \"unsloth/gemma-2-27b-it-bnb-4bit\",\n",
    "    \"unsloth/gemma-2-2b-bnb-4bit\",\n",
    "    \"unsloth/gemma-2-2b-it-bnb-4bit\",\n",
    "    \"unsloth/gemma-2-9b-bnb-4bit\",\n",
    "    \"unsloth/gemma-2-9b-it-bnb-4bit\",\n",
    "    \"unsloth/gemma-2b-bnb-4bit\",\n",
    "    \"unsloth/gemma-2b-it-bnb-4bit\",\n",
    "    \"unsloth/gemma-3-12b-it-bnb-4bit\",\n",
    "    \"unsloth/gemma-3-12b-it-qat-bnb-4bit\",\n",
    "    \"unsloth/gemma-3-12b-it-qat-unsloth-bnb-4bit\",\n",
    "    \"unsloth/gemma-3-12b-it-unsloth-bnb-4bit\",\n",
    "    \"unsloth/gemma-3-12b-pt-bnb-4bit\",\n",
    "    \"unsloth/gemma-3-12b-pt-unsloth-bnb-4bit\",\n",
    "    \"unsloth/gemma-3-1b-it-bnb-4bit\",\n",
    "    \"unsloth/gemma-3-1b-it-qat-bnb-4bit\",\n",
    "    \"unsloth/gemma-3-1b-it-qat-unsloth-bnb-4bit\",\n",
    "    \"unsloth/gemma-3-1b-it-unsloth-bnb-4bit\",\n",
    "    \"unsloth/gemma-3-1b-pt-bnb-4bit\",\n",
    "    \"unsloth/gemma-3-1b-pt-unsloth-bnb-4bit\",\n",
    "    \"unsloth/gemma-3-270m-bnb-4bit\",\n",
    "    \"unsloth/gemma-3-270m-it-bnb-4bit\",\n",
    "    \"unsloth/gemma-3-270m-it-qat-bnb-4bit\",\n",
    "    \"unsloth/gemma-3-270m-it-qat-unsloth-bnb-4bit\",\n",
    "    \"unsloth/gemma-3-270m-it-unsloth-bnb-4bit\",\n",
    "    \"unsloth/gemma-3-270m-unsloth-bnb-4bit\",\n",
    "    \"unsloth/gemma-3-27b-it-bnb-4bit\",\n",
    "    \"unsloth/gemma-3-27b-it-qat-bnb-4bit\",\n",
    "    \"unsloth/gemma-3-27b-it-qat-unsloth-bnb-4bit\",\n",
    "    \"unsloth/gemma-3-27b-it-unsloth-bnb-4bit\",\n",
    "    \"unsloth/gemma-3-27b-pt-bnb-4bit\",\n",
    "    \"unsloth/gemma-3-27b-pt-unsloth-bnb-4bit\",\n",
    "    \"unsloth/gemma-3-4b-it-bnb-4bit\",\n",
    "    \"unsloth/gemma-3-4b-it-qat-bnb-4bit\",\n",
    "    \"unsloth/gemma-3-4b-it-qat-int4-bnb-4bit\",\n",
    "    \"unsloth/gemma-3-4b-it-qat-int4-unsloth-bnb-4bit\",\n",
    "    \"unsloth/gemma-3-4b-it-qat-unsloth-bnb-4bit\",\n",
    "    \"unsloth/gemma-3-4b-it-unsloth-bnb-4bit\",\n",
    "    \"unsloth/gemma-3-4b-pt-bnb-4bit\",\n",
    "    \"unsloth/gemma-3-4b-pt-unsloth-bnb-4bit\",\n",
    "    \"unsloth/gemma-3n-E2B-it-unsloth-bnb-4bit\",\n",
    "    \"unsloth/gemma-3n-E2B-unsloth-bnb-4bit\",\n",
    "    \"unsloth/gemma-3n-E4B-it-unsloth-bnb-4bit\",\n",
    "    \"unsloth/gemma-3n-E4B-unsloth-bnb-4bit\",\n",
    "    \"unsloth/gemma-7b-bnb-4bit\",\n",
    "    \"unsloth/gemma-7b-it-bnb-4bit\",\n",
    "    \"unsloth/GLM-4-32B-0414-bnb-4bit\",\n",
    "    \"unsloth/GLM-4-32B-0414-unsloth-bnb-4bit\",\n",
    "    \"unsloth/GLM-4-9B-0414-bnb-4bit\",\n",
    "    \"unsloth/GLM-4-9B-0414-unsloth-bnb-4bit\",\n",
    "    \"unsloth/GLM-Z1-32B-0414-bnb-4bit\",\n",
    "    \"unsloth/GLM-Z1-9B-0414-bnb-4bit\",\n",
    "    \"unsloth/GLM-Z1-9B-0414-unsloth-bnb-4bit\",\n",
    "    \"unsloth/gpt-oss-120b-bnb-4bit\",\n",
    "    \"unsloth/gpt-oss-120b-unsloth-bnb-4bit\",\n",
    "    \"unsloth/gpt-oss-20b-bnb-4bit\",\n",
    "    \"unsloth/gpt-oss-20b-unsloth-bnb-4bit\",\n",
    "    \"unsloth/Hermes-2-Pro-Mistral-7B-bnb-4bit\",\n",
    "    \"unsloth/Hermes-3-Llama-3.1-70B-bnb-4bit\",\n",
    "    \"unsloth/Hermes-3-Llama-3.1-8B-bnb-4bit\",\n",
    "    \"unsloth/KernelLLM-bnb-4bit\",\n",
    "    \"unsloth/KernelLLM-unsloth-bnb-4bit\",\n",
    "    \"unsloth/LFM2-1.2B-unsloth-bnb-4bit\",\n",
    "    \"unsloth/LFM2-350M-unsloth-bnb-4bit\",\n",
    "    \"unsloth/LFM2-700M-unsloth-bnb-4bit\",\n",
    "    \"unsloth/llama-2-13b-bnb-4bit\",\n",
    "    \"unsloth/llama-2-7b-bnb-4bit\",\n",
    "    \"unsloth/llama-2-7b-chat-bnb-4bit\",\n",
    "    \"unsloth/llama-3-70b-bnb-4bit\",\n",
    "    \"unsloth/llama-3-70b-Instruct-bnb-4bit\",\n",
    "    \"unsloth/llama-3-8b-bnb-4bit\",\n",
    "    \"unsloth/llama-3-8b-Instruct-bnb-4bit\",\n",
    "    \"unsloth/Llama-3.1-8B-bnb-4bit\",\n",
    "    \"unsloth/Llama-3.1-8B-Instruct-bnb-4bit\",\n",
    "    \"unsloth/Llama-3.1-8B-Instruct-unsloth-bnb-4bit\",\n",
    "    \"unsloth/Llama-3.1-8B-unsloth-bnb-4bit\",\n",
    "    \"unsloth/Llama-3.1-Nemotron-70B-Instruct-bnb-4bit\",\n",
    "    \"unsloth/Llama-3.1-Nemotron-Nano-4B-v1.1-bnb-4bit\",\n",
    "    \"unsloth/Llama-3.1-Nemotron-Nano-4B-v1.1-unsloth-bnb-4bit\",\n",
    "    \"unsloth/Llama-3.1-Storm-8B-bnb-4bit\",\n",
    "    \"unsloth/Llama-3.2-11B-Vision-bnb-4bit\",\n",
    "    \"unsloth/Llama-3.2-11B-Vision-Instruct-bnb-4bit\",\n",
    "    \"unsloth/Llama-3.2-11B-Vision-Instruct-unsloth-bnb-4bit\",\n",
    "    \"unsloth/Llama-3.2-11B-Vision-unsloth-bnb-4bit\",\n",
    "    \"unsloth/Llama-3.2-1B-bnb-4bit\",\n",
    "    \"unsloth/Llama-3.2-1B-Instruct-bnb-4bit\",\n",
    "    \"unsloth/Llama-3.2-1B-Instruct-unsloth-bnb-4bit\",\n",
    "    \"unsloth/Llama-3.2-1B-unsloth-bnb-4bit\",\n",
    "    \"unsloth/Llama-3.2-3B-bnb-4bit\",\n",
    "    \"unsloth/Llama-3.2-3B-Instruct-bnb-4bit\",\n",
    "    \"unsloth/Llama-3.2-3B-Instruct-unsloth-bnb-4bit\",\n",
    "    \"unsloth/Llama-3.2-3B-unsloth-bnb-4bit\",\n",
    "    \"unsloth/Llama-3.2-90B-Vision-bnb-4bit\",\n",
    "    \"unsloth/Llama-3.2-90B-Vision-Instruct-bnb-4bit\",\n",
    "    \"unsloth/Llama-3.2-90B-Vision-Instruct-unsloth-bnb-4bit\",\n",
    "    \"unsloth/Llama-3.3-70B-Instruct-bnb-4bit\",\n",
    "    \"unsloth/llava-1.5-7b-hf-bnb-4bit\",\n",
    "    \"unsloth/llava-v1.6-mistral-7b-hf-bnb-4bit\",\n",
    "    \"unsloth/Magistral-Small-2506-bnb-4bit\",\n",
    "    \"unsloth/Magistral-Small-2506-unsloth-bnb-4bit\",\n",
    "    \"unsloth/Magistral-Small-2509-bnb-4bit\",\n",
    "    \"unsloth/Magistral-Small-2509-unsloth-bnb-4bit\",\n",
    "    \"unsloth/medgemma-27b-text-it-unsloth-bnb-4bit\",\n",
    "    \"unsloth/medgemma-4b-it-bnb-4bit\",\n",
    "    \"unsloth/medgemma-4b-it-unsloth-bnb-4bit\",\n",
    "    \"unsloth/Meta-Llama-3.1-405B-bnb-4bit\",\n",
    "    \"unsloth/Meta-Llama-3.1-405B-Instruct-bnb-4bit\",\n",
    "    \"unsloth/Meta-Llama-3.1-70B-bnb-4bit\",\n",
    "    \"unsloth/Meta-Llama-3.1-70B-Instruct-bnb-4bit\",\n",
    "    \"unsloth/Meta-Llama-3.1-8B-bnb-4bit\",\n",
    "    \"unsloth/Meta-Llama-3.1-8B-Instruct-bnb-4bit\",\n",
    "    \"unsloth/Meta-Llama-3.1-8B-Instruct-unsloth-bnb-4bit\",\n",
    "    \"unsloth/meta-Llama-3.1-8B-unsloth-bnb-4bit\",\n",
    "    \"unsloth/mistral-7b-bnb-4bit\",\n",
    "    \"unsloth/mistral-7b-instruct-v0.1-bnb-4bit\",\n",
    "    \"unsloth/mistral-7b-instruct-v0.2-bnb-4bit\",\n",
    "    \"unsloth/mistral-7b-instruct-v0.3-bnb-4bit\",\n",
    "    \"unsloth/mistral-7b-v0.2-bnb-4bit\",\n",
    "    \"unsloth/mistral-7b-v0.3-bnb-4bit\",\n",
    "    \"unsloth/Mistral-Large-Instruct-2407-bnb-4bit\",\n",
    "    \"unsloth/Mistral-Nemo-Base-2407-bnb-4bit\",\n",
    "    \"unsloth/Mistral-Nemo-Instruct-2407-bnb-4bit\",\n",
    "    \"unsloth/Mistral-Small-24B-Base-2501-bnb-4bit\",\n",
    "    \"unsloth/Mistral-Small-24B-Base-2501-unsloth-bnb-4bit\",\n",
    "    \"unsloth/Mistral-Small-24B-Instruct-2501-bnb-4bit\",\n",
    "    \"unsloth/Mistral-Small-24B-Instruct-2501-unsloth-bnb-4bit\",\n",
    "    \"unsloth/Mistral-Small-Instruct-2409-bnb-4bit\",\n",
    "    \"unsloth/OLMo-2-0425-1B-Instruct-bnb-4bit\",\n",
    "    \"unsloth/OLMo-2-0425-1B-Instruct-unsloth-bnb-4bit\",\n",
    "    \"unsloth/OpenHermes-2.5-Mistral-7B-bnb-4bit\",\n",
    "    \"unsloth/Phi-3-medium-4k-instruct-bnb-4bit\",\n",
    "    \"unsloth/Phi-3-mini-4k-instruct-bnb-4bit\",\n",
    "    \"unsloth/Phi-3-mini-4k-instruct-v0-bnb-4bit\",\n",
    "    \"unsloth/Phi-3.5-mini-instruct-bnb-4bit\",\n",
    "    \"unsloth/phi-4-bnb-4bit\",\n",
    "    \"unsloth/Phi-4-mini-instruct-bnb-4bit\",\n",
    "    \"unsloth/Phi-4-mini-instruct-unsloth-bnb-4bit\",\n",
    "    \"unsloth/Phi-4-mini-reasoning-bnb-4bit\",\n",
    "    \"unsloth/Phi-4-mini-reasoning-unsloth-bnb-4bit\",\n",
    "    \"unsloth/phi-4-reasoning-bnb-4bit\",\n",
    "    \"unsloth/Phi-4-reasoning-plus-bnb-4bit\",\n",
    "    \"unsloth/Phi-4-reasoning-plus-unsloth-bnb-4bit\",\n",
    "    \"unsloth/phi-4-reasoning-unsloth-bnb-4bit\",\n",
    "    \"unsloth/phi-4-unsloth-bnb-4bit\",\n",
    "    \"unsloth/Pixtral-12B-2409-bnb-4bit\",\n",
    "    \"unsloth/Pixtral-12B-2409-unsloth-bnb-4bit\",\n",
    "    \"unsloth/Pixtral-12B-Base-2409-bnb-4bit\",\n",
    "    \"unsloth/Qwen2-0.5B-bnb-4bit\",\n",
    "    \"unsloth/Qwen2-0.5B-Instruct-bnb-4bit\",\n",
    "    \"unsloth/Qwen2-1.5B-bnb-4bit\",\n",
    "    \"unsloth/Qwen2-1.5B-Instruct-bnb-4bit\",\n",
    "    \"unsloth/Qwen2-72B-bnb-4bit\",\n",
    "    \"unsloth/Qwen2-72B-Instruct-bnb-4bit\",\n",
    "    \"unsloth/Qwen2-7B-bnb-4bit\",\n",
    "    \"unsloth/Qwen2-7B-Instruct-bnb-4bit\",\n",
    "    \"unsloth/Qwen2-VL-2B-Instruct-bnb-4bit\",\n",
    "    \"unsloth/Qwen2-VL-2B-Instruct-unsloth-bnb-4bit\",\n",
    "    \"unsloth/Qwen2-VL-72B-bnb-4bit\",\n",
    "    \"unsloth/Qwen2-VL-72B-Instruct-bnb-4bit\",\n",
    "    \"unsloth/Qwen2-VL-7B-bnb-4bit\",\n",
    "    \"unsloth/Qwen2-VL-7B-Instruct-bnb-4bit\",\n",
    "    \"unsloth/Qwen2-VL-7B-Instruct-unsloth-bnb-4bit\",\n",
    "    \"unsloth/Qwen2.5-0.5B-bnb-4bit\",\n",
    "    \"unsloth/Qwen2.5-0.5B-Instruct-bnb-4bit\",\n",
    "    \"unsloth/Qwen2.5-0.5B-Instruct-unsloth-bnb-4bit\",\n",
    "    \"unsloth/Qwen2.5-0.5B-unsloth-bnb-4bit\",\n",
    "    \"unsloth/Qwen2.5-1.5B-bnb-4bit\",\n",
    "    \"unsloth/Qwen2.5-1.5B-Instruct-bnb-4bit\",\n",
    "    \"unsloth/Qwen2.5-1.5B-Instruct-unsloth-bnb-4bit\",\n",
    "    \"unsloth/Qwen2.5-1.5B-unsloth-bnb-4bit\",\n",
    "    \"unsloth/Qwen2.5-14B-bnb-4bit\",\n",
    "    \"unsloth/Qwen2.5-14B-Instruct-1M-bnb-4bit\",\n",
    "    \"unsloth/Qwen2.5-14B-Instruct-1M-unsloth-bnb-4bit\",\n",
    "    \"unsloth/Qwen2.5-14B-Instruct-bnb-4bit\",\n",
    "    \"unsloth/Qwen2.5-14B-Instruct-unsloth-bnb-4bit\",\n",
    "    \"unsloth/Qwen2.5-14B-unsloth-bnb-4bit\",\n",
    "    \"unsloth/Qwen2.5-32B-bnb-4bit\",\n",
    "    \"unsloth/Qwen2.5-32B-Instruct-bnb-4bit\",\n",
    "    \"unsloth/Qwen2.5-3B-bnb-4bit\",\n",
    "    \"unsloth/Qwen2.5-3B-Instruct-bnb-4bit\",\n",
    "    \"unsloth/Qwen2.5-3B-Instruct-unsloth-bnb-4bit\",\n",
    "    \"unsloth/Qwen2.5-3B-unsloth-bnb-4bit\",\n",
    "    \"unsloth/Qwen2.5-72B-bnb-4bit\",\n",
    "    \"unsloth/Qwen2.5-72B-Instruct-bnb-4bit\",\n",
    "    \"unsloth/Qwen2.5-7B-bnb-4bit\",\n",
    "    \"unsloth/Qwen2.5-7B-Instruct-1M-bnb-4bit\",\n",
    "    \"unsloth/Qwen2.5-7B-Instruct-1M-unsloth-bnb-4bit\",\n",
    "    \"unsloth/Qwen2.5-7B-Instruct-bnb-4bit\",\n",
    "    \"unsloth/Qwen2.5-7B-Instruct-unsloth-bnb-4bit\",\n",
    "    \"unsloth/Qwen2.5-7B-unsloth-bnb-4bit\",\n",
    "    \"unsloth/Qwen2.5-Coder-0.5B-bnb-4bit\",\n",
    "    \"unsloth/Qwen2.5-Coder-0.5B-Instruct-bnb-4bit\",\n",
    "    \"unsloth/Qwen2.5-Coder-1.5B-bnb-4bit\",\n",
    "    \"unsloth/Qwen2.5-Coder-1.5B-Instruct-bnb-4bit\",\n",
    "    \"unsloth/Qwen2.5-Coder-14B-bnb-4bit\",\n",
    "    \"unsloth/Qwen2.5-Coder-14B-Instruct-bnb-4bit\",\n",
    "    \"unsloth/Qwen2.5-Coder-32B-bnb-4bit\",\n",
    "    \"unsloth/Qwen2.5-Coder-32B-Instruct-bnb-4bit\",\n",
    "    \"unsloth/Qwen2.5-Coder-3B-bnb-4bit\",\n",
    "    \"unsloth/Qwen2.5-Coder-3B-Instruct-bnb-4bit\",\n",
    "    \"unsloth/Qwen2.5-Coder-7B-bnb-4bit\",\n",
    "    \"unsloth/Qwen2.5-Coder-7B-Instruct-bnb-4bit\",\n",
    "    \"unsloth/Qwen2.5-Math-1.5B-bnb-4bit\",\n",
    "    \"unsloth/Qwen2.5-Math-1.5B-Instruct-bnb-4bit\",\n",
    "    \"unsloth/Qwen2.5-Math-72B-bnb-4bit\",\n",
    "    \"unsloth/Qwen2.5-Math-72B-Instruct-bnb-4bit\",\n",
    "    \"unsloth/Qwen2.5-Math-7B-bnb-4bit\",\n",
    "    \"unsloth/Qwen2.5-Math-7B-Instruct-bnb-4bit\",\n",
    "    \"unsloth/Qwen2.5-VL-32B-Instruct-bnb-4bit\",\n",
    "    \"unsloth/Qwen2.5-VL-32B-Instruct-unsloth-bnb-4bit\",\n",
    "    \"unsloth/Qwen2.5-VL-3B-Instruct-bnb-4bit\",\n",
    "    \"unsloth/Qwen2.5-VL-3B-Instruct-unsloth-bnb-4bit\",\n",
    "    \"unsloth/Qwen2.5-VL-72B-Instruct-bnb-4bit\",\n",
    "    \"unsloth/Qwen2.5-VL-72B-Instruct-unsloth-bnb-4bit\",\n",
    "    \"unsloth/Qwen2.5-VL-7B-Instruct-bnb-4bit\",\n",
    "    \"unsloth/Qwen2.5-VL-7B-Instruct-unsloth-bnb-4bit\",\n",
    "    \"unsloth/Qwen3-0.6B-Base-bnb-4bit\",\n",
    "    \"unsloth/Qwen3-0.6B-Base-unsloth-bnb-4bit\",\n",
    "    \"unsloth/Qwen3-0.6B-bnb-4bit\",\n",
    "    \"unsloth/Qwen3-0.6B-unsloth-bnb-4bit\",\n",
    "    \"unsloth/Qwen3-1.7B-Base-bnb-4bit\",\n",
    "    \"unsloth/Qwen3-1.7B-Base-unsloth-bnb-4bit\",\n",
    "    \"unsloth/Qwen3-1.7B-bnb-4bit\",\n",
    "    \"unsloth/Qwen3-1.7B-unsloth-bnb-4bit\",\n",
    "    \"unsloth/Qwen3-14B-Base-bnb-4bit\",\n",
    "    \"unsloth/Qwen3-14B-Base-unsloth-bnb-4bit\",\n",
    "    \"unsloth/Qwen3-14B-bnb-4bit\",\n",
    "    \"unsloth/Qwen3-14B-unsloth-bnb-4bit\",\n",
    "    \"unsloth/Qwen3-30B-A3B-Base-bnb-4bit\",\n",
    "    \"unsloth/Qwen3-30B-A3B-bnb-4bit\",\n",
    "    \"unsloth/Qwen3-32B-bnb-4bit\",\n",
    "    \"unsloth/Qwen3-32B-unsloth-bnb-4bit\",\n",
    "    \"unsloth/Qwen3-4B-Base-bnb-4bit\",\n",
    "    \"unsloth/Qwen3-4B-Base-unsloth-bnb-4bit\",\n",
    "    \"unsloth/Qwen3-4B-bnb-4bit\",\n",
    "    \"unsloth/Qwen3-4B-Instruct-2507-bnb-4bit\",\n",
    "    \"unsloth/Qwen3-4B-Instruct-2507-unsloth-bnb-4bit\",\n",
    "    \"unsloth/Qwen3-4B-Thinking-2507-bnb-4bit\",\n",
    "    \"unsloth/Qwen3-4B-Thinking-2507-unsloth-bnb-4bit\",\n",
    "    \"unsloth/Qwen3-4B-unsloth-bnb-4bit\",\n",
    "    \"unsloth/Qwen3-8B-Base-bnb-4bit\",\n",
    "    \"unsloth/Qwen3-8B-Base-unsloth-bnb-4bit\",\n",
    "    \"unsloth/Qwen3-8B-bnb-4bit\",\n",
    "    \"unsloth/Qwen3-8B-unsloth-bnb-4bit\",\n",
    "    \"unsloth/Qwen3-Next-80B-A3B-Instruct-bnb-4bit\",\n",
    "    \"unsloth/r1-1776-distill-llama-70b-unsloth-bnb-4bit\",\n",
    "    \"unsloth/Reflection-Llama-3.1-70B-bnb-4bit\",\n",
    "    \"unsloth/Seed-Coder-8B-Instruct-bnb-4bit\",\n",
    "    \"unsloth/Seed-Coder-8B-Instruct-unsloth-bnb-4bit\",\n",
    "    \"unsloth/Seed-Coder-8B-Reasoning-bnb-4bit\",\n",
    "    \"unsloth/Seed-Coder-8B-Reasoning-unsloth-bnb-4bit\",\n",
    "    \"unsloth/SmolLM-1.7B-bnb-4bit\",\n",
    "    \"unsloth/SmolLM-1.7B-Instruct-bnb-4bit\",\n",
    "    \"unsloth/SmolLM-135M-bnb-4bit\",\n",
    "    \"unsloth/SmolLM-135M-Instruct-bnb-4bit\",\n",
    "    \"unsloth/SmolLM-360M-bnb-4bit\",\n",
    "    \"unsloth/SmolLM-360M-Instruct-bnb-4bit\",\n",
    "    \"unsloth/SmolLM2-1.7B-bnb-4bit\",\n",
    "    \"unsloth/SmolLM2-1.7B-Instruct-bnb-4bit\",\n",
    "    \"unsloth/SmolLM2-135M-bnb-4bit\",\n",
    "    \"unsloth/SmolLM2-135M-Instruct-bnb-4bit\",\n",
    "    \"unsloth/SmolLM2-360M-bnb-4bit\",\n",
    "    \"unsloth/SmolLM2-360M-Instruct-bnb-4bit\",\n",
    "    \"unsloth/SmolLM3-3B-Base-bnb-4bit\",\n",
    "    \"unsloth/SmolLM3-3B-Base-unsloth-bnb-4bit\",\n",
    "    \"unsloth/SmolLM3-3B-bnb-4bit\",\n",
    "    \"unsloth/SmolLM3-3B-unsloth-bnb-4bit\",\n",
    "    \"unsloth/tinyllama-bnb-4bit\",\n",
    "    \"unsloth/tinyllama-chat-bnb-4bit\",\n",
    "    \"unsloth/yi-34b-bnb-4bit\",\n",
    "    \"unsloth/yi-34b-chat-bnb-4bit\",\n",
    "    \"unsloth/yi-6b-bnb-4bit\",\n",
    "    \"unsloth/zephyr-sft-bnb-4bit\",\n",
    "    \"unsloth/aya-vision-32b-bnb-4bit\",\n",
    "    \"unsloth/aya-vision-32b-unsloth-bnb-4bit\",\n",
    "    \"unsloth/aya-vision-8b-bnb-4bit\",\n",
    "    \"unsloth/aya-vision-8b-unsloth-bnb-4bit\",\n",
    "    \"unsloth/c4ai-command-a-03-2025-bnb-4bit\",\n",
    "    \"unsloth/c4ai-command-a-03-2025-unsloth-bnb-4bit\",\n",
    "    \"unsloth/Devstral-Small-2505-bnb-4bit\",\n",
    "    \"unsloth/Devstral-Small-2507-bnb-4bit\",\n",
    "    \"unsloth/Devstral-Small-2507-unsloth-bnb-4bit\",\n",
    "    \"unsloth/gemma-3-12b-it-qat-int4-bnb-4bit\",\n",
    "    \"unsloth/gemma-3-12b-it-qat-int4-unsloth-bnb-4bit\",\n",
    "    \"unsloth/gemma-7b-unsloth-bnb-4bit\",\n",
    "    \"unsloth/granite-3.2-2b-instruct-bnb-4bit\",\n",
    "    \"unsloth/granite-3.2-2b-instruct-unsloth-bnb-4bit\",\n",
    "    \"unsloth/granite-3.2-8b-instruct-bnb-4bit\",\n",
    "    \"unsloth/granite-3.2-8b-instruct-unsloth-bnb-4bit\",\n",
    "    \"unsloth/granite-vision-3.2-2b-bnb-4bit\",\n",
    "    \"unsloth/granite-vision-3.2-2b-unsloth-bnb-4bit\",\n",
    "    \"unsloth/Llama-3.2-90B-Vision-unsloth-bnb-4bit\",\n",
    "    \"unsloth/Llama-4-Scout-17B-16E-Instruct-unsloth-bnb-4bit\",\n",
    "    \"unsloth/Llama-4-Scout-17B-16E-Instruct-unsloth-dynamic-bnb-4bit\",\n",
    "    \"unsloth/Llama-4-Scout-17B-16E-unsloth-bnb-4bit\",\n",
    "    \"unsloth/Llama-4-Scout-17B-16E-unsloth-dynamic-bnb-4bit\",\n",
    "    \"unsloth/Magistral-Small-2507-bnb-4bit\",\n",
    "    \"unsloth/Magistral-Small-2507-unsloth-bnb-4bit\",\n",
    "    \"unsloth/medgemma-27b-text-it-bnb-4bit\",\n",
    "    \"unsloth/Mistral-Small-3.1-24B-Base-2503-bnb-4bit\",\n",
    "    \"unsloth/Mistral-Small-3.1-24B-Base-2503-unsloth-bnb-4bit\",\n",
    "    \"unsloth/Mistral-Small-3.1-24B-Instruct-2503-bnb-4bit\",\n",
    "    \"unsloth/Mistral-Small-3.1-24B-Instruct-2503-unsloth-bnb-4bit\",\n",
    "    \"unsloth/Mistral-Small-3.2-24B-Instruct-2506-bnb-4bit\",\n",
    "    \"unsloth/Mistral-Small-3.2-24B-Instruct-2506-unsloth-bnb-4bit\",\n",
    "    \"unsloth/Mixtral-8x7B-Instruct-v0.1-bnb-4bit\",\n",
    "    \"unsloth/Mixtral-8x7B-Instruct-v0.1-unsloth-bnb-4bit\",\n",
    "    \"unsloth/Mixtral-8x7B-v0.1-bnb-4bit\",\n",
    "    \"unsloth/Mixtral-8x7B-v0.1-unsloth-bnb-4bit\",\n",
    "    \"unsloth/OLMo-2-0325-32B-Instruct-bnb-4bit\",\n",
    "    \"unsloth/OLMo-2-0325-32B-Instruct-unsloth-bnb-4bit\",\n",
    "    \"unsloth/orpheus-3b-0.1-ft-bnb-4bit\",\n",
    "    \"unsloth/orpheus-3b-0.1-ft-unsloth-bnb-4bit\",\n",
    "    \"unsloth/orpheus-3b-0.1-pretrained-bnb-4bit\",\n",
    "    \"unsloth/orpheus-3b-0.1-pretrained-unsloth-bnb-4bit\",\n",
    "    \"unsloth/QVQ-72B-Preview-bnb-4bit\",\n",
    "    \"unsloth/Qwen2-VL-2B-bnb-4bit\",\n",
    "    \"unsloth/Qwen2.5-0.5-bnb-4bit\",\n",
    "    \"unsloth/Qwen3-30B-A3B-128K-bnb-4bit\",\n",
    "    \"unsloth/QwQ-32B-bnb-4bit\",\n",
    "    \"unsloth/QwQ-32B-Preview-bnb-4bit\",\n",
    "    \"unsloth/QwQ-32B-Preview-unsloth-bnb-4bit\",\n",
    "    \"unsloth/QwQ-32B-unsloth-bnb-4bit\",\n",
    "    \"unsloth/reka-flash-3-unsloth-bnb-4bit\",\n",
    "    \"unsloth/Yi-1.5-6B-bnb-4bit\",\n",
    "]\n",
    "\n",
    "HF_TOKEN = os.environ.get(\"HF_TOKEN\", None)  # optional for gated/private models\n",
    "\n",
    "def load_json(repo_id: str, filename: str):\n",
    "    try:\n",
    "        path = hf_hub_download(repo_id=repo_id, filename=filename, token=HF_TOKEN)\n",
    "        with open(path, \"r\", encoding=\"utf-8\") as f:\n",
    "            return json.load(f)\n",
    "    except HfHubHTTPError:\n",
    "        return None\n",
    "    except Exception:\n",
    "        return None\n",
    "\n",
    "def effective_context_from_rope(cfg: dict) -> Optional[int]:\n",
    "    rope = cfg.get(\"rope_scaling\") or {}\n",
    "    # {\"type\": \"...\", \"factor\": 8.0, \"original_max_position_embeddings\": 8192}\n",
    "    try:\n",
    "        orig = rope.get(\"original_max_position_embeddings\")\n",
    "        factor = rope.get(\"factor\")\n",
    "        if isinstance(orig, int) and (isinstance(factor, (int, float)) and factor > 0):\n",
    "            return int(orig * factor)\n",
    "    except Exception:\n",
    "        pass\n",
    "    return None\n",
    "\n",
    "def guess_context_window(cfg: dict, tokcfg: Optional[dict]) -> Optional[int]:\n",
    "    \"\"\"\n",
    "    Preference order:\n",
    "      1) rope_scaling => original_max_position_embeddings * factor\n",
    "      2) max_position_embeddings (or common synonyms)\n",
    "      3) tokenizer.model_max_length (finite)\n",
    "      4) block_size (GLM-like)\n",
    "    \"\"\"\n",
    "    if not isinstance(cfg, dict):\n",
    "        cfg = {}\n",
    "\n",
    "    # 1) RoPE scaling effective length\n",
    "    ctx = effective_context_from_rope(cfg)\n",
    "    if isinstance(ctx, int) and ctx > 0:\n",
    "        return ctx\n",
    "\n",
    "    # 2) Direct config keys\n",
    "    for k in [\n",
    "        \"max_position_embeddings\",\n",
    "        \"n_positions\",\n",
    "        \"seq_length\",\n",
    "        \"max_sequence_length\",\n",
    "        \"max_seq_len\",\n",
    "        \"context_length\",\n",
    "        \"model_max_length\",  # sometimes mirrors tokenizer cap\n",
    "    ]:\n",
    "        v = cfg.get(k)\n",
    "        if isinstance(v, int) and v > 0:\n",
    "            return v\n",
    "\n",
    "    # 3) Tokenizer fallback\n",
    "    if tokcfg:\n",
    "        mv = tokcfg.get(\"model_max_length\")\n",
    "        if isinstance(mv, int) and 0 < mv < 10**9:\n",
    "            return mv\n",
    "\n",
    "    # 4) Last-ditch\n",
    "    v = cfg.get(\"block_size\")\n",
    "    if isinstance(v, int) and v > 0:\n",
    "        return v\n",
    "\n",
    "    return None\n",
    "\n",
    "def tokenizer_max_len(tokcfg: Optional[dict]) -> Optional[int]:\n",
    "    if not tokcfg:\n",
    "        return None\n",
    "    v = tokcfg.get(\"model_max_length\")\n",
    "    if isinstance(v, int) and 0 < v < 10**9:\n",
    "        return v\n",
    "    # Some tokenizers set a huge sentinel (e.g., 1e30); ignore those.\n",
    "    return None\n",
    "\n",
    "def analyze_repo(repo_id: str) -> dict:\n",
    "    cfg = load_json(repo_id, \"config.json\") or {}\n",
    "    tokcfg = load_json(repo_id, \"tokenizer_config.json\") or {}\n",
    "\n",
    "    ctx = guess_context_window(cfg, tokcfg)\n",
    "    tok_max = tokenizer_max_len(tokcfg)\n",
    "\n",
    "    # Max input tokens: prefer tokenizer cap if present; else use context.\n",
    "    max_input = tok_max if (tok_max is not None and (ctx is None or tok_max <= ctx)) else ctx\n",
    "\n",
    "    # Theoretical max output tokens: upper bound with empty prompt\n",
    "    max_output_theoretical = max_input\n",
    "\n",
    "    return {\n",
    "        \"repo_id\": repo_id,\n",
    "        \"arch\": cfg.get(\"_name_or_path\") or cfg.get(\"model_type\"),\n",
    "        \"model_type\": cfg.get(\"model_type\"),\n",
    "        \"max_context_window\": ctx,\n",
    "        \"max_input_tokens\": max_input,\n",
    "        \"max_output_tokens_theoretical\": max_output_theoretical,\n",
    "        \"tokenizer_model_max_length\": tok_max,\n",
    "        \"rope_scaling\": cfg.get(\"rope_scaling\"),\n",
    "        \"sliding_window\": cfg.get(\"sliding_window\"),\n",
    "    }\n",
    "\n",
    "def main():\n",
    "    rows = []\n",
    "    for rid in tqdm(REPOS, desc=\"Scanning HF repos\"):\n",
    "        try:\n",
    "            rows.append(analyze_repo(rid))\n",
    "        except Exception as e:\n",
    "            rows.append({\n",
    "                \"repo_id\": rid,\n",
    "                \"arch\": None,\n",
    "                \"model_type\": None,\n",
    "                \"max_context_window\": None,\n",
    "                \"max_input_tokens\": None,\n",
    "                \"max_output_tokens_theoretical\": None,\n",
    "                \"tokenizer_model_max_length\": None,\n",
    "                \"rope_scaling\": None,\n",
    "                \"sliding_window\": None,\n",
    "                \"error\": str(e),\n",
    "            })\n",
    "\n",
    "    df = pd.DataFrame(rows)\n",
    "    cols = [\n",
    "        \"repo_id\",\n",
    "        \"model_type\",\n",
    "        \"arch\",\n",
    "        \"max_context_window\",\n",
    "        \"max_input_tokens\",\n",
    "        \"max_output_tokens_theoretical\",\n",
    "        \"tokenizer_model_max_length\",\n",
    "        \"rope_scaling\",\n",
    "        \"sliding_window\",\n",
    "        \"error\",\n",
    "    ]\n",
    "    for c in cols:\n",
    "        if c not in df.columns:\n",
    "            df[c] = None\n",
    "    df = df[cols]\n",
    "\n",
    "    out = Path(\"unsloth_4bit_context_windows.csv\")\n",
    "    df.to_csv(out, index=False)\n",
    "    print(df.to_string(index=False, max_colwidth=80))\n",
    "    print(f\"\\nSaved: {out.resolve()}\")\n",
    "\n",
    "if __name__ == \"__main__\":\n",
    "    main()\n"
   ]
  },
  {
   "cell_type": "code",
   "execution_count": 4,
   "id": "5b2932d6-9c8f-44e4-9c06-fe7c79a31eb3",
   "metadata": {},
   "outputs": [
    {
     "name": "stdout",
     "output_type": "stream",
     "text": [
      "🚀 Starting Model Comparison\n",
      "Question: What is Mars and where is Mars?\n",
      "Models: ['llama-8b', 'llama-3b']\n",
      "🖥️ System: NVIDIA GeForce RTX 4090 Laptop GPU with 17.17GB VRAM\n",
      "\n",
      "======================================================================\n",
      "Testing: Llama 3.1 8B (4-bit)\n",
      "======================================================================\n",
      "\n",
      "📦 Loading Llama 3.1 8B (4-bit)...\n",
      "Path: unsloth/Meta-Llama-3.1-8B-Instruct-bnb-4bit\n",
      "Loading tokenizer...\n",
      "Loading model weights...\n"
     ]
    },
    {
     "name": "stderr",
     "output_type": "stream",
     "text": [
      "W0924 17:08:44.659000 39876 site-packages\\torch\\distributed\\elastic\\multiprocessing\\redirects.py:29] NOTE: Redirects are currently not supported in Windows or MacOs.\n"
     ]
    },
    {
     "name": "stdout",
     "output_type": "stream",
     "text": [
      "✅ Model loaded! Using 5.70GB VRAM\n",
      "Generating response...\n",
      "\n",
      "======================================================================\n",
      "Testing: Llama 3.2 3B (4-bit)\n",
      "======================================================================\n",
      "\n",
      "📦 Loading Llama 3.2 3B (4-bit)...\n",
      "Path: unsloth/Llama-3.2-3B-Instruct-bnb-4bit\n",
      "Loading tokenizer...\n",
      "Loading model weights...\n",
      "✅ Model loaded! Using 2.25GB VRAM\n",
      "Generating response...\n"
     ]
    },
    {
     "data": {
      "text/html": [
       "\n",
       "        <h2>📊 Model Comparison Results</h2>\n",
       "        <style>\n",
       "            .comparison-table {\n",
       "                border-collapse: collapse;\n",
       "                width: 100%;\n",
       "                margin: 20px 0;\n",
       "            }\n",
       "            .comparison-table th {\n",
       "                background-color: #4CAF50;\n",
       "                color: white;\n",
       "                padding: 12px;\n",
       "                text-align: left;\n",
       "            }\n",
       "            .comparison-table td {\n",
       "                padding: 10px;\n",
       "                border-bottom: 1px solid #ddd;\n",
       "            }\n",
       "            .comparison-table tr:hover {\n",
       "                background-color: #f5f5f5;\n",
       "            }\n",
       "            .answer-cell {\n",
       "                max-width: 400px;\n",
       "                font-size: 0.9em;\n",
       "            }\n",
       "        </style>\n",
       "        <table class=\"comparison-table\">\n",
       "        <tr><th>Model</th><th>Words</th><th>Sentences</th><th>Vocab Diversity</th><th>Relevance</th><th>Completeness</th><th>Coherence</th><th>Overall Score</th><th>Gen Time (s)</th><th>Tokens/sec</th></tr><tr><td>Llama 3.1 8B (4-bit)</td><td>212</td><td>17</td><td>0.731</td><td>1.000</td><td>1.000</td><td>0.178</td><td>0.782</td><td>44.94</td><td>6.4</td></tr><tr><td>Llama 3.2 3B (4-bit)</td><td>235</td><td>12</td><td>0.672</td><td>1.000</td><td>1.000</td><td>0.326</td><td>0.800</td><td>39.41</td><td>7.6</td></tr></table><h3>📝 Generated Answers</h3>\n",
       "            <div style=\"margin: 15px 0; padding: 15px; background: #f8f9fa; border-left: 4px solid #4CAF50;\">\n",
       "                <h4>Llama 3.1 8B (4-bit)</h4>\n",
       "                <p>Mars, also known as the Red Planet or Sol 3, is the fourth planet in our solar system. It is located in the inner reaches of the Milky Way galaxy, orbiting around the Sun at an average distance of abo...</p>\n",
       "            </div>\n",
       "            \n",
       "            <div style=\"margin: 15px 0; padding: 15px; background: #f8f9fa; border-left: 4px solid #4CAF50;\">\n",
       "                <h4>Llama 3.2 3B (4-bit)</h4>\n",
       "                <p>A great question about our neighboring planet!\n",
       "\n",
       "Mars, also known as the Red Planet, is a rocky, barren, and fascinating celestial body in our solar system. Here's an overview:\n",
       "\n",
       "**Location:** Mars is l...</p>\n",
       "            </div>\n",
       "            "
      ],
      "text/plain": [
       "<IPython.core.display.HTML object>"
      ]
     },
     "metadata": {},
     "output_type": "display_data"
    }
   ],
   "source": [
    "# Compare Llama 8B vs Llama 3B on Mars question\n",
    "df = run_comparison(\n",
    "    models_to_compare=[\"llama-8b\", \"llama-3b\"],\n",
    "    question=\"What is Mars and where is Mars?\"\n",
    ")"
   ]
  },
  {
   "cell_type": "code",
   "execution_count": 5,
   "id": "67c11832-2d1f-4763-893b-5bb6a415108a",
   "metadata": {},
   "outputs": [
    {
     "name": "stdout",
     "output_type": "stream",
     "text": [
      "🚀 Starting Model Comparison\n",
      "Question: What is Mars and where is Mars?\n",
      "Models: ['tinyllama', 'mistral']\n",
      "🖥️ System: NVIDIA GeForce RTX 4090 Laptop GPU with 17.17GB VRAM\n",
      "\n",
      "======================================================================\n",
      "Testing: TinyLlama 1.1B\n",
      "======================================================================\n",
      "\n",
      "📦 Loading TinyLlama 1.1B...\n",
      "Path: TinyLlama/TinyLlama-1.1B-Chat-v1.0\n",
      "Loading tokenizer...\n",
      "Loading model weights...\n",
      "✅ Model loaded! Using 2.21GB VRAM\n",
      "Generating response...\n",
      "\n",
      "======================================================================\n",
      "Testing: Mistral 7B (4-bit)\n",
      "======================================================================\n",
      "\n",
      "📦 Loading Mistral 7B (4-bit)...\n",
      "Path: unsloth/mistral-7b-instruct-v0.2-bnb-4bit\n",
      "Loading tokenizer...\n",
      "Loading model weights...\n",
      "✅ Model loaded! Using 4.13GB VRAM\n",
      "Generating response...\n"
     ]
    },
    {
     "data": {
      "text/html": [
       "\n",
       "        <h2>📊 Model Comparison Results</h2>\n",
       "        <style>\n",
       "            .comparison-table {\n",
       "                border-collapse: collapse;\n",
       "                width: 100%;\n",
       "                margin: 20px 0;\n",
       "            }\n",
       "            .comparison-table th {\n",
       "                background-color: #4CAF50;\n",
       "                color: white;\n",
       "                padding: 12px;\n",
       "                text-align: left;\n",
       "            }\n",
       "            .comparison-table td {\n",
       "                padding: 10px;\n",
       "                border-bottom: 1px solid #ddd;\n",
       "            }\n",
       "            .comparison-table tr:hover {\n",
       "                background-color: #f5f5f5;\n",
       "            }\n",
       "            .answer-cell {\n",
       "                max-width: 400px;\n",
       "                font-size: 0.9em;\n",
       "            }\n",
       "        </style>\n",
       "        <table class=\"comparison-table\">\n",
       "        <tr><th>Model</th><th>Words</th><th>Sentences</th><th>Vocab Diversity</th><th>Relevance</th><th>Completeness</th><th>Coherence</th><th>Overall Score</th><th>Gen Time (s)</th><th>Tokens/sec</th></tr><tr><td>TinyLlama 1.1B</td><td>100</td><td>4</td><td>0.790</td><td>1.000</td><td>1.000</td><td>0.237</td><td>0.805</td><td>8.72</td><td>17.2</td></tr><tr><td>Mistral 7B (4-bit)</td><td>175</td><td>10</td><td>0.651</td><td>1.000</td><td>1.000</td><td>0.426</td><td>0.815</td><td>36.93</td><td>6.8</td></tr></table><h3>📝 Generated Answers</h3>\n",
       "            <div style=\"margin: 15px 0; padding: 15px; background: #f8f9fa; border-left: 4px solid #4CAF50;\">\n",
       "                <h4>TinyLlama 1.1B</h4>\n",
       "                <p>|>\n",
       "Mars is the sixth planet from the Sun, located in the outermost region of our solar system. It orbits around the sun at an average distance of about 217 million miles (349 million kilometers) and t...</p>\n",
       "            </div>\n",
       "            \n",
       "            <div style=\"margin: 15px 0; padding: 15px; background: #f8f9fa; border-left: 4px solid #4CAF50;\">\n",
       "                <h4>Mistral 7B (4-bit)</h4>\n",
       "                <p>Mars is the fourth planet from the Sun in our solar system. It is named after the Roman god of war, as it appears red when viewed from Earth due to its iron oxide (rust) on its surface. Mars is a terr...</p>\n",
       "            </div>\n",
       "            "
      ],
      "text/plain": [
       "<IPython.core.display.HTML object>"
      ]
     },
     "metadata": {},
     "output_type": "display_data"
    }
   ],
   "source": [
    "# Compare different models with custom question\n",
    "df = run_comparison(\n",
    "    models_to_compare=[\"tinyllama\", \"mistral\"],\n",
    "    question=\"What is Mars and where is Mars?\"\n",
    ")"
   ]
  },
  {
   "cell_type": "code",
   "execution_count": null,
   "id": "1a097497-b419-4d4d-965c-8e3f29ecc469",
   "metadata": {},
   "outputs": [],
   "source": []
  }
 ],
 "metadata": {
  "kernelspec": {
   "display_name": "Python 3 (ipykernel)",
   "language": "python",
   "name": "python3"
  },
  "language_info": {
   "codemirror_mode": {
    "name": "ipython",
    "version": 3
   },
   "file_extension": ".py",
   "mimetype": "text/x-python",
   "name": "python",
   "nbconvert_exporter": "python",
   "pygments_lexer": "ipython3",
   "version": "3.12.11"
  }
 },
 "nbformat": 4,
 "nbformat_minor": 5
}
