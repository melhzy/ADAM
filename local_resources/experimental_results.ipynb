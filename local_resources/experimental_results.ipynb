{
 "cells": [
  {
   "cell_type": "code",
   "execution_count": 6,
   "id": "b6679541-fc82-43d0-90c2-f408526bde3e",
   "metadata": {},
   "outputs": [],
   "source": [
    "from glob import glob\n",
    "import os"
   ]
  },
  {
   "cell_type": "code",
   "execution_count": 12,
   "id": "05970b40-5e74-4c9a-9b10-a4efdfb65034",
   "metadata": {},
   "outputs": [
    {
     "data": {
      "text/plain": [
       "['experiment01\\\\classification\\\\classification_agent_output_gpt-4o-mini-2024-07-18.csv',\n",
       " 'experiment02\\\\classification\\\\classification_agent_output_gpt-4o-mini-2024-07-18.csv',\n",
       " 'experiment03\\\\classification\\\\classification_agent_output_gpt-4o-mini-2024-07-18.csv',\n",
       " 'experiment04\\\\classification\\\\classification_agent_output_gpt-4o-mini-2024-07-18.csv',\n",
       " 'experiment05\\\\classification\\\\classification_agent_output_gpt-4o-mini-2024-07-18.csv',\n",
       " 'experiment06\\\\classification\\\\classification_agent_output_gpt-4o-mini-2024-07-18.csv',\n",
       " 'experiment07\\\\classification\\\\classification_agent_output_gpt-4o-mini-2024-07-18.csv',\n",
       " 'experiment08\\\\classification\\\\classification_agent_output_gpt-4o-mini-2024-07-18.csv',\n",
       " 'experiment09\\\\classification\\\\classification_agent_output_gpt-4o-mini-2024-07-18.csv',\n",
       " 'experiment10\\\\classification\\\\classification_agent_output_gpt-4o-mini-2024-07-18.csv',\n",
       " 'experiment11\\\\classification\\\\classification_agent_output_gpt-4o-mini-2024-07-18.csv',\n",
       " 'experiment12\\\\classification\\\\classification_agent_output_gpt-4o-mini-2024-07-18.csv',\n",
       " 'experiment13\\\\classification\\\\classification_agent_output_gpt-4o-mini-2024-07-18.csv',\n",
       " 'experiment14\\\\classification\\\\classification_agent_output_gpt-4o-mini-2024-07-18.csv',\n",
       " 'experiment15\\\\classification\\\\classification_agent_output_gpt-4o-mini-2024-07-18.csv',\n",
       " 'experiment16\\\\classification\\\\classification_agent_output_gpt-4o-mini-2024-07-18.csv',\n",
       " 'experiment17\\\\classification\\\\classification_agent_output_gpt-4o-mini-2024-07-18.csv',\n",
       " 'experiment18\\\\classification\\\\classification_agent_output_gpt-4o-mini-2024-07-18.csv',\n",
       " 'experiment19\\\\classification\\\\classification_agent_output_gpt-4o-mini-2024-07-18.csv',\n",
       " 'experiment20\\\\classification\\\\classification_agent_output_gpt-4o-mini-2024-07-18.csv',\n",
       " 'experiment21\\\\classification\\\\classification_agent_output_gpt-4o-mini-2024-07-18.csv',\n",
       " 'experiment22\\\\classification\\\\classification_agent_output_gpt-4o-mini-2024-07-18.csv',\n",
       " 'experiment23\\\\classification\\\\classification_agent_output_gpt-4o-mini-2024-07-18.csv',\n",
       " 'experiment24\\\\classification\\\\classification_agent_output_gpt-4o-mini-2024-07-18.csv',\n",
       " 'experiment25\\\\classification\\\\classification_agent_output_gpt-4o-mini-2024-07-18.csv',\n",
       " 'experiment26\\\\classification\\\\classification_agent_output_gpt-4o-mini-2024-07-18.csv',\n",
       " 'experiment27\\\\classification\\\\classification_agent_output_gpt-4o-mini-2024-07-18.csv',\n",
       " 'experiment28\\\\classification\\\\classification_agent_output_gpt-4o-mini-2024-07-18.csv',\n",
       " 'experiment29\\\\classification\\\\classification_agent_output_gpt-4o-mini-2024-07-18.csv',\n",
       " 'experiment30\\\\classification\\\\classification_agent_output_gpt-4o-mini-2024-07-18.csv']"
      ]
     },
     "execution_count": 12,
     "metadata": {},
     "output_type": "execute_result"
    }
   ],
   "source": [
    "classification_list = glob(f\"experiment*{os.sep}classification{os.sep}*\")\n",
    "classification_list"
   ]
  },
  {
   "cell_type": "code",
   "execution_count": 14,
   "id": "f49dc142-ebe4-445c-bcfc-edbb48244860",
   "metadata": {},
   "outputs": [
    {
     "name": "stdout",
     "output_type": "stream",
     "text": [
      "Combining 30 CSV files...\n",
      "Added experiment01\\classification\\classification_agent_output_gpt-4o-mini-2024-07-18.csv\n",
      "Added experiment02\\classification\\classification_agent_output_gpt-4o-mini-2024-07-18.csv\n",
      "Added experiment03\\classification\\classification_agent_output_gpt-4o-mini-2024-07-18.csv\n",
      "Added experiment04\\classification\\classification_agent_output_gpt-4o-mini-2024-07-18.csv\n",
      "Added experiment05\\classification\\classification_agent_output_gpt-4o-mini-2024-07-18.csv\n",
      "Added experiment06\\classification\\classification_agent_output_gpt-4o-mini-2024-07-18.csv\n",
      "Added experiment07\\classification\\classification_agent_output_gpt-4o-mini-2024-07-18.csv\n",
      "Added experiment08\\classification\\classification_agent_output_gpt-4o-mini-2024-07-18.csv\n",
      "Added experiment09\\classification\\classification_agent_output_gpt-4o-mini-2024-07-18.csv\n",
      "Added experiment10\\classification\\classification_agent_output_gpt-4o-mini-2024-07-18.csv\n",
      "Added experiment11\\classification\\classification_agent_output_gpt-4o-mini-2024-07-18.csv\n",
      "Added experiment12\\classification\\classification_agent_output_gpt-4o-mini-2024-07-18.csv\n",
      "Added experiment13\\classification\\classification_agent_output_gpt-4o-mini-2024-07-18.csv\n",
      "Added experiment14\\classification\\classification_agent_output_gpt-4o-mini-2024-07-18.csv\n",
      "Added experiment15\\classification\\classification_agent_output_gpt-4o-mini-2024-07-18.csv\n",
      "Added experiment16\\classification\\classification_agent_output_gpt-4o-mini-2024-07-18.csv\n",
      "Added experiment17\\classification\\classification_agent_output_gpt-4o-mini-2024-07-18.csv\n",
      "Added experiment18\\classification\\classification_agent_output_gpt-4o-mini-2024-07-18.csv\n",
      "Added experiment19\\classification\\classification_agent_output_gpt-4o-mini-2024-07-18.csv\n",
      "Added experiment20\\classification\\classification_agent_output_gpt-4o-mini-2024-07-18.csv\n",
      "Added experiment21\\classification\\classification_agent_output_gpt-4o-mini-2024-07-18.csv\n",
      "Added experiment22\\classification\\classification_agent_output_gpt-4o-mini-2024-07-18.csv\n",
      "Added experiment23\\classification\\classification_agent_output_gpt-4o-mini-2024-07-18.csv\n",
      "Added experiment24\\classification\\classification_agent_output_gpt-4o-mini-2024-07-18.csv\n",
      "Added experiment25\\classification\\classification_agent_output_gpt-4o-mini-2024-07-18.csv\n",
      "Added experiment26\\classification\\classification_agent_output_gpt-4o-mini-2024-07-18.csv\n",
      "Added experiment27\\classification\\classification_agent_output_gpt-4o-mini-2024-07-18.csv\n",
      "Added experiment28\\classification\\classification_agent_output_gpt-4o-mini-2024-07-18.csv\n",
      "Added experiment29\\classification\\classification_agent_output_gpt-4o-mini-2024-07-18.csv\n",
      "Added experiment30\\classification\\classification_agent_output_gpt-4o-mini-2024-07-18.csv\n",
      "Combined CSV saved to combined_classification_output.csv\n"
     ]
    }
   ],
   "source": [
    "import os\n",
    "import pandas as pd\n",
    "\n",
    "def combine_csv_files(file_list, output_path='combined_classification_output.csv'):\n",
    "    \"\"\"\n",
    "    Combines multiple CSV files into a single CSV file.\n",
    "    \n",
    "    Args:\n",
    "        file_list (list): List of CSV file paths to combine\n",
    "        output_path (str): Path for the output combined CSV file\n",
    "    \n",
    "    Returns:\n",
    "        bool: True if successful, False otherwise\n",
    "    \"\"\"\n",
    "    # Create an empty DataFrame to store the combined data\n",
    "    combined_df = pd.DataFrame()\n",
    "    \n",
    "    print(f\"Combining {len(file_list)} CSV files...\")\n",
    "    \n",
    "    # Loop through each file and append to the combined DataFrame\n",
    "    for file_path in file_list:\n",
    "        try:\n",
    "            # Read the current CSV file\n",
    "            df = pd.read_csv(file_path)\n",
    "            \n",
    "            # Add a column to identify the experiment source\n",
    "            experiment_name = file_path.split('\\\\')[0]\n",
    "            df['experiment_source'] = experiment_name\n",
    "            \n",
    "            # Append to the combined DataFrame\n",
    "            combined_df = pd.concat([combined_df, df], ignore_index=True)\n",
    "            print(f\"Added {file_path}\")\n",
    "        except Exception as e:\n",
    "            print(f\"Error processing {file_path}: {e}\")\n",
    "    \n",
    "    # Save the combined DataFrame to a new CSV file\n",
    "    combined_df.to_csv(output_path, index=False)\n",
    "    print(f\"Combined CSV saved to {output_path}\")\n",
    "    \n",
    "    return True\n",
    "\n",
    "# List of CSV files to combine (from your input)\n",
    "file_list = classification_list\n",
    "# Output file path\n",
    "output_path = 'combined_classification_output.csv'\n",
    "\n",
    "# Run the function\n",
    "if __name__ == \"__main__\":\n",
    "    combine_csv_files(file_list, output_path)"
   ]
  },
  {
   "cell_type": "code",
   "execution_count": null,
   "id": "8d206803-65f2-459a-9955-2091a37628f7",
   "metadata": {},
   "outputs": [],
   "source": []
  }
 ],
 "metadata": {
  "kernelspec": {
   "display_name": "Python 3 (ipykernel)",
   "language": "python",
   "name": "python3"
  },
  "language_info": {
   "codemirror_mode": {
    "name": "ipython",
    "version": 3
   },
   "file_extension": ".py",
   "mimetype": "text/x-python",
   "name": "python",
   "nbconvert_exporter": "python",
   "pygments_lexer": "ipython3",
   "version": "3.12.7"
  }
 },
 "nbformat": 4,
 "nbformat_minor": 5
}
