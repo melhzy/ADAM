{
 "cells": [
  {
   "cell_type": "code",
   "execution_count": 1,
   "id": "b6679541-fc82-43d0-90c2-f408526bde3e",
   "metadata": {},
   "outputs": [],
   "source": [
    "import os\n",
    "from glob import glob\n",
    "import hashlib\n",
    "import numpy as np\n",
    "import pandas as pd\n",
    "from sklearn.model_selection import train_test_split\n",
    "from copy import deepcopy\n",
    "import ipynbname\n",
    "import matplotlib.pyplot as plt\n",
    "import shap\n",
    "from datetime import datetime\n",
    "import re\n",
    "\n",
    "# Constants\n",
    "EXPERIMENT_NAME = \"nursing_home\"\n",
    "DATA_PATH = f\"..{os.sep}data{os.sep}\""
   ]
  },
  {
   "cell_type": "code",
   "execution_count": 2,
   "id": "60521c5a-a754-48ff-927d-86e713784621",
   "metadata": {},
   "outputs": [
    {
     "name": "stdout",
     "output_type": "stream",
     "text": [
      "Current time is: 2024-12-05 12:52:20.496715\n",
      "File: machine_learning_experiment09\n",
      "Experiment Number: 9\n"
     ]
    }
   ],
   "source": [
    "current_time = datetime.now()\n",
    "print(\"Current time is:\",current_time)\n",
    "\n",
    "nb_fname = ipynbname.name()\n",
    "print(\"File:\",nb_fname)\n",
    "\n",
    "experiment_number = int(re.findall(r'\\d+', nb_fname)[0])\n",
    "print(f\"Experiment Number: {experiment_number}\")  # Output: 01"
   ]
  },
  {
   "cell_type": "code",
   "execution_count": 3,
   "id": "a1b0ccc6-65af-4dd7-b671-bea658a42f6f",
   "metadata": {},
   "outputs": [
    {
     "name": "stdout",
     "output_type": "stream",
     "text": [
      "Experiment Name: nursing_home, Initial Seed: 127573839\n"
     ]
    }
   ],
   "source": [
    "# Function to generate a consistent hash number for a given file name\n",
    "def generate_hash_number(file_name):\n",
    "    \"\"\"\n",
    "    Generates a consistent hash number based on the file name.\n",
    "    \n",
    "    Args:\n",
    "        file_name (str): The file name to hash.\n",
    "    \n",
    "    Returns:\n",
    "        int: A 32-bit hash number.\n",
    "    \"\"\"\n",
    "    # Create an MD5 hash object\n",
    "    hash_obj = hashlib.md5()\n",
    "    \n",
    "    # Update the hash object with the file name, encoded to bytes\n",
    "    hash_obj.update(file_name.encode())\n",
    "\n",
    "    # Convert the hash to an integer and ensure the range fits 32-bit\n",
    "    return int(hash_obj.hexdigest(), 16) % (2**32)\n",
    "\n",
    "# Generate experiment seed from experiment name\n",
    "initial_seed = generate_hash_number(EXPERIMENT_NAME)\n",
    "print(f\"Experiment Name: {EXPERIMENT_NAME}, Initial Seed: {initial_seed}\")"
   ]
  },
  {
   "cell_type": "code",
   "execution_count": 4,
   "id": "2ccd6498-27b0-4a98-a155-7e4e54219aa0",
   "metadata": {},
   "outputs": [
    {
     "name": "stdout",
     "output_type": "stream",
     "text": [
      "Random Integers List: [315491657, 135304577, 1572185508, 1029933563, 1950160822, 563269619, 1573902777, 513873336, 442822283, 1770168448]\n",
      "Data File Path: ../data/clinical_microbiome_df.csv\n",
      "Clinical Microbiome Data Loaded.\n",
      "Alzheimers Counts:\n",
      " Alzheimers\n",
      "0.0    225\n",
      "1.0    110\n",
      "Name: count, dtype: int64\n",
      "Normalized Alzheimers Counts:\n",
      " Alzheimers\n",
      "0.0    0.671642\n",
      "1.0    0.328358\n",
      "Name: proportion, dtype: float64\n",
      "Seed in this experiment: 442822283\n"
     ]
    }
   ],
   "source": [
    "# Set the seed for reproducibility\n",
    "np.random.seed(initial_seed)\n",
    "\n",
    "# Generate a list of 5 random integers in the range of 32-bit integers\n",
    "random_integers_list = np.random.randint(low=0, high=2**31 - 1, size=10).tolist()\n",
    "print(\"Random Integers List:\", random_integers_list)\n",
    "seed = random_integers_list[experiment_number-1]\n",
    "# Load clinical microbiome data\n",
    "df_path = glob(f'{DATA_PATH}*clinical_microbiome_df*')[0]\n",
    "print(f\"Data File Path: {df_path}\")\n",
    "\n",
    "clinical_microbiome_df = pd.read_csv(df_path)\n",
    "print(\"Clinical Microbiome Data Loaded.\")\n",
    "\n",
    "# Display value counts for the 'Alzheimers' column\n",
    "alzheimers_counts = clinical_microbiome_df['Alzheimers'].value_counts()\n",
    "alzheimers_counts_normalized = clinical_microbiome_df['Alzheimers'].value_counts(normalize=True)\n",
    "\n",
    "print(\"Alzheimers Counts:\\n\", alzheimers_counts)\n",
    "print(\"Normalized Alzheimers Counts:\\n\", alzheimers_counts_normalized)\n",
    "print(f\"Seed in this experiment: {seed}\")"
   ]
  },
  {
   "cell_type": "code",
   "execution_count": 5,
   "id": "0a65013c-020e-4791-a5b5-267c88b31571",
   "metadata": {},
   "outputs": [
    {
     "data": {
      "text/plain": [
       "Dementia Other\n",
       "0    335\n",
       "Name: count, dtype: int64"
      ]
     },
     "execution_count": 5,
     "metadata": {},
     "output_type": "execute_result"
    }
   ],
   "source": [
    "clinical_microbiome_df[\"Dementia Other\"].value_counts()"
   ]
  },
  {
   "cell_type": "code",
   "execution_count": 6,
   "id": "7b7a05b7-bf8c-4ac6-8d63-4857991845f2",
   "metadata": {},
   "outputs": [
    {
     "name": "stdout",
     "output_type": "stream",
     "text": [
      "Alzheimers Counts:\n",
      " Alzheimers\n",
      "0.0    225\n",
      "1.0    110\n",
      "Name: count, dtype: int64\n",
      "Normalized Alzheimers Counts:\n",
      " Alzheimers\n",
      "0.0    0.671642\n",
      "1.0    0.328358\n",
      "Name: proportion, dtype: float64\n"
     ]
    }
   ],
   "source": [
    "clinical_microbiome_df = clinical_microbiome_df[clinical_microbiome_df[\"Dementia Other\"] != 1]\n",
    "# Display value counts for the 'Alzheimers' column\n",
    "alzheimers_counts = clinical_microbiome_df['Alzheimers'].value_counts()\n",
    "alzheimers_counts_normalized = clinical_microbiome_df['Alzheimers'].value_counts(normalize=True)\n",
    "print(\"Alzheimers Counts:\\n\", alzheimers_counts)\n",
    "print(\"Normalized Alzheimers Counts:\\n\", alzheimers_counts_normalized)"
   ]
  },
  {
   "cell_type": "code",
   "execution_count": 7,
   "id": "6dc693dd-1c73-40cd-b9c4-c6cf01ae3fcf",
   "metadata": {},
   "outputs": [
    {
     "data": {
      "text/html": [
       "<div>\n",
       "<style scoped>\n",
       "    .dataframe tbody tr th:only-of-type {\n",
       "        vertical-align: middle;\n",
       "    }\n",
       "\n",
       "    .dataframe tbody tr th {\n",
       "        vertical-align: top;\n",
       "    }\n",
       "\n",
       "    .dataframe thead th {\n",
       "        text-align: right;\n",
       "    }\n",
       "</style>\n",
       "<table border=\"1\" class=\"dataframe\">\n",
       "  <thead>\n",
       "    <tr style=\"text-align: right;\">\n",
       "      <th></th>\n",
       "      <th>Feature</th>\n",
       "      <th>Description</th>\n",
       "      <th>Group Characteristics</th>\n",
       "      <th>Summary</th>\n",
       "    </tr>\n",
       "  </thead>\n",
       "  <tbody>\n",
       "    <tr>\n",
       "      <th>0</th>\n",
       "      <td>Sample ID</td>\n",
       "      <td>Unique identifier for biological or clinical s...</td>\n",
       "      <td>Study Identification</td>\n",
       "      <td>### Clinical Feature Summary\\n\\n#### Feature: ...</td>\n",
       "    </tr>\n",
       "    <tr>\n",
       "      <th>1</th>\n",
       "      <td>study_id</td>\n",
       "      <td>Identifier for the specific study or research ...</td>\n",
       "      <td>Study Identification</td>\n",
       "      <td>### Clinical Feature Definitions, Scope, and R...</td>\n",
       "    </tr>\n",
       "    <tr>\n",
       "      <th>2</th>\n",
       "      <td>day</td>\n",
       "      <td>Day of data collection or relevant event.</td>\n",
       "      <td>Temporal Information</td>\n",
       "      <td>### Clinical Feature Summary for Alzheimer's D...</td>\n",
       "    </tr>\n",
       "    <tr>\n",
       "      <th>3</th>\n",
       "      <td>Date Sample</td>\n",
       "      <td>Date when the sample was collected.</td>\n",
       "      <td>Temporal Information</td>\n",
       "      <td>### Clinical Feature Summary\\n\\n#### Feature: ...</td>\n",
       "    </tr>\n",
       "    <tr>\n",
       "      <th>4</th>\n",
       "      <td>age</td>\n",
       "      <td>Age of the participant.</td>\n",
       "      <td>Demographic Information</td>\n",
       "      <td>### Clinical Feature Summary: Age\\n\\n**Definit...</td>\n",
       "    </tr>\n",
       "    <tr>\n",
       "      <th>...</th>\n",
       "      <td>...</td>\n",
       "      <td>...</td>\n",
       "      <td>...</td>\n",
       "      <td>...</td>\n",
       "    </tr>\n",
       "    <tr>\n",
       "      <th>98</th>\n",
       "      <td>Severe Liver disease</td>\n",
       "      <td>Advanced liver disease diagnosis.</td>\n",
       "      <td>Hepatic Condition</td>\n",
       "      <td>### Clinical Feature: Severe Liver Disease\\n\\n...</td>\n",
       "    </tr>\n",
       "    <tr>\n",
       "      <th>99</th>\n",
       "      <td>ostomy</td>\n",
       "      <td>Presence of an ostomy.</td>\n",
       "      <td>Surgical History</td>\n",
       "      <td>### Clinical Feature: Ostomy\\n\\n**Definition:*...</td>\n",
       "    </tr>\n",
       "    <tr>\n",
       "      <th>100</th>\n",
       "      <td>Alzheimers</td>\n",
       "      <td>Diagnosis of Alzheimer’s disease.</td>\n",
       "      <td>Neurological Condition</td>\n",
       "      <td>### Clinical Feature Summary: Alzheimer's Dise...</td>\n",
       "    </tr>\n",
       "    <tr>\n",
       "      <th>101</th>\n",
       "      <td>Dementia Other</td>\n",
       "      <td>Other forms of dementia.</td>\n",
       "      <td>Neurological Condition</td>\n",
       "      <td>### Clinical Feature: Dementia Other\\n\\n**Defi...</td>\n",
       "    </tr>\n",
       "    <tr>\n",
       "      <th>102</th>\n",
       "      <td>Parkinsons</td>\n",
       "      <td>Parkinson’s disease diagnosis.</td>\n",
       "      <td>Neurological Condition</td>\n",
       "      <td>### Clinical Feature: Parkinson's Disease\\n\\n*...</td>\n",
       "    </tr>\n",
       "  </tbody>\n",
       "</table>\n",
       "<p>103 rows × 4 columns</p>\n",
       "</div>"
      ],
      "text/plain": [
       "                  Feature                                        Description  \\\n",
       "0               Sample ID  Unique identifier for biological or clinical s...   \n",
       "1                study_id  Identifier for the specific study or research ...   \n",
       "2                     day          Day of data collection or relevant event.   \n",
       "3             Date Sample                Date when the sample was collected.   \n",
       "4                     age                            Age of the participant.   \n",
       "..                    ...                                                ...   \n",
       "98   Severe Liver disease                  Advanced liver disease diagnosis.   \n",
       "99                 ostomy                             Presence of an ostomy.   \n",
       "100            Alzheimers                  Diagnosis of Alzheimer’s disease.   \n",
       "101        Dementia Other                           Other forms of dementia.   \n",
       "102            Parkinsons                     Parkinson’s disease diagnosis.   \n",
       "\n",
       "       Group Characteristics  \\\n",
       "0       Study Identification   \n",
       "1       Study Identification   \n",
       "2       Temporal Information   \n",
       "3       Temporal Information   \n",
       "4    Demographic Information   \n",
       "..                       ...   \n",
       "98         Hepatic Condition   \n",
       "99          Surgical History   \n",
       "100   Neurological Condition   \n",
       "101   Neurological Condition   \n",
       "102   Neurological Condition   \n",
       "\n",
       "                                               Summary  \n",
       "0    ### Clinical Feature Summary\\n\\n#### Feature: ...  \n",
       "1    ### Clinical Feature Definitions, Scope, and R...  \n",
       "2    ### Clinical Feature Summary for Alzheimer's D...  \n",
       "3    ### Clinical Feature Summary\\n\\n#### Feature: ...  \n",
       "4    ### Clinical Feature Summary: Age\\n\\n**Definit...  \n",
       "..                                                 ...  \n",
       "98   ### Clinical Feature: Severe Liver Disease\\n\\n...  \n",
       "99   ### Clinical Feature: Ostomy\\n\\n**Definition:*...  \n",
       "100  ### Clinical Feature Summary: Alzheimer's Dise...  \n",
       "101  ### Clinical Feature: Dementia Other\\n\\n**Defi...  \n",
       "102  ### Clinical Feature: Parkinson's Disease\\n\\n*...  \n",
       "\n",
       "[103 rows x 4 columns]"
      ]
     },
     "execution_count": 7,
     "metadata": {},
     "output_type": "execute_result"
    }
   ],
   "source": [
    "clinical_summaries_df = pd.read_csv(glob(f\"..{os.sep}data{os.sep}clinical_summaries_df*\")[0])\n",
    "clinical_summaries_df"
   ]
  },
  {
   "cell_type": "code",
   "execution_count": 8,
   "id": "047e4f9a-f795-406f-892c-dc0b3262073c",
   "metadata": {},
   "outputs": [
    {
     "data": {
      "text/plain": [
       "['Sample ID', 'study_id', 'day', 'Date Sample', 'age']"
      ]
     },
     "execution_count": 8,
     "metadata": {},
     "output_type": "execute_result"
    }
   ],
   "source": [
    "clinical_summaries_df['Feature'].tolist()[:5]"
   ]
  },
  {
   "cell_type": "code",
   "execution_count": 9,
   "id": "b0dd156a-abee-425f-9b00-c7bc57d12056",
   "metadata": {},
   "outputs": [
    {
     "data": {
      "text/html": [
       "<div>\n",
       "<style scoped>\n",
       "    .dataframe tbody tr th:only-of-type {\n",
       "        vertical-align: middle;\n",
       "    }\n",
       "\n",
       "    .dataframe tbody tr th {\n",
       "        vertical-align: top;\n",
       "    }\n",
       "\n",
       "    .dataframe thead th {\n",
       "        text-align: right;\n",
       "    }\n",
       "</style>\n",
       "<table border=\"1\" class=\"dataframe\">\n",
       "  <thead>\n",
       "    <tr style=\"text-align: right;\">\n",
       "      <th></th>\n",
       "      <th>Feature</th>\n",
       "    </tr>\n",
       "  </thead>\n",
       "  <tbody>\n",
       "    <tr>\n",
       "      <th>10</th>\n",
       "      <td>clinical_frailty_scale</td>\n",
       "    </tr>\n",
       "    <tr>\n",
       "      <th>16</th>\n",
       "      <td>cholinesterase inhibitors</td>\n",
       "    </tr>\n",
       "    <tr>\n",
       "      <th>17</th>\n",
       "      <td>Calcium-channel blockers</td>\n",
       "    </tr>\n",
       "    <tr>\n",
       "      <th>58</th>\n",
       "      <td>Calcium Channel Modulators</td>\n",
       "    </tr>\n",
       "    <tr>\n",
       "      <th>59</th>\n",
       "      <td>Carbonic Anhydrase Inhibitor</td>\n",
       "    </tr>\n",
       "    <tr>\n",
       "      <th>60</th>\n",
       "      <td>Carboxamides</td>\n",
       "    </tr>\n",
       "    <tr>\n",
       "      <th>71</th>\n",
       "      <td>Chemotherapy Medication</td>\n",
       "    </tr>\n",
       "    <tr>\n",
       "      <th>81</th>\n",
       "      <td>COPD</td>\n",
       "    </tr>\n",
       "    <tr>\n",
       "      <th>86</th>\n",
       "      <td>Congestive heart failure</td>\n",
       "    </tr>\n",
       "    <tr>\n",
       "      <th>88</th>\n",
       "      <td>Cerebrovascular disease: CVA with mild or no r...</td>\n",
       "    </tr>\n",
       "    <tr>\n",
       "      <th>89</th>\n",
       "      <td>Chronic pulmonary disease</td>\n",
       "    </tr>\n",
       "    <tr>\n",
       "      <th>90</th>\n",
       "      <td>Connective tissue disease</td>\n",
       "    </tr>\n",
       "  </tbody>\n",
       "</table>\n",
       "</div>"
      ],
      "text/plain": [
       "                                              Feature\n",
       "10                             clinical_frailty_scale\n",
       "16                          cholinesterase inhibitors\n",
       "17                           Calcium-channel blockers\n",
       "58                         Calcium Channel Modulators\n",
       "59                       Carbonic Anhydrase Inhibitor\n",
       "60                                       Carboxamides\n",
       "71                            Chemotherapy Medication\n",
       "81                                               COPD\n",
       "86                           Congestive heart failure\n",
       "88  Cerebrovascular disease: CVA with mild or no r...\n",
       "89                          Chronic pulmonary disease\n",
       "90                          Connective tissue disease"
      ]
     },
     "execution_count": 9,
     "metadata": {},
     "output_type": "execute_result"
    }
   ],
   "source": [
    "clinical_summaries_df[['Feature']][clinical_summaries_df['Feature'].str.startswith(('c', 'C'))]"
   ]
  },
  {
   "cell_type": "code",
   "execution_count": 10,
   "id": "2997ecd9-868f-41cb-afce-4756762de9ab",
   "metadata": {},
   "outputs": [
    {
     "data": {
      "text/plain": [
       "['Faecalibacterium_prausnitzii',\n",
       " 'Fusicatenibacter_saccharivorans',\n",
       " 'Eubacterium_siraeum',\n",
       " 'Gemmiger_formicilis',\n",
       " 'Eubacterium_rectale']"
      ]
     },
     "execution_count": 10,
     "metadata": {},
     "output_type": "execute_result"
    }
   ],
   "source": [
    "bacteria_df = pd.read_csv(glob(f\"..{os.sep}data{os.sep}bacteria_df*\")[0])\n",
    "bacteria_df.species_name.tolist()[:5]"
   ]
  },
  {
   "cell_type": "code",
   "execution_count": 11,
   "id": "9940c398-8524-4ecd-a178-c214d07d1ed1",
   "metadata": {},
   "outputs": [
    {
     "data": {
      "text/plain": [
       "{'Eubacterium_rectale',\n",
       " 'Eubacterium_siraeum',\n",
       " 'Faecalibacterium_prausnitzii',\n",
       " 'Fusicatenibacter_saccharivorans',\n",
       " 'Gemmiger_formicilis'}"
      ]
     },
     "execution_count": 11,
     "metadata": {},
     "output_type": "execute_result"
    }
   ],
   "source": [
    "set(bacteria_df.species_name.tolist()[:5])"
   ]
  },
  {
   "cell_type": "code",
   "execution_count": 12,
   "id": "6c15693c-7560-40f1-b66e-10cee97224c6",
   "metadata": {},
   "outputs": [
    {
     "data": {
      "text/plain": [
       "Dementia Other\n",
       "0    335\n",
       "Name: count, dtype: int64"
      ]
     },
     "execution_count": 12,
     "metadata": {},
     "output_type": "execute_result"
    }
   ],
   "source": [
    "clinical_microbiome_df[\"Dementia Other\"].value_counts()"
   ]
  },
  {
   "cell_type": "code",
   "execution_count": 13,
   "id": "e703fd42-1a78-42dc-b3ae-3378690be420",
   "metadata": {},
   "outputs": [
    {
     "name": "stdout",
     "output_type": "stream",
     "text": [
      "cuda:0: ['machine_learning_experiment03.ipynb', 'machine_learning_experiment06.ipynb', 'machine_learning_experiment08.ipynb']\n",
      "cuda:1: ['machine_learning_experiment09.ipynb', 'machine_learning_experiment07.ipynb', 'machine_learning_experiment10.ipynb']\n",
      "cuda:2: ['machine_learning_experiment02.ipynb', 'machine_learning_experiment04.ipynb']\n",
      "cuda:3: ['machine_learning_experiment05.ipynb', 'machine_learning_experiment01.ipynb']\n",
      "Initial seed: 127573839\n",
      "Random Integers List: [315491657, 135304577, 1572185508, 1029933563, 1950160822, 563269619, 1573902777, 513873336, 442822283, 1770168448]\n",
      "Notebook 'machine_learning_experiment09.ipynb' is assigned to device: cuda:1 with seed 442822283.\n"
     ]
    }
   ],
   "source": [
    "import os\n",
    "from math import ceil\n",
    "from pynvml import nvmlInit, nvmlDeviceGetCount\n",
    "\n",
    "# Function to get the number of GPUs available\n",
    "def get_num_gpus():\n",
    "    try:\n",
    "        nvmlInit()\n",
    "        return nvmlDeviceGetCount()\n",
    "    except Exception as e:\n",
    "        print(f\"Error accessing NVML: {e}\")\n",
    "        return 0\n",
    "\n",
    "# Function to list all .ipynb files in the current directory\n",
    "def get_notebook_files():\n",
    "    return [f for f in os.listdir('.') if f.endswith('.ipynb')]\n",
    "\n",
    "# Function to evenly distribute files across GPUs\n",
    "def distribute_files_evenly(files, num_gpus):\n",
    "    \"\"\"\n",
    "    Distributes files evenly across all available GPUs.\n",
    "    \n",
    "    Args:\n",
    "        files (list): List of file names to distribute.\n",
    "        num_gpus (int): Number of GPUs available.\n",
    "        \n",
    "    Returns:\n",
    "        dict: Distribution of files per GPU.\n",
    "    \"\"\"\n",
    "    distribution = {f\"cuda:{i}\": [] for i in range(num_gpus)}\n",
    "    for idx, file in enumerate(files):\n",
    "        # Assign each file to a GPU in round-robin fashion\n",
    "        gpu_id = idx % num_gpus\n",
    "        distribution[f\"cuda:{gpu_id}\"].append(file)\n",
    "    return distribution\n",
    "\n",
    "# Function to get GPU ID for a specific notebook file\n",
    "def get_gpu_for_file(nb_fname, file_distribution):\n",
    "    \"\"\"\n",
    "    Finds the GPU ID for a given notebook file based on the distribution.\n",
    "    \n",
    "    Args:\n",
    "        nb_fname (str): Notebook file name to find the GPU for.\n",
    "        file_distribution (dict): Distribution of files per GPU.\n",
    "    \n",
    "    Returns:\n",
    "        str: GPU ID (e.g., \"cuda:0\") or \"Unassigned\" if the file is not found.\n",
    "    \"\"\"\n",
    "    for gpu, files in file_distribution.items():\n",
    "        if nb_fname in files:\n",
    "            return gpu\n",
    "    return \"cpu\"\n",
    "\n",
    "# Main logic for the notebook\n",
    "def assign_notebooks_to_gpus():\n",
    "    # Get the number of GPUs\n",
    "    num_gpus = get_num_gpus()\n",
    "    if num_gpus == 0:\n",
    "        print(\"No GPUs available. Using CPU for all tasks.\")\n",
    "        return {\"cpu\": get_notebook_files()}\n",
    "    \n",
    "    # Get the list of .ipynb files\n",
    "    notebook_files = get_notebook_files()\n",
    "    if not notebook_files:\n",
    "        print(\"No .ipynb files found in the current directory.\")\n",
    "        return {}\n",
    "    \n",
    "    # Evenly distribute files across GPUs\n",
    "    file_distribution = distribute_files_evenly(notebook_files, num_gpus)\n",
    "    \n",
    "    # Display the distribution in the notebook\n",
    "    for gpu, files in file_distribution.items():\n",
    "        print(f\"{gpu}: {files}\")\n",
    "    \n",
    "    return file_distribution\n",
    "\n",
    "# Run the assignment logic\n",
    "file_distribution = assign_notebooks_to_gpus()\n",
    "\n",
    "# Get the GPU ID for the specific notebook file\n",
    "device = get_gpu_for_file(f\"{nb_fname}.ipynb\", file_distribution)\n",
    "\n",
    "print(f\"Initial seed: {initial_seed}\")\n",
    "print(f\"Random Integers List: {random_integers_list}\")\n",
    "# Print the result\n",
    "print(f\"Notebook '{nb_fname}.ipynb' is assigned to device: {device} with seed {seed}.\")"
   ]
  },
  {
   "cell_type": "code",
   "execution_count": 14,
   "id": "aa8502c3-c35f-4798-9c31-429e329e307a",
   "metadata": {
    "scrolled": true
   },
   "outputs": [
    {
     "name": "stdout",
     "output_type": "stream",
     "text": [
      "Experiment number: 9 | Seed number: 442822283\n",
      "No overlap Study ID found.\n",
      "No overlap Sample ID found.\n"
     ]
    },
    {
     "name": "stderr",
     "output_type": "stream",
     "text": [
      "[I 2024-12-05 12:52:21,429] A new study created in memory with name: no-name-beedafa9-39e7-4632-9c9f-932b2da9f7b2\n"
     ]
    },
    {
     "name": "stdout",
     "output_type": "stream",
     "text": [
      "Seed in the model 442822283 on Device cuda:1\n"
     ]
    },
    {
     "name": "stderr",
     "output_type": "stream",
     "text": [
      "[I 2024-12-05 12:52:23,864] Trial 0 finished with value: 0.8561892151763054 and parameters: {'threshold': '0.5*mean', 'max_features': 196, 'norm_order': 1, 'n_estimators': 229, 'max_depth': 6, 'min_samples_split': 6, 'min_samples_leaf': 1, 'max_features_rf': 0.8346839922384979}. Best is trial 0 with value: 0.8561892151763054.\n"
     ]
    },
    {
     "name": "stdout",
     "output_type": "stream",
     "text": [
      "Seed in the model 442822283 on Device cuda:1\n"
     ]
    },
    {
     "name": "stderr",
     "output_type": "stream",
     "text": [
      "[I 2024-12-05 12:52:25,604] Trial 1 finished with value: 0.8093729694606887 and parameters: {'threshold': 'very_low', 'max_features': 203, 'norm_order': 1, 'n_estimators': 165, 'max_depth': 21, 'min_samples_split': 8, 'min_samples_leaf': 5, 'max_features_rf': 0.6970263104704051}. Best is trial 0 with value: 0.8561892151763054.\n"
     ]
    },
    {
     "name": "stdout",
     "output_type": "stream",
     "text": [
      "Seed in the model 442822283 on Device cuda:1\n"
     ]
    },
    {
     "name": "stderr",
     "output_type": "stream",
     "text": [
      "[I 2024-12-05 12:52:26,879] Trial 2 finished with value: 0.873989218328841 and parameters: {'threshold': '1.5*mean', 'max_features': 756, 'norm_order': 1, 'n_estimators': 95, 'max_depth': 5, 'min_samples_split': 4, 'min_samples_leaf': 1, 'max_features_rf': 0.9468900398512949}. Best is trial 2 with value: 0.873989218328841.\n"
     ]
    },
    {
     "name": "stdout",
     "output_type": "stream",
     "text": [
      "Seed in the model 442822283 on Device cuda:1\n"
     ]
    },
    {
     "name": "stderr",
     "output_type": "stream",
     "text": [
      "[I 2024-12-05 12:52:27,533] Trial 3 finished with value: 0.8126772721667285 and parameters: {'threshold': '0.5*mean', 'max_features': 908, 'norm_order': 2, 'n_estimators': 61, 'max_depth': 17, 'min_samples_split': 2, 'min_samples_leaf': 1, 'max_features_rf': 0.5855004028780038}. Best is trial 2 with value: 0.873989218328841.\n"
     ]
    },
    {
     "name": "stdout",
     "output_type": "stream",
     "text": [
      "Seed in the model 442822283 on Device cuda:1\n"
     ]
    },
    {
     "name": "stderr",
     "output_type": "stream",
     "text": [
      "[I 2024-12-05 12:52:30,474] Trial 4 finished with value: 0.8063810319449417 and parameters: {'threshold': 'very_low', 'max_features': 821, 'norm_order': 2, 'n_estimators': 180, 'max_depth': 20, 'min_samples_split': 7, 'min_samples_leaf': 4, 'max_features_rf': 0.6086829587829998}. Best is trial 2 with value: 0.873989218328841.\n"
     ]
    },
    {
     "name": "stdout",
     "output_type": "stream",
     "text": [
      "Seed in the model 442822283 on Device cuda:1\n"
     ]
    },
    {
     "name": "stderr",
     "output_type": "stream",
     "text": [
      "[I 2024-12-05 12:52:33,341] Trial 5 finished with value: 0.831789594053745 and parameters: {'threshold': 'very_low', 'max_features': 135, 'norm_order': 2, 'n_estimators': 283, 'max_depth': 12, 'min_samples_split': 8, 'min_samples_leaf': 1, 'max_features_rf': 0.8309791156654021}. Best is trial 2 with value: 0.873989218328841.\n"
     ]
    },
    {
     "name": "stdout",
     "output_type": "stream",
     "text": [
      "Seed in the model 442822283 on Device cuda:1\n"
     ]
    },
    {
     "name": "stderr",
     "output_type": "stream",
     "text": [
      "[I 2024-12-05 12:52:35,416] Trial 6 finished with value: 0.8187267109572874 and parameters: {'threshold': 'very_low', 'max_features': 1013, 'norm_order': 2, 'n_estimators': 117, 'max_depth': 15, 'min_samples_split': 2, 'min_samples_leaf': 5, 'max_features_rf': 0.8264156138599785}. Best is trial 2 with value: 0.873989218328841.\n"
     ]
    },
    {
     "name": "stdout",
     "output_type": "stream",
     "text": [
      "Seed in the model 442822283 on Device cuda:1\n"
     ]
    },
    {
     "name": "stderr",
     "output_type": "stream",
     "text": [
      "[I 2024-12-05 12:52:36,206] Trial 7 finished with value: 0.820624546114742 and parameters: {'threshold': '1.5*mean', 'max_features': 12, 'norm_order': 1, 'n_estimators': 57, 'max_depth': 20, 'min_samples_split': 2, 'min_samples_leaf': 1, 'max_features_rf': 0.642334775775937}. Best is trial 2 with value: 0.873989218328841.\n"
     ]
    },
    {
     "name": "stdout",
     "output_type": "stream",
     "text": [
      "Seed in the model 442822283 on Device cuda:1\n"
     ]
    },
    {
     "name": "stderr",
     "output_type": "stream",
     "text": [
      "[I 2024-12-05 12:52:38,759] Trial 8 finished with value: 0.8323321531341582 and parameters: {'threshold': 'median', 'max_features': 243, 'norm_order': 2, 'n_estimators': 261, 'max_depth': 25, 'min_samples_split': 3, 'min_samples_leaf': 3, 'max_features_rf': 0.5988477923759147}. Best is trial 2 with value: 0.873989218328841.\n"
     ]
    },
    {
     "name": "stdout",
     "output_type": "stream",
     "text": [
      "Seed in the model 442822283 on Device cuda:1\n"
     ]
    },
    {
     "name": "stderr",
     "output_type": "stream",
     "text": [
      "[I 2024-12-05 12:52:41,502] Trial 9 finished with value: 0.8335297362904116 and parameters: {'threshold': 'mean', 'max_features': 221, 'norm_order': 1, 'n_estimators': 274, 'max_depth': 8, 'min_samples_split': 2, 'min_samples_leaf': 4, 'max_features_rf': 0.9871725269130608}. Best is trial 2 with value: 0.873989218328841.\n"
     ]
    },
    {
     "name": "stdout",
     "output_type": "stream",
     "text": [
      "Seed in the model 442822283 on Device cuda:1\n"
     ]
    },
    {
     "name": "stderr",
     "output_type": "stream",
     "text": [
      "[I 2024-12-05 12:52:42,738] Trial 10 finished with value: 0.873989218328841 and parameters: {'threshold': '1.5*mean', 'max_features': 602, 'norm_order': 1, 'n_estimators': 117, 'max_depth': 30, 'min_samples_split': 10, 'min_samples_leaf': 2, 'max_features_rf': 0.9977278543920385}. Best is trial 2 with value: 0.873989218328841.\n"
     ]
    },
    {
     "name": "stdout",
     "output_type": "stream",
     "text": [
      "Seed in the model 442822283 on Device cuda:1\n"
     ]
    },
    {
     "name": "stderr",
     "output_type": "stream",
     "text": [
      "[I 2024-12-05 12:52:44,329] Trial 11 finished with value: 0.8794004737400963 and parameters: {'threshold': '1.5*mean', 'max_features': 599, 'norm_order': 1, 'n_estimators': 121, 'max_depth': 30, 'min_samples_split': 10, 'min_samples_leaf': 2, 'max_features_rf': 0.9847608533022311}. Best is trial 11 with value: 0.8794004737400963.\n"
     ]
    },
    {
     "name": "stdout",
     "output_type": "stream",
     "text": [
      "Seed in the model 442822283 on Device cuda:1\n"
     ]
    },
    {
     "name": "stderr",
     "output_type": "stream",
     "text": [
      "[I 2024-12-05 12:52:45,399] Trial 12 finished with value: 0.8345146584140295 and parameters: {'threshold': '1.5*mean', 'max_features': 597, 'norm_order': 1, 'n_estimators': 110, 'max_depth': 28, 'min_samples_split': 5, 'min_samples_leaf': 2, 'max_features_rf': 0.9225246075334637}. Best is trial 11 with value: 0.8794004737400963.\n"
     ]
    },
    {
     "name": "stdout",
     "output_type": "stream",
     "text": [
      "Seed in the model 442822283 on Device cuda:1\n"
     ]
    },
    {
     "name": "stderr",
     "output_type": "stream",
     "text": [
      "[I 2024-12-05 12:52:46,896] Trial 13 finished with value: 0.8790974882928907 and parameters: {'threshold': '1.5*mean', 'max_features': 425, 'norm_order': 1, 'n_estimators': 160, 'max_depth': 4, 'min_samples_split': 4, 'min_samples_leaf': 2, 'max_features_rf': 0.5060816900835073}. Best is trial 11 with value: 0.8794004737400963.\n"
     ]
    },
    {
     "name": "stdout",
     "output_type": "stream",
     "text": [
      "Seed in the model 442822283 on Device cuda:1\n"
     ]
    },
    {
     "name": "stderr",
     "output_type": "stream",
     "text": [
      "[I 2024-12-05 12:52:48,149] Trial 14 finished with value: 0.8267566351776878 and parameters: {'threshold': '1.5*mean', 'max_features': 447, 'norm_order': 1, 'n_estimators': 174, 'max_depth': 11, 'min_samples_split': 10, 'min_samples_leaf': 2, 'max_features_rf': 0.5302787236811097}. Best is trial 11 with value: 0.8794004737400963.\n"
     ]
    },
    {
     "name": "stdout",
     "output_type": "stream",
     "text": [
      "Seed in the model 442822283 on Device cuda:1\n"
     ]
    },
    {
     "name": "stderr",
     "output_type": "stream",
     "text": [
      "[I 2024-12-05 12:52:50,651] Trial 15 finished with value: 0.836603872318158 and parameters: {'threshold': 'median', 'max_features': 416, 'norm_order': 1, 'n_estimators': 208, 'max_depth': 24, 'min_samples_split': 5, 'min_samples_leaf': 3, 'max_features_rf': 0.5013536972443261}. Best is trial 11 with value: 0.8794004737400963.\n"
     ]
    },
    {
     "name": "stdout",
     "output_type": "stream",
     "text": [
      "Seed in the model 442822283 on Device cuda:1\n"
     ]
    },
    {
     "name": "stderr",
     "output_type": "stream",
     "text": [
      "[I 2024-12-05 12:52:52,195] Trial 16 finished with value: 0.8333499717147516 and parameters: {'threshold': 'mean', 'max_features': 361, 'norm_order': 1, 'n_estimators': 138, 'max_depth': 10, 'min_samples_split': 9, 'min_samples_leaf': 2, 'max_features_rf': 0.7382189656938}. Best is trial 11 with value: 0.8794004737400963.\n"
     ]
    },
    {
     "name": "stdout",
     "output_type": "stream",
     "text": [
      "Seed in the model 442822283 on Device cuda:1\n"
     ]
    },
    {
     "name": "stderr",
     "output_type": "stream",
     "text": [
      "[I 2024-12-05 12:52:53,364] Trial 17 finished with value: 0.8257808948633029 and parameters: {'threshold': '1.5*mean', 'max_features': 661, 'norm_order': 1, 'n_estimators': 148, 'max_depth': 3, 'min_samples_split': 4, 'min_samples_leaf': 3, 'max_features_rf': 0.896821305234116}. Best is trial 11 with value: 0.8794004737400963.\n"
     ]
    },
    {
     "name": "stdout",
     "output_type": "stream",
     "text": [
      "Seed in the model 442822283 on Device cuda:1\n"
     ]
    },
    {
     "name": "stderr",
     "output_type": "stream",
     "text": [
      "[I 2024-12-05 12:52:55,141] Trial 18 finished with value: 0.8497554157931516 and parameters: {'threshold': '1.5*mean', 'max_features': 533, 'norm_order': 1, 'n_estimators': 215, 'max_depth': 17, 'min_samples_split': 6, 'min_samples_leaf': 2, 'max_features_rf': 0.7647116087836434}. Best is trial 11 with value: 0.8794004737400963.\n"
     ]
    },
    {
     "name": "stdout",
     "output_type": "stream",
     "text": [
      "Seed in the model 442822283 on Device cuda:1\n"
     ]
    },
    {
     "name": "stderr",
     "output_type": "stream",
     "text": [
      "[I 2024-12-05 12:52:56,751] Trial 19 finished with value: 0.836667016720925 and parameters: {'threshold': '1.5*mean', 'max_features': 350, 'norm_order': 1, 'n_estimators': 200, 'max_depth': 13, 'min_samples_split': 4, 'min_samples_leaf': 3, 'max_features_rf': 0.6959451559612947}. Best is trial 11 with value: 0.8794004737400963.\n"
     ]
    },
    {
     "name": "stdout",
     "output_type": "stream",
     "text": [
      "Seed in the model 442822283 on Device cuda:1\n"
     ]
    },
    {
     "name": "stderr",
     "output_type": "stream",
     "text": [
      "[I 2024-12-05 12:52:57,547] Trial 20 finished with value: 0.8425551057130004 and parameters: {'threshold': '0.5*mean', 'max_features': 732, 'norm_order': 2, 'n_estimators': 86, 'max_depth': 25, 'min_samples_split': 7, 'min_samples_leaf': 4, 'max_features_rf': 0.8723713186218006}. Best is trial 11 with value: 0.8794004737400963.\n"
     ]
    },
    {
     "name": "stdout",
     "output_type": "stream",
     "text": [
      "Seed in the model 442822283 on Device cuda:1\n"
     ]
    },
    {
     "name": "stderr",
     "output_type": "stream",
     "text": [
      "[I 2024-12-05 12:52:58,761] Trial 21 finished with value: 0.8573933372296901 and parameters: {'threshold': '1.5*mean', 'max_features': 754, 'norm_order': 1, 'n_estimators': 89, 'max_depth': 3, 'min_samples_split': 4, 'min_samples_leaf': 1, 'max_features_rf': 0.9582160670537295}. Best is trial 11 with value: 0.8794004737400963.\n"
     ]
    },
    {
     "name": "stdout",
     "output_type": "stream",
     "text": [
      "Seed in the model 442822283 on Device cuda:1\n"
     ]
    },
    {
     "name": "stderr",
     "output_type": "stream",
     "text": [
      "[I 2024-12-05 12:52:59,861] Trial 22 finished with value: 0.8629443980321173 and parameters: {'threshold': '1.5*mean', 'max_features': 483, 'norm_order': 1, 'n_estimators': 138, 'max_depth': 6, 'min_samples_split': 5, 'min_samples_leaf': 2, 'max_features_rf': 0.9311535884516768}. Best is trial 11 with value: 0.8794004737400963.\n"
     ]
    },
    {
     "name": "stdout",
     "output_type": "stream",
     "text": [
      "Seed in the model 442822283 on Device cuda:1\n"
     ]
    },
    {
     "name": "stderr",
     "output_type": "stream",
     "text": [
      "[I 2024-12-05 12:53:01,107] Trial 23 finished with value: 0.8614558281224948 and parameters: {'threshold': '1.5*mean', 'max_features': 874, 'norm_order': 1, 'n_estimators': 89, 'max_depth': 6, 'min_samples_split': 3, 'min_samples_leaf': 1, 'max_features_rf': 0.9582965537217549}. Best is trial 11 with value: 0.8794004737400963.\n"
     ]
    },
    {
     "name": "stdout",
     "output_type": "stream",
     "text": [
      "Seed in the model 442822283 on Device cuda:1\n"
     ]
    },
    {
     "name": "stderr",
     "output_type": "stream",
     "text": [
      "[I 2024-12-05 12:53:02,725] Trial 24 finished with value: 0.8520844564240792 and parameters: {'threshold': '1.5*mean', 'max_features': 684, 'norm_order': 1, 'n_estimators': 152, 'max_depth': 8, 'min_samples_split': 3, 'min_samples_leaf': 2, 'max_features_rf': 0.7740870882765014}. Best is trial 11 with value: 0.8794004737400963.\n"
     ]
    },
    {
     "name": "stdout",
     "output_type": "stream",
     "text": [
      "Seed in the model 442822283 on Device cuda:1\n"
     ]
    },
    {
     "name": "stderr",
     "output_type": "stream",
     "text": [
      "[I 2024-12-05 12:53:03,906] Trial 25 finished with value: 0.8644338118022329 and parameters: {'threshold': 'mean', 'max_features': 567, 'norm_order': 1, 'n_estimators': 108, 'max_depth': 4, 'min_samples_split': 6, 'min_samples_leaf': 1, 'max_features_rf': 0.8823048872321116}. Best is trial 11 with value: 0.8794004737400963.\n"
     ]
    },
    {
     "name": "stdout",
     "output_type": "stream",
     "text": [
      "Seed in the model 442822283 on Device cuda:1\n"
     ]
    },
    {
     "name": "stderr",
     "output_type": "stream",
     "text": [
      "[I 2024-12-05 12:53:06,167] Trial 26 finished with value: 0.7863097493639365 and parameters: {'threshold': 'median', 'max_features': 1034, 'norm_order': 1, 'n_estimators': 73, 'max_depth': 9, 'min_samples_split': 4, 'min_samples_leaf': 2, 'max_features_rf': 0.9495867826270044}. Best is trial 11 with value: 0.8794004737400963.\n"
     ]
    },
    {
     "name": "stdout",
     "output_type": "stream",
     "text": [
      "Seed in the model 442822283 on Device cuda:1\n"
     ]
    },
    {
     "name": "stderr",
     "output_type": "stream",
     "text": [
      "[I 2024-12-05 12:53:08,034] Trial 27 finished with value: 0.8489017155683823 and parameters: {'threshold': '1.5*mean', 'max_features': 796, 'norm_order': 1, 'n_estimators': 127, 'max_depth': 14, 'min_samples_split': 7, 'min_samples_leaf': 2, 'max_features_rf': 0.8029295580724772}. Best is trial 11 with value: 0.8794004737400963.\n"
     ]
    },
    {
     "name": "stdout",
     "output_type": "stream",
     "text": [
      "Seed in the model 442822283 on Device cuda:1\n"
     ]
    },
    {
     "name": "stderr",
     "output_type": "stream",
     "text": [
      "[I 2024-12-05 12:53:09,206] Trial 28 finished with value: 0.867706302794022 and parameters: {'threshold': '1.5*mean', 'max_features': 331, 'norm_order': 1, 'n_estimators': 100, 'max_depth': 5, 'min_samples_split': 5, 'min_samples_leaf': 1, 'max_features_rf': 0.7064711921440626}. Best is trial 11 with value: 0.8794004737400963.\n"
     ]
    },
    {
     "name": "stdout",
     "output_type": "stream",
     "text": [
      "Seed in the model 442822283 on Device cuda:1\n"
     ]
    },
    {
     "name": "stderr",
     "output_type": "stream",
     "text": [
      "[I 2024-12-05 12:53:11,249] Trial 29 finished with value: 0.8411980335184571 and parameters: {'threshold': '0.5*mean', 'max_features': 669, 'norm_order': 1, 'n_estimators': 185, 'max_depth': 7, 'min_samples_split': 9, 'min_samples_leaf': 1, 'max_features_rf': 0.8646203126198423}. Best is trial 11 with value: 0.8794004737400963.\n"
     ]
    },
    {
     "name": "stdout",
     "output_type": "stream",
     "text": [
      "Seed in the model 442822283 on Device cuda:1\n"
     ]
    },
    {
     "name": "stderr",
     "output_type": "stream",
     "text": [
      "[I 2024-12-05 12:53:13,054] Trial 30 finished with value: 0.8548356405499263 and parameters: {'threshold': '1.5*mean', 'max_features': 932, 'norm_order': 1, 'n_estimators': 247, 'max_depth': 28, 'min_samples_split': 3, 'min_samples_leaf': 3, 'max_features_rf': 0.6515849014550408}. Best is trial 11 with value: 0.8794004737400963.\n"
     ]
    },
    {
     "name": "stdout",
     "output_type": "stream",
     "text": [
      "Seed in the model 442822283 on Device cuda:1\n"
     ]
    },
    {
     "name": "stderr",
     "output_type": "stream",
     "text": [
      "[I 2024-12-05 12:53:14,448] Trial 31 finished with value: 0.8794004737400963 and parameters: {'threshold': '1.5*mean', 'max_features': 599, 'norm_order': 1, 'n_estimators': 126, 'max_depth': 30, 'min_samples_split': 10, 'min_samples_leaf': 2, 'max_features_rf': 0.9994101679233707}. Best is trial 11 with value: 0.8794004737400963.\n"
     ]
    },
    {
     "name": "stdout",
     "output_type": "stream",
     "text": [
      "Seed in the model 442822283 on Device cuda:1\n"
     ]
    },
    {
     "name": "stderr",
     "output_type": "stream",
     "text": [
      "[I 2024-12-05 12:53:16,536] Trial 32 finished with value: 0.8599199542595769 and parameters: {'threshold': '1.5*mean', 'max_features': 474, 'norm_order': 1, 'n_estimators': 161, 'max_depth': 30, 'min_samples_split': 9, 'min_samples_leaf': 2, 'max_features_rf': 0.9997156795695652}. Best is trial 11 with value: 0.8794004737400963.\n"
     ]
    },
    {
     "name": "stdout",
     "output_type": "stream",
     "text": [
      "Seed in the model 442822283 on Device cuda:1\n"
     ]
    },
    {
     "name": "stderr",
     "output_type": "stream",
     "text": [
      "[I 2024-12-05 12:53:17,916] Trial 33 finished with value: 0.8561892151763054 and parameters: {'threshold': '1.5*mean', 'max_features': 505, 'norm_order': 1, 'n_estimators': 132, 'max_depth': 27, 'min_samples_split': 10, 'min_samples_leaf': 2, 'max_features_rf': 0.9191019699135644}. Best is trial 11 with value: 0.8794004737400963.\n"
     ]
    },
    {
     "name": "stdout",
     "output_type": "stream",
     "text": [
      "Seed in the model 442822283 on Device cuda:1\n"
     ]
    },
    {
     "name": "stderr",
     "output_type": "stream",
     "text": [
      "[I 2024-12-05 12:53:19,029] Trial 34 finished with value: 0.8385447769095568 and parameters: {'threshold': '0.5*mean', 'max_features': 628, 'norm_order': 1, 'n_estimators': 74, 'max_depth': 22, 'min_samples_split': 9, 'min_samples_leaf': 3, 'max_features_rf': 0.9609730075076561}. Best is trial 11 with value: 0.8794004737400963.\n"
     ]
    },
    {
     "name": "stdout",
     "output_type": "stream",
     "text": [
      "Seed in the model 442822283 on Device cuda:1\n"
     ]
    },
    {
     "name": "stderr",
     "output_type": "stream",
     "text": [
      "[I 2024-12-05 12:53:21,461] Trial 35 finished with value: 0.8204053109713487 and parameters: {'threshold': 'very_low', 'max_features': 717, 'norm_order': 1, 'n_estimators': 165, 'max_depth': 18, 'min_samples_split': 8, 'min_samples_leaf': 1, 'max_features_rf': 0.5561111758292853}. Best is trial 11 with value: 0.8794004737400963.\n"
     ]
    },
    {
     "name": "stdout",
     "output_type": "stream",
     "text": [
      "Seed in the model 442822283 on Device cuda:1\n"
     ]
    },
    {
     "name": "stderr",
     "output_type": "stream",
     "text": [
      "[I 2024-12-05 12:53:22,699] Trial 36 finished with value: 0.8497554157931516 and parameters: {'threshold': '1.5*mean', 'max_features': 818, 'norm_order': 2, 'n_estimators': 127, 'max_depth': 27, 'min_samples_split': 10, 'min_samples_leaf': 1, 'max_features_rf': 0.9781143167981484}. Best is trial 11 with value: 0.8794004737400963.\n"
     ]
    },
    {
     "name": "stdout",
     "output_type": "stream",
     "text": [
      "Seed in the model 442822283 on Device cuda:1\n"
     ]
    },
    {
     "name": "stderr",
     "output_type": "stream",
     "text": [
      "[I 2024-12-05 12:53:24,248] Trial 37 finished with value: 0.8240387063916476 and parameters: {'threshold': 'very_low', 'max_features': 298, 'norm_order': 1, 'n_estimators': 149, 'max_depth': 29, 'min_samples_split': 7, 'min_samples_leaf': 2, 'max_features_rf': 0.9078448376215209}. Best is trial 11 with value: 0.8794004737400963.\n"
     ]
    },
    {
     "name": "stdout",
     "output_type": "stream",
     "text": [
      "Seed in the model 442822283 on Device cuda:1\n"
     ]
    },
    {
     "name": "stderr",
     "output_type": "stream",
     "text": [
      "[I 2024-12-05 12:53:26,127] Trial 38 finished with value: 0.8161616161616161 and parameters: {'threshold': 'median', 'max_features': 547, 'norm_order': 2, 'n_estimators': 69, 'max_depth': 23, 'min_samples_split': 8, 'min_samples_leaf': 4, 'max_features_rf': 0.9387240290547847}. Best is trial 11 with value: 0.8794004737400963.\n"
     ]
    },
    {
     "name": "stdout",
     "output_type": "stream",
     "text": [
      "Seed in the model 442822283 on Device cuda:1\n"
     ]
    },
    {
     "name": "stderr",
     "output_type": "stream",
     "text": [
      "[I 2024-12-05 12:53:27,418] Trial 39 finished with value: 0.8450966689960401 and parameters: {'threshold': 'mean', 'max_features': 99, 'norm_order': 1, 'n_estimators': 184, 'max_depth': 26, 'min_samples_split': 6, 'min_samples_leaf': 1, 'max_features_rf': 0.8506011790765047}. Best is trial 11 with value: 0.8794004737400963.\n"
     ]
    },
    {
     "name": "stdout",
     "output_type": "stream",
     "text": [
      "Seed in the model 442822283 on Device cuda:1\n"
     ]
    },
    {
     "name": "stderr",
     "output_type": "stream",
     "text": [
      "[I 2024-12-05 12:53:28,482] Trial 40 finished with value: 0.8337101437360409 and parameters: {'threshold': '1.5*mean', 'max_features': 415, 'norm_order': 1, 'n_estimators': 50, 'max_depth': 19, 'min_samples_split': 8, 'min_samples_leaf': 3, 'max_features_rf': 0.6456587698520149}. Best is trial 11 with value: 0.8794004737400963.\n"
     ]
    },
    {
     "name": "stdout",
     "output_type": "stream",
     "text": [
      "Seed in the model 442822283 on Device cuda:1\n"
     ]
    },
    {
     "name": "stderr",
     "output_type": "stream",
     "text": [
      "[I 2024-12-05 12:53:29,575] Trial 41 finished with value: 0.873989218328841 and parameters: {'threshold': '1.5*mean', 'max_features': 610, 'norm_order': 1, 'n_estimators': 94, 'max_depth': 30, 'min_samples_split': 10, 'min_samples_leaf': 2, 'max_features_rf': 0.9955218535866541}. Best is trial 11 with value: 0.8794004737400963.\n"
     ]
    },
    {
     "name": "stdout",
     "output_type": "stream",
     "text": [
      "Seed in the model 442822283 on Device cuda:1\n"
     ]
    },
    {
     "name": "stderr",
     "output_type": "stream",
     "text": [
      "[I 2024-12-05 12:53:30,559] Trial 42 finished with value: 0.873989218328841 and parameters: {'threshold': '1.5*mean', 'max_features': 580, 'norm_order': 1, 'n_estimators': 114, 'max_depth': 30, 'min_samples_split': 10, 'min_samples_leaf': 2, 'max_features_rf': 0.9977137772893624}. Best is trial 11 with value: 0.8794004737400963.\n"
     ]
    },
    {
     "name": "stdout",
     "output_type": "stream",
     "text": [
      "Seed in the model 442822283 on Device cuda:1\n"
     ]
    },
    {
     "name": "stderr",
     "output_type": "stream",
     "text": [
      "[I 2024-12-05 12:53:31,714] Trial 43 finished with value: 0.8370302536969204 and parameters: {'threshold': '1.5*mean', 'max_features': 875, 'norm_order': 1, 'n_estimators': 115, 'max_depth': 29, 'min_samples_split': 9, 'min_samples_leaf': 3, 'max_features_rf': 0.9777654778388626}. Best is trial 11 with value: 0.8794004737400963.\n"
     ]
    },
    {
     "name": "stdout",
     "output_type": "stream",
     "text": [
      "Seed in the model 442822283 on Device cuda:1\n"
     ]
    },
    {
     "name": "stderr",
     "output_type": "stream",
     "text": [
      "[I 2024-12-05 12:53:32,507] Trial 44 finished with value: 0.851123393261758 and parameters: {'threshold': '1.5*mean', 'max_features': 627, 'norm_order': 1, 'n_estimators': 103, 'max_depth': 28, 'min_samples_split': 10, 'min_samples_leaf': 2, 'max_features_rf': 0.8061525265376682}. Best is trial 11 with value: 0.8794004737400963.\n"
     ]
    },
    {
     "name": "stdout",
     "output_type": "stream",
     "text": [
      "Seed in the model 442822283 on Device cuda:1\n"
     ]
    },
    {
     "name": "stderr",
     "output_type": "stream",
     "text": [
      "[I 2024-12-05 12:53:33,496] Trial 45 finished with value: 0.8497554157931516 and parameters: {'threshold': '1.5*mean', 'max_features': 778, 'norm_order': 1, 'n_estimators': 141, 'max_depth': 15, 'min_samples_split': 9, 'min_samples_leaf': 1, 'max_features_rf': 0.9741702419716205}. Best is trial 11 with value: 0.8794004737400963.\n"
     ]
    },
    {
     "name": "stdout",
     "output_type": "stream",
     "text": [
      "Seed in the model 442822283 on Device cuda:1\n"
     ]
    },
    {
     "name": "stderr",
     "output_type": "stream",
     "text": [
      "[I 2024-12-05 12:53:34,902] Trial 46 finished with value: 0.8004624380266346 and parameters: {'threshold': 'very_low', 'max_features': 402, 'norm_order': 1, 'n_estimators': 128, 'max_depth': 26, 'min_samples_split': 10, 'min_samples_leaf': 5, 'max_features_rf': 0.9373408230784903}. Best is trial 11 with value: 0.8794004737400963.\n"
     ]
    },
    {
     "name": "stdout",
     "output_type": "stream",
     "text": [
      "Seed in the model 442822283 on Device cuda:1\n"
     ]
    },
    {
     "name": "stderr",
     "output_type": "stream",
     "text": [
      "[I 2024-12-05 12:53:35,740] Trial 47 finished with value: 0.821773288439955 and parameters: {'threshold': '1.5*mean', 'max_features': 528, 'norm_order': 1, 'n_estimators': 121, 'max_depth': 21, 'min_samples_split': 2, 'min_samples_leaf': 3, 'max_features_rf': 0.8968317434751004}. Best is trial 11 with value: 0.8794004737400963.\n"
     ]
    },
    {
     "name": "stdout",
     "output_type": "stream",
     "text": [
      "Seed in the model 442822283 on Device cuda:1\n"
     ]
    },
    {
     "name": "stderr",
     "output_type": "stream",
     "text": [
      "[I 2024-12-05 12:53:38,679] Trial 48 finished with value: 0.7940666418927288 and parameters: {'threshold': 'median', 'max_features': 684, 'norm_order': 2, 'n_estimators': 296, 'max_depth': 11, 'min_samples_split': 4, 'min_samples_leaf': 2, 'max_features_rf': 0.6230251289411489}. Best is trial 11 with value: 0.8794004737400963.\n"
     ]
    },
    {
     "name": "stdout",
     "output_type": "stream",
     "text": [
      "Seed in the model 442822283 on Device cuda:1\n"
     ]
    },
    {
     "name": "stderr",
     "output_type": "stream",
     "text": [
      "[I 2024-12-05 12:53:39,297] Trial 49 finished with value: 0.8531746031746031 and parameters: {'threshold': '0.5*mean', 'max_features': 282, 'norm_order': 1, 'n_estimators': 83, 'max_depth': 4, 'min_samples_split': 9, 'min_samples_leaf': 2, 'max_features_rf': 0.5535101253762176}. Best is trial 11 with value: 0.8794004737400963.\n"
     ]
    },
    {
     "name": "stdout",
     "output_type": "stream",
     "text": [
      "Best Parameters: {'threshold': '1.5*mean', 'max_features': 599, 'norm_order': 1, 'n_estimators': 121, 'max_depth': 30, 'min_samples_split': 10, 'min_samples_leaf': 2, 'max_features_rf': 0.9847608533022311}\n",
      "\n",
      "Test Metrics:\n",
      "ROC AUC: 0.8165024630541873\n",
      "Accuracy: 0.7764705882352941\n",
      "F1 Score: 0.6122448979591837\n",
      "Confusion Matrix:\n",
      "[[51  5]\n",
      " [14 15]]\n"
     ]
    },
    {
     "data": {
      "image/png": "[encoded data removed]",
      "text/plain": [
       "<Figure size 640x480 with 2 Axes>"
      ]
     },
     "metadata": {},
     "output_type": "display_data"
    },
    {
     "name": "stdout",
     "output_type": "stream",
     "text": [
      "\n",
      "Classification Report:\n",
      "              precision    recall  f1-score   support\n",
      "\n",
      "    Negative       0.78      0.91      0.84        56\n",
      "    Positive       0.75      0.52      0.61        29\n",
      "\n",
      "    accuracy                           0.78        85\n",
      "   macro avg       0.77      0.71      0.73        85\n",
      "weighted avg       0.77      0.78      0.76        85\n",
      "\n",
      "Number of selected features: 61\n"
     ]
    },
    {
     "data": {
      "image/png": "[encoded data removed]",
      "text/plain": [
       "<Figure size 800x950 with 2 Axes>"
      ]
     },
     "metadata": {},
     "output_type": "display_data"
    },
    {
     "name": "stdout",
     "output_type": "stream",
     "text": [
      "No overlap bacteria found.\n"
     ]
    }
   ],
   "source": [
    "import optuna\n",
    "from optuna.samplers import TPESampler\n",
    "from xgboost import XGBClassifier\n",
    "from sklearn.ensemble import RandomForestClassifier\n",
    "import xgboost as xgb\n",
    "from sklearn.feature_selection import SelectFromModel\n",
    "from sklearn.metrics import (\n",
    "    roc_curve, roc_auc_score, f1_score, accuracy_score, confusion_matrix, \n",
    "    classification_report, ConfusionMatrixDisplay\n",
    ")\n",
    "\n",
    "from sklearn.model_selection import StratifiedKFold\n",
    "from sklearn.utils.class_weight import compute_class_weight\n",
    "import numpy as np\n",
    "from sklearn.model_selection import train_test_split\n",
    "from copy import deepcopy\n",
    "from sklearn.preprocessing import StandardScaler\n",
    "\n",
    "# Constants and Configuration\n",
    "print(f\"Experiment number: {experiment_number} | Seed number: {seed}\")\n",
    "# seed = experiment_seed  # Replace with your experiment seed\n",
    "test_size = 0.25\n",
    "gpu_device = \"hist\"\n",
    "\n",
    "# Function to check for overlaps between train and test data\n",
    "def check_for_overlap(train_data, test_data):\n",
    "    \"\"\"\n",
    "    Checks for overlapping Sample ID and study_id between train and test datasets.\n",
    "    \"\"\"\n",
    "    # Check for overlapping Study IDs\n",
    "    overlap_study_ids = set(train_data[\"study_id\"]) & set(test_data[\"study_id\"])\n",
    "    if overlap_study_ids:\n",
    "        print(f\"Overlap Study ID found: {overlap_study_ids}\")\n",
    "    else:\n",
    "        print(\"No overlap Study ID found.\")\n",
    "\n",
    "    # Check for overlapping Sample IDs\n",
    "    overlap_sample_ids = set(train_data[\"Sample ID\"]) & set(test_data[\"Sample ID\"])\n",
    "    if overlap_sample_ids:\n",
    "        print(f\"Overlap Sample ID found: {overlap_sample_ids}\")\n",
    "    else:\n",
    "        print(\"No overlap Sample ID found.\")\n",
    "\n",
    "def check_for_bacteria(list_a, list_b):\n",
    "    \"\"\"\n",
    "    Checks for overlapping bactertia from list_a and list list_b database and predicted bacteria.\n",
    "    \"\"\"\n",
    "    # Check for overlapping Study IDs\n",
    "    list_a = [item.replace(\" \", \"_\") for item in list_a]\n",
    "    list_b = [item.replace(\" \", \"_\") for item in list_b]\n",
    "    \n",
    "    overlap_bacteria = set(list_a) & set(list_b)\n",
    "    if overlap_bacteria:\n",
    "        print(f\"Overlap bacteria found: {overlap_bacteria}\")\n",
    "    else:\n",
    "        print(\"No overlap bacteria found.\")\n",
    "    return overlap_bacteria\n",
    "\n",
    "        \n",
    "def preprocess_data(df, columns_to_drop, test_size, seed):\n",
    "    # Split study IDs into train/test sets\n",
    "    study_labels = df.groupby(\"study_id\")[\"Alzheimers\"].max().reset_index()\n",
    "    train_ids, test_ids = train_test_split(\n",
    "        study_labels[\"study_id\"],\n",
    "        test_size=test_size,\n",
    "        stratify=study_labels[\"Alzheimers\"],\n",
    "        random_state=seed,\n",
    "    )\n",
    "    \n",
    "    train_data = df[df[\"study_id\"].isin(train_ids)].copy()\n",
    "    test_data = df[df[\"study_id\"].isin(test_ids)].copy()\n",
    "\n",
    "    # Check for overlaps\n",
    "    check_for_overlap(train_data, test_data)\n",
    "    \n",
    "    # Select feature columns\n",
    "    feature_columns = [col for col in df.columns if col not in columns_to_drop]\n",
    "\n",
    "    # Convert feature columns to float64 to ensure compatibility\n",
    "    train_data[feature_columns] = train_data[feature_columns].astype(np.float64)\n",
    "    test_data[feature_columns] = test_data[feature_columns].astype(np.float64)\n",
    "\n",
    "    # Normalize the feature columns\n",
    "    scaler = StandardScaler()\n",
    "    train_data.loc[:, feature_columns] = scaler.fit_transform(train_data[feature_columns])\n",
    "    test_data.loc[:, feature_columns] = scaler.transform(test_data[feature_columns])\n",
    "\n",
    "    return train_data, test_data, feature_columns\n",
    "\n",
    "# Function to compute class weights\n",
    "def compute_weights(y_train):\n",
    "    class_weights = compute_class_weight(\"balanced\", classes=np.unique(y_train), y=y_train)\n",
    "    scale_pos_weight = class_weights[1] / class_weights[0]\n",
    "    return scale_pos_weight\n",
    "\n",
    "# Define Optuna Objective Function\n",
    "def objective(trial, X_train, y_train, scale_pos_weight, seed):\n",
    "    print(f\"Seed in the model {seed} on Device {device}\")\n",
    "    # Feature selection parameters\n",
    "    threshold = trial.suggest_categorical('threshold', ['median', 'mean', '0.5*mean', '1.5*mean', 'very_low'])\n",
    "    max_features = trial.suggest_int('max_features', 1, X_train.shape[1])\n",
    "    norm_order = trial.suggest_int('norm_order', 1, 2)\n",
    "    threshold_value = -1e10 if threshold == 'very_low' else threshold\n",
    "\n",
    "    # Feature selection\n",
    "    selector = SelectFromModel(\n",
    "        estimator=XGBClassifier(\n",
    "            objective='binary:logistic',\n",
    "            eval_metric='logloss',\n",
    "            scale_pos_weight= scale_pos_weight,\n",
    "            random_state=seed,\n",
    "            tree_method=gpu_device, \n",
    "            device=device\n",
    "        ),\n",
    "        threshold=threshold_value,\n",
    "        max_features=max_features,\n",
    "        norm_order=norm_order\n",
    "    )\n",
    "    \n",
    "    selector.fit(X_train, y_train)\n",
    "    X_train_selected = selector.transform(X_train)\n",
    "\n",
    "    # Define RandomForest parameters\n",
    "    n_estimators = trial.suggest_int(\"n_estimators\", 50, 300)\n",
    "    max_depth = trial.suggest_int(\"max_depth\", 3, 30)\n",
    "    min_samples_split = trial.suggest_int(\"min_samples_split\", 2, 10)\n",
    "    min_samples_leaf = trial.suggest_int(\"min_samples_leaf\", 1, 5)\n",
    "    max_features_rf = trial.suggest_float(\"max_features_rf\", 0.5, 1.0)  # Renamed parameter\n",
    "\n",
    "    # Cross-validation\n",
    "    skf = StratifiedKFold(n_splits=3, shuffle=True, random_state=seed)\n",
    "    f1_scores = []\n",
    "    for train_idx, val_idx in skf.split(X_train_selected, y_train):\n",
    "        X_train_fold, X_val_fold = X_train_selected[train_idx], X_train_selected[val_idx]\n",
    "        y_train_fold, y_val_fold = y_train[train_idx], y_train[val_idx]\n",
    "\n",
    "        # Train RandomForestClassifier\n",
    "        model = RandomForestClassifier(\n",
    "            n_estimators=n_estimators,\n",
    "            max_depth=max_depth,\n",
    "            min_samples_split=min_samples_split,\n",
    "            min_samples_leaf=min_samples_leaf,\n",
    "            max_features=max_features_rf,  # Use new name here\n",
    "            random_state=seed,\n",
    "            class_weight={0: 1.0, 1: scale_pos_weight},  # Handle class imbalance\n",
    "        )\n",
    "        model.fit(X_train_fold, y_train_fold)\n",
    "\n",
    "        # Validation predictions\n",
    "        y_val_pred = model.predict_proba(X_val_fold)[:, 1]  # Probability of positive class\n",
    "        y_val_pred_binary = (y_val_pred >= 0.5).astype(int)  # Binary classification\n",
    "        f1_scores.append(f1_score(y_val_fold, y_val_pred_binary))\n",
    "\n",
    "    return np.mean(f1_scores)\n",
    "\n",
    "# Main Program\n",
    "columns_to_drop = [\"Sample ID\", \"study_id\", \"Alzheimers\", \"Date Sample\", \"age\", \"Dementia Other\"]\n",
    "\n",
    "train_data, test_data, feature_columns = preprocess_data(clinical_microbiome_df, columns_to_drop, test_size, seed)\n",
    "X_train = deepcopy(train_data[feature_columns].values)\n",
    "y_train = np.array(train_data[\"Alzheimers\"].values)\n",
    "X_test = deepcopy(test_data[feature_columns].values)\n",
    "y_test = np.array(test_data[\"Alzheimers\"].values)\n",
    "scale_pos_weight = compute_weights(y_train)\n",
    "\n",
    "# Run Optuna Optimization\n",
    "study = optuna.create_study(direction=\"maximize\", sampler=TPESampler(seed=seed))\n",
    "study.optimize(lambda trial: objective(trial, X_train, y_train, scale_pos_weight, seed), n_trials=50)\n",
    "\n",
    "# Best Parameters\n",
    "best_params = study.best_params\n",
    "print(\"Best Parameters:\", best_params)\n",
    "\n",
    "# Apply Final Model\n",
    "# Apply Final Model\n",
    "final_selector = SelectFromModel(\n",
    "    estimator=XGBClassifier(\n",
    "        objective='binary:logistic',\n",
    "        eval_metric='logloss',\n",
    "        scale_pos_weight=scale_pos_weight,\n",
    "        random_state=seed,\n",
    "        tree_method=gpu_device,\n",
    "        device=device\n",
    "    ),\n",
    "    threshold=-1e10 if best_params['threshold'] == 'very_low' else best_params['threshold'],\n",
    "    max_features=best_params['max_features'],  # Corrected key\n",
    "    norm_order=best_params['norm_order']\n",
    ")\n",
    "\n",
    "final_selector.fit(X_train, y_train)\n",
    "X_train_selected = final_selector.transform(X_train)\n",
    "X_test_selected = final_selector.transform(X_test)\n",
    "\n",
    "# Train Final Model\n",
    "final_model = RandomForestClassifier(\n",
    "    n_estimators=best_params[\"n_estimators\"],\n",
    "    max_depth=best_params[\"max_depth\"],\n",
    "    min_samples_split=best_params[\"min_samples_split\"],\n",
    "    min_samples_leaf=best_params[\"min_samples_leaf\"],\n",
    "    max_features=best_params[\"max_features_rf\"],  # Use the correct key\n",
    "    random_state=seed,\n",
    "    class_weight={0: 1.0, 1: scale_pos_weight},  # Handle class imbalance\n",
    ")\n",
    "final_model.fit(X_train_selected, y_train)\n",
    "\n",
    "# Predictions and Evaluation\n",
    "y_test_pred = final_model.predict_proba(X_test_selected)[:, 1]  # Probability of positive class\n",
    "y_test_pred_binary = (y_test_pred >= 0.5).astype(int)\n",
    "\n",
    "# Evaluate Model Performance\n",
    "auc = roc_auc_score(y_test, y_test_pred)\n",
    "accuracy = accuracy_score(y_test, y_test_pred_binary)\n",
    "f1 = f1_score(y_test, y_test_pred_binary)\n",
    "conf_matrix = confusion_matrix(y_test, y_test_pred_binary)\n",
    "\n",
    "print(\"\\nTest Metrics:\")\n",
    "print(f\"ROC AUC: {auc}\\nAccuracy: {accuracy}\\nF1 Score: {f1}\\nConfusion Matrix:\\n{conf_matrix}\")\n",
    "disp = ConfusionMatrixDisplay(confusion_matrix=conf_matrix, display_labels=[\"Negative\", \"Positive\"])\n",
    "disp.plot(cmap=\"Blues\")\n",
    "plt.title(\"Confusion Matrix\")\n",
    "plt.show()\n",
    "\n",
    "report = classification_report(y_test, y_test_pred_binary, target_names=[\"Negative\", \"Positive\"])\n",
    "print(\"\\nClassification Report:\")\n",
    "print(report)\n",
    "\n",
    "# Extract feature names for selected features\n",
    "selected_feature_names = [feature_columns[i] for i in range(X_train_selected.shape[1])]\n",
    "# Truncate each feature name to a maximum of 30 characters\n",
    "selected_feature_names = [\n",
    "    feature[:30] if len(feature) > 40 else feature  # Truncate if longer than 30 characters\n",
    "    for feature in selected_feature_names\n",
    "]\n",
    "\n",
    "print(f\"Number of selected features: {len(selected_feature_names)}\")\n",
    "\n",
    "# Step 1: Initialize SHAP explainer\n",
    "explainer = shap.Explainer(final_model, X_train_selected)\n",
    "\n",
    "# Step 2: Compute SHAP values\n",
    "shap_values = explainer(X_train_selected, check_additivity=False)\n",
    "\n",
    "# Step 3: Aggregate SHAP values to mimic XGBoost\n",
    "# For binary classification: take the difference between class 1 and class 0\n",
    "shap_values_aggregated = shap_values.values[:, :, 1] - shap_values.values[:, :, 0]\n",
    "\n",
    "# Step 4: Plot SHAP summary\n",
    "plt.figure(figsize=(20, 10))  # Wide plot\n",
    "plt.title(\"SHAP Violin Plot - Global Feature Importance\", fontsize=14)\n",
    "\n",
    "shap.summary_plot(\n",
    "    shap_values_aggregated,  # Correct SHAP values\n",
    "    X_train_selected,  # Input data aligned with SHAP values\n",
    "    feature_names=selected_feature_names,  # Ensure feature names align\n",
    "    max_display=20,  # Limit to top 20 features\n",
    "    plot_type=\"violin\"  # Violin plot style\n",
    ")\n",
    "\n",
    "bacteria_fount = check_for_bacteria(bacteria_df.species_name.tolist(),selected_feature_names)"
   ]
  },
  {
   "cell_type": "code",
   "execution_count": 15,
   "id": "d23becd3-066b-4a62-ae4f-03c925412b1c",
   "metadata": {},
   "outputs": [
    {
     "name": "stdout",
     "output_type": "stream",
     "text": [
      "No overlap bacteria found.\n"
     ]
    },
    {
     "data": {
      "text/plain": [
       "set()"
      ]
     },
     "execution_count": 15,
     "metadata": {},
     "output_type": "execute_result"
    }
   ],
   "source": [
    "bacteria_fount = check_for_bacteria(bacteria_df.species_name.tolist(),selected_feature_names)\n",
    "bacteria_fount"
   ]
  },
  {
   "cell_type": "code",
   "execution_count": 16,
   "id": "83401d9b-49ac-484e-b237-8332385b9204",
   "metadata": {},
   "outputs": [
    {
     "data": {
      "text/plain": [
       "np.float64(0.8165024630541873)"
      ]
     },
     "execution_count": 16,
     "metadata": {},
     "output_type": "execute_result"
    }
   ],
   "source": [
    "auc"
   ]
  },
  {
   "cell_type": "code",
   "execution_count": 17,
   "id": "68e83a35-b094-477d-8362-0336e1ccca0a",
   "metadata": {},
   "outputs": [
    {
     "data": {
      "image/png": "[encoded data removed]",
      "text/plain": [
       "<Figure size 640x480 with 1 Axes>"
      ]
     },
     "metadata": {},
     "output_type": "display_data"
    }
   ],
   "source": [
    "# Calculate the ROC curve\n",
    "fpr, tpr, thresholds = roc_curve(y_test, y_test_pred)\n",
    "\n",
    "# Plot the ROC curve\n",
    "plt.figure()\n",
    "plt.plot(fpr, tpr, label=f'ROC Curve (AUC = {auc:.2f})')\n",
    "plt.plot([0, 1], [0, 1], 'k--', label='Random Guess')  # Dashed diagonal line\n",
    "plt.xlim([0.0, 1.0])\n",
    "plt.ylim([0.0, 1.05])\n",
    "plt.xlabel('False Positive Rate')\n",
    "plt.ylabel('True Positive Rate')\n",
    "plt.title('Receiver Operating Characteristic (ROC) Curve')\n",
    "plt.legend(loc='lower right')\n",
    "plt.grid()\n",
    "plt.show()"
   ]
  },
  {
   "cell_type": "code",
   "execution_count": 18,
   "id": "2fb44a51-b6bf-4f46-8e3b-b77007db28cd",
   "metadata": {},
   "outputs": [
    {
     "data": {
      "text/plain": [
       "0.7764705882352941"
      ]
     },
     "execution_count": 18,
     "metadata": {},
     "output_type": "execute_result"
    }
   ],
   "source": [
    "accuracy"
   ]
  },
  {
   "cell_type": "code",
   "execution_count": 19,
   "id": "df953e72-46ac-478d-9f43-e04b282a26db",
   "metadata": {},
   "outputs": [
    {
     "data": {
      "text/plain": [
       "np.float64(0.6122448979591837)"
      ]
     },
     "execution_count": 19,
     "metadata": {},
     "output_type": "execute_result"
    }
   ],
   "source": [
    "f1"
   ]
  },
  {
   "cell_type": "code",
   "execution_count": 20,
   "id": "aa689fbf-a9b0-480e-a8d9-c9dfd310bba3",
   "metadata": {},
   "outputs": [
    {
     "data": {
      "text/plain": [
       "array([[51,  5],\n",
       "       [14, 15]])"
      ]
     },
     "execution_count": 20,
     "metadata": {},
     "output_type": "execute_result"
    }
   ],
   "source": [
    "conf_matrix"
   ]
  },
  {
   "cell_type": "code",
   "execution_count": 21,
   "id": "e403a7d9-cd37-4ffc-b5ba-eef01a8f1273",
   "metadata": {},
   "outputs": [
    {
     "data": {
      "image/png": "[encoded data removed]",
      "text/plain": [
       "<Figure size 640x480 with 2 Axes>"
      ]
     },
     "metadata": {},
     "output_type": "display_data"
    }
   ],
   "source": [
    "disp = ConfusionMatrixDisplay(confusion_matrix=conf_matrix, display_labels=[\"Negative\", \"Positive\"])\n",
    "disp.plot(cmap=\"Blues\")\n",
    "plt.title(\"Confusion Matrix\")\n",
    "plt.show()"
   ]
  },
  {
   "cell_type": "code",
   "execution_count": 22,
   "id": "71b64add-f587-4987-999c-fe5decf75c0f",
   "metadata": {},
   "outputs": [
    {
     "data": {
      "text/html": [
       "<div>\n",
       "<style scoped>\n",
       "    .dataframe tbody tr th:only-of-type {\n",
       "        vertical-align: middle;\n",
       "    }\n",
       "\n",
       "    .dataframe tbody tr th {\n",
       "        vertical-align: top;\n",
       "    }\n",
       "\n",
       "    .dataframe thead th {\n",
       "        text-align: right;\n",
       "    }\n",
       "</style>\n",
       "<table border=\"1\" class=\"dataframe\">\n",
       "  <thead>\n",
       "    <tr style=\"text-align: right;\">\n",
       "      <th></th>\n",
       "      <th>Model</th>\n",
       "      <th>Seed</th>\n",
       "      <th>Experiment_Number</th>\n",
       "      <th>Accuracy</th>\n",
       "      <th>AUC</th>\n",
       "      <th>F1_Score</th>\n",
       "    </tr>\n",
       "  </thead>\n",
       "  <tbody>\n",
       "    <tr>\n",
       "      <th>0</th>\n",
       "      <td>randomforest</td>\n",
       "      <td>442822283</td>\n",
       "      <td>9</td>\n",
       "      <td>0.776471</td>\n",
       "      <td>0.816502</td>\n",
       "      <td>0.612245</td>\n",
       "    </tr>\n",
       "  </tbody>\n",
       "</table>\n",
       "</div>"
      ],
      "text/plain": [
       "          Model       Seed  Experiment_Number  Accuracy       AUC  F1_Score\n",
       "0  randomforest  442822283                  9  0.776471  0.816502  0.612245"
      ]
     },
     "execution_count": 22,
     "metadata": {},
     "output_type": "execute_result"
    }
   ],
   "source": [
    "measures = [\"randomforest\", seed, experiment_number, accuracy, auc, f1]\n",
    "\n",
    "# Create a DataFrame with appropriate column names\n",
    "columns = [\"Model\", \"Seed\", \"Experiment_Number\", \"Accuracy\", \"AUC\", \"F1_Score\"]\n",
    "measures_df = pd.DataFrame([measures], columns=columns)\n",
    "measures_df"
   ]
  },
  {
   "cell_type": "code",
   "execution_count": 23,
   "id": "2332a3f7-e582-42c8-9f0f-bf868c6da554",
   "metadata": {},
   "outputs": [
    {
     "data": {
      "text/plain": [
       "'output/randomforest_experiment09_measures.csv'"
      ]
     },
     "execution_count": 23,
     "metadata": {},
     "output_type": "execute_result"
    }
   ],
   "source": [
    "output_path = \"output\"\n",
    "measures_path = f\"{output_path}{os.sep}randomforest_experiment{experiment_number:02d}_measures.csv\"\n",
    "if output_path and not os.path.exists(output_path):\n",
    "    os.makedirs(output_path)\n",
    "measures_path"
   ]
  },
  {
   "cell_type": "code",
   "execution_count": 24,
   "id": "2dd38431-831e-43dc-8139-bfa31dd1a154",
   "metadata": {},
   "outputs": [],
   "source": [
    "measures_df.to_csv(measures_path, index=False)"
   ]
  }
 ],
 "metadata": {
  "kernelspec": {
   "display_name": "Python 3 (ipykernel)",
   "language": "python",
   "name": "python3"
  },
  "language_info": {
   "codemirror_mode": {
    "name": "ipython",
    "version": 3
   },
   "file_extension": ".py",
   "mimetype": "text/x-python",
   "name": "python",
   "nbconvert_exporter": "python",
   "pygments_lexer": "ipython3",
   "version": "3.12.4"
  }
 },
 "nbformat": 4,
 "nbformat_minor": 5
}
