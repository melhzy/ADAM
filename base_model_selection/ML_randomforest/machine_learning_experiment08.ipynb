{
 "cells": [
  {
   "cell_type": "code",
   "execution_count": 1,
   "id": "b6679541-fc82-43d0-90c2-f408526bde3e",
   "metadata": {},
   "outputs": [],
   "source": [
    "import os\n",
    "from glob import glob\n",
    "import hashlib\n",
    "import numpy as np\n",
    "import pandas as pd\n",
    "from sklearn.model_selection import train_test_split\n",
    "from copy import deepcopy\n",
    "import ipynbname\n",
    "import matplotlib.pyplot as plt\n",
    "import shap\n",
    "from datetime import datetime\n",
    "import re\n",
    "\n",
    "# Constants\n",
    "EXPERIMENT_NAME = \"nursing_home\"\n",
    "DATA_PATH = f\"..{os.sep}data{os.sep}\""
   ]
  },
  {
   "cell_type": "code",
   "execution_count": 2,
   "id": "60521c5a-a754-48ff-927d-86e713784621",
   "metadata": {},
   "outputs": [
    {
     "name": "stdout",
     "output_type": "stream",
     "text": [
      "Current time is: 2024-12-05 12:52:16.975018\n",
      "File: machine_learning_experiment08\n",
      "Experiment Number: 8\n"
     ]
    }
   ],
   "source": [
    "current_time = datetime.now()\n",
    "print(\"Current time is:\",current_time)\n",
    "\n",
    "nb_fname = ipynbname.name()\n",
    "print(\"File:\",nb_fname)\n",
    "\n",
    "experiment_number = int(re.findall(r'\\d+', nb_fname)[0])\n",
    "print(f\"Experiment Number: {experiment_number}\")  # Output: 01"
   ]
  },
  {
   "cell_type": "code",
   "execution_count": 3,
   "id": "a1b0ccc6-65af-4dd7-b671-bea658a42f6f",
   "metadata": {},
   "outputs": [
    {
     "name": "stdout",
     "output_type": "stream",
     "text": [
      "Experiment Name: nursing_home, Initial Seed: 127573839\n"
     ]
    }
   ],
   "source": [
    "# Function to generate a consistent hash number for a given file name\n",
    "def generate_hash_number(file_name):\n",
    "    \"\"\"\n",
    "    Generates a consistent hash number based on the file name.\n",
    "    \n",
    "    Args:\n",
    "        file_name (str): The file name to hash.\n",
    "    \n",
    "    Returns:\n",
    "        int: A 32-bit hash number.\n",
    "    \"\"\"\n",
    "    # Create an MD5 hash object\n",
    "    hash_obj = hashlib.md5()\n",
    "    \n",
    "    # Update the hash object with the file name, encoded to bytes\n",
    "    hash_obj.update(file_name.encode())\n",
    "\n",
    "    # Convert the hash to an integer and ensure the range fits 32-bit\n",
    "    return int(hash_obj.hexdigest(), 16) % (2**32)\n",
    "\n",
    "# Generate experiment seed from experiment name\n",
    "initial_seed = generate_hash_number(EXPERIMENT_NAME)\n",
    "print(f\"Experiment Name: {EXPERIMENT_NAME}, Initial Seed: {initial_seed}\")"
   ]
  },
  {
   "cell_type": "code",
   "execution_count": 4,
   "id": "2ccd6498-27b0-4a98-a155-7e4e54219aa0",
   "metadata": {},
   "outputs": [
    {
     "name": "stdout",
     "output_type": "stream",
     "text": [
      "Random Integers List: [315491657, 135304577, 1572185508, 1029933563, 1950160822, 563269619, 1573902777, 513873336, 442822283, 1770168448]\n",
      "Data File Path: ../data/clinical_microbiome_df.csv\n",
      "Clinical Microbiome Data Loaded.\n",
      "Alzheimers Counts:\n",
      " Alzheimers\n",
      "0.0    225\n",
      "1.0    110\n",
      "Name: count, dtype: int64\n",
      "Normalized Alzheimers Counts:\n",
      " Alzheimers\n",
      "0.0    0.671642\n",
      "1.0    0.328358\n",
      "Name: proportion, dtype: float64\n",
      "Seed in this experiment: 513873336\n"
     ]
    }
   ],
   "source": [
    "# Set the seed for reproducibility\n",
    "np.random.seed(initial_seed)\n",
    "\n",
    "# Generate a list of 5 random integers in the range of 32-bit integers\n",
    "random_integers_list = np.random.randint(low=0, high=2**31 - 1, size=10).tolist()\n",
    "print(\"Random Integers List:\", random_integers_list)\n",
    "seed = random_integers_list[experiment_number-1]\n",
    "# Load clinical microbiome data\n",
    "df_path = glob(f'{DATA_PATH}*clinical_microbiome_df*')[0]\n",
    "print(f\"Data File Path: {df_path}\")\n",
    "\n",
    "clinical_microbiome_df = pd.read_csv(df_path)\n",
    "print(\"Clinical Microbiome Data Loaded.\")\n",
    "\n",
    "# Display value counts for the 'Alzheimers' column\n",
    "alzheimers_counts = clinical_microbiome_df['Alzheimers'].value_counts()\n",
    "alzheimers_counts_normalized = clinical_microbiome_df['Alzheimers'].value_counts(normalize=True)\n",
    "\n",
    "print(\"Alzheimers Counts:\\n\", alzheimers_counts)\n",
    "print(\"Normalized Alzheimers Counts:\\n\", alzheimers_counts_normalized)\n",
    "print(f\"Seed in this experiment: {seed}\")"
   ]
  },
  {
   "cell_type": "code",
   "execution_count": 5,
   "id": "0a65013c-020e-4791-a5b5-267c88b31571",
   "metadata": {},
   "outputs": [
    {
     "data": {
      "text/plain": [
       "Dementia Other\n",
       "0    335\n",
       "Name: count, dtype: int64"
      ]
     },
     "execution_count": 5,
     "metadata": {},
     "output_type": "execute_result"
    }
   ],
   "source": [
    "clinical_microbiome_df[\"Dementia Other\"].value_counts()"
   ]
  },
  {
   "cell_type": "code",
   "execution_count": 6,
   "id": "7b7a05b7-bf8c-4ac6-8d63-4857991845f2",
   "metadata": {},
   "outputs": [
    {
     "name": "stdout",
     "output_type": "stream",
     "text": [
      "Alzheimers Counts:\n",
      " Alzheimers\n",
      "0.0    225\n",
      "1.0    110\n",
      "Name: count, dtype: int64\n",
      "Normalized Alzheimers Counts:\n",
      " Alzheimers\n",
      "0.0    0.671642\n",
      "1.0    0.328358\n",
      "Name: proportion, dtype: float64\n"
     ]
    }
   ],
   "source": [
    "clinical_microbiome_df = clinical_microbiome_df[clinical_microbiome_df[\"Dementia Other\"] != 1]\n",
    "# Display value counts for the 'Alzheimers' column\n",
    "alzheimers_counts = clinical_microbiome_df['Alzheimers'].value_counts()\n",
    "alzheimers_counts_normalized = clinical_microbiome_df['Alzheimers'].value_counts(normalize=True)\n",
    "print(\"Alzheimers Counts:\\n\", alzheimers_counts)\n",
    "print(\"Normalized Alzheimers Counts:\\n\", alzheimers_counts_normalized)"
   ]
  },
  {
   "cell_type": "code",
   "execution_count": 7,
   "id": "6dc693dd-1c73-40cd-b9c4-c6cf01ae3fcf",
   "metadata": {},
   "outputs": [
    {
     "data": {
      "text/html": [
       "<div>\n",
       "<style scoped>\n",
       "    .dataframe tbody tr th:only-of-type {\n",
       "        vertical-align: middle;\n",
       "    }\n",
       "\n",
       "    .dataframe tbody tr th {\n",
       "        vertical-align: top;\n",
       "    }\n",
       "\n",
       "    .dataframe thead th {\n",
       "        text-align: right;\n",
       "    }\n",
       "</style>\n",
       "<table border=\"1\" class=\"dataframe\">\n",
       "  <thead>\n",
       "    <tr style=\"text-align: right;\">\n",
       "      <th></th>\n",
       "      <th>Feature</th>\n",
       "      <th>Description</th>\n",
       "      <th>Group Characteristics</th>\n",
       "      <th>Summary</th>\n",
       "    </tr>\n",
       "  </thead>\n",
       "  <tbody>\n",
       "    <tr>\n",
       "      <th>0</th>\n",
       "      <td>Sample ID</td>\n",
       "      <td>Unique identifier for biological or clinical s...</td>\n",
       "      <td>Study Identification</td>\n",
       "      <td>### Clinical Feature Summary\\n\\n#### Feature: ...</td>\n",
       "    </tr>\n",
       "    <tr>\n",
       "      <th>1</th>\n",
       "      <td>study_id</td>\n",
       "      <td>Identifier for the specific study or research ...</td>\n",
       "      <td>Study Identification</td>\n",
       "      <td>### Clinical Feature Definitions, Scope, and R...</td>\n",
       "    </tr>\n",
       "    <tr>\n",
       "      <th>2</th>\n",
       "      <td>day</td>\n",
       "      <td>Day of data collection or relevant event.</td>\n",
       "      <td>Temporal Information</td>\n",
       "      <td>### Clinical Feature Summary for Alzheimer's D...</td>\n",
       "    </tr>\n",
       "    <tr>\n",
       "      <th>3</th>\n",
       "      <td>Date Sample</td>\n",
       "      <td>Date when the sample was collected.</td>\n",
       "      <td>Temporal Information</td>\n",
       "      <td>### Clinical Feature Summary\\n\\n#### Feature: ...</td>\n",
       "    </tr>\n",
       "    <tr>\n",
       "      <th>4</th>\n",
       "      <td>age</td>\n",
       "      <td>Age of the participant.</td>\n",
       "      <td>Demographic Information</td>\n",
       "      <td>### Clinical Feature Summary: Age\\n\\n**Definit...</td>\n",
       "    </tr>\n",
       "    <tr>\n",
       "      <th>...</th>\n",
       "      <td>...</td>\n",
       "      <td>...</td>\n",
       "      <td>...</td>\n",
       "      <td>...</td>\n",
       "    </tr>\n",
       "    <tr>\n",
       "      <th>98</th>\n",
       "      <td>Severe Liver disease</td>\n",
       "      <td>Advanced liver disease diagnosis.</td>\n",
       "      <td>Hepatic Condition</td>\n",
       "      <td>### Clinical Feature: Severe Liver Disease\\n\\n...</td>\n",
       "    </tr>\n",
       "    <tr>\n",
       "      <th>99</th>\n",
       "      <td>ostomy</td>\n",
       "      <td>Presence of an ostomy.</td>\n",
       "      <td>Surgical History</td>\n",
       "      <td>### Clinical Feature: Ostomy\\n\\n**Definition:*...</td>\n",
       "    </tr>\n",
       "    <tr>\n",
       "      <th>100</th>\n",
       "      <td>Alzheimers</td>\n",
       "      <td>Diagnosis of Alzheimer’s disease.</td>\n",
       "      <td>Neurological Condition</td>\n",
       "      <td>### Clinical Feature Summary: Alzheimer's Dise...</td>\n",
       "    </tr>\n",
       "    <tr>\n",
       "      <th>101</th>\n",
       "      <td>Dementia Other</td>\n",
       "      <td>Other forms of dementia.</td>\n",
       "      <td>Neurological Condition</td>\n",
       "      <td>### Clinical Feature: Dementia Other\\n\\n**Defi...</td>\n",
       "    </tr>\n",
       "    <tr>\n",
       "      <th>102</th>\n",
       "      <td>Parkinsons</td>\n",
       "      <td>Parkinson’s disease diagnosis.</td>\n",
       "      <td>Neurological Condition</td>\n",
       "      <td>### Clinical Feature: Parkinson's Disease\\n\\n*...</td>\n",
       "    </tr>\n",
       "  </tbody>\n",
       "</table>\n",
       "<p>103 rows × 4 columns</p>\n",
       "</div>"
      ],
      "text/plain": [
       "                  Feature                                        Description  \\\n",
       "0               Sample ID  Unique identifier for biological or clinical s...   \n",
       "1                study_id  Identifier for the specific study or research ...   \n",
       "2                     day          Day of data collection or relevant event.   \n",
       "3             Date Sample                Date when the sample was collected.   \n",
       "4                     age                            Age of the participant.   \n",
       "..                    ...                                                ...   \n",
       "98   Severe Liver disease                  Advanced liver disease diagnosis.   \n",
       "99                 ostomy                             Presence of an ostomy.   \n",
       "100            Alzheimers                  Diagnosis of Alzheimer’s disease.   \n",
       "101        Dementia Other                           Other forms of dementia.   \n",
       "102            Parkinsons                     Parkinson’s disease diagnosis.   \n",
       "\n",
       "       Group Characteristics  \\\n",
       "0       Study Identification   \n",
       "1       Study Identification   \n",
       "2       Temporal Information   \n",
       "3       Temporal Information   \n",
       "4    Demographic Information   \n",
       "..                       ...   \n",
       "98         Hepatic Condition   \n",
       "99          Surgical History   \n",
       "100   Neurological Condition   \n",
       "101   Neurological Condition   \n",
       "102   Neurological Condition   \n",
       "\n",
       "                                               Summary  \n",
       "0    ### Clinical Feature Summary\\n\\n#### Feature: ...  \n",
       "1    ### Clinical Feature Definitions, Scope, and R...  \n",
       "2    ### Clinical Feature Summary for Alzheimer's D...  \n",
       "3    ### Clinical Feature Summary\\n\\n#### Feature: ...  \n",
       "4    ### Clinical Feature Summary: Age\\n\\n**Definit...  \n",
       "..                                                 ...  \n",
       "98   ### Clinical Feature: Severe Liver Disease\\n\\n...  \n",
       "99   ### Clinical Feature: Ostomy\\n\\n**Definition:*...  \n",
       "100  ### Clinical Feature Summary: Alzheimer's Dise...  \n",
       "101  ### Clinical Feature: Dementia Other\\n\\n**Defi...  \n",
       "102  ### Clinical Feature: Parkinson's Disease\\n\\n*...  \n",
       "\n",
       "[103 rows x 4 columns]"
      ]
     },
     "execution_count": 7,
     "metadata": {},
     "output_type": "execute_result"
    }
   ],
   "source": [
    "clinical_summaries_df = pd.read_csv(glob(f\"..{os.sep}data{os.sep}clinical_summaries_df*\")[0])\n",
    "clinical_summaries_df"
   ]
  },
  {
   "cell_type": "code",
   "execution_count": 8,
   "id": "047e4f9a-f795-406f-892c-dc0b3262073c",
   "metadata": {},
   "outputs": [
    {
     "data": {
      "text/plain": [
       "['Sample ID', 'study_id', 'day', 'Date Sample', 'age']"
      ]
     },
     "execution_count": 8,
     "metadata": {},
     "output_type": "execute_result"
    }
   ],
   "source": [
    "clinical_summaries_df['Feature'].tolist()[:5]"
   ]
  },
  {
   "cell_type": "code",
   "execution_count": 9,
   "id": "b0dd156a-abee-425f-9b00-c7bc57d12056",
   "metadata": {},
   "outputs": [
    {
     "data": {
      "text/html": [
       "<div>\n",
       "<style scoped>\n",
       "    .dataframe tbody tr th:only-of-type {\n",
       "        vertical-align: middle;\n",
       "    }\n",
       "\n",
       "    .dataframe tbody tr th {\n",
       "        vertical-align: top;\n",
       "    }\n",
       "\n",
       "    .dataframe thead th {\n",
       "        text-align: right;\n",
       "    }\n",
       "</style>\n",
       "<table border=\"1\" class=\"dataframe\">\n",
       "  <thead>\n",
       "    <tr style=\"text-align: right;\">\n",
       "      <th></th>\n",
       "      <th>Feature</th>\n",
       "    </tr>\n",
       "  </thead>\n",
       "  <tbody>\n",
       "    <tr>\n",
       "      <th>10</th>\n",
       "      <td>clinical_frailty_scale</td>\n",
       "    </tr>\n",
       "    <tr>\n",
       "      <th>16</th>\n",
       "      <td>cholinesterase inhibitors</td>\n",
       "    </tr>\n",
       "    <tr>\n",
       "      <th>17</th>\n",
       "      <td>Calcium-channel blockers</td>\n",
       "    </tr>\n",
       "    <tr>\n",
       "      <th>58</th>\n",
       "      <td>Calcium Channel Modulators</td>\n",
       "    </tr>\n",
       "    <tr>\n",
       "      <th>59</th>\n",
       "      <td>Carbonic Anhydrase Inhibitor</td>\n",
       "    </tr>\n",
       "    <tr>\n",
       "      <th>60</th>\n",
       "      <td>Carboxamides</td>\n",
       "    </tr>\n",
       "    <tr>\n",
       "      <th>71</th>\n",
       "      <td>Chemotherapy Medication</td>\n",
       "    </tr>\n",
       "    <tr>\n",
       "      <th>81</th>\n",
       "      <td>COPD</td>\n",
       "    </tr>\n",
       "    <tr>\n",
       "      <th>86</th>\n",
       "      <td>Congestive heart failure</td>\n",
       "    </tr>\n",
       "    <tr>\n",
       "      <th>88</th>\n",
       "      <td>Cerebrovascular disease: CVA with mild or no r...</td>\n",
       "    </tr>\n",
       "    <tr>\n",
       "      <th>89</th>\n",
       "      <td>Chronic pulmonary disease</td>\n",
       "    </tr>\n",
       "    <tr>\n",
       "      <th>90</th>\n",
       "      <td>Connective tissue disease</td>\n",
       "    </tr>\n",
       "  </tbody>\n",
       "</table>\n",
       "</div>"
      ],
      "text/plain": [
       "                                              Feature\n",
       "10                             clinical_frailty_scale\n",
       "16                          cholinesterase inhibitors\n",
       "17                           Calcium-channel blockers\n",
       "58                         Calcium Channel Modulators\n",
       "59                       Carbonic Anhydrase Inhibitor\n",
       "60                                       Carboxamides\n",
       "71                            Chemotherapy Medication\n",
       "81                                               COPD\n",
       "86                           Congestive heart failure\n",
       "88  Cerebrovascular disease: CVA with mild or no r...\n",
       "89                          Chronic pulmonary disease\n",
       "90                          Connective tissue disease"
      ]
     },
     "execution_count": 9,
     "metadata": {},
     "output_type": "execute_result"
    }
   ],
   "source": [
    "clinical_summaries_df[['Feature']][clinical_summaries_df['Feature'].str.startswith(('c', 'C'))]"
   ]
  },
  {
   "cell_type": "code",
   "execution_count": 10,
   "id": "2997ecd9-868f-41cb-afce-4756762de9ab",
   "metadata": {},
   "outputs": [
    {
     "data": {
      "text/plain": [
       "['Faecalibacterium_prausnitzii',\n",
       " 'Fusicatenibacter_saccharivorans',\n",
       " 'Eubacterium_siraeum',\n",
       " 'Gemmiger_formicilis',\n",
       " 'Eubacterium_rectale']"
      ]
     },
     "execution_count": 10,
     "metadata": {},
     "output_type": "execute_result"
    }
   ],
   "source": [
    "bacteria_df = pd.read_csv(glob(f\"..{os.sep}data{os.sep}bacteria_df*\")[0])\n",
    "bacteria_df.species_name.tolist()[:5]"
   ]
  },
  {
   "cell_type": "code",
   "execution_count": 11,
   "id": "9940c398-8524-4ecd-a178-c214d07d1ed1",
   "metadata": {},
   "outputs": [
    {
     "data": {
      "text/plain": [
       "{'Eubacterium_rectale',\n",
       " 'Eubacterium_siraeum',\n",
       " 'Faecalibacterium_prausnitzii',\n",
       " 'Fusicatenibacter_saccharivorans',\n",
       " 'Gemmiger_formicilis'}"
      ]
     },
     "execution_count": 11,
     "metadata": {},
     "output_type": "execute_result"
    }
   ],
   "source": [
    "set(bacteria_df.species_name.tolist()[:5])"
   ]
  },
  {
   "cell_type": "code",
   "execution_count": 12,
   "id": "6c15693c-7560-40f1-b66e-10cee97224c6",
   "metadata": {},
   "outputs": [
    {
     "data": {
      "text/plain": [
       "Dementia Other\n",
       "0    335\n",
       "Name: count, dtype: int64"
      ]
     },
     "execution_count": 12,
     "metadata": {},
     "output_type": "execute_result"
    }
   ],
   "source": [
    "clinical_microbiome_df[\"Dementia Other\"].value_counts()"
   ]
  },
  {
   "cell_type": "code",
   "execution_count": 13,
   "id": "e703fd42-1a78-42dc-b3ae-3378690be420",
   "metadata": {},
   "outputs": [
    {
     "name": "stdout",
     "output_type": "stream",
     "text": [
      "cuda:0: ['machine_learning_experiment03.ipynb', 'machine_learning_experiment06.ipynb', 'machine_learning_experiment08.ipynb']\n",
      "cuda:1: ['machine_learning_experiment09.ipynb', 'machine_learning_experiment07.ipynb', 'machine_learning_experiment10.ipynb']\n",
      "cuda:2: ['machine_learning_experiment02.ipynb', 'machine_learning_experiment04.ipynb']\n",
      "cuda:3: ['machine_learning_experiment05.ipynb', 'machine_learning_experiment01.ipynb']\n",
      "Initial seed: 127573839\n",
      "Random Integers List: [315491657, 135304577, 1572185508, 1029933563, 1950160822, 563269619, 1573902777, 513873336, 442822283, 1770168448]\n",
      "Notebook 'machine_learning_experiment08.ipynb' is assigned to device: cuda:0 with seed 513873336.\n"
     ]
    }
   ],
   "source": [
    "import os\n",
    "from math import ceil\n",
    "from pynvml import nvmlInit, nvmlDeviceGetCount\n",
    "\n",
    "# Function to get the number of GPUs available\n",
    "def get_num_gpus():\n",
    "    try:\n",
    "        nvmlInit()\n",
    "        return nvmlDeviceGetCount()\n",
    "    except Exception as e:\n",
    "        print(f\"Error accessing NVML: {e}\")\n",
    "        return 0\n",
    "\n",
    "# Function to list all .ipynb files in the current directory\n",
    "def get_notebook_files():\n",
    "    return [f for f in os.listdir('.') if f.endswith('.ipynb')]\n",
    "\n",
    "# Function to evenly distribute files across GPUs\n",
    "def distribute_files_evenly(files, num_gpus):\n",
    "    \"\"\"\n",
    "    Distributes files evenly across all available GPUs.\n",
    "    \n",
    "    Args:\n",
    "        files (list): List of file names to distribute.\n",
    "        num_gpus (int): Number of GPUs available.\n",
    "        \n",
    "    Returns:\n",
    "        dict: Distribution of files per GPU.\n",
    "    \"\"\"\n",
    "    distribution = {f\"cuda:{i}\": [] for i in range(num_gpus)}\n",
    "    for idx, file in enumerate(files):\n",
    "        # Assign each file to a GPU in round-robin fashion\n",
    "        gpu_id = idx % num_gpus\n",
    "        distribution[f\"cuda:{gpu_id}\"].append(file)\n",
    "    return distribution\n",
    "\n",
    "# Function to get GPU ID for a specific notebook file\n",
    "def get_gpu_for_file(nb_fname, file_distribution):\n",
    "    \"\"\"\n",
    "    Finds the GPU ID for a given notebook file based on the distribution.\n",
    "    \n",
    "    Args:\n",
    "        nb_fname (str): Notebook file name to find the GPU for.\n",
    "        file_distribution (dict): Distribution of files per GPU.\n",
    "    \n",
    "    Returns:\n",
    "        str: GPU ID (e.g., \"cuda:0\") or \"Unassigned\" if the file is not found.\n",
    "    \"\"\"\n",
    "    for gpu, files in file_distribution.items():\n",
    "        if nb_fname in files:\n",
    "            return gpu\n",
    "    return \"cpu\"\n",
    "\n",
    "# Main logic for the notebook\n",
    "def assign_notebooks_to_gpus():\n",
    "    # Get the number of GPUs\n",
    "    num_gpus = get_num_gpus()\n",
    "    if num_gpus == 0:\n",
    "        print(\"No GPUs available. Using CPU for all tasks.\")\n",
    "        return {\"cpu\": get_notebook_files()}\n",
    "    \n",
    "    # Get the list of .ipynb files\n",
    "    notebook_files = get_notebook_files()\n",
    "    if not notebook_files:\n",
    "        print(\"No .ipynb files found in the current directory.\")\n",
    "        return {}\n",
    "    \n",
    "    # Evenly distribute files across GPUs\n",
    "    file_distribution = distribute_files_evenly(notebook_files, num_gpus)\n",
    "    \n",
    "    # Display the distribution in the notebook\n",
    "    for gpu, files in file_distribution.items():\n",
    "        print(f\"{gpu}: {files}\")\n",
    "    \n",
    "    return file_distribution\n",
    "\n",
    "# Run the assignment logic\n",
    "file_distribution = assign_notebooks_to_gpus()\n",
    "\n",
    "# Get the GPU ID for the specific notebook file\n",
    "device = get_gpu_for_file(f\"{nb_fname}.ipynb\", file_distribution)\n",
    "\n",
    "print(f\"Initial seed: {initial_seed}\")\n",
    "print(f\"Random Integers List: {random_integers_list}\")\n",
    "# Print the result\n",
    "print(f\"Notebook '{nb_fname}.ipynb' is assigned to device: {device} with seed {seed}.\")"
   ]
  },
  {
   "cell_type": "code",
   "execution_count": 14,
   "id": "aa8502c3-c35f-4798-9c31-429e329e307a",
   "metadata": {
    "scrolled": true
   },
   "outputs": [
    {
     "name": "stdout",
     "output_type": "stream",
     "text": [
      "Experiment number: 8 | Seed number: 513873336\n",
      "No overlap Study ID found.\n",
      "No overlap Sample ID found.\n"
     ]
    },
    {
     "name": "stderr",
     "output_type": "stream",
     "text": [
      "[I 2024-12-05 12:52:17,778] A new study created in memory with name: no-name-ef819917-f85e-45c6-bea0-1b14868ab5e7\n"
     ]
    },
    {
     "name": "stdout",
     "output_type": "stream",
     "text": [
      "Seed in the model 513873336 on Device cuda:0\n"
     ]
    },
    {
     "name": "stderr",
     "output_type": "stream",
     "text": [
      "[I 2024-12-05 12:52:18,948] Trial 0 finished with value: 0.8556385517169831 and parameters: {'threshold': '0.5*mean', 'max_features': 651, 'norm_order': 2, 'n_estimators': 110, 'max_depth': 26, 'min_samples_split': 5, 'min_samples_leaf': 1, 'max_features_rf': 0.5826091998727425}. Best is trial 0 with value: 0.8556385517169831.\n"
     ]
    },
    {
     "name": "stdout",
     "output_type": "stream",
     "text": [
      "Seed in the model 513873336 on Device cuda:0\n"
     ]
    },
    {
     "name": "stderr",
     "output_type": "stream",
     "text": [
      "[I 2024-12-05 12:52:20,418] Trial 1 finished with value: 0.8644857414711375 and parameters: {'threshold': 'mean', 'max_features': 187, 'norm_order': 2, 'n_estimators': 144, 'max_depth': 15, 'min_samples_split': 8, 'min_samples_leaf': 2, 'max_features_rf': 0.8515140372257379}. Best is trial 1 with value: 0.8644857414711375.\n"
     ]
    },
    {
     "name": "stdout",
     "output_type": "stream",
     "text": [
      "Seed in the model 513873336 on Device cuda:0\n"
     ]
    },
    {
     "name": "stderr",
     "output_type": "stream",
     "text": [
      "[I 2024-12-05 12:52:22,658] Trial 2 finished with value: 0.8312426567143548 and parameters: {'threshold': 'very_low', 'max_features': 462, 'norm_order': 1, 'n_estimators': 193, 'max_depth': 26, 'min_samples_split': 5, 'min_samples_leaf': 4, 'max_features_rf': 0.6817917456396037}. Best is trial 1 with value: 0.8644857414711375.\n"
     ]
    },
    {
     "name": "stdout",
     "output_type": "stream",
     "text": [
      "Seed in the model 513873336 on Device cuda:0\n"
     ]
    },
    {
     "name": "stderr",
     "output_type": "stream",
     "text": [
      "[I 2024-12-05 12:52:23,981] Trial 3 finished with value: 0.8406076900906877 and parameters: {'threshold': '0.5*mean', 'max_features': 902, 'norm_order': 2, 'n_estimators': 136, 'max_depth': 6, 'min_samples_split': 3, 'min_samples_leaf': 5, 'max_features_rf': 0.7678918530187617}. Best is trial 1 with value: 0.8644857414711375.\n"
     ]
    },
    {
     "name": "stdout",
     "output_type": "stream",
     "text": [
      "Seed in the model 513873336 on Device cuda:0\n"
     ]
    },
    {
     "name": "stderr",
     "output_type": "stream",
     "text": [
      "[I 2024-12-05 12:52:25,048] Trial 4 finished with value: 0.8425896390808671 and parameters: {'threshold': '0.5*mean', 'max_features': 165, 'norm_order': 2, 'n_estimators': 101, 'max_depth': 29, 'min_samples_split': 6, 'min_samples_leaf': 4, 'max_features_rf': 0.515306884974108}. Best is trial 1 with value: 0.8644857414711375.\n"
     ]
    },
    {
     "name": "stdout",
     "output_type": "stream",
     "text": [
      "Seed in the model 513873336 on Device cuda:0\n"
     ]
    },
    {
     "name": "stderr",
     "output_type": "stream",
     "text": [
      "[I 2024-12-05 12:52:27,382] Trial 5 finished with value: 0.8773946360153256 and parameters: {'threshold': 'median', 'max_features': 857, 'norm_order': 1, 'n_estimators': 104, 'max_depth': 15, 'min_samples_split': 2, 'min_samples_leaf': 2, 'max_features_rf': 0.8492662696381121}. Best is trial 5 with value: 0.8773946360153256.\n"
     ]
    },
    {
     "name": "stdout",
     "output_type": "stream",
     "text": [
      "Seed in the model 513873336 on Device cuda:0\n"
     ]
    },
    {
     "name": "stderr",
     "output_type": "stream",
     "text": [
      "[I 2024-12-05 12:52:29,777] Trial 6 finished with value: 0.8685573685573685 and parameters: {'threshold': 'very_low', 'max_features': 665, 'norm_order': 2, 'n_estimators': 112, 'max_depth': 7, 'min_samples_split': 2, 'min_samples_leaf': 1, 'max_features_rf': 0.9526256767765713}. Best is trial 5 with value: 0.8773946360153256.\n"
     ]
    },
    {
     "name": "stdout",
     "output_type": "stream",
     "text": [
      "Seed in the model 513873336 on Device cuda:0\n"
     ]
    },
    {
     "name": "stderr",
     "output_type": "stream",
     "text": [
      "[I 2024-12-05 12:52:34,254] Trial 7 finished with value: 0.844938394938395 and parameters: {'threshold': 'median', 'max_features': 489, 'norm_order': 1, 'n_estimators': 285, 'max_depth': 27, 'min_samples_split': 6, 'min_samples_leaf': 3, 'max_features_rf': 0.9040549196333642}. Best is trial 5 with value: 0.8773946360153256.\n"
     ]
    },
    {
     "name": "stdout",
     "output_type": "stream",
     "text": [
      "Seed in the model 513873336 on Device cuda:0\n"
     ]
    },
    {
     "name": "stderr",
     "output_type": "stream",
     "text": [
      "[I 2024-12-05 12:52:35,269] Trial 8 finished with value: 0.8213125406107862 and parameters: {'threshold': 'mean', 'max_features': 933, 'norm_order': 1, 'n_estimators': 69, 'max_depth': 5, 'min_samples_split': 4, 'min_samples_leaf': 3, 'max_features_rf': 0.6850578806554768}. Best is trial 5 with value: 0.8773946360153256.\n"
     ]
    },
    {
     "name": "stdout",
     "output_type": "stream",
     "text": [
      "Seed in the model 513873336 on Device cuda:0\n"
     ]
    },
    {
     "name": "stderr",
     "output_type": "stream",
     "text": [
      "[I 2024-12-05 12:52:37,757] Trial 9 finished with value: 0.8564894225271584 and parameters: {'threshold': 'mean', 'max_features': 683, 'norm_order': 2, 'n_estimators': 255, 'max_depth': 7, 'min_samples_split': 8, 'min_samples_leaf': 1, 'max_features_rf': 0.831795140017846}. Best is trial 5 with value: 0.8773946360153256.\n"
     ]
    },
    {
     "name": "stdout",
     "output_type": "stream",
     "text": [
      "Seed in the model 513873336 on Device cuda:0\n"
     ]
    },
    {
     "name": "stderr",
     "output_type": "stream",
     "text": [
      "[I 2024-12-05 12:52:42,003] Trial 10 finished with value: 0.8659003831417623 and parameters: {'threshold': 'median', 'max_features': 1043, 'norm_order': 1, 'n_estimators': 204, 'max_depth': 16, 'min_samples_split': 10, 'min_samples_leaf': 2, 'max_features_rf': 0.9590228891513747}. Best is trial 5 with value: 0.8773946360153256.\n"
     ]
    },
    {
     "name": "stdout",
     "output_type": "stream",
     "text": [
      "Seed in the model 513873336 on Device cuda:0\n"
     ]
    },
    {
     "name": "stderr",
     "output_type": "stream",
     "text": [
      "[I 2024-12-05 12:52:43,042] Trial 11 finished with value: 0.8585012258821022 and parameters: {'threshold': '1.5*mean', 'max_features': 749, 'norm_order': 1, 'n_estimators': 52, 'max_depth': 11, 'min_samples_split': 2, 'min_samples_leaf': 2, 'max_features_rf': 0.971958852429962}. Best is trial 5 with value: 0.8773946360153256.\n"
     ]
    },
    {
     "name": "stdout",
     "output_type": "stream",
     "text": [
      "Seed in the model 513873336 on Device cuda:0\n"
     ]
    },
    {
     "name": "stderr",
     "output_type": "stream",
     "text": [
      "[I 2024-12-05 12:52:45,669] Trial 12 finished with value: 0.8489906320095 and parameters: {'threshold': 'very_low', 'max_features': 340, 'norm_order': 2, 'n_estimators': 155, 'max_depth': 21, 'min_samples_split': 2, 'min_samples_leaf': 1, 'max_features_rf': 0.8711959557170333}. Best is trial 5 with value: 0.8773946360153256.\n"
     ]
    },
    {
     "name": "stdout",
     "output_type": "stream",
     "text": [
      "Seed in the model 513873336 on Device cuda:0\n"
     ]
    },
    {
     "name": "stderr",
     "output_type": "stream",
     "text": [
      "[I 2024-12-05 12:52:48,394] Trial 13 finished with value: 0.8576253702039865 and parameters: {'threshold': 'very_low', 'max_features': 813, 'norm_order': 1, 'n_estimators': 96, 'max_depth': 11, 'min_samples_split': 3, 'min_samples_leaf': 2, 'max_features_rf': 0.997099669307853}. Best is trial 5 with value: 0.8773946360153256.\n"
     ]
    },
    {
     "name": "stdout",
     "output_type": "stream",
     "text": [
      "Seed in the model 513873336 on Device cuda:0\n"
     ]
    },
    {
     "name": "stderr",
     "output_type": "stream",
     "text": [
      "[I 2024-12-05 12:52:50,579] Trial 14 finished with value: 0.8737905369484317 and parameters: {'threshold': 'median', 'max_features': 587, 'norm_order': 1, 'n_estimators': 78, 'max_depth': 21, 'min_samples_split': 2, 'min_samples_leaf': 1, 'max_features_rf': 0.7806606134314888}. Best is trial 5 with value: 0.8773946360153256.\n"
     ]
    },
    {
     "name": "stdout",
     "output_type": "stream",
     "text": [
      "Seed in the model 513873336 on Device cuda:0\n"
     ]
    },
    {
     "name": "stderr",
     "output_type": "stream",
     "text": [
      "[I 2024-12-05 12:52:52,038] Trial 15 finished with value: 0.8354449515946157 and parameters: {'threshold': 'median', 'max_features': 332, 'norm_order': 1, 'n_estimators': 70, 'max_depth': 21, 'min_samples_split': 4, 'min_samples_leaf': 3, 'max_features_rf': 0.7910419635994519}. Best is trial 5 with value: 0.8773946360153256.\n"
     ]
    },
    {
     "name": "stdout",
     "output_type": "stream",
     "text": [
      "Seed in the model 513873336 on Device cuda:0\n"
     ]
    },
    {
     "name": "stderr",
     "output_type": "stream",
     "text": [
      "[I 2024-12-05 12:52:53,109] Trial 16 finished with value: 0.8781144781144782 and parameters: {'threshold': 'median', 'max_features': 573, 'norm_order': 1, 'n_estimators': 50, 'max_depth': 21, 'min_samples_split': 3, 'min_samples_leaf': 2, 'max_features_rf': 0.7154823432060338}. Best is trial 16 with value: 0.8781144781144782.\n"
     ]
    },
    {
     "name": "stdout",
     "output_type": "stream",
     "text": [
      "Seed in the model 513873336 on Device cuda:0\n"
     ]
    },
    {
     "name": "stderr",
     "output_type": "stream",
     "text": [
      "[I 2024-12-05 12:52:54,008] Trial 17 finished with value: 0.8545971960661226 and parameters: {'threshold': 'median', 'max_features': 39, 'norm_order': 1, 'n_estimators': 54, 'max_depth': 18, 'min_samples_split': 4, 'min_samples_leaf': 2, 'max_features_rf': 0.695205834650876}. Best is trial 16 with value: 0.8781144781144782.\n"
     ]
    },
    {
     "name": "stdout",
     "output_type": "stream",
     "text": [
      "Seed in the model 513873336 on Device cuda:0\n"
     ]
    },
    {
     "name": "stderr",
     "output_type": "stream",
     "text": [
      "[I 2024-12-05 12:52:55,300] Trial 18 finished with value: 0.8348393937203307 and parameters: {'threshold': '1.5*mean', 'max_features': 846, 'norm_order': 1, 'n_estimators': 167, 'max_depth': 13, 'min_samples_split': 3, 'min_samples_leaf': 4, 'max_features_rf': 0.6020129602380871}. Best is trial 16 with value: 0.8781144781144782.\n"
     ]
    },
    {
     "name": "stdout",
     "output_type": "stream",
     "text": [
      "Seed in the model 513873336 on Device cuda:0\n"
     ]
    },
    {
     "name": "stderr",
     "output_type": "stream",
     "text": [
      "[I 2024-12-05 12:52:57,308] Trial 19 finished with value: 0.8221841052029731 and parameters: {'threshold': 'median', 'max_features': 989, 'norm_order': 1, 'n_estimators': 126, 'max_depth': 19, 'min_samples_split': 8, 'min_samples_leaf': 3, 'max_features_rf': 0.7227664742861148}. Best is trial 16 with value: 0.8781144781144782.\n"
     ]
    },
    {
     "name": "stdout",
     "output_type": "stream",
     "text": [
      "Seed in the model 513873336 on Device cuda:0\n"
     ]
    },
    {
     "name": "stderr",
     "output_type": "stream",
     "text": [
      "[I 2024-12-05 12:53:00,164] Trial 20 finished with value: 0.8696636696636698 and parameters: {'threshold': 'median', 'max_features': 373, 'norm_order': 1, 'n_estimators': 223, 'max_depth': 11, 'min_samples_split': 5, 'min_samples_leaf': 2, 'max_features_rf': 0.6510155264355598}. Best is trial 16 with value: 0.8781144781144782.\n"
     ]
    },
    {
     "name": "stdout",
     "output_type": "stream",
     "text": [
      "Seed in the model 513873336 on Device cuda:0\n"
     ]
    },
    {
     "name": "stderr",
     "output_type": "stream",
     "text": [
      "[I 2024-12-05 12:53:02,169] Trial 21 finished with value: 0.8462401795735129 and parameters: {'threshold': 'median', 'max_features': 586, 'norm_order': 1, 'n_estimators': 85, 'max_depth': 23, 'min_samples_split': 2, 'min_samples_leaf': 1, 'max_features_rf': 0.7999610126763932}. Best is trial 16 with value: 0.8781144781144782.\n"
     ]
    },
    {
     "name": "stdout",
     "output_type": "stream",
     "text": [
      "Seed in the model 513873336 on Device cuda:0\n"
     ]
    },
    {
     "name": "stderr",
     "output_type": "stream",
     "text": [
      "[I 2024-12-05 12:53:03,964] Trial 22 finished with value: 0.8655443322109989 and parameters: {'threshold': 'median', 'max_features': 560, 'norm_order': 1, 'n_estimators': 78, 'max_depth': 23, 'min_samples_split': 3, 'min_samples_leaf': 1, 'max_features_rf': 0.7487236218612917}. Best is trial 16 with value: 0.8781144781144782.\n"
     ]
    },
    {
     "name": "stdout",
     "output_type": "stream",
     "text": [
      "Seed in the model 513873336 on Device cuda:0\n"
     ]
    },
    {
     "name": "stderr",
     "output_type": "stream",
     "text": [
      "[I 2024-12-05 12:53:05,496] Trial 23 finished with value: 0.8442908618347215 and parameters: {'threshold': 'median', 'max_features': 784, 'norm_order': 1, 'n_estimators': 56, 'max_depth': 18, 'min_samples_split': 2, 'min_samples_leaf': 2, 'max_features_rf': 0.8988011803138054}. Best is trial 16 with value: 0.8781144781144782.\n"
     ]
    },
    {
     "name": "stdout",
     "output_type": "stream",
     "text": [
      "Seed in the model 513873336 on Device cuda:0\n"
     ]
    },
    {
     "name": "stderr",
     "output_type": "stream",
     "text": [
      "[I 2024-12-05 12:53:07,673] Trial 24 finished with value: 0.8759293338240707 and parameters: {'threshold': 'median', 'max_features': 417, 'norm_order': 1, 'n_estimators': 121, 'max_depth': 23, 'min_samples_split': 3, 'min_samples_leaf': 2, 'max_features_rf': 0.8212583614551298}. Best is trial 16 with value: 0.8781144781144782.\n"
     ]
    },
    {
     "name": "stdout",
     "output_type": "stream",
     "text": [
      "Seed in the model 513873336 on Device cuda:0\n"
     ]
    },
    {
     "name": "stderr",
     "output_type": "stream",
     "text": [
      "[I 2024-12-05 12:53:09,258] Trial 25 finished with value: 0.8692485931810658 and parameters: {'threshold': '1.5*mean', 'max_features': 438, 'norm_order': 1, 'n_estimators': 123, 'max_depth': 24, 'min_samples_split': 4, 'min_samples_leaf': 3, 'max_features_rf': 0.8285727226782093}. Best is trial 16 with value: 0.8781144781144782.\n"
     ]
    },
    {
     "name": "stdout",
     "output_type": "stream",
     "text": [
      "Seed in the model 513873336 on Device cuda:0\n"
     ]
    },
    {
     "name": "stderr",
     "output_type": "stream",
     "text": [
      "[I 2024-12-05 12:53:11,303] Trial 26 finished with value: 0.8556385517169831 and parameters: {'threshold': 'median', 'max_features': 185, 'norm_order': 1, 'n_estimators': 165, 'max_depth': 30, 'min_samples_split': 3, 'min_samples_leaf': 2, 'max_features_rf': 0.9056025353024747}. Best is trial 16 with value: 0.8781144781144782.\n"
     ]
    },
    {
     "name": "stdout",
     "output_type": "stream",
     "text": [
      "Seed in the model 513873336 on Device cuda:0\n"
     ]
    },
    {
     "name": "stderr",
     "output_type": "stream",
     "text": [
      "[I 2024-12-05 12:53:12,493] Trial 27 finished with value: 0.8357865158642074 and parameters: {'threshold': 'median', 'max_features': 249, 'norm_order': 1, 'n_estimators': 93, 'max_depth': 14, 'min_samples_split': 7, 'min_samples_leaf': 2, 'max_features_rf': 0.7332544313985033}. Best is trial 16 with value: 0.8781144781144782.\n"
     ]
    },
    {
     "name": "stdout",
     "output_type": "stream",
     "text": [
      "Seed in the model 513873336 on Device cuda:0\n"
     ]
    },
    {
     "name": "stderr",
     "output_type": "stream",
     "text": [
      "[I 2024-12-05 12:53:14,908] Trial 28 finished with value: 0.8473034437946719 and parameters: {'threshold': 'median', 'max_features': 412, 'norm_order': 1, 'n_estimators': 186, 'max_depth': 20, 'min_samples_split': 4, 'min_samples_leaf': 3, 'max_features_rf': 0.6346450794563867}. Best is trial 16 with value: 0.8781144781144782.\n"
     ]
    },
    {
     "name": "stdout",
     "output_type": "stream",
     "text": [
      "Seed in the model 513873336 on Device cuda:0\n"
     ]
    },
    {
     "name": "stderr",
     "output_type": "stream",
     "text": [
      "[I 2024-12-05 12:53:16,417] Trial 29 finished with value: 0.8721896221399698 and parameters: {'threshold': '0.5*mean', 'max_features': 716, 'norm_order': 1, 'n_estimators': 113, 'max_depth': 25, 'min_samples_split': 5, 'min_samples_leaf': 2, 'max_features_rf': 0.5597597283708595}. Best is trial 16 with value: 0.8781144781144782.\n"
     ]
    },
    {
     "name": "stdout",
     "output_type": "stream",
     "text": [
      "Seed in the model 513873336 on Device cuda:0\n"
     ]
    },
    {
     "name": "stderr",
     "output_type": "stream",
     "text": [
      "[I 2024-12-05 12:53:18,465] Trial 30 finished with value: 0.8438241196861886 and parameters: {'threshold': 'median', 'max_features': 523, 'norm_order': 1, 'n_estimators': 133, 'max_depth': 17, 'min_samples_split': 3, 'min_samples_leaf': 3, 'max_features_rf': 0.8848751870364435}. Best is trial 16 with value: 0.8781144781144782.\n"
     ]
    },
    {
     "name": "stdout",
     "output_type": "stream",
     "text": [
      "Seed in the model 513873336 on Device cuda:0\n"
     ]
    },
    {
     "name": "stderr",
     "output_type": "stream",
     "text": [
      "[I 2024-12-05 12:53:20,017] Trial 31 finished with value: 0.8443408443408443 and parameters: {'threshold': 'median', 'max_features': 607, 'norm_order': 1, 'n_estimators': 75, 'max_depth': 22, 'min_samples_split': 2, 'min_samples_leaf': 1, 'max_features_rf': 0.7906587082288646}. Best is trial 16 with value: 0.8781144781144782.\n"
     ]
    },
    {
     "name": "stdout",
     "output_type": "stream",
     "text": [
      "Seed in the model 513873336 on Device cuda:0\n"
     ]
    },
    {
     "name": "stderr",
     "output_type": "stream",
     "text": [
      "[I 2024-12-05 12:53:21,717] Trial 32 finished with value: 0.8833706836309309 and parameters: {'threshold': 'median', 'max_features': 629, 'norm_order': 1, 'n_estimators': 106, 'max_depth': 27, 'min_samples_split': 2, 'min_samples_leaf': 1, 'max_features_rf': 0.8207732316927921}. Best is trial 32 with value: 0.8833706836309309.\n"
     ]
    },
    {
     "name": "stdout",
     "output_type": "stream",
     "text": [
      "Seed in the model 513873336 on Device cuda:0\n"
     ]
    },
    {
     "name": "stderr",
     "output_type": "stream",
     "text": [
      "[I 2024-12-05 12:53:23,093] Trial 33 finished with value: 0.8595300468365483 and parameters: {'threshold': 'mean', 'max_features': 273, 'norm_order': 1, 'n_estimators': 141, 'max_depth': 27, 'min_samples_split': 3, 'min_samples_leaf': 1, 'max_features_rf': 0.825971669578879}. Best is trial 32 with value: 0.8833706836309309.\n"
     ]
    },
    {
     "name": "stdout",
     "output_type": "stream",
     "text": [
      "Seed in the model 513873336 on Device cuda:0\n"
     ]
    },
    {
     "name": "stderr",
     "output_type": "stream",
     "text": [
      "[I 2024-12-05 12:53:25,303] Trial 34 finished with value: 0.8699710492163323 and parameters: {'threshold': 'median', 'max_features': 510, 'norm_order': 1, 'n_estimators': 152, 'max_depth': 26, 'min_samples_split': 5, 'min_samples_leaf': 2, 'max_features_rf': 0.8568043354348489}. Best is trial 32 with value: 0.8833706836309309.\n"
     ]
    },
    {
     "name": "stdout",
     "output_type": "stream",
     "text": [
      "Seed in the model 513873336 on Device cuda:0\n"
     ]
    },
    {
     "name": "stderr",
     "output_type": "stream",
     "text": [
      "[I 2024-12-05 12:53:26,927] Trial 35 finished with value: 0.8619916991317189 and parameters: {'threshold': '0.5*mean', 'max_features': 890, 'norm_order': 2, 'n_estimators': 105, 'max_depth': 24, 'min_samples_split': 3, 'min_samples_leaf': 2, 'max_features_rf': 0.761003545649814}. Best is trial 32 with value: 0.8833706836309309.\n"
     ]
    },
    {
     "name": "stdout",
     "output_type": "stream",
     "text": [
      "Seed in the model 513873336 on Device cuda:0\n"
     ]
    },
    {
     "name": "stderr",
     "output_type": "stream",
     "text": [
      "[I 2024-12-05 12:53:29,508] Trial 36 finished with value: 0.8825496655685335 and parameters: {'threshold': 'median', 'max_features': 626, 'norm_order': 1, 'n_estimators': 117, 'max_depth': 28, 'min_samples_split': 2, 'min_samples_leaf': 1, 'max_features_rf': 0.9256144473442864}. Best is trial 32 with value: 0.8833706836309309.\n"
     ]
    },
    {
     "name": "stdout",
     "output_type": "stream",
     "text": [
      "Seed in the model 513873336 on Device cuda:0\n"
     ]
    },
    {
     "name": "stderr",
     "output_type": "stream",
     "text": [
      "[I 2024-12-05 12:53:30,505] Trial 37 finished with value: 0.8595300468365483 and parameters: {'threshold': '1.5*mean', 'max_features': 668, 'norm_order': 1, 'n_estimators': 97, 'max_depth': 29, 'min_samples_split': 2, 'min_samples_leaf': 1, 'max_features_rf': 0.9222939964894298}. Best is trial 32 with value: 0.8833706836309309.\n"
     ]
    },
    {
     "name": "stdout",
     "output_type": "stream",
     "text": [
      "Seed in the model 513873336 on Device cuda:0\n"
     ]
    },
    {
     "name": "stderr",
     "output_type": "stream",
     "text": [
      "[I 2024-12-05 12:53:32,892] Trial 38 finished with value: 0.8659003831417623 and parameters: {'threshold': 'very_low', 'max_features': 640, 'norm_order': 2, 'n_estimators': 109, 'max_depth': 28, 'min_samples_split': 2, 'min_samples_leaf': 1, 'max_features_rf': 0.929105311183549}. Best is trial 32 with value: 0.8833706836309309.\n"
     ]
    },
    {
     "name": "stdout",
     "output_type": "stream",
     "text": [
      "Seed in the model 513873336 on Device cuda:0\n"
     ]
    },
    {
     "name": "stderr",
     "output_type": "stream",
     "text": [
      "[I 2024-12-05 12:53:34,393] Trial 39 finished with value: 0.8226120857699805 and parameters: {'threshold': 'mean', 'max_features': 747, 'norm_order': 1, 'n_estimators': 143, 'max_depth': 30, 'min_samples_split': 9, 'min_samples_leaf': 5, 'max_features_rf': 0.8542705745754405}. Best is trial 32 with value: 0.8833706836309309.\n"
     ]
    },
    {
     "name": "stdout",
     "output_type": "stream",
     "text": [
      "Seed in the model 513873336 on Device cuda:0\n"
     ]
    },
    {
     "name": "stderr",
     "output_type": "stream",
     "text": [
      "[I 2024-12-05 12:53:35,074] Trial 40 finished with value: 0.8603006189213086 and parameters: {'threshold': '0.5*mean', 'max_features': 845, 'norm_order': 1, 'n_estimators': 64, 'max_depth': 26, 'min_samples_split': 7, 'min_samples_leaf': 1, 'max_features_rf': 0.7156995639634006}. Best is trial 32 with value: 0.8833706836309309.\n"
     ]
    },
    {
     "name": "stdout",
     "output_type": "stream",
     "text": [
      "Seed in the model 513873336 on Device cuda:0\n"
     ]
    },
    {
     "name": "stderr",
     "output_type": "stream",
     "text": [
      "[I 2024-12-05 12:53:36,541] Trial 41 finished with value: 0.8459535456390802 and parameters: {'threshold': 'median', 'max_features': 460, 'norm_order': 1, 'n_estimators': 119, 'max_depth': 28, 'min_samples_split': 3, 'min_samples_leaf': 1, 'max_features_rf': 0.8343888473138783}. Best is trial 32 with value: 0.8833706836309309.\n"
     ]
    },
    {
     "name": "stdout",
     "output_type": "stream",
     "text": [
      "Seed in the model 513873336 on Device cuda:0\n"
     ]
    },
    {
     "name": "stderr",
     "output_type": "stream",
     "text": [
      "[I 2024-12-05 12:53:37,491] Trial 42 finished with value: 0.7942528735632184 and parameters: {'threshold': 'median', 'max_features': 549, 'norm_order': 1, 'n_estimators': 90, 'max_depth': 3, 'min_samples_split': 2, 'min_samples_leaf': 4, 'max_features_rf': 0.8097851876789322}. Best is trial 32 with value: 0.8833706836309309.\n"
     ]
    },
    {
     "name": "stdout",
     "output_type": "stream",
     "text": [
      "Seed in the model 513873336 on Device cuda:0\n"
     ]
    },
    {
     "name": "stderr",
     "output_type": "stream",
     "text": [
      "[I 2024-12-05 12:53:39,155] Trial 43 finished with value: 0.8520052274769258 and parameters: {'threshold': 'median', 'max_features': 633, 'norm_order': 1, 'n_estimators': 128, 'max_depth': 25, 'min_samples_split': 3, 'min_samples_leaf': 2, 'max_features_rf': 0.8765528129616769}. Best is trial 32 with value: 0.8833706836309309.\n"
     ]
    },
    {
     "name": "stdout",
     "output_type": "stream",
     "text": [
      "Seed in the model 513873336 on Device cuda:0\n"
     ]
    },
    {
     "name": "stderr",
     "output_type": "stream",
     "text": [
      "[I 2024-12-05 12:53:42,587] Trial 44 finished with value: 0.8704369238960433 and parameters: {'threshold': 'median', 'max_features': 696, 'norm_order': 1, 'n_estimators': 155, 'max_depth': 16, 'min_samples_split': 4, 'min_samples_leaf': 2, 'max_features_rf': 0.9370316768502663}. Best is trial 32 with value: 0.8833706836309309.\n"
     ]
    },
    {
     "name": "stdout",
     "output_type": "stream",
     "text": [
      "Seed in the model 513873336 on Device cuda:0\n"
     ]
    },
    {
     "name": "stderr",
     "output_type": "stream",
     "text": [
      "[I 2024-12-05 12:53:45,545] Trial 45 finished with value: 0.8639349469538149 and parameters: {'threshold': 'median', 'max_features': 957, 'norm_order': 1, 'n_estimators': 205, 'max_depth': 27, 'min_samples_split': 2, 'min_samples_leaf': 1, 'max_features_rf': 0.7562727654769161}. Best is trial 32 with value: 0.8833706836309309.\n"
     ]
    },
    {
     "name": "stdout",
     "output_type": "stream",
     "text": [
      "Seed in the model 513873336 on Device cuda:0\n"
     ]
    },
    {
     "name": "stderr",
     "output_type": "stream",
     "text": [
      "[I 2024-12-05 12:53:48,388] Trial 46 finished with value: 0.8645838438291268 and parameters: {'threshold': 'median', 'max_features': 466, 'norm_order': 1, 'n_estimators': 292, 'max_depth': 9, 'min_samples_split': 2, 'min_samples_leaf': 2, 'max_features_rf': 0.8113596563622475}. Best is trial 32 with value: 0.8833706836309309.\n"
     ]
    },
    {
     "name": "stdout",
     "output_type": "stream",
     "text": [
      "Seed in the model 513873336 on Device cuda:0\n"
     ]
    },
    {
     "name": "stderr",
     "output_type": "stream",
     "text": [
      "[I 2024-12-05 12:53:49,694] Trial 47 finished with value: 0.8672580143168377 and parameters: {'threshold': 'very_low', 'max_features': 395, 'norm_order': 2, 'n_estimators': 103, 'max_depth': 23, 'min_samples_split': 4, 'min_samples_leaf': 1, 'max_features_rf': 0.9748332592980528}. Best is trial 32 with value: 0.8833706836309309.\n"
     ]
    },
    {
     "name": "stdout",
     "output_type": "stream",
     "text": [
      "Seed in the model 513873336 on Device cuda:0\n"
     ]
    },
    {
     "name": "stderr",
     "output_type": "stream",
     "text": [
      "[I 2024-12-05 12:53:50,385] Trial 48 finished with value: 0.83607314979864 and parameters: {'threshold': 'mean', 'max_features': 735, 'norm_order': 1, 'n_estimators': 87, 'max_depth': 14, 'min_samples_split': 2, 'min_samples_leaf': 3, 'max_features_rf': 0.7729368478841133}. Best is trial 32 with value: 0.8833706836309309.\n"
     ]
    },
    {
     "name": "stdout",
     "output_type": "stream",
     "text": [
      "Seed in the model 513873336 on Device cuda:0\n"
     ]
    },
    {
     "name": "stderr",
     "output_type": "stream",
     "text": [
      "[I 2024-12-05 12:53:51,004] Trial 49 finished with value: 0.8403169157886139 and parameters: {'threshold': 'median', 'max_features': 131, 'norm_order': 1, 'n_estimators': 64, 'max_depth': 20, 'min_samples_split': 3, 'min_samples_leaf': 1, 'max_features_rf': 0.6988345427178225}. Best is trial 32 with value: 0.8833706836309309.\n"
     ]
    },
    {
     "name": "stdout",
     "output_type": "stream",
     "text": [
      "Best Parameters: {'threshold': 'median', 'max_features': 629, 'norm_order': 1, 'n_estimators': 106, 'max_depth': 27, 'min_samples_split': 2, 'min_samples_leaf': 1, 'max_features_rf': 0.8207732316927921}\n",
      "\n",
      "Test Metrics:\n",
      "ROC AUC: 0.6723076923076924\n",
      "Accuracy: 0.6753246753246753\n",
      "F1 Score: 0.4444444444444444\n",
      "Confusion Matrix:\n",
      "[[42 10]\n",
      " [15 10]]\n"
     ]
    },
    {
     "data": {
      "image/png": "[encoded data removed]",
      "text/plain": [
       "<Figure size 640x480 with 2 Axes>"
      ]
     },
     "metadata": {},
     "output_type": "display_data"
    },
    {
     "name": "stdout",
     "output_type": "stream",
     "text": [
      "\n",
      "Classification Report:\n",
      "              precision    recall  f1-score   support\n",
      "\n",
      "    Negative       0.74      0.81      0.77        52\n",
      "    Positive       0.50      0.40      0.44        25\n",
      "\n",
      "    accuracy                           0.68        77\n",
      "   macro avg       0.62      0.60      0.61        77\n",
      "weighted avg       0.66      0.68      0.66        77\n",
      "\n",
      "Number of selected features: 629\n"
     ]
    },
    {
     "data": {
      "image/png": "[encoded data removed]",
      "text/plain": [
       "<Figure size 800x950 with 2 Axes>"
      ]
     },
     "metadata": {},
     "output_type": "display_data"
    },
    {
     "name": "stdout",
     "output_type": "stream",
     "text": [
      "Overlap bacteria found: {'Dorea_formicigenerans', 'GGB9602_SGB15031', 'Clostridia_unclassified_SGB6276', 'Intestinimonas_massiliensis', 'Bacteroides_nordii', 'GGB3569_SGB4776', 'GGB6613_SGB9347', 'GGB9522_SGB14921', 'GGB9644_SGB15121', 'GGB9635_SGB15103', 'Intestinibacter_bartlettii', 'Candidatus_Avimonas_narfia', 'Anaerotignum_faecicola', 'Roseburia_intestinalis', 'Eubacterium_rectale', 'Blautia_hansenii', 'Coprococcus_catus', 'GGB51441_SGB71759', 'Candidatus_Pararuminococcus_gallinarum', 'Faecalibacillus_faecis', 'Actinomyces_sp_ICM58', 'Gordonibacter_pamelaeae', 'GGB3478_SGB4643', 'Anaerotruncus_rubiinfantis', 'Bacilli_bacterium', 'Solobacterium_SGB6833', 'Bacteroides_eggerthii', 'Akkermansia_muciniphila', 'Dorea_longicatena', 'GGB9186_SGB14125', 'Microbacterium_SGB53518', 'Faecalibacterium_prausnitzii', 'Roseburia_faecis', 'Alistipes_sp_AF17_16', 'GGB32463_SGB47515', 'Prevotella_nigrescens', 'Lachnospiraceae_bacterium', 'GGB4599_SGB6362', 'Prevotella_oris', 'Coriobacteriia_bacterium', 'Bifidobacterium_dentium', 'Clostridium_sp_AF15_49', 'Parabacteroides_distasonis', 'Anaerotruncus_massiliensis', 'Clostridiales_bacterium_KLE1615', 'Holdemania_sp_Marseille_P2844', 'Ruminococcus_SGB4421', 'Prevotella_veroralis', 'Lacticaseibacillus_paracasei', 'Candidatus_Nanoperiomorbus_periodonticus', 'Bifidobacterium_breve', 'Neglecta_timonensis', 'GGB9237_SGB14179', 'GGB3523_SGB4703', 'Clostridia_unclassified_SGB66170', 'GGB9342_SGB14306', 'Escherichia_coli', 'Catabacter_hongkongensis', 'Lancefieldella_rimae', 'Odoribacter_splanchnicus', 'Intestinimonas_gabonensis', 'GGB51510_SGB71883', 'Candidatus_Paralachnospira_caecorum', 'GGB3256_SGB4303', 'Agathobaculum_desmolans', 'GGB6007_SGB8634', 'Odoribacter_laneus', 'Bacteroides_ovatus', 'Gemmiger_SGB15299', 'Clostridiales_bacterium_Marseille_P2846', 'Streptococcus_salivarius', 'Parabacteroides_merdae', 'Actinobaculum_sp_oral_taxon_183', 'Flavobacteriales_bacterium', 'Bifidobacterium_bifidum', 'Alistipes_inops', 'GGB3570_SGB4777', 'Streptococcus_gordonii', 'GGB9557_SGB14966', 'Christensenella_timonensis', 'Mediterraneibacter_butyricigenes', 'Anaerobutyricum_hallii', 'Roseburia_inulinivorans', 'Collinsella_stercoris', 'Bacteroidales_bacterium', 'GGB9631_SGB15087', 'Bacteroides_intestinalis', 'Ruminococcus_bromii', 'Porphyromonas_pasteri', 'Candidatus_Gallimonas_faecium', 'Ruminococcus_callidus', 'Trueperella_pyogenes', 'GGB4239_SGB5731', 'GGB29535_SGB42321', 'Clostridia_unclassified_SGB4447', 'Lawsonibacter_sp_NSJ_51', 'Blautia_hydrogenotrophica', 'Emergencia_sp_1XD21_50', 'GGB9635_SGB15106', 'Phascolarctobacterium_faecium', 'GGB9524_SGB14923', 'Bacteroides_uniformis', 'Fusicatenibacter_saccharivorans', 'Lancefieldella_parvula', 'Lachnospiraceae_bacterium_NSJ_29', 'Lachnoanaerobaculum_sp_ICM7', 'Firmicutes_bacterium', 'GGB9512_SGB14909', 'Lactonifactor_sp_BIOML_A6', 'Prevotella_copri_clade_A', 'GGB9532_SGB14933', 'Eubacterium_maltosivorans', 'Clostridium_innocuum', 'Acidaminococcaceae_unclassified_SGB5785', 'Gemella_sanguinis', 'Turicibacter_sanguinis', 'Alistipes_timonensis', 'Erysipelatoclostridium_ramosum', 'GGB9291_SGB14248', 'Clostridium_sp_AM49_4BH', 'Clostridium_sp_AF36_4', 'Dysosmobacter_sp_NSJ_60', 'Alistipes_communis', 'Bittarella_massiliensis', 'Clostridiales_bacterium_UBA1390', 'Collinsella_sp_AF08_23', 'Streptococcus_anginosus', 'GGB3278_SGB4328', 'Clostridium_sp_AT4', 'Clostridium_sp_AF27_2AA', 'Streptococcus_sanguinis', 'GGB9361_SGB14336', 'Paraprevotella_clara', 'Blautia_sp_MSK_21_1', 'Oribacterium_parvum', 'Blautia_sp_MSK_20_85', 'GGB9551_SGB14958', 'Lentisphaeria_bacterium', 'Ruminococcaceae_bacterium', 'Bifidobacterium_pseudocatenulatum', 'Clostridiales_bacterium_1_7_47FAA', 'Massilimaliae_timonensis', 'Evtepia_gabavorous', 'Desulfovibrio_piger', 'Desulfovibrio_fairfieldensis', 'Parasutterella_SGB9260', 'Alistipes_indistinctus', 'Negativibacillus_massiliensis', 'Mediterraneibacter_massiliensis', 'Butyricimonas_faecihominis', 'GGB3486_SGB4658', 'Ruminococcaceae_bacterium_AM07_15', 'Dorea_phocaeensis', 'Monoglobus_pectinilyticus', 'Coprococcus_comes', 'GGB9350_SGB14317', 'Ruminococcus_sp_NSJ_71', 'GGB38171_SGB72433', 'GGB9059_SGB13976', 'Clostridia_bacterium', 'Actinomyces_dentalis', 'Clostridiales_bacterium', 'Barnesiella_intestinihominis', 'Parabacteroides_gordonii', 'Holdemania_filiformis', 'Ruminococcaceae_unclassified_SGB15260', 'Bacteroides_finegoldii', 'Isoptericola_variabilis', 'Dorea_sp_AF36_15AT', 'Actinomyces_SGB17168', 'Christensenellaceae_bacterium', 'Clostridium_sp_AF34_13', 'Ruthenibacterium_lactatiformans', 'Streptococcus_oralis', 'GGB9707_SGB15229', 'Lacrimispora_celerecrescens', 'GGB2980_SGB3962', 'Candidatus_Cibiobacter_qucibialis', 'Roseburia_sp_AF02_12', 'Bifidobacterium_animalis', 'GGB3510_SGB4687', 'Lachnospira_pectinoschiza', 'Candidatus_Avimicrobium_caecorum', 'Blautia_caecimuris', 'GGB2982_SGB3964', 'GGB9608_SGB15041', 'Alistipes_onderdonkii', 'Corynebacterium_matruchotii', 'GGB9694_SGB15204', 'Allisonella_histaminiformans', 'Emergencia_timonensis', 'GGB9530_SGB14930', 'Catenibacillus_scindens', 'Ruminococcaceae_unclassified_SGB15233', 'Enterocloster_clostridioformis', 'Agathobaculum_butyriciproducens', 'Lachnospira_eligens', 'Eggerthellaceae_bacterium', 'GGB9787_SGB15410', 'Candidatus_Borkfalkia_ceftriaxoniphila', 'Massilimicrobiota_sp_An134', 'Frisingicoccus_SGB4674', 'Clostridiaceae_bacterium', 'Methanobrevibacter_smithii', 'Anaerostipes_caccae', 'GGB9619_SGB15067', 'GGB9712_SGB15244', 'GGB9623_SGB15075', 'Sutterella_sp_AM11_39', 'Faecalibacillus_intestinalis', 'Senegalimassilia_anaerobia', 'Cuneatibacter_caecimuris', 'Phocaeicola_vulgatus', 'Phascolarctobacterium_succinatutens', 'Anaeromassilibacillus_sp_An250', 'GGB12785_SGB19823', 'Enterococcus_faecium', 'Haemophilus_parainfluenzae', 'Ruminococcus_bicirculans', 'Sellimonas_intestinalis', 'Enterocloster_citroniae', 'Streptococcus_sp_A12', 'GGB3746_SGB5089', 'Lachnospiraceae_unclassified_SGB4924', 'GGB36472_SGB47660', 'Faecalimonas_umbilicata', 'Romboutsia_timonensis', 'Candidatus_Gastranaerophilales_bacterium', 'Turicimonas_muris', 'Bariatricus_massiliensis', 'Clostridium_leptum', 'Butyricimonas_paravirosa', 'Harryflintia_acetispora', 'Blautia_sp_An249', 'Parabacteroides_goldsteinii', 'GGB9631_SGB15085', 'Streptococcus_parasanguinis', 'Candidatus_Allochristensenella_caecavium', 'GGB51959_SGB72479', 'Bacilli_unclassified_SGB6571', 'Clostridia_unclassified_SGB6317', 'Desulfovibrio_legallii', 'Eubacterium_sulci', 'Blautia_SGB4815', 'Gordonibacter_urolithinfaciens', 'Blautia_wexlerae', 'Methanosphaera_stadtmanae', 'GGB9677_SGB15180', 'GGB58158_SGB79798', 'GGB9730_SGB15291', 'Clostridium_fessum', 'GGB9646_SGB15123', 'Eggerthellaceae_unclassified_SGB14322', 'Blautia_producta', 'Lachnospiraceae_unclassified_SGB4894', 'Ruminococcaceae_bacterium_D5', 'GGB3571_SGB4778', 'Slackia_isoflavoniconvertens', 'Actinomyces_SGB17154', 'Clostridiales_unclassified_SGB15145', 'Oribacterium_sinus', 'Alloscardovia_omnicolens', 'Bifidobacterium_longum', 'Enterocloster_lavalensis', 'GGB9695_SGB15209', 'Lactobacillus_gasseri', 'Clostridia_unclassified_SGB15402', 'GGB4249_SGB5749', 'Anaeroglobus_geminatus', 'Bilophila_wadsworthia', 'Gemmiger_formicilis', 'Eubacterium_ventriosum', 'Butyrivibrio_crossotus', 'GGB45495_SGB63167', 'GGB3433_SGB4573', 'Lachnospiraceae_bacterium_WCA3_601_WT_6H', 'GGB9632_SGB15089', 'Coprobacter_fastidiosus', 'GGB9705_SGB15224', 'GGB9524_SGB14924', 'Anaerofilum_sp_BX8', 'GGB6132_SGB8779', 'GGB9494_SGB14891', 'Clostridiaceae_bacterium_OM08_6BH', 'Christensenellaceae_bacterium_NSJ_53', 'GGB9423_SGB14792', 'Clostridia_bacterium_UC5_1_1E11', 'Pseudomonas_aeruginosa', 'Mediterraneibacter_glycyrrhizinilyticus', 'Bifidobacterium_adolescentis', 'Rikenellaceae_bacterium', 'Enterocloster_bolteae', 'Alistipes_ihumii', 'Victivallis_vadensis', 'Capnocytophaga_gingivalis', 'Bacteroidaceae_bacterium', 'Bacteroides_clarus', 'GGB9176_SGB14114', 'GGB1680_SGB2312', 'Enterococcus_avium', 'Butyricimonas_SGB1783', 'GGB4585_SGB6340', 'Clostridium_sp_AF34_10BH', 'Bacteroides_timonensis', 'GGB4739_SGB6564', 'Parasutterella_excrementihominis', 'GGB3341_SGB4420', 'GGB3614_SGB4886', 'Blautia_massiliensis', 'Sanguibacteroides_justesenii', 'Butyricimonas_virosa', 'Alistipes_putredinis', 'Clostridium_paraputrificum', 'Peptococcaceae_bacterium', 'Streptococcus_thermophilus', 'GGB9634_SGB15097', 'Clostridium_symbiosum', 'Actinomyces_sp_ICM47', 'Rhodobacteraceae_unclassified_SGB53807', 'GGB9574_SGB14987', 'Lachnospira_sp_NSJ_43', 'GGB9694_SGB15201', 'Enterocloster_aldensis', 'Ruminococcus_gnavus', 'Sutterella_wadsworthensis', 'Blautia_obeum', 'Gemmiger_SGB15295', 'Blautia_faecis', 'GGB55957_SGB77276', 'Eubacterium_sp_AM28_29', 'Clostridium_scindens', 'GGB9634_SGB15093', 'Phocaeicola_dorei', 'Clostridiales_bacterium_Choco116', 'Bacteroides_xylanisolvens', 'Streptococcus_mitis', 'GGB9581_SGB14999', 'Prevotella_buccae', 'GGB9633_SGB15091', 'Adlercreutzia_equolifaciens', 'GGB9739_SGB15313', 'GGB9347_SGB14313', 'Christensenella_sp_Marseille_P3954', 'Firmicutes_bacterium_AF16_15', 'Massilimaliae_massiliensis', 'Acidaminococcus_intestini', 'Clostridium_sp_Marseille_P3244', 'GGB9580_SGB14998', 'Blautia_schinkii', 'Clostridia_bacterium_UC5_1_1D1', 'Alistipes_dispar', 'Oxalobacter_formigenes', 'GGB9620_SGB15068', 'Lachnospiraceae_bacterium_BX3', 'Ruminococcus_torques', 'Eisenbergiella_massiliensis', 'Duodenibacillus_massiliensis', 'GGB9667_SGB15164', 'Eggerthellaceae_unclassified_SGB14341', 'Tyzzerella_nexilis', 'Bacteroides_fragilis', 'GGB58233_SGB79883', 'Limosilactobacillus_fermentum', 'GGB3677_SGB4990', 'Faecalicatena_contorta', 'Sutterella_SGB9281', 'Eggerthella_lenta', 'GGB3606_SGB4870', 'Candidatus_Pseudoscilispira_faecavium', 'GGB3005_SGB3996', 'GGB9288_SGB14243', 'Veillonella_parvula', 'GGB36331_SGB53806', 'Eubacterium_siraeum', 'GGB9621_SGB15073', 'Merdimonas_faecis', 'Blautia_SGB4831', 'GGB9768_SGB15386', 'Lachnospiraceae_unclassified_SGB66069', 'Amedibacillus_dolichus', 'GGB5980_SGB8599', 'Bacteroides_stercoris', 'GGB1266_SGB1699', 'Fusobacterium_nucleatum', 'Parabacteroides_johnsonii', 'Eubacterium_ramulus', 'Rothia_dentocariosa', 'Bacteroidales_unclassified_SGB2135', 'Clostridiaceae_unclassified_SGB4769', 'Candidatus_Neochristensenella_gallicola', 'Faecalibacterium_SGB15346', 'Hungatella_hathewayi', 'Massilistercora_timonensis', 'Actinomyces_graevenitzii', 'Lachnoanaerobaculum_orale', 'Phocea_massiliensis', 'Candidatus_Woodwardibium_gallinarum', 'Dialister_invisus', 'Rothia_aeria', 'Enterocloster_asparagiformis', 'Veillonella_dispar', 'Alistipes_shahii', 'Pseudoflavonifractor_capillosus', 'Lachnospiraceae_bacterium_OM04_12BH', 'GGB3034_SGB4030', 'Anaerostipes_hadrus', 'Coprococcus_eutactus', 'GGB9568_SGB14980', 'Neisseria_subflava', 'Ruminococcaceae_unclassified_SGB15234', 'GGB9615_SGB15053', 'Neobittarella_massiliensis', 'GGB9642_SGB15119', 'GGB9623_SGB15076', 'Streptococcus_sp_263_SSPC', 'Pseudoflavonifractor_sp_An176', 'GGB9818_SGB15459', 'Alistipes_finegoldii', 'GGB3277_SGB4327', 'Dysosmobacter_welbionis', 'Collinsella_phocaeensis', 'Actinomyces_sp_S6_Spd3', 'Lachnospira_SGB5076', 'Lacticaseibacillus_rhamnosus', 'Bacteroides_thetaiotaomicron', 'Clostridia_unclassified_SGB14297', 'Collinsella_aerofaciens', 'Clostridia_unclassified_SGB4367', 'Alistipes_senegalensis', 'Longibaculum_muris', 'Intestinimonas_butyriciproducens', 'GGB3537_SGB4727', 'GGB9523_SGB14922', 'Neisseria_sicca', 'Erysipelotrichaceae_bacterium', 'Cloacibacillus_evryensis', 'Klebsiella_pneumoniae', 'Clostridium_sp_AM33_3', 'GGB3733_SGB5066', 'Faecalicatena_fissicatena', 'GGB9454_SGB14846', 'Cloacibacillus_porcorum', 'Blautia_faecicola', 'GGB9699_SGB15216', 'Blautia_sp_AF19_10LB', 'Oscillibacter_sp_ER4', 'GGB3123_SGB4135', 'GGB9348_SGB14315', 'GGB45432_SGB63101', 'GGB4456_SGB6141', 'GGB3004_SGB3995', 'Bacteroides_salyersiae', 'Marvinbryantia_SGB4691', 'Ruminococcaceae_unclassified_SGB15265', 'Roseburia_hominis', 'Oscillibacter_sp_NSJ_62', 'Blautia_argi', 'Flavonifractor_sp_An100', 'Clostridia_unclassified_SGB4121', 'Clostridia_unclassified_SGB14844', 'Enterobacter_hormaechei', 'Clostridia_unclassified_SGB71281', 'Blautia_SGB4805', 'Eubacteriaceae_bacterium', 'Massilioclostridium_coli', 'Mogibacterium_diversum', 'Clostridia_unclassified_SGB14951', 'Bacteroides_caccae', 'Coprobacter_secundus', 'Oscillospiraceae_bacterium_NSJ_64', 'Bacteroides_cellulosilyticus', 'GGB45491_SGB63163', 'Eisenbergiella_tayi', 'Blautia_sp_OF03_15BH', 'Lachnoclostridium_sp_An138', 'GGB9583_SGB15004', 'GGB6649_SGB9391', 'Clostridium_sp_chh4_2', 'Clostridium_disporicum', 'Streptococcus_infantis', 'GGB6612_SGB9346', 'Pseudoruminococcus_massiliensis', 'Holdemania_massiliensis', 'Candidatus_Schneewindia_gallinarum', 'GGB9537_SGB14940', 'Clostridium_sp_AF20_17LB', 'Lacrimispora_amygdalina', 'Rothia_mucilaginosa', 'GGB9640_SGB15115', 'GGB3293_SGB4348', 'Ruminococcus_lactaris', 'Longicatena_caecimuris', 'Ruminococcaceae_unclassified_SGB15236', 'Phocaeicola_massiliensis', 'Collinsella_intestinalis', 'GGB9758_SGB15368', 'Dorea_sp_AF24_7LB', 'Pseudoflavonifractor_SGB15156', 'Streptococcus_rubneri', 'Intestinibacter_SGB6139', 'Anaerotignum_lactatifermentans', 'Opitutales_bacterium', 'GGB9677_SGB15179', 'Veillonella_atypica', 'Clostridium_sp_AM22_11AC', 'GGB9614_SGB15049', 'GGB9705_SGB15225', 'Blautia_glucerasea', 'GGB4566_SGB6305', 'Angelakisella_massiliensis', 'GGB9694_SGB15203', 'Akkermansia_sp_KLE1605', 'Clostridium_phoceensis', 'GGB9633_SGB15090', 'Flavonifractor_plautii', 'Clostridia_bacterium_12CBH8', 'Anaerotruncus_colihominis', 'Desulfovibrio_desulfuricans'}\n"
     ]
    }
   ],
   "source": [
    "import optuna\n",
    "from optuna.samplers import TPESampler\n",
    "from xgboost import XGBClassifier\n",
    "from sklearn.ensemble import RandomForestClassifier\n",
    "import xgboost as xgb\n",
    "from sklearn.feature_selection import SelectFromModel\n",
    "from sklearn.metrics import (\n",
    "    roc_curve, roc_auc_score, f1_score, accuracy_score, confusion_matrix, \n",
    "    classification_report, ConfusionMatrixDisplay\n",
    ")\n",
    "\n",
    "from sklearn.model_selection import StratifiedKFold\n",
    "from sklearn.utils.class_weight import compute_class_weight\n",
    "import numpy as np\n",
    "from sklearn.model_selection import train_test_split\n",
    "from copy import deepcopy\n",
    "from sklearn.preprocessing import StandardScaler\n",
    "\n",
    "# Constants and Configuration\n",
    "print(f\"Experiment number: {experiment_number} | Seed number: {seed}\")\n",
    "# seed = experiment_seed  # Replace with your experiment seed\n",
    "test_size = 0.25\n",
    "gpu_device = \"hist\"\n",
    "\n",
    "# Function to check for overlaps between train and test data\n",
    "def check_for_overlap(train_data, test_data):\n",
    "    \"\"\"\n",
    "    Checks for overlapping Sample ID and study_id between train and test datasets.\n",
    "    \"\"\"\n",
    "    # Check for overlapping Study IDs\n",
    "    overlap_study_ids = set(train_data[\"study_id\"]) & set(test_data[\"study_id\"])\n",
    "    if overlap_study_ids:\n",
    "        print(f\"Overlap Study ID found: {overlap_study_ids}\")\n",
    "    else:\n",
    "        print(\"No overlap Study ID found.\")\n",
    "\n",
    "    # Check for overlapping Sample IDs\n",
    "    overlap_sample_ids = set(train_data[\"Sample ID\"]) & set(test_data[\"Sample ID\"])\n",
    "    if overlap_sample_ids:\n",
    "        print(f\"Overlap Sample ID found: {overlap_sample_ids}\")\n",
    "    else:\n",
    "        print(\"No overlap Sample ID found.\")\n",
    "\n",
    "def check_for_bacteria(list_a, list_b):\n",
    "    \"\"\"\n",
    "    Checks for overlapping bactertia from list_a and list list_b database and predicted bacteria.\n",
    "    \"\"\"\n",
    "    # Check for overlapping Study IDs\n",
    "    list_a = [item.replace(\" \", \"_\") for item in list_a]\n",
    "    list_b = [item.replace(\" \", \"_\") for item in list_b]\n",
    "    \n",
    "    overlap_bacteria = set(list_a) & set(list_b)\n",
    "    if overlap_bacteria:\n",
    "        print(f\"Overlap bacteria found: {overlap_bacteria}\")\n",
    "    else:\n",
    "        print(\"No overlap bacteria found.\")\n",
    "    return overlap_bacteria\n",
    "\n",
    "        \n",
    "def preprocess_data(df, columns_to_drop, test_size, seed):\n",
    "    # Split study IDs into train/test sets\n",
    "    study_labels = df.groupby(\"study_id\")[\"Alzheimers\"].max().reset_index()\n",
    "    train_ids, test_ids = train_test_split(\n",
    "        study_labels[\"study_id\"],\n",
    "        test_size=test_size,\n",
    "        stratify=study_labels[\"Alzheimers\"],\n",
    "        random_state=seed,\n",
    "    )\n",
    "    \n",
    "    train_data = df[df[\"study_id\"].isin(train_ids)].copy()\n",
    "    test_data = df[df[\"study_id\"].isin(test_ids)].copy()\n",
    "\n",
    "    # Check for overlaps\n",
    "    check_for_overlap(train_data, test_data)\n",
    "    \n",
    "    # Select feature columns\n",
    "    feature_columns = [col for col in df.columns if col not in columns_to_drop]\n",
    "\n",
    "    # Convert feature columns to float64 to ensure compatibility\n",
    "    train_data[feature_columns] = train_data[feature_columns].astype(np.float64)\n",
    "    test_data[feature_columns] = test_data[feature_columns].astype(np.float64)\n",
    "\n",
    "    # Normalize the feature columns\n",
    "    scaler = StandardScaler()\n",
    "    train_data.loc[:, feature_columns] = scaler.fit_transform(train_data[feature_columns])\n",
    "    test_data.loc[:, feature_columns] = scaler.transform(test_data[feature_columns])\n",
    "\n",
    "    return train_data, test_data, feature_columns\n",
    "\n",
    "# Function to compute class weights\n",
    "def compute_weights(y_train):\n",
    "    class_weights = compute_class_weight(\"balanced\", classes=np.unique(y_train), y=y_train)\n",
    "    scale_pos_weight = class_weights[1] / class_weights[0]\n",
    "    return scale_pos_weight\n",
    "\n",
    "# Define Optuna Objective Function\n",
    "def objective(trial, X_train, y_train, scale_pos_weight, seed):\n",
    "    print(f\"Seed in the model {seed} on Device {device}\")\n",
    "    # Feature selection parameters\n",
    "    threshold = trial.suggest_categorical('threshold', ['median', 'mean', '0.5*mean', '1.5*mean', 'very_low'])\n",
    "    max_features = trial.suggest_int('max_features', 1, X_train.shape[1])\n",
    "    norm_order = trial.suggest_int('norm_order', 1, 2)\n",
    "    threshold_value = -1e10 if threshold == 'very_low' else threshold\n",
    "\n",
    "    # Feature selection\n",
    "    selector = SelectFromModel(\n",
    "        estimator=XGBClassifier(\n",
    "            objective='binary:logistic',\n",
    "            eval_metric='logloss',\n",
    "            scale_pos_weight= scale_pos_weight,\n",
    "            random_state=seed,\n",
    "            tree_method=gpu_device, \n",
    "            device=device\n",
    "        ),\n",
    "        threshold=threshold_value,\n",
    "        max_features=max_features,\n",
    "        norm_order=norm_order\n",
    "    )\n",
    "    \n",
    "    selector.fit(X_train, y_train)\n",
    "    X_train_selected = selector.transform(X_train)\n",
    "\n",
    "    # Define RandomForest parameters\n",
    "    n_estimators = trial.suggest_int(\"n_estimators\", 50, 300)\n",
    "    max_depth = trial.suggest_int(\"max_depth\", 3, 30)\n",
    "    min_samples_split = trial.suggest_int(\"min_samples_split\", 2, 10)\n",
    "    min_samples_leaf = trial.suggest_int(\"min_samples_leaf\", 1, 5)\n",
    "    max_features_rf = trial.suggest_float(\"max_features_rf\", 0.5, 1.0)  # Renamed parameter\n",
    "\n",
    "    # Cross-validation\n",
    "    skf = StratifiedKFold(n_splits=3, shuffle=True, random_state=seed)\n",
    "    f1_scores = []\n",
    "    for train_idx, val_idx in skf.split(X_train_selected, y_train):\n",
    "        X_train_fold, X_val_fold = X_train_selected[train_idx], X_train_selected[val_idx]\n",
    "        y_train_fold, y_val_fold = y_train[train_idx], y_train[val_idx]\n",
    "\n",
    "        # Train RandomForestClassifier\n",
    "        model = RandomForestClassifier(\n",
    "            n_estimators=n_estimators,\n",
    "            max_depth=max_depth,\n",
    "            min_samples_split=min_samples_split,\n",
    "            min_samples_leaf=min_samples_leaf,\n",
    "            max_features=max_features_rf,  # Use new name here\n",
    "            random_state=seed,\n",
    "            class_weight={0: 1.0, 1: scale_pos_weight},  # Handle class imbalance\n",
    "        )\n",
    "        model.fit(X_train_fold, y_train_fold)\n",
    "\n",
    "        # Validation predictions\n",
    "        y_val_pred = model.predict_proba(X_val_fold)[:, 1]  # Probability of positive class\n",
    "        y_val_pred_binary = (y_val_pred >= 0.5).astype(int)  # Binary classification\n",
    "        f1_scores.append(f1_score(y_val_fold, y_val_pred_binary))\n",
    "\n",
    "    return np.mean(f1_scores)\n",
    "\n",
    "# Main Program\n",
    "columns_to_drop = [\"Sample ID\", \"study_id\", \"Alzheimers\", \"Date Sample\", \"age\", \"Dementia Other\"]\n",
    "\n",
    "train_data, test_data, feature_columns = preprocess_data(clinical_microbiome_df, columns_to_drop, test_size, seed)\n",
    "X_train = deepcopy(train_data[feature_columns].values)\n",
    "y_train = np.array(train_data[\"Alzheimers\"].values)\n",
    "X_test = deepcopy(test_data[feature_columns].values)\n",
    "y_test = np.array(test_data[\"Alzheimers\"].values)\n",
    "scale_pos_weight = compute_weights(y_train)\n",
    "\n",
    "# Run Optuna Optimization\n",
    "study = optuna.create_study(direction=\"maximize\", sampler=TPESampler(seed=seed))\n",
    "study.optimize(lambda trial: objective(trial, X_train, y_train, scale_pos_weight, seed), n_trials=50)\n",
    "\n",
    "# Best Parameters\n",
    "best_params = study.best_params\n",
    "print(\"Best Parameters:\", best_params)\n",
    "\n",
    "# Apply Final Model\n",
    "# Apply Final Model\n",
    "final_selector = SelectFromModel(\n",
    "    estimator=XGBClassifier(\n",
    "        objective='binary:logistic',\n",
    "        eval_metric='logloss',\n",
    "        scale_pos_weight=scale_pos_weight,\n",
    "        random_state=seed,\n",
    "        tree_method=gpu_device,\n",
    "        device=device\n",
    "    ),\n",
    "    threshold=-1e10 if best_params['threshold'] == 'very_low' else best_params['threshold'],\n",
    "    max_features=best_params['max_features'],  # Corrected key\n",
    "    norm_order=best_params['norm_order']\n",
    ")\n",
    "\n",
    "final_selector.fit(X_train, y_train)\n",
    "X_train_selected = final_selector.transform(X_train)\n",
    "X_test_selected = final_selector.transform(X_test)\n",
    "\n",
    "# Train Final Model\n",
    "final_model = RandomForestClassifier(\n",
    "    n_estimators=best_params[\"n_estimators\"],\n",
    "    max_depth=best_params[\"max_depth\"],\n",
    "    min_samples_split=best_params[\"min_samples_split\"],\n",
    "    min_samples_leaf=best_params[\"min_samples_leaf\"],\n",
    "    max_features=best_params[\"max_features_rf\"],  # Use the correct key\n",
    "    random_state=seed,\n",
    "    class_weight={0: 1.0, 1: scale_pos_weight},  # Handle class imbalance\n",
    ")\n",
    "final_model.fit(X_train_selected, y_train)\n",
    "\n",
    "# Predictions and Evaluation\n",
    "y_test_pred = final_model.predict_proba(X_test_selected)[:, 1]  # Probability of positive class\n",
    "y_test_pred_binary = (y_test_pred >= 0.5).astype(int)\n",
    "\n",
    "# Evaluate Model Performance\n",
    "auc = roc_auc_score(y_test, y_test_pred)\n",
    "accuracy = accuracy_score(y_test, y_test_pred_binary)\n",
    "f1 = f1_score(y_test, y_test_pred_binary)\n",
    "conf_matrix = confusion_matrix(y_test, y_test_pred_binary)\n",
    "\n",
    "print(\"\\nTest Metrics:\")\n",
    "print(f\"ROC AUC: {auc}\\nAccuracy: {accuracy}\\nF1 Score: {f1}\\nConfusion Matrix:\\n{conf_matrix}\")\n",
    "disp = ConfusionMatrixDisplay(confusion_matrix=conf_matrix, display_labels=[\"Negative\", \"Positive\"])\n",
    "disp.plot(cmap=\"Blues\")\n",
    "plt.title(\"Confusion Matrix\")\n",
    "plt.show()\n",
    "\n",
    "report = classification_report(y_test, y_test_pred_binary, target_names=[\"Negative\", \"Positive\"])\n",
    "print(\"\\nClassification Report:\")\n",
    "print(report)\n",
    "\n",
    "# Extract feature names for selected features\n",
    "selected_feature_names = [feature_columns[i] for i in range(X_train_selected.shape[1])]\n",
    "# Truncate each feature name to a maximum of 30 characters\n",
    "selected_feature_names = [\n",
    "    feature[:30] if len(feature) > 40 else feature  # Truncate if longer than 30 characters\n",
    "    for feature in selected_feature_names\n",
    "]\n",
    "\n",
    "print(f\"Number of selected features: {len(selected_feature_names)}\")\n",
    "\n",
    "# Step 1: Initialize SHAP explainer\n",
    "explainer = shap.Explainer(final_model, X_train_selected)\n",
    "\n",
    "# Step 2: Compute SHAP values\n",
    "shap_values = explainer(X_train_selected, check_additivity=False)\n",
    "\n",
    "# Step 3: Aggregate SHAP values to mimic XGBoost\n",
    "# For binary classification: take the difference between class 1 and class 0\n",
    "shap_values_aggregated = shap_values.values[:, :, 1] - shap_values.values[:, :, 0]\n",
    "\n",
    "# Step 4: Plot SHAP summary\n",
    "plt.figure(figsize=(20, 10))  # Wide plot\n",
    "plt.title(\"SHAP Violin Plot - Global Feature Importance\", fontsize=14)\n",
    "\n",
    "shap.summary_plot(\n",
    "    shap_values_aggregated,  # Correct SHAP values\n",
    "    X_train_selected,  # Input data aligned with SHAP values\n",
    "    feature_names=selected_feature_names,  # Ensure feature names align\n",
    "    max_display=20,  # Limit to top 20 features\n",
    "    plot_type=\"violin\"  # Violin plot style\n",
    ")\n",
    "\n",
    "bacteria_fount = check_for_bacteria(bacteria_df.species_name.tolist(),selected_feature_names)"
   ]
  },
  {
   "cell_type": "code",
   "execution_count": 15,
   "id": "d23becd3-066b-4a62-ae4f-03c925412b1c",
   "metadata": {},
   "outputs": [
    {
     "name": "stdout",
     "output_type": "stream",
     "text": [
      "Overlap bacteria found: {'Dorea_formicigenerans', 'GGB9602_SGB15031', 'Clostridia_unclassified_SGB6276', 'Intestinimonas_massiliensis', 'Bacteroides_nordii', 'GGB3569_SGB4776', 'GGB6613_SGB9347', 'GGB9522_SGB14921', 'GGB9644_SGB15121', 'GGB9635_SGB15103', 'Intestinibacter_bartlettii', 'Candidatus_Avimonas_narfia', 'Anaerotignum_faecicola', 'Roseburia_intestinalis', 'Eubacterium_rectale', 'Blautia_hansenii', 'Coprococcus_catus', 'GGB51441_SGB71759', 'Candidatus_Pararuminococcus_gallinarum', 'Faecalibacillus_faecis', 'Actinomyces_sp_ICM58', 'Gordonibacter_pamelaeae', 'GGB3478_SGB4643', 'Anaerotruncus_rubiinfantis', 'Bacilli_bacterium', 'Solobacterium_SGB6833', 'Bacteroides_eggerthii', 'Akkermansia_muciniphila', 'Dorea_longicatena', 'GGB9186_SGB14125', 'Microbacterium_SGB53518', 'Faecalibacterium_prausnitzii', 'Roseburia_faecis', 'Alistipes_sp_AF17_16', 'GGB32463_SGB47515', 'Prevotella_nigrescens', 'Lachnospiraceae_bacterium', 'GGB4599_SGB6362', 'Prevotella_oris', 'Coriobacteriia_bacterium', 'Bifidobacterium_dentium', 'Clostridium_sp_AF15_49', 'Parabacteroides_distasonis', 'Anaerotruncus_massiliensis', 'Clostridiales_bacterium_KLE1615', 'Holdemania_sp_Marseille_P2844', 'Ruminococcus_SGB4421', 'Prevotella_veroralis', 'Lacticaseibacillus_paracasei', 'Candidatus_Nanoperiomorbus_periodonticus', 'Bifidobacterium_breve', 'Neglecta_timonensis', 'GGB9237_SGB14179', 'GGB3523_SGB4703', 'Clostridia_unclassified_SGB66170', 'GGB9342_SGB14306', 'Escherichia_coli', 'Catabacter_hongkongensis', 'Lancefieldella_rimae', 'Odoribacter_splanchnicus', 'Intestinimonas_gabonensis', 'GGB51510_SGB71883', 'Candidatus_Paralachnospira_caecorum', 'GGB3256_SGB4303', 'Agathobaculum_desmolans', 'GGB6007_SGB8634', 'Odoribacter_laneus', 'Bacteroides_ovatus', 'Gemmiger_SGB15299', 'Clostridiales_bacterium_Marseille_P2846', 'Streptococcus_salivarius', 'Parabacteroides_merdae', 'Actinobaculum_sp_oral_taxon_183', 'Flavobacteriales_bacterium', 'Bifidobacterium_bifidum', 'Alistipes_inops', 'GGB3570_SGB4777', 'Streptococcus_gordonii', 'GGB9557_SGB14966', 'Christensenella_timonensis', 'Mediterraneibacter_butyricigenes', 'Anaerobutyricum_hallii', 'Roseburia_inulinivorans', 'Collinsella_stercoris', 'Bacteroidales_bacterium', 'GGB9631_SGB15087', 'Bacteroides_intestinalis', 'Ruminococcus_bromii', 'Porphyromonas_pasteri', 'Candidatus_Gallimonas_faecium', 'Ruminococcus_callidus', 'Trueperella_pyogenes', 'GGB4239_SGB5731', 'GGB29535_SGB42321', 'Clostridia_unclassified_SGB4447', 'Lawsonibacter_sp_NSJ_51', 'Blautia_hydrogenotrophica', 'Emergencia_sp_1XD21_50', 'GGB9635_SGB15106', 'Phascolarctobacterium_faecium', 'GGB9524_SGB14923', 'Bacteroides_uniformis', 'Fusicatenibacter_saccharivorans', 'Lancefieldella_parvula', 'Lachnospiraceae_bacterium_NSJ_29', 'Lachnoanaerobaculum_sp_ICM7', 'Firmicutes_bacterium', 'GGB9512_SGB14909', 'Lactonifactor_sp_BIOML_A6', 'Prevotella_copri_clade_A', 'GGB9532_SGB14933', 'Eubacterium_maltosivorans', 'Clostridium_innocuum', 'Acidaminococcaceae_unclassified_SGB5785', 'Gemella_sanguinis', 'Turicibacter_sanguinis', 'Alistipes_timonensis', 'Erysipelatoclostridium_ramosum', 'GGB9291_SGB14248', 'Clostridium_sp_AM49_4BH', 'Clostridium_sp_AF36_4', 'Dysosmobacter_sp_NSJ_60', 'Alistipes_communis', 'Bittarella_massiliensis', 'Clostridiales_bacterium_UBA1390', 'Collinsella_sp_AF08_23', 'Streptococcus_anginosus', 'GGB3278_SGB4328', 'Clostridium_sp_AT4', 'Clostridium_sp_AF27_2AA', 'Streptococcus_sanguinis', 'GGB9361_SGB14336', 'Paraprevotella_clara', 'Blautia_sp_MSK_21_1', 'Oribacterium_parvum', 'Blautia_sp_MSK_20_85', 'GGB9551_SGB14958', 'Lentisphaeria_bacterium', 'Ruminococcaceae_bacterium', 'Bifidobacterium_pseudocatenulatum', 'Clostridiales_bacterium_1_7_47FAA', 'Massilimaliae_timonensis', 'Evtepia_gabavorous', 'Desulfovibrio_piger', 'Desulfovibrio_fairfieldensis', 'Parasutterella_SGB9260', 'Alistipes_indistinctus', 'Negativibacillus_massiliensis', 'Mediterraneibacter_massiliensis', 'Butyricimonas_faecihominis', 'GGB3486_SGB4658', 'Ruminococcaceae_bacterium_AM07_15', 'Dorea_phocaeensis', 'Monoglobus_pectinilyticus', 'Coprococcus_comes', 'GGB9350_SGB14317', 'Ruminococcus_sp_NSJ_71', 'GGB38171_SGB72433', 'GGB9059_SGB13976', 'Clostridia_bacterium', 'Actinomyces_dentalis', 'Clostridiales_bacterium', 'Barnesiella_intestinihominis', 'Parabacteroides_gordonii', 'Holdemania_filiformis', 'Ruminococcaceae_unclassified_SGB15260', 'Bacteroides_finegoldii', 'Isoptericola_variabilis', 'Dorea_sp_AF36_15AT', 'Actinomyces_SGB17168', 'Christensenellaceae_bacterium', 'Clostridium_sp_AF34_13', 'Ruthenibacterium_lactatiformans', 'Streptococcus_oralis', 'GGB9707_SGB15229', 'Lacrimispora_celerecrescens', 'GGB2980_SGB3962', 'Candidatus_Cibiobacter_qucibialis', 'Roseburia_sp_AF02_12', 'Bifidobacterium_animalis', 'GGB3510_SGB4687', 'Lachnospira_pectinoschiza', 'Candidatus_Avimicrobium_caecorum', 'Blautia_caecimuris', 'GGB2982_SGB3964', 'GGB9608_SGB15041', 'Alistipes_onderdonkii', 'Corynebacterium_matruchotii', 'GGB9694_SGB15204', 'Allisonella_histaminiformans', 'Emergencia_timonensis', 'GGB9530_SGB14930', 'Catenibacillus_scindens', 'Ruminococcaceae_unclassified_SGB15233', 'Enterocloster_clostridioformis', 'Agathobaculum_butyriciproducens', 'Lachnospira_eligens', 'Eggerthellaceae_bacterium', 'GGB9787_SGB15410', 'Candidatus_Borkfalkia_ceftriaxoniphila', 'Massilimicrobiota_sp_An134', 'Frisingicoccus_SGB4674', 'Clostridiaceae_bacterium', 'Methanobrevibacter_smithii', 'Anaerostipes_caccae', 'GGB9619_SGB15067', 'GGB9712_SGB15244', 'GGB9623_SGB15075', 'Sutterella_sp_AM11_39', 'Faecalibacillus_intestinalis', 'Senegalimassilia_anaerobia', 'Cuneatibacter_caecimuris', 'Phocaeicola_vulgatus', 'Phascolarctobacterium_succinatutens', 'Anaeromassilibacillus_sp_An250', 'GGB12785_SGB19823', 'Enterococcus_faecium', 'Haemophilus_parainfluenzae', 'Ruminococcus_bicirculans', 'Sellimonas_intestinalis', 'Enterocloster_citroniae', 'Streptococcus_sp_A12', 'GGB3746_SGB5089', 'Lachnospiraceae_unclassified_SGB4924', 'GGB36472_SGB47660', 'Faecalimonas_umbilicata', 'Romboutsia_timonensis', 'Candidatus_Gastranaerophilales_bacterium', 'Turicimonas_muris', 'Bariatricus_massiliensis', 'Clostridium_leptum', 'Butyricimonas_paravirosa', 'Harryflintia_acetispora', 'Blautia_sp_An249', 'Parabacteroides_goldsteinii', 'GGB9631_SGB15085', 'Streptococcus_parasanguinis', 'Candidatus_Allochristensenella_caecavium', 'GGB51959_SGB72479', 'Bacilli_unclassified_SGB6571', 'Clostridia_unclassified_SGB6317', 'Desulfovibrio_legallii', 'Eubacterium_sulci', 'Blautia_SGB4815', 'Gordonibacter_urolithinfaciens', 'Blautia_wexlerae', 'Methanosphaera_stadtmanae', 'GGB9677_SGB15180', 'GGB58158_SGB79798', 'GGB9730_SGB15291', 'Clostridium_fessum', 'GGB9646_SGB15123', 'Eggerthellaceae_unclassified_SGB14322', 'Blautia_producta', 'Lachnospiraceae_unclassified_SGB4894', 'Ruminococcaceae_bacterium_D5', 'GGB3571_SGB4778', 'Slackia_isoflavoniconvertens', 'Actinomyces_SGB17154', 'Clostridiales_unclassified_SGB15145', 'Oribacterium_sinus', 'Alloscardovia_omnicolens', 'Bifidobacterium_longum', 'Enterocloster_lavalensis', 'GGB9695_SGB15209', 'Lactobacillus_gasseri', 'Clostridia_unclassified_SGB15402', 'GGB4249_SGB5749', 'Anaeroglobus_geminatus', 'Bilophila_wadsworthia', 'Gemmiger_formicilis', 'Eubacterium_ventriosum', 'Butyrivibrio_crossotus', 'GGB45495_SGB63167', 'GGB3433_SGB4573', 'Lachnospiraceae_bacterium_WCA3_601_WT_6H', 'GGB9632_SGB15089', 'Coprobacter_fastidiosus', 'GGB9705_SGB15224', 'GGB9524_SGB14924', 'Anaerofilum_sp_BX8', 'GGB6132_SGB8779', 'GGB9494_SGB14891', 'Clostridiaceae_bacterium_OM08_6BH', 'Christensenellaceae_bacterium_NSJ_53', 'GGB9423_SGB14792', 'Clostridia_bacterium_UC5_1_1E11', 'Pseudomonas_aeruginosa', 'Mediterraneibacter_glycyrrhizinilyticus', 'Bifidobacterium_adolescentis', 'Rikenellaceae_bacterium', 'Enterocloster_bolteae', 'Alistipes_ihumii', 'Victivallis_vadensis', 'Capnocytophaga_gingivalis', 'Bacteroidaceae_bacterium', 'Bacteroides_clarus', 'GGB9176_SGB14114', 'GGB1680_SGB2312', 'Enterococcus_avium', 'Butyricimonas_SGB1783', 'GGB4585_SGB6340', 'Clostridium_sp_AF34_10BH', 'Bacteroides_timonensis', 'GGB4739_SGB6564', 'Parasutterella_excrementihominis', 'GGB3341_SGB4420', 'GGB3614_SGB4886', 'Blautia_massiliensis', 'Sanguibacteroides_justesenii', 'Butyricimonas_virosa', 'Alistipes_putredinis', 'Clostridium_paraputrificum', 'Peptococcaceae_bacterium', 'Streptococcus_thermophilus', 'GGB9634_SGB15097', 'Clostridium_symbiosum', 'Actinomyces_sp_ICM47', 'Rhodobacteraceae_unclassified_SGB53807', 'GGB9574_SGB14987', 'Lachnospira_sp_NSJ_43', 'GGB9694_SGB15201', 'Enterocloster_aldensis', 'Ruminococcus_gnavus', 'Sutterella_wadsworthensis', 'Blautia_obeum', 'Gemmiger_SGB15295', 'Blautia_faecis', 'GGB55957_SGB77276', 'Eubacterium_sp_AM28_29', 'Clostridium_scindens', 'GGB9634_SGB15093', 'Phocaeicola_dorei', 'Clostridiales_bacterium_Choco116', 'Bacteroides_xylanisolvens', 'Streptococcus_mitis', 'GGB9581_SGB14999', 'Prevotella_buccae', 'GGB9633_SGB15091', 'Adlercreutzia_equolifaciens', 'GGB9739_SGB15313', 'GGB9347_SGB14313', 'Christensenella_sp_Marseille_P3954', 'Firmicutes_bacterium_AF16_15', 'Massilimaliae_massiliensis', 'Acidaminococcus_intestini', 'Clostridium_sp_Marseille_P3244', 'GGB9580_SGB14998', 'Blautia_schinkii', 'Clostridia_bacterium_UC5_1_1D1', 'Alistipes_dispar', 'Oxalobacter_formigenes', 'GGB9620_SGB15068', 'Lachnospiraceae_bacterium_BX3', 'Ruminococcus_torques', 'Eisenbergiella_massiliensis', 'Duodenibacillus_massiliensis', 'GGB9667_SGB15164', 'Eggerthellaceae_unclassified_SGB14341', 'Tyzzerella_nexilis', 'Bacteroides_fragilis', 'GGB58233_SGB79883', 'Limosilactobacillus_fermentum', 'GGB3677_SGB4990', 'Faecalicatena_contorta', 'Sutterella_SGB9281', 'Eggerthella_lenta', 'GGB3606_SGB4870', 'Candidatus_Pseudoscilispira_faecavium', 'GGB3005_SGB3996', 'GGB9288_SGB14243', 'Veillonella_parvula', 'GGB36331_SGB53806', 'Eubacterium_siraeum', 'GGB9621_SGB15073', 'Merdimonas_faecis', 'Blautia_SGB4831', 'GGB9768_SGB15386', 'Lachnospiraceae_unclassified_SGB66069', 'Amedibacillus_dolichus', 'GGB5980_SGB8599', 'Bacteroides_stercoris', 'GGB1266_SGB1699', 'Fusobacterium_nucleatum', 'Parabacteroides_johnsonii', 'Eubacterium_ramulus', 'Rothia_dentocariosa', 'Bacteroidales_unclassified_SGB2135', 'Clostridiaceae_unclassified_SGB4769', 'Candidatus_Neochristensenella_gallicola', 'Faecalibacterium_SGB15346', 'Hungatella_hathewayi', 'Massilistercora_timonensis', 'Actinomyces_graevenitzii', 'Lachnoanaerobaculum_orale', 'Phocea_massiliensis', 'Candidatus_Woodwardibium_gallinarum', 'Dialister_invisus', 'Rothia_aeria', 'Enterocloster_asparagiformis', 'Veillonella_dispar', 'Alistipes_shahii', 'Pseudoflavonifractor_capillosus', 'Lachnospiraceae_bacterium_OM04_12BH', 'GGB3034_SGB4030', 'Anaerostipes_hadrus', 'Coprococcus_eutactus', 'GGB9568_SGB14980', 'Neisseria_subflava', 'Ruminococcaceae_unclassified_SGB15234', 'GGB9615_SGB15053', 'Neobittarella_massiliensis', 'GGB9642_SGB15119', 'GGB9623_SGB15076', 'Streptococcus_sp_263_SSPC', 'Pseudoflavonifractor_sp_An176', 'GGB9818_SGB15459', 'Alistipes_finegoldii', 'GGB3277_SGB4327', 'Dysosmobacter_welbionis', 'Collinsella_phocaeensis', 'Actinomyces_sp_S6_Spd3', 'Lachnospira_SGB5076', 'Lacticaseibacillus_rhamnosus', 'Bacteroides_thetaiotaomicron', 'Clostridia_unclassified_SGB14297', 'Collinsella_aerofaciens', 'Clostridia_unclassified_SGB4367', 'Alistipes_senegalensis', 'Longibaculum_muris', 'Intestinimonas_butyriciproducens', 'GGB3537_SGB4727', 'GGB9523_SGB14922', 'Neisseria_sicca', 'Erysipelotrichaceae_bacterium', 'Cloacibacillus_evryensis', 'Klebsiella_pneumoniae', 'Clostridium_sp_AM33_3', 'GGB3733_SGB5066', 'Faecalicatena_fissicatena', 'GGB9454_SGB14846', 'Cloacibacillus_porcorum', 'Blautia_faecicola', 'GGB9699_SGB15216', 'Blautia_sp_AF19_10LB', 'Oscillibacter_sp_ER4', 'GGB3123_SGB4135', 'GGB9348_SGB14315', 'GGB45432_SGB63101', 'GGB4456_SGB6141', 'GGB3004_SGB3995', 'Bacteroides_salyersiae', 'Marvinbryantia_SGB4691', 'Ruminococcaceae_unclassified_SGB15265', 'Roseburia_hominis', 'Oscillibacter_sp_NSJ_62', 'Blautia_argi', 'Flavonifractor_sp_An100', 'Clostridia_unclassified_SGB4121', 'Clostridia_unclassified_SGB14844', 'Enterobacter_hormaechei', 'Clostridia_unclassified_SGB71281', 'Blautia_SGB4805', 'Eubacteriaceae_bacterium', 'Massilioclostridium_coli', 'Mogibacterium_diversum', 'Clostridia_unclassified_SGB14951', 'Bacteroides_caccae', 'Coprobacter_secundus', 'Oscillospiraceae_bacterium_NSJ_64', 'Bacteroides_cellulosilyticus', 'GGB45491_SGB63163', 'Eisenbergiella_tayi', 'Blautia_sp_OF03_15BH', 'Lachnoclostridium_sp_An138', 'GGB9583_SGB15004', 'GGB6649_SGB9391', 'Clostridium_sp_chh4_2', 'Clostridium_disporicum', 'Streptococcus_infantis', 'GGB6612_SGB9346', 'Pseudoruminococcus_massiliensis', 'Holdemania_massiliensis', 'Candidatus_Schneewindia_gallinarum', 'GGB9537_SGB14940', 'Clostridium_sp_AF20_17LB', 'Lacrimispora_amygdalina', 'Rothia_mucilaginosa', 'GGB9640_SGB15115', 'GGB3293_SGB4348', 'Ruminococcus_lactaris', 'Longicatena_caecimuris', 'Ruminococcaceae_unclassified_SGB15236', 'Phocaeicola_massiliensis', 'Collinsella_intestinalis', 'GGB9758_SGB15368', 'Dorea_sp_AF24_7LB', 'Pseudoflavonifractor_SGB15156', 'Streptococcus_rubneri', 'Intestinibacter_SGB6139', 'Anaerotignum_lactatifermentans', 'Opitutales_bacterium', 'GGB9677_SGB15179', 'Veillonella_atypica', 'Clostridium_sp_AM22_11AC', 'GGB9614_SGB15049', 'GGB9705_SGB15225', 'Blautia_glucerasea', 'GGB4566_SGB6305', 'Angelakisella_massiliensis', 'GGB9694_SGB15203', 'Akkermansia_sp_KLE1605', 'Clostridium_phoceensis', 'GGB9633_SGB15090', 'Flavonifractor_plautii', 'Clostridia_bacterium_12CBH8', 'Anaerotruncus_colihominis', 'Desulfovibrio_desulfuricans'}\n"
     ]
    },
    {
     "data": {
      "text/plain": [
       "{'Acidaminococcaceae_unclassified_SGB5785',\n",
       " 'Acidaminococcus_intestini',\n",
       " 'Actinobaculum_sp_oral_taxon_183',\n",
       " 'Actinomyces_SGB17154',\n",
       " 'Actinomyces_SGB17168',\n",
       " 'Actinomyces_dentalis',\n",
       " 'Actinomyces_graevenitzii',\n",
       " 'Actinomyces_sp_ICM47',\n",
       " 'Actinomyces_sp_ICM58',\n",
       " 'Actinomyces_sp_S6_Spd3',\n",
       " 'Adlercreutzia_equolifaciens',\n",
       " 'Agathobaculum_butyriciproducens',\n",
       " 'Agathobaculum_desmolans',\n",
       " 'Akkermansia_muciniphila',\n",
       " 'Akkermansia_sp_KLE1605',\n",
       " 'Alistipes_communis',\n",
       " 'Alistipes_dispar',\n",
       " 'Alistipes_finegoldii',\n",
       " 'Alistipes_ihumii',\n",
       " 'Alistipes_indistinctus',\n",
       " 'Alistipes_inops',\n",
       " 'Alistipes_onderdonkii',\n",
       " 'Alistipes_putredinis',\n",
       " 'Alistipes_senegalensis',\n",
       " 'Alistipes_shahii',\n",
       " 'Alistipes_sp_AF17_16',\n",
       " 'Alistipes_timonensis',\n",
       " 'Allisonella_histaminiformans',\n",
       " 'Alloscardovia_omnicolens',\n",
       " 'Amedibacillus_dolichus',\n",
       " 'Anaerobutyricum_hallii',\n",
       " 'Anaerofilum_sp_BX8',\n",
       " 'Anaeroglobus_geminatus',\n",
       " 'Anaeromassilibacillus_sp_An250',\n",
       " 'Anaerostipes_caccae',\n",
       " 'Anaerostipes_hadrus',\n",
       " 'Anaerotignum_faecicola',\n",
       " 'Anaerotignum_lactatifermentans',\n",
       " 'Anaerotruncus_colihominis',\n",
       " 'Anaerotruncus_massiliensis',\n",
       " 'Anaerotruncus_rubiinfantis',\n",
       " 'Angelakisella_massiliensis',\n",
       " 'Bacilli_bacterium',\n",
       " 'Bacilli_unclassified_SGB6571',\n",
       " 'Bacteroidaceae_bacterium',\n",
       " 'Bacteroidales_bacterium',\n",
       " 'Bacteroidales_unclassified_SGB2135',\n",
       " 'Bacteroides_caccae',\n",
       " 'Bacteroides_cellulosilyticus',\n",
       " 'Bacteroides_clarus',\n",
       " 'Bacteroides_eggerthii',\n",
       " 'Bacteroides_finegoldii',\n",
       " 'Bacteroides_fragilis',\n",
       " 'Bacteroides_intestinalis',\n",
       " 'Bacteroides_nordii',\n",
       " 'Bacteroides_ovatus',\n",
       " 'Bacteroides_salyersiae',\n",
       " 'Bacteroides_stercoris',\n",
       " 'Bacteroides_thetaiotaomicron',\n",
       " 'Bacteroides_timonensis',\n",
       " 'Bacteroides_uniformis',\n",
       " 'Bacteroides_xylanisolvens',\n",
       " 'Bariatricus_massiliensis',\n",
       " 'Barnesiella_intestinihominis',\n",
       " 'Bifidobacterium_adolescentis',\n",
       " 'Bifidobacterium_animalis',\n",
       " 'Bifidobacterium_bifidum',\n",
       " 'Bifidobacterium_breve',\n",
       " 'Bifidobacterium_dentium',\n",
       " 'Bifidobacterium_longum',\n",
       " 'Bifidobacterium_pseudocatenulatum',\n",
       " 'Bilophila_wadsworthia',\n",
       " 'Bittarella_massiliensis',\n",
       " 'Blautia_SGB4805',\n",
       " 'Blautia_SGB4815',\n",
       " 'Blautia_SGB4831',\n",
       " 'Blautia_argi',\n",
       " 'Blautia_caecimuris',\n",
       " 'Blautia_faecicola',\n",
       " 'Blautia_faecis',\n",
       " 'Blautia_glucerasea',\n",
       " 'Blautia_hansenii',\n",
       " 'Blautia_hydrogenotrophica',\n",
       " 'Blautia_massiliensis',\n",
       " 'Blautia_obeum',\n",
       " 'Blautia_producta',\n",
       " 'Blautia_schinkii',\n",
       " 'Blautia_sp_AF19_10LB',\n",
       " 'Blautia_sp_An249',\n",
       " 'Blautia_sp_MSK_20_85',\n",
       " 'Blautia_sp_MSK_21_1',\n",
       " 'Blautia_sp_OF03_15BH',\n",
       " 'Blautia_wexlerae',\n",
       " 'Butyricimonas_SGB1783',\n",
       " 'Butyricimonas_faecihominis',\n",
       " 'Butyricimonas_paravirosa',\n",
       " 'Butyricimonas_virosa',\n",
       " 'Butyrivibrio_crossotus',\n",
       " 'Candidatus_Allochristensenella_caecavium',\n",
       " 'Candidatus_Avimicrobium_caecorum',\n",
       " 'Candidatus_Avimonas_narfia',\n",
       " 'Candidatus_Borkfalkia_ceftriaxoniphila',\n",
       " 'Candidatus_Cibiobacter_qucibialis',\n",
       " 'Candidatus_Gallimonas_faecium',\n",
       " 'Candidatus_Gastranaerophilales_bacterium',\n",
       " 'Candidatus_Nanoperiomorbus_periodonticus',\n",
       " 'Candidatus_Neochristensenella_gallicola',\n",
       " 'Candidatus_Paralachnospira_caecorum',\n",
       " 'Candidatus_Pararuminococcus_gallinarum',\n",
       " 'Candidatus_Pseudoscilispira_faecavium',\n",
       " 'Candidatus_Schneewindia_gallinarum',\n",
       " 'Candidatus_Woodwardibium_gallinarum',\n",
       " 'Capnocytophaga_gingivalis',\n",
       " 'Catabacter_hongkongensis',\n",
       " 'Catenibacillus_scindens',\n",
       " 'Christensenella_sp_Marseille_P3954',\n",
       " 'Christensenella_timonensis',\n",
       " 'Christensenellaceae_bacterium',\n",
       " 'Christensenellaceae_bacterium_NSJ_53',\n",
       " 'Cloacibacillus_evryensis',\n",
       " 'Cloacibacillus_porcorum',\n",
       " 'Clostridia_bacterium',\n",
       " 'Clostridia_bacterium_12CBH8',\n",
       " 'Clostridia_bacterium_UC5_1_1D1',\n",
       " 'Clostridia_bacterium_UC5_1_1E11',\n",
       " 'Clostridia_unclassified_SGB14297',\n",
       " 'Clostridia_unclassified_SGB14844',\n",
       " 'Clostridia_unclassified_SGB14951',\n",
       " 'Clostridia_unclassified_SGB15402',\n",
       " 'Clostridia_unclassified_SGB4121',\n",
       " 'Clostridia_unclassified_SGB4367',\n",
       " 'Clostridia_unclassified_SGB4447',\n",
       " 'Clostridia_unclassified_SGB6276',\n",
       " 'Clostridia_unclassified_SGB6317',\n",
       " 'Clostridia_unclassified_SGB66170',\n",
       " 'Clostridia_unclassified_SGB71281',\n",
       " 'Clostridiaceae_bacterium',\n",
       " 'Clostridiaceae_bacterium_OM08_6BH',\n",
       " 'Clostridiaceae_unclassified_SGB4769',\n",
       " 'Clostridiales_bacterium',\n",
       " 'Clostridiales_bacterium_1_7_47FAA',\n",
       " 'Clostridiales_bacterium_Choco116',\n",
       " 'Clostridiales_bacterium_KLE1615',\n",
       " 'Clostridiales_bacterium_Marseille_P2846',\n",
       " 'Clostridiales_bacterium_UBA1390',\n",
       " 'Clostridiales_unclassified_SGB15145',\n",
       " 'Clostridium_disporicum',\n",
       " 'Clostridium_fessum',\n",
       " 'Clostridium_innocuum',\n",
       " 'Clostridium_leptum',\n",
       " 'Clostridium_paraputrificum',\n",
       " 'Clostridium_phoceensis',\n",
       " 'Clostridium_scindens',\n",
       " 'Clostridium_sp_AF15_49',\n",
       " 'Clostridium_sp_AF20_17LB',\n",
       " 'Clostridium_sp_AF27_2AA',\n",
       " 'Clostridium_sp_AF34_10BH',\n",
       " 'Clostridium_sp_AF34_13',\n",
       " 'Clostridium_sp_AF36_4',\n",
       " 'Clostridium_sp_AM22_11AC',\n",
       " 'Clostridium_sp_AM33_3',\n",
       " 'Clostridium_sp_AM49_4BH',\n",
       " 'Clostridium_sp_AT4',\n",
       " 'Clostridium_sp_Marseille_P3244',\n",
       " 'Clostridium_sp_chh4_2',\n",
       " 'Clostridium_symbiosum',\n",
       " 'Collinsella_aerofaciens',\n",
       " 'Collinsella_intestinalis',\n",
       " 'Collinsella_phocaeensis',\n",
       " 'Collinsella_sp_AF08_23',\n",
       " 'Collinsella_stercoris',\n",
       " 'Coprobacter_fastidiosus',\n",
       " 'Coprobacter_secundus',\n",
       " 'Coprococcus_catus',\n",
       " 'Coprococcus_comes',\n",
       " 'Coprococcus_eutactus',\n",
       " 'Coriobacteriia_bacterium',\n",
       " 'Corynebacterium_matruchotii',\n",
       " 'Cuneatibacter_caecimuris',\n",
       " 'Desulfovibrio_desulfuricans',\n",
       " 'Desulfovibrio_fairfieldensis',\n",
       " 'Desulfovibrio_legallii',\n",
       " 'Desulfovibrio_piger',\n",
       " 'Dialister_invisus',\n",
       " 'Dorea_formicigenerans',\n",
       " 'Dorea_longicatena',\n",
       " 'Dorea_phocaeensis',\n",
       " 'Dorea_sp_AF24_7LB',\n",
       " 'Dorea_sp_AF36_15AT',\n",
       " 'Duodenibacillus_massiliensis',\n",
       " 'Dysosmobacter_sp_NSJ_60',\n",
       " 'Dysosmobacter_welbionis',\n",
       " 'Eggerthella_lenta',\n",
       " 'Eggerthellaceae_bacterium',\n",
       " 'Eggerthellaceae_unclassified_SGB14322',\n",
       " 'Eggerthellaceae_unclassified_SGB14341',\n",
       " 'Eisenbergiella_massiliensis',\n",
       " 'Eisenbergiella_tayi',\n",
       " 'Emergencia_sp_1XD21_50',\n",
       " 'Emergencia_timonensis',\n",
       " 'Enterobacter_hormaechei',\n",
       " 'Enterocloster_aldensis',\n",
       " 'Enterocloster_asparagiformis',\n",
       " 'Enterocloster_bolteae',\n",
       " 'Enterocloster_citroniae',\n",
       " 'Enterocloster_clostridioformis',\n",
       " 'Enterocloster_lavalensis',\n",
       " 'Enterococcus_avium',\n",
       " 'Enterococcus_faecium',\n",
       " 'Erysipelatoclostridium_ramosum',\n",
       " 'Erysipelotrichaceae_bacterium',\n",
       " 'Escherichia_coli',\n",
       " 'Eubacteriaceae_bacterium',\n",
       " 'Eubacterium_maltosivorans',\n",
       " 'Eubacterium_ramulus',\n",
       " 'Eubacterium_rectale',\n",
       " 'Eubacterium_siraeum',\n",
       " 'Eubacterium_sp_AM28_29',\n",
       " 'Eubacterium_sulci',\n",
       " 'Eubacterium_ventriosum',\n",
       " 'Evtepia_gabavorous',\n",
       " 'Faecalibacillus_faecis',\n",
       " 'Faecalibacillus_intestinalis',\n",
       " 'Faecalibacterium_SGB15346',\n",
       " 'Faecalibacterium_prausnitzii',\n",
       " 'Faecalicatena_contorta',\n",
       " 'Faecalicatena_fissicatena',\n",
       " 'Faecalimonas_umbilicata',\n",
       " 'Firmicutes_bacterium',\n",
       " 'Firmicutes_bacterium_AF16_15',\n",
       " 'Flavobacteriales_bacterium',\n",
       " 'Flavonifractor_plautii',\n",
       " 'Flavonifractor_sp_An100',\n",
       " 'Frisingicoccus_SGB4674',\n",
       " 'Fusicatenibacter_saccharivorans',\n",
       " 'Fusobacterium_nucleatum',\n",
       " 'GGB1266_SGB1699',\n",
       " 'GGB12785_SGB19823',\n",
       " 'GGB1680_SGB2312',\n",
       " 'GGB29535_SGB42321',\n",
       " 'GGB2980_SGB3962',\n",
       " 'GGB2982_SGB3964',\n",
       " 'GGB3004_SGB3995',\n",
       " 'GGB3005_SGB3996',\n",
       " 'GGB3034_SGB4030',\n",
       " 'GGB3123_SGB4135',\n",
       " 'GGB32463_SGB47515',\n",
       " 'GGB3256_SGB4303',\n",
       " 'GGB3277_SGB4327',\n",
       " 'GGB3278_SGB4328',\n",
       " 'GGB3293_SGB4348',\n",
       " 'GGB3341_SGB4420',\n",
       " 'GGB3433_SGB4573',\n",
       " 'GGB3478_SGB4643',\n",
       " 'GGB3486_SGB4658',\n",
       " 'GGB3510_SGB4687',\n",
       " 'GGB3523_SGB4703',\n",
       " 'GGB3537_SGB4727',\n",
       " 'GGB3569_SGB4776',\n",
       " 'GGB3570_SGB4777',\n",
       " 'GGB3571_SGB4778',\n",
       " 'GGB3606_SGB4870',\n",
       " 'GGB3614_SGB4886',\n",
       " 'GGB36331_SGB53806',\n",
       " 'GGB36472_SGB47660',\n",
       " 'GGB3677_SGB4990',\n",
       " 'GGB3733_SGB5066',\n",
       " 'GGB3746_SGB5089',\n",
       " 'GGB38171_SGB72433',\n",
       " 'GGB4239_SGB5731',\n",
       " 'GGB4249_SGB5749',\n",
       " 'GGB4456_SGB6141',\n",
       " 'GGB45432_SGB63101',\n",
       " 'GGB45491_SGB63163',\n",
       " 'GGB45495_SGB63167',\n",
       " 'GGB4566_SGB6305',\n",
       " 'GGB4585_SGB6340',\n",
       " 'GGB4599_SGB6362',\n",
       " 'GGB4739_SGB6564',\n",
       " 'GGB51441_SGB71759',\n",
       " 'GGB51510_SGB71883',\n",
       " 'GGB51959_SGB72479',\n",
       " 'GGB55957_SGB77276',\n",
       " 'GGB58158_SGB79798',\n",
       " 'GGB58233_SGB79883',\n",
       " 'GGB5980_SGB8599',\n",
       " 'GGB6007_SGB8634',\n",
       " 'GGB6132_SGB8779',\n",
       " 'GGB6612_SGB9346',\n",
       " 'GGB6613_SGB9347',\n",
       " 'GGB6649_SGB9391',\n",
       " 'GGB9059_SGB13976',\n",
       " 'GGB9176_SGB14114',\n",
       " 'GGB9186_SGB14125',\n",
       " 'GGB9237_SGB14179',\n",
       " 'GGB9288_SGB14243',\n",
       " 'GGB9291_SGB14248',\n",
       " 'GGB9342_SGB14306',\n",
       " 'GGB9347_SGB14313',\n",
       " 'GGB9348_SGB14315',\n",
       " 'GGB9350_SGB14317',\n",
       " 'GGB9361_SGB14336',\n",
       " 'GGB9423_SGB14792',\n",
       " 'GGB9454_SGB14846',\n",
       " 'GGB9494_SGB14891',\n",
       " 'GGB9512_SGB14909',\n",
       " 'GGB9522_SGB14921',\n",
       " 'GGB9523_SGB14922',\n",
       " 'GGB9524_SGB14923',\n",
       " 'GGB9524_SGB14924',\n",
       " 'GGB9530_SGB14930',\n",
       " 'GGB9532_SGB14933',\n",
       " 'GGB9537_SGB14940',\n",
       " 'GGB9551_SGB14958',\n",
       " 'GGB9557_SGB14966',\n",
       " 'GGB9568_SGB14980',\n",
       " 'GGB9574_SGB14987',\n",
       " 'GGB9580_SGB14998',\n",
       " 'GGB9581_SGB14999',\n",
       " 'GGB9583_SGB15004',\n",
       " 'GGB9602_SGB15031',\n",
       " 'GGB9608_SGB15041',\n",
       " 'GGB9614_SGB15049',\n",
       " 'GGB9615_SGB15053',\n",
       " 'GGB9619_SGB15067',\n",
       " 'GGB9620_SGB15068',\n",
       " 'GGB9621_SGB15073',\n",
       " 'GGB9623_SGB15075',\n",
       " 'GGB9623_SGB15076',\n",
       " 'GGB9631_SGB15085',\n",
       " 'GGB9631_SGB15087',\n",
       " 'GGB9632_SGB15089',\n",
       " 'GGB9633_SGB15090',\n",
       " 'GGB9633_SGB15091',\n",
       " 'GGB9634_SGB15093',\n",
       " 'GGB9634_SGB15097',\n",
       " 'GGB9635_SGB15103',\n",
       " 'GGB9635_SGB15106',\n",
       " 'GGB9640_SGB15115',\n",
       " 'GGB9642_SGB15119',\n",
       " 'GGB9644_SGB15121',\n",
       " 'GGB9646_SGB15123',\n",
       " 'GGB9667_SGB15164',\n",
       " 'GGB9677_SGB15179',\n",
       " 'GGB9677_SGB15180',\n",
       " 'GGB9694_SGB15201',\n",
       " 'GGB9694_SGB15203',\n",
       " 'GGB9694_SGB15204',\n",
       " 'GGB9695_SGB15209',\n",
       " 'GGB9699_SGB15216',\n",
       " 'GGB9705_SGB15224',\n",
       " 'GGB9705_SGB15225',\n",
       " 'GGB9707_SGB15229',\n",
       " 'GGB9712_SGB15244',\n",
       " 'GGB9730_SGB15291',\n",
       " 'GGB9739_SGB15313',\n",
       " 'GGB9758_SGB15368',\n",
       " 'GGB9768_SGB15386',\n",
       " 'GGB9787_SGB15410',\n",
       " 'GGB9818_SGB15459',\n",
       " 'Gemella_sanguinis',\n",
       " 'Gemmiger_SGB15295',\n",
       " 'Gemmiger_SGB15299',\n",
       " 'Gemmiger_formicilis',\n",
       " 'Gordonibacter_pamelaeae',\n",
       " 'Gordonibacter_urolithinfaciens',\n",
       " 'Haemophilus_parainfluenzae',\n",
       " 'Harryflintia_acetispora',\n",
       " 'Holdemania_filiformis',\n",
       " 'Holdemania_massiliensis',\n",
       " 'Holdemania_sp_Marseille_P2844',\n",
       " 'Hungatella_hathewayi',\n",
       " 'Intestinibacter_SGB6139',\n",
       " 'Intestinibacter_bartlettii',\n",
       " 'Intestinimonas_butyriciproducens',\n",
       " 'Intestinimonas_gabonensis',\n",
       " 'Intestinimonas_massiliensis',\n",
       " 'Isoptericola_variabilis',\n",
       " 'Klebsiella_pneumoniae',\n",
       " 'Lachnoanaerobaculum_orale',\n",
       " 'Lachnoanaerobaculum_sp_ICM7',\n",
       " 'Lachnoclostridium_sp_An138',\n",
       " 'Lachnospira_SGB5076',\n",
       " 'Lachnospira_eligens',\n",
       " 'Lachnospira_pectinoschiza',\n",
       " 'Lachnospira_sp_NSJ_43',\n",
       " 'Lachnospiraceae_bacterium',\n",
       " 'Lachnospiraceae_bacterium_BX3',\n",
       " 'Lachnospiraceae_bacterium_NSJ_29',\n",
       " 'Lachnospiraceae_bacterium_OM04_12BH',\n",
       " 'Lachnospiraceae_bacterium_WCA3_601_WT_6H',\n",
       " 'Lachnospiraceae_unclassified_SGB4894',\n",
       " 'Lachnospiraceae_unclassified_SGB4924',\n",
       " 'Lachnospiraceae_unclassified_SGB66069',\n",
       " 'Lacrimispora_amygdalina',\n",
       " 'Lacrimispora_celerecrescens',\n",
       " 'Lacticaseibacillus_paracasei',\n",
       " 'Lacticaseibacillus_rhamnosus',\n",
       " 'Lactobacillus_gasseri',\n",
       " 'Lactonifactor_sp_BIOML_A6',\n",
       " 'Lancefieldella_parvula',\n",
       " 'Lancefieldella_rimae',\n",
       " 'Lawsonibacter_sp_NSJ_51',\n",
       " 'Lentisphaeria_bacterium',\n",
       " 'Limosilactobacillus_fermentum',\n",
       " 'Longibaculum_muris',\n",
       " 'Longicatena_caecimuris',\n",
       " 'Marvinbryantia_SGB4691',\n",
       " 'Massilimaliae_massiliensis',\n",
       " 'Massilimaliae_timonensis',\n",
       " 'Massilimicrobiota_sp_An134',\n",
       " 'Massilioclostridium_coli',\n",
       " 'Massilistercora_timonensis',\n",
       " 'Mediterraneibacter_butyricigenes',\n",
       " 'Mediterraneibacter_glycyrrhizinilyticus',\n",
       " 'Mediterraneibacter_massiliensis',\n",
       " 'Merdimonas_faecis',\n",
       " 'Methanobrevibacter_smithii',\n",
       " 'Methanosphaera_stadtmanae',\n",
       " 'Microbacterium_SGB53518',\n",
       " 'Mogibacterium_diversum',\n",
       " 'Monoglobus_pectinilyticus',\n",
       " 'Negativibacillus_massiliensis',\n",
       " 'Neglecta_timonensis',\n",
       " 'Neisseria_sicca',\n",
       " 'Neisseria_subflava',\n",
       " 'Neobittarella_massiliensis',\n",
       " 'Odoribacter_laneus',\n",
       " 'Odoribacter_splanchnicus',\n",
       " 'Opitutales_bacterium',\n",
       " 'Oribacterium_parvum',\n",
       " 'Oribacterium_sinus',\n",
       " 'Oscillibacter_sp_ER4',\n",
       " 'Oscillibacter_sp_NSJ_62',\n",
       " 'Oscillospiraceae_bacterium_NSJ_64',\n",
       " 'Oxalobacter_formigenes',\n",
       " 'Parabacteroides_distasonis',\n",
       " 'Parabacteroides_goldsteinii',\n",
       " 'Parabacteroides_gordonii',\n",
       " 'Parabacteroides_johnsonii',\n",
       " 'Parabacteroides_merdae',\n",
       " 'Paraprevotella_clara',\n",
       " 'Parasutterella_SGB9260',\n",
       " 'Parasutterella_excrementihominis',\n",
       " 'Peptococcaceae_bacterium',\n",
       " 'Phascolarctobacterium_faecium',\n",
       " 'Phascolarctobacterium_succinatutens',\n",
       " 'Phocaeicola_dorei',\n",
       " 'Phocaeicola_massiliensis',\n",
       " 'Phocaeicola_vulgatus',\n",
       " 'Phocea_massiliensis',\n",
       " 'Porphyromonas_pasteri',\n",
       " 'Prevotella_buccae',\n",
       " 'Prevotella_copri_clade_A',\n",
       " 'Prevotella_nigrescens',\n",
       " 'Prevotella_oris',\n",
       " 'Prevotella_veroralis',\n",
       " 'Pseudoflavonifractor_SGB15156',\n",
       " 'Pseudoflavonifractor_capillosus',\n",
       " 'Pseudoflavonifractor_sp_An176',\n",
       " 'Pseudomonas_aeruginosa',\n",
       " 'Pseudoruminococcus_massiliensis',\n",
       " 'Rhodobacteraceae_unclassified_SGB53807',\n",
       " 'Rikenellaceae_bacterium',\n",
       " 'Romboutsia_timonensis',\n",
       " 'Roseburia_faecis',\n",
       " 'Roseburia_hominis',\n",
       " 'Roseburia_intestinalis',\n",
       " 'Roseburia_inulinivorans',\n",
       " 'Roseburia_sp_AF02_12',\n",
       " 'Rothia_aeria',\n",
       " 'Rothia_dentocariosa',\n",
       " 'Rothia_mucilaginosa',\n",
       " 'Ruminococcaceae_bacterium',\n",
       " 'Ruminococcaceae_bacterium_AM07_15',\n",
       " 'Ruminococcaceae_bacterium_D5',\n",
       " 'Ruminococcaceae_unclassified_SGB15233',\n",
       " 'Ruminococcaceae_unclassified_SGB15234',\n",
       " 'Ruminococcaceae_unclassified_SGB15236',\n",
       " 'Ruminococcaceae_unclassified_SGB15260',\n",
       " 'Ruminococcaceae_unclassified_SGB15265',\n",
       " 'Ruminococcus_SGB4421',\n",
       " 'Ruminococcus_bicirculans',\n",
       " 'Ruminococcus_bromii',\n",
       " 'Ruminococcus_callidus',\n",
       " 'Ruminococcus_gnavus',\n",
       " 'Ruminococcus_lactaris',\n",
       " 'Ruminococcus_sp_NSJ_71',\n",
       " 'Ruminococcus_torques',\n",
       " 'Ruthenibacterium_lactatiformans',\n",
       " 'Sanguibacteroides_justesenii',\n",
       " 'Sellimonas_intestinalis',\n",
       " 'Senegalimassilia_anaerobia',\n",
       " 'Slackia_isoflavoniconvertens',\n",
       " 'Solobacterium_SGB6833',\n",
       " 'Streptococcus_anginosus',\n",
       " 'Streptococcus_gordonii',\n",
       " 'Streptococcus_infantis',\n",
       " 'Streptococcus_mitis',\n",
       " 'Streptococcus_oralis',\n",
       " 'Streptococcus_parasanguinis',\n",
       " 'Streptococcus_rubneri',\n",
       " 'Streptococcus_salivarius',\n",
       " 'Streptococcus_sanguinis',\n",
       " 'Streptococcus_sp_263_SSPC',\n",
       " 'Streptococcus_sp_A12',\n",
       " 'Streptococcus_thermophilus',\n",
       " 'Sutterella_SGB9281',\n",
       " 'Sutterella_sp_AM11_39',\n",
       " 'Sutterella_wadsworthensis',\n",
       " 'Trueperella_pyogenes',\n",
       " 'Turicibacter_sanguinis',\n",
       " 'Turicimonas_muris',\n",
       " 'Tyzzerella_nexilis',\n",
       " 'Veillonella_atypica',\n",
       " 'Veillonella_dispar',\n",
       " 'Veillonella_parvula',\n",
       " 'Victivallis_vadensis'}"
      ]
     },
     "execution_count": 15,
     "metadata": {},
     "output_type": "execute_result"
    }
   ],
   "source": [
    "bacteria_fount = check_for_bacteria(bacteria_df.species_name.tolist(),selected_feature_names)\n",
    "bacteria_fount"
   ]
  },
  {
   "cell_type": "code",
   "execution_count": 16,
   "id": "83401d9b-49ac-484e-b237-8332385b9204",
   "metadata": {},
   "outputs": [
    {
     "data": {
      "text/plain": [
       "np.float64(0.6723076923076924)"
      ]
     },
     "execution_count": 16,
     "metadata": {},
     "output_type": "execute_result"
    }
   ],
   "source": [
    "auc"
   ]
  },
  {
   "cell_type": "code",
   "execution_count": 17,
   "id": "68e83a35-b094-477d-8362-0336e1ccca0a",
   "metadata": {},
   "outputs": [
    {
     "data": {
      "image/png": "[encoded data removed]",
      "text/plain": [
       "<Figure size 640x480 with 1 Axes>"
      ]
     },
     "metadata": {},
     "output_type": "display_data"
    }
   ],
   "source": [
    "# Calculate the ROC curve\n",
    "fpr, tpr, thresholds = roc_curve(y_test, y_test_pred)\n",
    "\n",
    "# Plot the ROC curve\n",
    "plt.figure()\n",
    "plt.plot(fpr, tpr, label=f'ROC Curve (AUC = {auc:.2f})')\n",
    "plt.plot([0, 1], [0, 1], 'k--', label='Random Guess')  # Dashed diagonal line\n",
    "plt.xlim([0.0, 1.0])\n",
    "plt.ylim([0.0, 1.05])\n",
    "plt.xlabel('False Positive Rate')\n",
    "plt.ylabel('True Positive Rate')\n",
    "plt.title('Receiver Operating Characteristic (ROC) Curve')\n",
    "plt.legend(loc='lower right')\n",
    "plt.grid()\n",
    "plt.show()"
   ]
  },
  {
   "cell_type": "code",
   "execution_count": 18,
   "id": "2fb44a51-b6bf-4f46-8e3b-b77007db28cd",
   "metadata": {},
   "outputs": [
    {
     "data": {
      "text/plain": [
       "0.6753246753246753"
      ]
     },
     "execution_count": 18,
     "metadata": {},
     "output_type": "execute_result"
    }
   ],
   "source": [
    "accuracy"
   ]
  },
  {
   "cell_type": "code",
   "execution_count": 19,
   "id": "df953e72-46ac-478d-9f43-e04b282a26db",
   "metadata": {},
   "outputs": [
    {
     "data": {
      "text/plain": [
       "np.float64(0.4444444444444444)"
      ]
     },
     "execution_count": 19,
     "metadata": {},
     "output_type": "execute_result"
    }
   ],
   "source": [
    "f1"
   ]
  },
  {
   "cell_type": "code",
   "execution_count": 20,
   "id": "aa689fbf-a9b0-480e-a8d9-c9dfd310bba3",
   "metadata": {},
   "outputs": [
    {
     "data": {
      "text/plain": [
       "array([[42, 10],\n",
       "       [15, 10]])"
      ]
     },
     "execution_count": 20,
     "metadata": {},
     "output_type": "execute_result"
    }
   ],
   "source": [
    "conf_matrix"
   ]
  },
  {
   "cell_type": "code",
   "execution_count": 21,
   "id": "e403a7d9-cd37-4ffc-b5ba-eef01a8f1273",
   "metadata": {},
   "outputs": [
    {
     "data": {
      "image/png": "[encoded data removed]",
      "text/plain": [
       "<Figure size 640x480 with 2 Axes>"
      ]
     },
     "metadata": {},
     "output_type": "display_data"
    }
   ],
   "source": [
    "disp = ConfusionMatrixDisplay(confusion_matrix=conf_matrix, display_labels=[\"Negative\", \"Positive\"])\n",
    "disp.plot(cmap=\"Blues\")\n",
    "plt.title(\"Confusion Matrix\")\n",
    "plt.show()"
   ]
  },
  {
   "cell_type": "code",
   "execution_count": 22,
   "id": "71b64add-f587-4987-999c-fe5decf75c0f",
   "metadata": {},
   "outputs": [
    {
     "data": {
      "text/html": [
       "<div>\n",
       "<style scoped>\n",
       "    .dataframe tbody tr th:only-of-type {\n",
       "        vertical-align: middle;\n",
       "    }\n",
       "\n",
       "    .dataframe tbody tr th {\n",
       "        vertical-align: top;\n",
       "    }\n",
       "\n",
       "    .dataframe thead th {\n",
       "        text-align: right;\n",
       "    }\n",
       "</style>\n",
       "<table border=\"1\" class=\"dataframe\">\n",
       "  <thead>\n",
       "    <tr style=\"text-align: right;\">\n",
       "      <th></th>\n",
       "      <th>Model</th>\n",
       "      <th>Seed</th>\n",
       "      <th>Experiment_Number</th>\n",
       "      <th>Accuracy</th>\n",
       "      <th>AUC</th>\n",
       "      <th>F1_Score</th>\n",
       "    </tr>\n",
       "  </thead>\n",
       "  <tbody>\n",
       "    <tr>\n",
       "      <th>0</th>\n",
       "      <td>randomforest</td>\n",
       "      <td>513873336</td>\n",
       "      <td>8</td>\n",
       "      <td>0.675325</td>\n",
       "      <td>0.672308</td>\n",
       "      <td>0.444444</td>\n",
       "    </tr>\n",
       "  </tbody>\n",
       "</table>\n",
       "</div>"
      ],
      "text/plain": [
       "          Model       Seed  Experiment_Number  Accuracy       AUC  F1_Score\n",
       "0  randomforest  513873336                  8  0.675325  0.672308  0.444444"
      ]
     },
     "execution_count": 22,
     "metadata": {},
     "output_type": "execute_result"
    }
   ],
   "source": [
    "measures = [\"randomforest\", seed, experiment_number, accuracy, auc, f1]\n",
    "\n",
    "# Create a DataFrame with appropriate column names\n",
    "columns = [\"Model\", \"Seed\", \"Experiment_Number\", \"Accuracy\", \"AUC\", \"F1_Score\"]\n",
    "measures_df = pd.DataFrame([measures], columns=columns)\n",
    "measures_df"
   ]
  },
  {
   "cell_type": "code",
   "execution_count": 23,
   "id": "2332a3f7-e582-42c8-9f0f-bf868c6da554",
   "metadata": {},
   "outputs": [
    {
     "data": {
      "text/plain": [
       "'output/randomforest_experiment08_measures.csv'"
      ]
     },
     "execution_count": 23,
     "metadata": {},
     "output_type": "execute_result"
    }
   ],
   "source": [
    "output_path = \"output\"\n",
    "measures_path = f\"{output_path}{os.sep}randomforest_experiment{experiment_number:02d}_measures.csv\"\n",
    "if output_path and not os.path.exists(output_path):\n",
    "    os.makedirs(output_path)\n",
    "measures_path"
   ]
  },
  {
   "cell_type": "code",
   "execution_count": 24,
   "id": "2dd38431-831e-43dc-8139-bfa31dd1a154",
   "metadata": {},
   "outputs": [],
   "source": [
    "measures_df.to_csv(measures_path, index=False)"
   ]
  }
 ],
 "metadata": {
  "kernelspec": {
   "display_name": "Python 3 (ipykernel)",
   "language": "python",
   "name": "python3"
  },
  "language_info": {
   "codemirror_mode": {
    "name": "ipython",
    "version": 3
   },
   "file_extension": ".py",
   "mimetype": "text/x-python",
   "name": "python",
   "nbconvert_exporter": "python",
   "pygments_lexer": "ipython3",
   "version": "3.12.4"
  }
 },
 "nbformat": 4,
 "nbformat_minor": 5
}
