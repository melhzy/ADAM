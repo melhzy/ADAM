from glob import glob
import pandas as pd
import os


measure_list = glob("*measures.csv")
measure_list


# Read and merge all dataframes
data_frames = [pd.read_csv(file_name) for file_name in measure_list]
merged_df = pd.concat(data_frames, ignore_index=True)
merged_df = merged_df.sort_values(by="Experiment_Number").reset_index(drop=True)
merged_df.to_csv("randomforest_experiments_summary.csv",index=False)
merged_df


model_name = merged_df.Model.unique()[0]
model_name

if model_name == 'xgboost':
    model_display = "XGBoost"
elif model_name == "randomforest":
    model_display = "Random Forest"
else:
    model_display = "Logistics Regression"

model_display


# Create boxplots with individual data points (dots) overlaid
import seaborn as sns
import matplotlib.pyplot as plt

# Corrected code to fix palette issue and display boxplots with dots
plt.figure(figsize=(12, 8))

# Boxplot for Accuracy, AUC, and F1_Score
sns.boxplot(data=merged_df[['Accuracy', 'AUC', 'F1_Score']], width=0.5, palette="Set2")

# Overlay individual data points (dots)
sns.stripplot(data=merged_df[['Accuracy', 'AUC', 'F1_Score']], color='blue', size=8, alpha=0.6, jitter=True)

# Customize the plot
plt.title(f'Boxplots of {model_display} with Individual Data Points for Accuracy, AUC, and F1_Score', fontsize=16)
plt.ylabel('Values')
plt.xticks(ticks=[0, 1, 2], labels=['Accuracy', 'AUC', 'F1_Score'], fontsize=12)
plt.grid(axis='y', linestyle='--', alpha=0.7)

# Show the plot
plt.show()


# Create boxplots with individual data points (dots) overlaid
import seaborn as sns

for column in ['Accuracy', 'AUC', 'F1_Score']:
    plt.figure(figsize=(8, 6))
    sns.boxplot(data=merged_df, y=column, color='lightblue', width=0.5)
    sns.stripplot(data=merged_df, y=column, color='blue', size=8, alpha=0.6, jitter=True)
    plt.title(f'Boxplot of {model_display} with Dots for {column}')
    plt.ylabel(column)
    plt.grid(axis='y', linestyle='--', alpha=0.7)
    plt.show()






