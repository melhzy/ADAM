{
 "cells": [
  {
   "cell_type": "code",
   "execution_count": 1,
   "id": "b6679541-fc82-43d0-90c2-f408526bde3e",
   "metadata": {},
   "outputs": [],
   "source": [
    "import os\n",
    "from glob import glob\n",
    "import hashlib\n",
    "import numpy as np\n",
    "import pandas as pd\n",
    "from sklearn.model_selection import train_test_split\n",
    "from copy import deepcopy\n",
    "import ipynbname\n",
    "import matplotlib.pyplot as plt\n",
    "import shap\n",
    "from datetime import datetime\n",
    "import re\n",
    "\n",
    "# Constants\n",
    "EXPERIMENT_NAME = \"nursing_home\"\n",
    "DATA_PATH = f\"..{os.sep}data{os.sep}\""
   ]
  },
  {
   "cell_type": "code",
   "execution_count": 2,
   "id": "60521c5a-a754-48ff-927d-86e713784621",
   "metadata": {},
   "outputs": [
    {
     "name": "stdout",
     "output_type": "stream",
     "text": [
      "Current time is: 2024-12-05 12:14:50.863417\n",
      "File: machine_learning_experiment08\n",
      "Experiment Number: 8\n"
     ]
    }
   ],
   "source": [
    "current_time = datetime.now()\n",
    "print(\"Current time is:\",current_time)\n",
    "\n",
    "nb_fname = ipynbname.name()\n",
    "print(\"File:\",nb_fname)\n",
    "\n",
    "experiment_number = int(re.findall(r'\\d+', nb_fname)[0])\n",
    "print(f\"Experiment Number: {experiment_number}\")  # Output: 01"
   ]
  },
  {
   "cell_type": "code",
   "execution_count": 3,
   "id": "a1b0ccc6-65af-4dd7-b671-bea658a42f6f",
   "metadata": {},
   "outputs": [
    {
     "name": "stdout",
     "output_type": "stream",
     "text": [
      "Experiment Name: nursing_home, Initial Seed: 127573839\n"
     ]
    }
   ],
   "source": [
    "# Function to generate a consistent hash number for a given file name\n",
    "def generate_hash_number(file_name):\n",
    "    \"\"\"\n",
    "    Generates a consistent hash number based on the file name.\n",
    "    \n",
    "    Args:\n",
    "        file_name (str): The file name to hash.\n",
    "    \n",
    "    Returns:\n",
    "        int: A 32-bit hash number.\n",
    "    \"\"\"\n",
    "    # Create an MD5 hash object\n",
    "    hash_obj = hashlib.md5()\n",
    "    \n",
    "    # Update the hash object with the file name, encoded to bytes\n",
    "    hash_obj.update(file_name.encode())\n",
    "\n",
    "    # Convert the hash to an integer and ensure the range fits 32-bit\n",
    "    return int(hash_obj.hexdigest(), 16) % (2**32)\n",
    "\n",
    "# Generate experiment seed from experiment name\n",
    "initial_seed = generate_hash_number(EXPERIMENT_NAME)\n",
    "print(f\"Experiment Name: {EXPERIMENT_NAME}, Initial Seed: {initial_seed}\")"
   ]
  },
  {
   "cell_type": "code",
   "execution_count": 4,
   "id": "2ccd6498-27b0-4a98-a155-7e4e54219aa0",
   "metadata": {},
   "outputs": [
    {
     "name": "stdout",
     "output_type": "stream",
     "text": [
      "Random Integers List: [315491657, 135304577, 1572185508, 1029933563, 1950160822, 563269619, 1573902777, 513873336, 442822283, 1770168448]\n",
      "Data File Path: ../data/clinical_microbiome_df.csv\n",
      "Clinical Microbiome Data Loaded.\n",
      "Alzheimers Counts:\n",
      " Alzheimers\n",
      "0.0    225\n",
      "1.0    110\n",
      "Name: count, dtype: int64\n",
      "Normalized Alzheimers Counts:\n",
      " Alzheimers\n",
      "0.0    0.671642\n",
      "1.0    0.328358\n",
      "Name: proportion, dtype: float64\n",
      "Seed in this experiment: 513873336\n"
     ]
    }
   ],
   "source": [
    "# Set the seed for reproducibility\n",
    "np.random.seed(initial_seed)\n",
    "\n",
    "# Generate a list of 5 random integers in the range of 32-bit integers\n",
    "random_integers_list = np.random.randint(low=0, high=2**31 - 1, size=10).tolist()\n",
    "print(\"Random Integers List:\", random_integers_list)\n",
    "seed = random_integers_list[experiment_number-1]\n",
    "# Load clinical microbiome data\n",
    "df_path = glob(f'{DATA_PATH}*clinical_microbiome_df*')[0]\n",
    "print(f\"Data File Path: {df_path}\")\n",
    "\n",
    "clinical_microbiome_df = pd.read_csv(df_path)\n",
    "print(\"Clinical Microbiome Data Loaded.\")\n",
    "\n",
    "# Display value counts for the 'Alzheimers' column\n",
    "alzheimers_counts = clinical_microbiome_df['Alzheimers'].value_counts()\n",
    "alzheimers_counts_normalized = clinical_microbiome_df['Alzheimers'].value_counts(normalize=True)\n",
    "\n",
    "print(\"Alzheimers Counts:\\n\", alzheimers_counts)\n",
    "print(\"Normalized Alzheimers Counts:\\n\", alzheimers_counts_normalized)\n",
    "print(f\"Seed in this experiment: {seed}\")"
   ]
  },
  {
   "cell_type": "code",
   "execution_count": 5,
   "id": "0a65013c-020e-4791-a5b5-267c88b31571",
   "metadata": {},
   "outputs": [
    {
     "data": {
      "text/plain": [
       "Dementia Other\n",
       "0    335\n",
       "Name: count, dtype: int64"
      ]
     },
     "execution_count": 5,
     "metadata": {},
     "output_type": "execute_result"
    }
   ],
   "source": [
    "clinical_microbiome_df[\"Dementia Other\"].value_counts()"
   ]
  },
  {
   "cell_type": "code",
   "execution_count": 6,
   "id": "7b7a05b7-bf8c-4ac6-8d63-4857991845f2",
   "metadata": {},
   "outputs": [
    {
     "name": "stdout",
     "output_type": "stream",
     "text": [
      "Alzheimers Counts:\n",
      " Alzheimers\n",
      "0.0    225\n",
      "1.0    110\n",
      "Name: count, dtype: int64\n",
      "Normalized Alzheimers Counts:\n",
      " Alzheimers\n",
      "0.0    0.671642\n",
      "1.0    0.328358\n",
      "Name: proportion, dtype: float64\n"
     ]
    }
   ],
   "source": [
    "clinical_microbiome_df = clinical_microbiome_df[clinical_microbiome_df[\"Dementia Other\"] != 1]\n",
    "# Display value counts for the 'Alzheimers' column\n",
    "alzheimers_counts = clinical_microbiome_df['Alzheimers'].value_counts()\n",
    "alzheimers_counts_normalized = clinical_microbiome_df['Alzheimers'].value_counts(normalize=True)\n",
    "print(\"Alzheimers Counts:\\n\", alzheimers_counts)\n",
    "print(\"Normalized Alzheimers Counts:\\n\", alzheimers_counts_normalized)"
   ]
  },
  {
   "cell_type": "code",
   "execution_count": 7,
   "id": "6dc693dd-1c73-40cd-b9c4-c6cf01ae3fcf",
   "metadata": {},
   "outputs": [
    {
     "data": {
      "text/html": [
       "<div>\n",
       "<style scoped>\n",
       "    .dataframe tbody tr th:only-of-type {\n",
       "        vertical-align: middle;\n",
       "    }\n",
       "\n",
       "    .dataframe tbody tr th {\n",
       "        vertical-align: top;\n",
       "    }\n",
       "\n",
       "    .dataframe thead th {\n",
       "        text-align: right;\n",
       "    }\n",
       "</style>\n",
       "<table border=\"1\" class=\"dataframe\">\n",
       "  <thead>\n",
       "    <tr style=\"text-align: right;\">\n",
       "      <th></th>\n",
       "      <th>Feature</th>\n",
       "      <th>Description</th>\n",
       "      <th>Group Characteristics</th>\n",
       "      <th>Summary</th>\n",
       "    </tr>\n",
       "  </thead>\n",
       "  <tbody>\n",
       "    <tr>\n",
       "      <th>0</th>\n",
       "      <td>Sample ID</td>\n",
       "      <td>Unique identifier for biological or clinical s...</td>\n",
       "      <td>Study Identification</td>\n",
       "      <td>### Clinical Feature Summary\\n\\n#### Feature: ...</td>\n",
       "    </tr>\n",
       "    <tr>\n",
       "      <th>1</th>\n",
       "      <td>study_id</td>\n",
       "      <td>Identifier for the specific study or research ...</td>\n",
       "      <td>Study Identification</td>\n",
       "      <td>### Clinical Feature Definitions, Scope, and R...</td>\n",
       "    </tr>\n",
       "    <tr>\n",
       "      <th>2</th>\n",
       "      <td>day</td>\n",
       "      <td>Day of data collection or relevant event.</td>\n",
       "      <td>Temporal Information</td>\n",
       "      <td>### Clinical Feature Summary for Alzheimer's D...</td>\n",
       "    </tr>\n",
       "    <tr>\n",
       "      <th>3</th>\n",
       "      <td>Date Sample</td>\n",
       "      <td>Date when the sample was collected.</td>\n",
       "      <td>Temporal Information</td>\n",
       "      <td>### Clinical Feature Summary\\n\\n#### Feature: ...</td>\n",
       "    </tr>\n",
       "    <tr>\n",
       "      <th>4</th>\n",
       "      <td>age</td>\n",
       "      <td>Age of the participant.</td>\n",
       "      <td>Demographic Information</td>\n",
       "      <td>### Clinical Feature Summary: Age\\n\\n**Definit...</td>\n",
       "    </tr>\n",
       "    <tr>\n",
       "      <th>...</th>\n",
       "      <td>...</td>\n",
       "      <td>...</td>\n",
       "      <td>...</td>\n",
       "      <td>...</td>\n",
       "    </tr>\n",
       "    <tr>\n",
       "      <th>98</th>\n",
       "      <td>Severe Liver disease</td>\n",
       "      <td>Advanced liver disease diagnosis.</td>\n",
       "      <td>Hepatic Condition</td>\n",
       "      <td>### Clinical Feature: Severe Liver Disease\\n\\n...</td>\n",
       "    </tr>\n",
       "    <tr>\n",
       "      <th>99</th>\n",
       "      <td>ostomy</td>\n",
       "      <td>Presence of an ostomy.</td>\n",
       "      <td>Surgical History</td>\n",
       "      <td>### Clinical Feature: Ostomy\\n\\n**Definition:*...</td>\n",
       "    </tr>\n",
       "    <tr>\n",
       "      <th>100</th>\n",
       "      <td>Alzheimers</td>\n",
       "      <td>Diagnosis of Alzheimer’s disease.</td>\n",
       "      <td>Neurological Condition</td>\n",
       "      <td>### Clinical Feature Summary: Alzheimer's Dise...</td>\n",
       "    </tr>\n",
       "    <tr>\n",
       "      <th>101</th>\n",
       "      <td>Dementia Other</td>\n",
       "      <td>Other forms of dementia.</td>\n",
       "      <td>Neurological Condition</td>\n",
       "      <td>### Clinical Feature: Dementia Other\\n\\n**Defi...</td>\n",
       "    </tr>\n",
       "    <tr>\n",
       "      <th>102</th>\n",
       "      <td>Parkinsons</td>\n",
       "      <td>Parkinson’s disease diagnosis.</td>\n",
       "      <td>Neurological Condition</td>\n",
       "      <td>### Clinical Feature: Parkinson's Disease\\n\\n*...</td>\n",
       "    </tr>\n",
       "  </tbody>\n",
       "</table>\n",
       "<p>103 rows × 4 columns</p>\n",
       "</div>"
      ],
      "text/plain": [
       "                  Feature                                        Description  \\\n",
       "0               Sample ID  Unique identifier for biological or clinical s...   \n",
       "1                study_id  Identifier for the specific study or research ...   \n",
       "2                     day          Day of data collection or relevant event.   \n",
       "3             Date Sample                Date when the sample was collected.   \n",
       "4                     age                            Age of the participant.   \n",
       "..                    ...                                                ...   \n",
       "98   Severe Liver disease                  Advanced liver disease diagnosis.   \n",
       "99                 ostomy                             Presence of an ostomy.   \n",
       "100            Alzheimers                  Diagnosis of Alzheimer’s disease.   \n",
       "101        Dementia Other                           Other forms of dementia.   \n",
       "102            Parkinsons                     Parkinson’s disease diagnosis.   \n",
       "\n",
       "       Group Characteristics  \\\n",
       "0       Study Identification   \n",
       "1       Study Identification   \n",
       "2       Temporal Information   \n",
       "3       Temporal Information   \n",
       "4    Demographic Information   \n",
       "..                       ...   \n",
       "98         Hepatic Condition   \n",
       "99          Surgical History   \n",
       "100   Neurological Condition   \n",
       "101   Neurological Condition   \n",
       "102   Neurological Condition   \n",
       "\n",
       "                                               Summary  \n",
       "0    ### Clinical Feature Summary\\n\\n#### Feature: ...  \n",
       "1    ### Clinical Feature Definitions, Scope, and R...  \n",
       "2    ### Clinical Feature Summary for Alzheimer's D...  \n",
       "3    ### Clinical Feature Summary\\n\\n#### Feature: ...  \n",
       "4    ### Clinical Feature Summary: Age\\n\\n**Definit...  \n",
       "..                                                 ...  \n",
       "98   ### Clinical Feature: Severe Liver Disease\\n\\n...  \n",
       "99   ### Clinical Feature: Ostomy\\n\\n**Definition:*...  \n",
       "100  ### Clinical Feature Summary: Alzheimer's Dise...  \n",
       "101  ### Clinical Feature: Dementia Other\\n\\n**Defi...  \n",
       "102  ### Clinical Feature: Parkinson's Disease\\n\\n*...  \n",
       "\n",
       "[103 rows x 4 columns]"
      ]
     },
     "execution_count": 7,
     "metadata": {},
     "output_type": "execute_result"
    }
   ],
   "source": [
    "clinical_summaries_df = pd.read_csv(glob(f\"..{os.sep}data{os.sep}clinical_summaries_df*\")[0])\n",
    "clinical_summaries_df"
   ]
  },
  {
   "cell_type": "code",
   "execution_count": 8,
   "id": "047e4f9a-f795-406f-892c-dc0b3262073c",
   "metadata": {},
   "outputs": [
    {
     "data": {
      "text/plain": [
       "['Sample ID', 'study_id', 'day', 'Date Sample', 'age']"
      ]
     },
     "execution_count": 8,
     "metadata": {},
     "output_type": "execute_result"
    }
   ],
   "source": [
    "clinical_summaries_df['Feature'].tolist()[:5]"
   ]
  },
  {
   "cell_type": "code",
   "execution_count": 9,
   "id": "b0dd156a-abee-425f-9b00-c7bc57d12056",
   "metadata": {},
   "outputs": [
    {
     "data": {
      "text/html": [
       "<div>\n",
       "<style scoped>\n",
       "    .dataframe tbody tr th:only-of-type {\n",
       "        vertical-align: middle;\n",
       "    }\n",
       "\n",
       "    .dataframe tbody tr th {\n",
       "        vertical-align: top;\n",
       "    }\n",
       "\n",
       "    .dataframe thead th {\n",
       "        text-align: right;\n",
       "    }\n",
       "</style>\n",
       "<table border=\"1\" class=\"dataframe\">\n",
       "  <thead>\n",
       "    <tr style=\"text-align: right;\">\n",
       "      <th></th>\n",
       "      <th>Feature</th>\n",
       "    </tr>\n",
       "  </thead>\n",
       "  <tbody>\n",
       "    <tr>\n",
       "      <th>10</th>\n",
       "      <td>clinical_frailty_scale</td>\n",
       "    </tr>\n",
       "    <tr>\n",
       "      <th>16</th>\n",
       "      <td>cholinesterase inhibitors</td>\n",
       "    </tr>\n",
       "    <tr>\n",
       "      <th>17</th>\n",
       "      <td>Calcium-channel blockers</td>\n",
       "    </tr>\n",
       "    <tr>\n",
       "      <th>58</th>\n",
       "      <td>Calcium Channel Modulators</td>\n",
       "    </tr>\n",
       "    <tr>\n",
       "      <th>59</th>\n",
       "      <td>Carbonic Anhydrase Inhibitor</td>\n",
       "    </tr>\n",
       "    <tr>\n",
       "      <th>60</th>\n",
       "      <td>Carboxamides</td>\n",
       "    </tr>\n",
       "    <tr>\n",
       "      <th>71</th>\n",
       "      <td>Chemotherapy Medication</td>\n",
       "    </tr>\n",
       "    <tr>\n",
       "      <th>81</th>\n",
       "      <td>COPD</td>\n",
       "    </tr>\n",
       "    <tr>\n",
       "      <th>86</th>\n",
       "      <td>Congestive heart failure</td>\n",
       "    </tr>\n",
       "    <tr>\n",
       "      <th>88</th>\n",
       "      <td>Cerebrovascular disease: CVA with mild or no r...</td>\n",
       "    </tr>\n",
       "    <tr>\n",
       "      <th>89</th>\n",
       "      <td>Chronic pulmonary disease</td>\n",
       "    </tr>\n",
       "    <tr>\n",
       "      <th>90</th>\n",
       "      <td>Connective tissue disease</td>\n",
       "    </tr>\n",
       "  </tbody>\n",
       "</table>\n",
       "</div>"
      ],
      "text/plain": [
       "                                              Feature\n",
       "10                             clinical_frailty_scale\n",
       "16                          cholinesterase inhibitors\n",
       "17                           Calcium-channel blockers\n",
       "58                         Calcium Channel Modulators\n",
       "59                       Carbonic Anhydrase Inhibitor\n",
       "60                                       Carboxamides\n",
       "71                            Chemotherapy Medication\n",
       "81                                               COPD\n",
       "86                           Congestive heart failure\n",
       "88  Cerebrovascular disease: CVA with mild or no r...\n",
       "89                          Chronic pulmonary disease\n",
       "90                          Connective tissue disease"
      ]
     },
     "execution_count": 9,
     "metadata": {},
     "output_type": "execute_result"
    }
   ],
   "source": [
    "clinical_summaries_df[['Feature']][clinical_summaries_df['Feature'].str.startswith(('c', 'C'))]"
   ]
  },
  {
   "cell_type": "code",
   "execution_count": 10,
   "id": "2997ecd9-868f-41cb-afce-4756762de9ab",
   "metadata": {},
   "outputs": [
    {
     "data": {
      "text/plain": [
       "['Faecalibacterium_prausnitzii',\n",
       " 'Fusicatenibacter_saccharivorans',\n",
       " 'Eubacterium_siraeum',\n",
       " 'Gemmiger_formicilis',\n",
       " 'Eubacterium_rectale']"
      ]
     },
     "execution_count": 10,
     "metadata": {},
     "output_type": "execute_result"
    }
   ],
   "source": [
    "bacteria_df = pd.read_csv(glob(f\"..{os.sep}data{os.sep}bacteria_df*\")[0])\n",
    "bacteria_df.species_name.tolist()[:5]"
   ]
  },
  {
   "cell_type": "code",
   "execution_count": 11,
   "id": "9940c398-8524-4ecd-a178-c214d07d1ed1",
   "metadata": {},
   "outputs": [
    {
     "data": {
      "text/plain": [
       "{'Eubacterium_rectale',\n",
       " 'Eubacterium_siraeum',\n",
       " 'Faecalibacterium_prausnitzii',\n",
       " 'Fusicatenibacter_saccharivorans',\n",
       " 'Gemmiger_formicilis'}"
      ]
     },
     "execution_count": 11,
     "metadata": {},
     "output_type": "execute_result"
    }
   ],
   "source": [
    "set(bacteria_df.species_name.tolist()[:5])"
   ]
  },
  {
   "cell_type": "code",
   "execution_count": 12,
   "id": "6c15693c-7560-40f1-b66e-10cee97224c6",
   "metadata": {},
   "outputs": [
    {
     "data": {
      "text/plain": [
       "Dementia Other\n",
       "0    335\n",
       "Name: count, dtype: int64"
      ]
     },
     "execution_count": 12,
     "metadata": {},
     "output_type": "execute_result"
    }
   ],
   "source": [
    "clinical_microbiome_df[\"Dementia Other\"].value_counts()"
   ]
  },
  {
   "cell_type": "code",
   "execution_count": 13,
   "id": "e703fd42-1a78-42dc-b3ae-3378690be420",
   "metadata": {},
   "outputs": [
    {
     "name": "stdout",
     "output_type": "stream",
     "text": [
      "cuda:0: ['machine_learning_experiment03.ipynb', 'machine_learning_experiment06.ipynb', 'machine_learning_experiment08.ipynb']\n",
      "cuda:1: ['machine_learning_experiment09.ipynb', 'machine_learning_experiment07.ipynb', 'machine_learning_experiment10.ipynb']\n",
      "cuda:2: ['machine_learning_experiment02.ipynb', 'machine_learning_experiment04.ipynb']\n",
      "cuda:3: ['machine_learning_experiment05.ipynb', 'machine_learning_experiment01.ipynb']\n",
      "Initial seed: 127573839\n",
      "Random Integers List: [315491657, 135304577, 1572185508, 1029933563, 1950160822, 563269619, 1573902777, 513873336, 442822283, 1770168448]\n",
      "Notebook 'machine_learning_experiment08.ipynb' is assigned to device: cuda:0 with seed 513873336.\n"
     ]
    }
   ],
   "source": [
    "import os\n",
    "from math import ceil\n",
    "from pynvml import nvmlInit, nvmlDeviceGetCount\n",
    "\n",
    "# Function to get the number of GPUs available\n",
    "def get_num_gpus():\n",
    "    try:\n",
    "        nvmlInit()\n",
    "        return nvmlDeviceGetCount()\n",
    "    except Exception as e:\n",
    "        print(f\"Error accessing NVML: {e}\")\n",
    "        return 0\n",
    "\n",
    "# Function to list all .ipynb files in the current directory\n",
    "def get_notebook_files():\n",
    "    return [f for f in os.listdir('.') if f.endswith('.ipynb')]\n",
    "\n",
    "# Function to evenly distribute files across GPUs\n",
    "def distribute_files_evenly(files, num_gpus):\n",
    "    \"\"\"\n",
    "    Distributes files evenly across all available GPUs.\n",
    "    \n",
    "    Args:\n",
    "        files (list): List of file names to distribute.\n",
    "        num_gpus (int): Number of GPUs available.\n",
    "        \n",
    "    Returns:\n",
    "        dict: Distribution of files per GPU.\n",
    "    \"\"\"\n",
    "    distribution = {f\"cuda:{i}\": [] for i in range(num_gpus)}\n",
    "    for idx, file in enumerate(files):\n",
    "        # Assign each file to a GPU in round-robin fashion\n",
    "        gpu_id = idx % num_gpus\n",
    "        distribution[f\"cuda:{gpu_id}\"].append(file)\n",
    "    return distribution\n",
    "\n",
    "# Function to get GPU ID for a specific notebook file\n",
    "def get_gpu_for_file(nb_fname, file_distribution):\n",
    "    \"\"\"\n",
    "    Finds the GPU ID for a given notebook file based on the distribution.\n",
    "    \n",
    "    Args:\n",
    "        nb_fname (str): Notebook file name to find the GPU for.\n",
    "        file_distribution (dict): Distribution of files per GPU.\n",
    "    \n",
    "    Returns:\n",
    "        str: GPU ID (e.g., \"cuda:0\") or \"Unassigned\" if the file is not found.\n",
    "    \"\"\"\n",
    "    for gpu, files in file_distribution.items():\n",
    "        if nb_fname in files:\n",
    "            return gpu\n",
    "    return \"cpu\"\n",
    "\n",
    "# Main logic for the notebook\n",
    "def assign_notebooks_to_gpus():\n",
    "    # Get the number of GPUs\n",
    "    num_gpus = get_num_gpus()\n",
    "    if num_gpus == 0:\n",
    "        print(\"No GPUs available. Using CPU for all tasks.\")\n",
    "        return {\"cpu\": get_notebook_files()}\n",
    "    \n",
    "    # Get the list of .ipynb files\n",
    "    notebook_files = get_notebook_files()\n",
    "    if not notebook_files:\n",
    "        print(\"No .ipynb files found in the current directory.\")\n",
    "        return {}\n",
    "    \n",
    "    # Evenly distribute files across GPUs\n",
    "    file_distribution = distribute_files_evenly(notebook_files, num_gpus)\n",
    "    \n",
    "    # Display the distribution in the notebook\n",
    "    for gpu, files in file_distribution.items():\n",
    "        print(f\"{gpu}: {files}\")\n",
    "    \n",
    "    return file_distribution\n",
    "\n",
    "# Run the assignment logic\n",
    "file_distribution = assign_notebooks_to_gpus()\n",
    "\n",
    "# Get the GPU ID for the specific notebook file\n",
    "device = get_gpu_for_file(f\"{nb_fname}.ipynb\", file_distribution)\n",
    "\n",
    "print(f\"Initial seed: {initial_seed}\")\n",
    "print(f\"Random Integers List: {random_integers_list}\")\n",
    "# Print the result\n",
    "print(f\"Notebook '{nb_fname}.ipynb' is assigned to device: {device} with seed {seed}.\")"
   ]
  },
  {
   "cell_type": "code",
   "execution_count": 14,
   "id": "aa8502c3-c35f-4798-9c31-429e329e307a",
   "metadata": {
    "scrolled": true
   },
   "outputs": [
    {
     "name": "stdout",
     "output_type": "stream",
     "text": [
      "Experiment number: 8 | Seed number: 513873336\n",
      "No overlap Study ID found.\n",
      "No overlap Sample ID found.\n"
     ]
    },
    {
     "name": "stderr",
     "output_type": "stream",
     "text": [
      "[I 2024-12-05 12:14:51,671] A new study created in memory with name: no-name-77957ac8-49e2-4125-be04-2316bf2a04ca\n"
     ]
    },
    {
     "name": "stdout",
     "output_type": "stream",
     "text": [
      "Seed in the model 513873336 on Device cuda:0\n"
     ]
    },
    {
     "name": "stderr",
     "output_type": "stream",
     "text": [
      "[I 2024-12-05 12:14:53,295] Trial 0 finished with value: 0.8556385517169831 and parameters: {'threshold': '0.5*mean', 'max_features': 651, 'norm_order': 2, 'n_estimators': 110, 'max_depth': 26, 'min_samples_split': 5, 'min_samples_leaf': 1, 'max_features_rf': 0.5826091998727425}. Best is trial 0 with value: 0.8556385517169831.\n"
     ]
    },
    {
     "name": "stdout",
     "output_type": "stream",
     "text": [
      "Seed in the model 513873336 on Device cuda:0\n"
     ]
    },
    {
     "name": "stderr",
     "output_type": "stream",
     "text": [
      "[I 2024-12-05 12:14:54,743] Trial 1 finished with value: 0.8644857414711375 and parameters: {'threshold': 'mean', 'max_features': 188, 'norm_order': 2, 'n_estimators': 144, 'max_depth': 15, 'min_samples_split': 8, 'min_samples_leaf': 2, 'max_features_rf': 0.8515140372257379}. Best is trial 1 with value: 0.8644857414711375.\n"
     ]
    },
    {
     "name": "stdout",
     "output_type": "stream",
     "text": [
      "Seed in the model 513873336 on Device cuda:0\n"
     ]
    },
    {
     "name": "stderr",
     "output_type": "stream",
     "text": [
      "[I 2024-12-05 12:14:57,043] Trial 2 finished with value: 0.8398078529657477 and parameters: {'threshold': 'very_low', 'max_features': 463, 'norm_order': 1, 'n_estimators': 193, 'max_depth': 26, 'min_samples_split': 5, 'min_samples_leaf': 4, 'max_features_rf': 0.6817917456396037}. Best is trial 1 with value: 0.8644857414711375.\n"
     ]
    },
    {
     "name": "stdout",
     "output_type": "stream",
     "text": [
      "Seed in the model 513873336 on Device cuda:0\n"
     ]
    },
    {
     "name": "stderr",
     "output_type": "stream",
     "text": [
      "[I 2024-12-05 12:14:58,525] Trial 3 finished with value: 0.8406076900906877 and parameters: {'threshold': '0.5*mean', 'max_features': 903, 'norm_order': 2, 'n_estimators': 136, 'max_depth': 6, 'min_samples_split': 3, 'min_samples_leaf': 5, 'max_features_rf': 0.7678918530187617}. Best is trial 1 with value: 0.8644857414711375.\n"
     ]
    },
    {
     "name": "stdout",
     "output_type": "stream",
     "text": [
      "Seed in the model 513873336 on Device cuda:0\n"
     ]
    },
    {
     "name": "stderr",
     "output_type": "stream",
     "text": [
      "[I 2024-12-05 12:14:59,731] Trial 4 finished with value: 0.8425896390808671 and parameters: {'threshold': '0.5*mean', 'max_features': 165, 'norm_order': 2, 'n_estimators': 101, 'max_depth': 29, 'min_samples_split': 6, 'min_samples_leaf': 4, 'max_features_rf': 0.515306884974108}. Best is trial 1 with value: 0.8644857414711375.\n"
     ]
    },
    {
     "name": "stdout",
     "output_type": "stream",
     "text": [
      "Seed in the model 513873336 on Device cuda:0\n"
     ]
    },
    {
     "name": "stderr",
     "output_type": "stream",
     "text": [
      "[I 2024-12-05 12:15:01,827] Trial 5 finished with value: 0.8659003831417623 and parameters: {'threshold': 'median', 'max_features': 858, 'norm_order': 1, 'n_estimators': 104, 'max_depth': 15, 'min_samples_split': 2, 'min_samples_leaf': 2, 'max_features_rf': 0.8492662696381121}. Best is trial 5 with value: 0.8659003831417623.\n"
     ]
    },
    {
     "name": "stdout",
     "output_type": "stream",
     "text": [
      "Seed in the model 513873336 on Device cuda:0\n"
     ]
    },
    {
     "name": "stderr",
     "output_type": "stream",
     "text": [
      "[I 2024-12-05 12:15:04,147] Trial 6 finished with value: 0.8785279697560399 and parameters: {'threshold': 'very_low', 'max_features': 666, 'norm_order': 2, 'n_estimators': 112, 'max_depth': 7, 'min_samples_split': 2, 'min_samples_leaf': 1, 'max_features_rf': 0.9526256767765713}. Best is trial 6 with value: 0.8785279697560399.\n"
     ]
    },
    {
     "name": "stdout",
     "output_type": "stream",
     "text": [
      "Seed in the model 513873336 on Device cuda:0\n"
     ]
    },
    {
     "name": "stderr",
     "output_type": "stream",
     "text": [
      "[I 2024-12-05 12:15:08,426] Trial 7 finished with value: 0.833033633033633 and parameters: {'threshold': 'median', 'max_features': 489, 'norm_order': 1, 'n_estimators': 285, 'max_depth': 27, 'min_samples_split': 6, 'min_samples_leaf': 3, 'max_features_rf': 0.9040549196333642}. Best is trial 6 with value: 0.8785279697560399.\n"
     ]
    },
    {
     "name": "stdout",
     "output_type": "stream",
     "text": [
      "Seed in the model 513873336 on Device cuda:0\n"
     ]
    },
    {
     "name": "stderr",
     "output_type": "stream",
     "text": [
      "[I 2024-12-05 12:15:09,722] Trial 8 finished with value: 0.8213125406107862 and parameters: {'threshold': 'mean', 'max_features': 934, 'norm_order': 1, 'n_estimators': 69, 'max_depth': 5, 'min_samples_split': 4, 'min_samples_leaf': 3, 'max_features_rf': 0.6850578806554768}. Best is trial 6 with value: 0.8785279697560399.\n"
     ]
    },
    {
     "name": "stdout",
     "output_type": "stream",
     "text": [
      "Seed in the model 513873336 on Device cuda:0\n"
     ]
    },
    {
     "name": "stderr",
     "output_type": "stream",
     "text": [
      "[I 2024-12-05 12:15:12,326] Trial 9 finished with value: 0.8564894225271584 and parameters: {'threshold': 'mean', 'max_features': 684, 'norm_order': 2, 'n_estimators': 255, 'max_depth': 7, 'min_samples_split': 8, 'min_samples_leaf': 1, 'max_features_rf': 0.831795140017846}. Best is trial 6 with value: 0.8785279697560399.\n"
     ]
    },
    {
     "name": "stdout",
     "output_type": "stream",
     "text": [
      "Seed in the model 513873336 on Device cuda:0\n"
     ]
    },
    {
     "name": "stderr",
     "output_type": "stream",
     "text": [
      "[I 2024-12-05 12:15:15,218] Trial 10 finished with value: 0.8672580143168377 and parameters: {'threshold': 'very_low', 'max_features': 339, 'norm_order': 2, 'n_estimators': 197, 'max_depth': 10, 'min_samples_split': 10, 'min_samples_leaf': 2, 'max_features_rf': 0.9590228891513747}. Best is trial 6 with value: 0.8785279697560399.\n"
     ]
    },
    {
     "name": "stdout",
     "output_type": "stream",
     "text": [
      "Seed in the model 513873336 on Device cuda:0\n"
     ]
    },
    {
     "name": "stderr",
     "output_type": "stream",
     "text": [
      "[I 2024-12-05 12:15:17,881] Trial 11 finished with value: 0.8503496503496503 and parameters: {'threshold': 'very_low', 'max_features': 307, 'norm_order': 2, 'n_estimators': 197, 'max_depth': 11, 'min_samples_split': 10, 'min_samples_leaf': 2, 'max_features_rf': 0.9730984517887151}. Best is trial 6 with value: 0.8785279697560399.\n"
     ]
    },
    {
     "name": "stdout",
     "output_type": "stream",
     "text": [
      "Seed in the model 513873336 on Device cuda:0\n"
     ]
    },
    {
     "name": "stderr",
     "output_type": "stream",
     "text": [
      "[I 2024-12-05 12:15:21,198] Trial 12 finished with value: 0.8631088210035579 and parameters: {'threshold': 'very_low', 'max_features': 344, 'norm_order': 2, 'n_estimators': 234, 'max_depth': 10, 'min_samples_split': 10, 'min_samples_leaf': 1, 'max_features_rf': 0.995744596411181}. Best is trial 6 with value: 0.8785279697560399.\n"
     ]
    },
    {
     "name": "stdout",
     "output_type": "stream",
     "text": [
      "Seed in the model 513873336 on Device cuda:0\n"
     ]
    },
    {
     "name": "stderr",
     "output_type": "stream",
     "text": [
      "[I 2024-12-05 12:15:22,685] Trial 13 finished with value: 0.8619916991317189 and parameters: {'threshold': '1.5*mean', 'max_features': 692, 'norm_order': 2, 'n_estimators': 161, 'max_depth': 20, 'min_samples_split': 8, 'min_samples_leaf': 2, 'max_features_rf': 0.9051156202380405}. Best is trial 6 with value: 0.8785279697560399.\n"
     ]
    },
    {
     "name": "stdout",
     "output_type": "stream",
     "text": [
      "Seed in the model 513873336 on Device cuda:0\n"
     ]
    },
    {
     "name": "stderr",
     "output_type": "stream",
     "text": [
      "[I 2024-12-05 12:15:24,552] Trial 14 finished with value: 0.8685057471264369 and parameters: {'threshold': 'very_low', 'max_features': 61, 'norm_order': 2, 'n_estimators': 216, 'max_depth': 11, 'min_samples_split': 2, 'min_samples_leaf': 1, 'max_features_rf': 0.9547239837152547}. Best is trial 6 with value: 0.8785279697560399.\n"
     ]
    },
    {
     "name": "stdout",
     "output_type": "stream",
     "text": [
      "Seed in the model 513873336 on Device cuda:0\n"
     ]
    },
    {
     "name": "stderr",
     "output_type": "stream",
     "text": [
      "[I 2024-12-05 12:15:25,390] Trial 15 finished with value: 0.8315597737513182 and parameters: {'threshold': 'very_low', 'max_features': 93, 'norm_order': 2, 'n_estimators': 56, 'max_depth': 3, 'min_samples_split': 3, 'min_samples_leaf': 1, 'max_features_rf': 0.9137227857340798}. Best is trial 6 with value: 0.8785279697560399.\n"
     ]
    },
    {
     "name": "stdout",
     "output_type": "stream",
     "text": [
      "Seed in the model 513873336 on Device cuda:0\n"
     ]
    },
    {
     "name": "stderr",
     "output_type": "stream",
     "text": [
      "[I 2024-12-05 12:15:27,629] Trial 16 finished with value: 0.843337480129933 and parameters: {'threshold': '1.5*mean', 'max_features': 1033, 'norm_order': 2, 'n_estimators': 236, 'max_depth': 19, 'min_samples_split': 2, 'min_samples_leaf': 3, 'max_features_rf': 0.7613651417706558}. Best is trial 6 with value: 0.8785279697560399.\n"
     ]
    },
    {
     "name": "stdout",
     "output_type": "stream",
     "text": [
      "Seed in the model 513873336 on Device cuda:0\n"
     ]
    },
    {
     "name": "stderr",
     "output_type": "stream",
     "text": [
      "[I 2024-12-05 12:15:29,665] Trial 17 finished with value: 0.8735717232024017 and parameters: {'threshold': 'very_low', 'max_features': 39, 'norm_order': 1, 'n_estimators': 300, 'max_depth': 12, 'min_samples_split': 3, 'min_samples_leaf': 1, 'max_features_rf': 0.7972434181088239}. Best is trial 6 with value: 0.8785279697560399.\n"
     ]
    },
    {
     "name": "stdout",
     "output_type": "stream",
     "text": [
      "Seed in the model 513873336 on Device cuda:0\n"
     ]
    },
    {
     "name": "stderr",
     "output_type": "stream",
     "text": [
      "[I 2024-12-05 12:15:33,108] Trial 18 finished with value: 0.8266743060860708 and parameters: {'threshold': 'very_low', 'max_features': 579, 'norm_order': 1, 'n_estimators': 291, 'max_depth': 18, 'min_samples_split': 4, 'min_samples_leaf': 4, 'max_features_rf': 0.6779314002588399}. Best is trial 6 with value: 0.8785279697560399.\n"
     ]
    },
    {
     "name": "stdout",
     "output_type": "stream",
     "text": [
      "Seed in the model 513873336 on Device cuda:0\n"
     ]
    },
    {
     "name": "stderr",
     "output_type": "stream",
     "text": [
      "[I 2024-12-05 12:15:34,995] Trial 19 finished with value: 0.8529200359389039 and parameters: {'threshold': 'very_low', 'max_features': 799, 'norm_order': 1, 'n_estimators': 79, 'max_depth': 14, 'min_samples_split': 3, 'min_samples_leaf': 1, 'max_features_rf': 0.7886290255506212}. Best is trial 6 with value: 0.8785279697560399.\n"
     ]
    },
    {
     "name": "stdout",
     "output_type": "stream",
     "text": [
      "Seed in the model 513873336 on Device cuda:0\n"
     ]
    },
    {
     "name": "stderr",
     "output_type": "stream",
     "text": [
      "[I 2024-12-05 12:15:36,112] Trial 20 finished with value: 0.8210750034279446 and parameters: {'threshold': '1.5*mean', 'max_features': 427, 'norm_order': 1, 'n_estimators': 137, 'max_depth': 8, 'min_samples_split': 4, 'min_samples_leaf': 5, 'max_features_rf': 0.7174283016121177}. Best is trial 6 with value: 0.8785279697560399.\n"
     ]
    },
    {
     "name": "stdout",
     "output_type": "stream",
     "text": [
      "Seed in the model 513873336 on Device cuda:0\n"
     ]
    },
    {
     "name": "stderr",
     "output_type": "stream",
     "text": [
      "[I 2024-12-05 12:15:37,603] Trial 21 finished with value: 0.6972850678733032 and parameters: {'threshold': 'very_low', 'max_features': 4, 'norm_order': 1, 'n_estimators': 263, 'max_depth': 12, 'min_samples_split': 2, 'min_samples_leaf': 1, 'max_features_rf': 0.9427274861087638}. Best is trial 6 with value: 0.8785279697560399.\n"
     ]
    },
    {
     "name": "stdout",
     "output_type": "stream",
     "text": [
      "Seed in the model 513873336 on Device cuda:0\n"
     ]
    },
    {
     "name": "stderr",
     "output_type": "stream",
     "text": [
      "[I 2024-12-05 12:15:39,133] Trial 22 finished with value: 0.8217749179636656 and parameters: {'threshold': 'very_low', 'max_features': 51, 'norm_order': 2, 'n_estimators': 220, 'max_depth': 3, 'min_samples_split': 2, 'min_samples_leaf': 1, 'max_features_rf': 0.8242520118226004}. Best is trial 6 with value: 0.8785279697560399.\n"
     ]
    },
    {
     "name": "stdout",
     "output_type": "stream",
     "text": [
      "Seed in the model 513873336 on Device cuda:0\n"
     ]
    },
    {
     "name": "stderr",
     "output_type": "stream",
     "text": [
      "[I 2024-12-05 12:15:41,097] Trial 23 finished with value: 0.8655443322109989 and parameters: {'threshold': 'very_low', 'max_features': 206, 'norm_order': 2, 'n_estimators': 171, 'max_depth': 9, 'min_samples_split': 3, 'min_samples_leaf': 2, 'max_features_rf': 0.8797446300901821}. Best is trial 6 with value: 0.8785279697560399.\n"
     ]
    },
    {
     "name": "stdout",
     "output_type": "stream",
     "text": [
      "Seed in the model 513873336 on Device cuda:0\n"
     ]
    },
    {
     "name": "stderr",
     "output_type": "stream",
     "text": [
      "[I 2024-12-05 12:15:43,243] Trial 24 finished with value: 0.8543123543123543 and parameters: {'threshold': 'median', 'max_features': 112, 'norm_order': 1, 'n_estimators': 269, 'max_depth': 13, 'min_samples_split': 2, 'min_samples_leaf': 1, 'max_features_rf': 0.6280028590321675}. Best is trial 6 with value: 0.8785279697560399.\n"
     ]
    },
    {
     "name": "stdout",
     "output_type": "stream",
     "text": [
      "Seed in the model 513873336 on Device cuda:0\n"
     ]
    },
    {
     "name": "stderr",
     "output_type": "stream",
     "text": [
      "[I 2024-12-05 12:15:47,255] Trial 25 finished with value: 0.8535938903863433 and parameters: {'threshold': 'very_low', 'max_features': 780, 'norm_order': 2, 'n_estimators': 221, 'max_depth': 21, 'min_samples_split': 3, 'min_samples_leaf': 2, 'max_features_rf': 0.940195683187235}. Best is trial 6 with value: 0.8785279697560399.\n"
     ]
    },
    {
     "name": "stdout",
     "output_type": "stream",
     "text": [
      "Seed in the model 513873336 on Device cuda:0\n"
     ]
    },
    {
     "name": "stderr",
     "output_type": "stream",
     "text": [
      "[I 2024-12-05 12:15:49,376] Trial 26 finished with value: 0.855242242034695 and parameters: {'threshold': 'very_low', 'max_features': 556, 'norm_order': 1, 'n_estimators': 117, 'max_depth': 16, 'min_samples_split': 5, 'min_samples_leaf': 1, 'max_features_rf': 0.9999014117118101}. Best is trial 6 with value: 0.8785279697560399.\n"
     ]
    },
    {
     "name": "stdout",
     "output_type": "stream",
     "text": [
      "Seed in the model 513873336 on Device cuda:0\n"
     ]
    },
    {
     "name": "stderr",
     "output_type": "stream",
     "text": [
      "[I 2024-12-05 12:15:53,193] Trial 27 finished with value: 0.876056159075027 and parameters: {'threshold': 'very_low', 'max_features': 243, 'norm_order': 2, 'n_estimators': 295, 'max_depth': 23, 'min_samples_split': 4, 'min_samples_leaf': 2, 'max_features_rf': 0.8068084290136959}. Best is trial 6 with value: 0.8785279697560399.\n"
     ]
    },
    {
     "name": "stdout",
     "output_type": "stream",
     "text": [
      "Seed in the model 513873336 on Device cuda:0\n"
     ]
    },
    {
     "name": "stderr",
     "output_type": "stream",
     "text": [
      "[I 2024-12-05 12:15:56,454] Trial 28 finished with value: 0.8685573685573685 and parameters: {'threshold': 'very_low', 'max_features': 295, 'norm_order': 1, 'n_estimators': 300, 'max_depth': 23, 'min_samples_split': 4, 'min_samples_leaf': 2, 'max_features_rf': 0.8032053643745551}. Best is trial 6 with value: 0.8785279697560399.\n"
     ]
    },
    {
     "name": "stdout",
     "output_type": "stream",
     "text": [
      "Seed in the model 513873336 on Device cuda:0\n"
     ]
    },
    {
     "name": "stderr",
     "output_type": "stream",
     "text": [
      "[I 2024-12-05 12:15:59,464] Trial 29 finished with value: 0.8691256693859165 and parameters: {'threshold': '0.5*mean', 'max_features': 612, 'norm_order': 2, 'n_estimators': 278, 'max_depth': 17, 'min_samples_split': 5, 'min_samples_leaf': 2, 'max_features_rf': 0.7238081772290399}. Best is trial 6 with value: 0.8785279697560399.\n"
     ]
    },
    {
     "name": "stdout",
     "output_type": "stream",
     "text": [
      "Seed in the model 513873336 on Device cuda:0\n"
     ]
    },
    {
     "name": "stderr",
     "output_type": "stream",
     "text": [
      "[I 2024-12-05 12:16:01,133] Trial 30 finished with value: 0.850095728527101 and parameters: {'threshold': '1.5*mean', 'max_features': 249, 'norm_order': 2, 'n_estimators': 250, 'max_depth': 24, 'min_samples_split': 7, 'min_samples_leaf': 3, 'max_features_rf': 0.615256640980316}. Best is trial 6 with value: 0.8785279697560399.\n"
     ]
    },
    {
     "name": "stdout",
     "output_type": "stream",
     "text": [
      "Seed in the model 513873336 on Device cuda:0\n"
     ]
    },
    {
     "name": "stderr",
     "output_type": "stream",
     "text": [
      "[I 2024-12-05 12:16:03,937] Trial 31 finished with value: 0.8743284190156086 and parameters: {'threshold': '0.5*mean', 'max_features': 624, 'norm_order': 2, 'n_estimators': 286, 'max_depth': 17, 'min_samples_split': 5, 'min_samples_leaf': 2, 'max_features_rf': 0.7218686988213345}. Best is trial 6 with value: 0.8785279697560399.\n"
     ]
    },
    {
     "name": "stdout",
     "output_type": "stream",
     "text": [
      "Seed in the model 513873336 on Device cuda:0\n"
     ]
    },
    {
     "name": "stderr",
     "output_type": "stream",
     "text": [
      "[I 2024-12-05 12:16:06,093] Trial 32 finished with value: 0.8457206082992247 and parameters: {'threshold': '0.5*mean', 'max_features': 409, 'norm_order': 2, 'n_estimators': 298, 'max_depth': 23, 'min_samples_split': 5, 'min_samples_leaf': 3, 'max_features_rf': 0.8743374222805645}. Best is trial 6 with value: 0.8785279697560399.\n"
     ]
    },
    {
     "name": "stdout",
     "output_type": "stream",
     "text": [
      "Seed in the model 513873336 on Device cuda:0\n"
     ]
    },
    {
     "name": "stderr",
     "output_type": "stream",
     "text": [
      "[I 2024-12-05 12:16:07,917] Trial 33 finished with value: 0.868883772917605 and parameters: {'threshold': '0.5*mean', 'max_features': 728, 'norm_order': 2, 'n_estimators': 274, 'max_depth': 30, 'min_samples_split': 4, 'min_samples_leaf': 2, 'max_features_rf': 0.7211907330467827}. Best is trial 6 with value: 0.8785279697560399.\n"
     ]
    },
    {
     "name": "stdout",
     "output_type": "stream",
     "text": [
      "Seed in the model 513873336 on Device cuda:0\n"
     ]
    },
    {
     "name": "stderr",
     "output_type": "stream",
     "text": [
      "[I 2024-12-05 12:16:10,566] Trial 34 finished with value: 0.8484848484848485 and parameters: {'threshold': '0.5*mean', 'max_features': 523, 'norm_order': 2, 'n_estimators': 250, 'max_depth': 21, 'min_samples_split': 3, 'min_samples_leaf': 1, 'max_features_rf': 0.7964303319498021}. Best is trial 6 with value: 0.8785279697560399.\n"
     ]
    },
    {
     "name": "stdout",
     "output_type": "stream",
     "text": [
      "Seed in the model 513873336 on Device cuda:0\n"
     ]
    },
    {
     "name": "stderr",
     "output_type": "stream",
     "text": [
      "[I 2024-12-05 12:16:12,435] Trial 35 finished with value: 0.8721896221399698 and parameters: {'threshold': 'mean', 'max_features': 166, 'norm_order': 2, 'n_estimators': 284, 'max_depth': 13, 'min_samples_split': 6, 'min_samples_leaf': 2, 'max_features_rf': 0.6458759288295732}. Best is trial 6 with value: 0.8785279697560399.\n"
     ]
    },
    {
     "name": "stdout",
     "output_type": "stream",
     "text": [
      "Seed in the model 513873336 on Device cuda:0\n"
     ]
    },
    {
     "name": "stderr",
     "output_type": "stream",
     "text": [
      "[I 2024-12-05 12:16:13,919] Trial 36 finished with value: 0.8407621227093843 and parameters: {'threshold': '0.5*mean', 'max_features': 634, 'norm_order': 2, 'n_estimators': 116, 'max_depth': 5, 'min_samples_split': 7, 'min_samples_leaf': 1, 'max_features_rf': 0.5272089826657635}. Best is trial 6 with value: 0.8785279697560399.\n"
     ]
    },
    {
     "name": "stdout",
     "output_type": "stream",
     "text": [
      "Seed in the model 513873336 on Device cuda:0\n"
     ]
    },
    {
     "name": "stderr",
     "output_type": "stream",
     "text": [
      "[I 2024-12-05 12:16:15,291] Trial 37 finished with value: 0.8834281243417291 and parameters: {'threshold': 'median', 'max_features': 399, 'norm_order': 2, 'n_estimators': 151, 'max_depth': 27, 'min_samples_split': 5, 'min_samples_leaf': 2, 'max_features_rf': 0.5647014310179763}. Best is trial 37 with value: 0.8834281243417291.\n"
     ]
    },
    {
     "name": "stdout",
     "output_type": "stream",
     "text": [
      "Seed in the model 513873336 on Device cuda:0\n"
     ]
    },
    {
     "name": "stderr",
     "output_type": "stream",
     "text": [
      "[I 2024-12-05 12:16:16,533] Trial 38 finished with value: 0.8284832451499118 and parameters: {'threshold': 'median', 'max_features': 460, 'norm_order': 2, 'n_estimators': 131, 'max_depth': 26, 'min_samples_split': 7, 'min_samples_leaf': 3, 'max_features_rf': 0.5464478572657354}. Best is trial 37 with value: 0.8834281243417291.\n"
     ]
    },
    {
     "name": "stdout",
     "output_type": "stream",
     "text": [
      "Seed in the model 513873336 on Device cuda:0\n"
     ]
    },
    {
     "name": "stderr",
     "output_type": "stream",
     "text": [
      "[I 2024-12-05 12:16:17,505] Trial 39 finished with value: 0.8603495270161936 and parameters: {'threshold': 'median', 'max_features': 394, 'norm_order': 2, 'n_estimators': 96, 'max_depth': 28, 'min_samples_split': 5, 'min_samples_leaf': 2, 'max_features_rf': 0.5789851773958339}. Best is trial 37 with value: 0.8834281243417291.\n"
     ]
    },
    {
     "name": "stdout",
     "output_type": "stream",
     "text": [
      "Seed in the model 513873336 on Device cuda:0\n"
     ]
    },
    {
     "name": "stderr",
     "output_type": "stream",
     "text": [
      "[I 2024-12-05 12:16:19,003] Trial 40 finished with value: 0.838599886266222 and parameters: {'threshold': 'median', 'max_features': 742, 'norm_order': 2, 'n_estimators': 152, 'max_depth': 24, 'min_samples_split': 6, 'min_samples_leaf': 3, 'max_features_rf': 0.5554183233134116}. Best is trial 37 with value: 0.8834281243417291.\n"
     ]
    },
    {
     "name": "stdout",
     "output_type": "stream",
     "text": [
      "Seed in the model 513873336 on Device cuda:0\n"
     ]
    },
    {
     "name": "stderr",
     "output_type": "stream",
     "text": [
      "[I 2024-12-05 12:16:20,447] Trial 41 finished with value: 0.8619916991317189 and parameters: {'threshold': 'median', 'max_features': 219, 'norm_order': 2, 'n_estimators': 175, 'max_depth': 27, 'min_samples_split': 4, 'min_samples_leaf': 2, 'max_features_rf': 0.7418660877340577}. Best is trial 37 with value: 0.8834281243417291.\n"
     ]
    },
    {
     "name": "stdout",
     "output_type": "stream",
     "text": [
      "Seed in the model 513873336 on Device cuda:0\n"
     ]
    },
    {
     "name": "stderr",
     "output_type": "stream",
     "text": [
      "[I 2024-12-05 12:16:21,246] Trial 42 finished with value: 0.8751367631692175 and parameters: {'threshold': '0.5*mean', 'max_features': 130, 'norm_order': 2, 'n_estimators': 84, 'max_depth': 16, 'min_samples_split': 6, 'min_samples_leaf': 2, 'max_features_rf': 0.8636825622440161}. Best is trial 37 with value: 0.8834281243417291.\n"
     ]
    },
    {
     "name": "stdout",
     "output_type": "stream",
     "text": [
      "Seed in the model 513873336 on Device cuda:0\n"
     ]
    },
    {
     "name": "stderr",
     "output_type": "stream",
     "text": [
      "[I 2024-12-05 12:16:22,064] Trial 43 finished with value: 0.8672936259143156 and parameters: {'threshold': '0.5*mean', 'max_features': 519, 'norm_order': 2, 'n_estimators': 96, 'max_depth': 16, 'min_samples_split': 6, 'min_samples_leaf': 2, 'max_features_rf': 0.8618109295497695}. Best is trial 37 with value: 0.8834281243417291.\n"
     ]
    },
    {
     "name": "stdout",
     "output_type": "stream",
     "text": [
      "Seed in the model 513873336 on Device cuda:0\n"
     ]
    },
    {
     "name": "stderr",
     "output_type": "stream",
     "text": [
      "[I 2024-12-05 12:16:22,980] Trial 44 finished with value: 0.8474180100725319 and parameters: {'threshold': '0.5*mean', 'max_features': 148, 'norm_order': 2, 'n_estimators': 124, 'max_depth': 30, 'min_samples_split': 5, 'min_samples_leaf': 4, 'max_features_rf': 0.5005625008199482}. Best is trial 37 with value: 0.8834281243417291.\n"
     ]
    },
    {
     "name": "stdout",
     "output_type": "stream",
     "text": [
      "Seed in the model 513873336 on Device cuda:0\n"
     ]
    },
    {
     "name": "stderr",
     "output_type": "stream",
     "text": [
      "[I 2024-12-05 12:16:23,665] Trial 45 finished with value: 0.8617498026634074 and parameters: {'threshold': 'mean', 'max_features': 272, 'norm_order': 2, 'n_estimators': 76, 'max_depth': 25, 'min_samples_split': 7, 'min_samples_leaf': 2, 'max_features_rf': 0.8269972602454866}. Best is trial 37 with value: 0.8834281243417291.\n"
     ]
    },
    {
     "name": "stdout",
     "output_type": "stream",
     "text": [
      "Seed in the model 513873336 on Device cuda:0\n"
     ]
    },
    {
     "name": "stderr",
     "output_type": "stream",
     "text": [
      "[I 2024-12-05 12:16:24,537] Trial 46 finished with value: 0.8668320633232914 and parameters: {'threshold': '0.5*mean', 'max_features': 355, 'norm_order': 2, 'n_estimators': 86, 'max_depth': 22, 'min_samples_split': 6, 'min_samples_leaf': 3, 'max_features_rf': 0.8923350174823548}. Best is trial 37 with value: 0.8834281243417291.\n"
     ]
    },
    {
     "name": "stdout",
     "output_type": "stream",
     "text": [
      "Seed in the model 513873336 on Device cuda:0\n"
     ]
    },
    {
     "name": "stderr",
     "output_type": "stream",
     "text": [
      "[I 2024-12-05 12:16:25,231] Trial 47 finished with value: 0.846206768807388 and parameters: {'threshold': '0.5*mean', 'max_features': 675, 'norm_order': 2, 'n_estimators': 61, 'max_depth': 19, 'min_samples_split': 5, 'min_samples_leaf': 2, 'max_features_rf': 0.7716077777915824}. Best is trial 37 with value: 0.8834281243417291.\n"
     ]
    },
    {
     "name": "stdout",
     "output_type": "stream",
     "text": [
      "Seed in the model 513873336 on Device cuda:0\n"
     ]
    },
    {
     "name": "stderr",
     "output_type": "stream",
     "text": [
      "[I 2024-12-05 12:16:27,096] Trial 48 finished with value: 0.8525375209585736 and parameters: {'threshold': 'median', 'max_features': 591, 'norm_order': 2, 'n_estimators': 153, 'max_depth': 27, 'min_samples_split': 9, 'min_samples_leaf': 3, 'max_features_rf': 0.9251741953866395}. Best is trial 37 with value: 0.8834281243417291.\n"
     ]
    },
    {
     "name": "stdout",
     "output_type": "stream",
     "text": [
      "Seed in the model 513873336 on Device cuda:0\n"
     ]
    },
    {
     "name": "stderr",
     "output_type": "stream",
     "text": [
      "[I 2024-12-05 12:16:28,044] Trial 49 finished with value: 0.875495300782657 and parameters: {'threshold': '0.5*mean', 'max_features': 874, 'norm_order': 2, 'n_estimators': 107, 'max_depth': 28, 'min_samples_split': 6, 'min_samples_leaf': 2, 'max_features_rf': 0.9721573775896907}. Best is trial 37 with value: 0.8834281243417291.\n"
     ]
    },
    {
     "name": "stdout",
     "output_type": "stream",
     "text": [
      "Best Parameters: {'threshold': 'median', 'max_features': 399, 'norm_order': 2, 'n_estimators': 151, 'max_depth': 27, 'min_samples_split': 5, 'min_samples_leaf': 2, 'max_features_rf': 0.5647014310179763}\n",
      "\n",
      "Test Metrics:\n",
      "ROC AUC: 0.6669230769230768\n",
      "Accuracy: 0.6493506493506493\n",
      "F1 Score: 0.37209302325581395\n",
      "Confusion Matrix:\n",
      "[[42 10]\n",
      " [17  8]]\n"
     ]
    },
    {
     "data": {
      "image/png": "[encoded data removed]",
      "text/plain": [
       "<Figure size 640x480 with 2 Axes>"
      ]
     },
     "metadata": {},
     "output_type": "display_data"
    },
    {
     "name": "stdout",
     "output_type": "stream",
     "text": [
      "\n",
      "Classification Report:\n",
      "              precision    recall  f1-score   support\n",
      "\n",
      "    Negative       0.71      0.81      0.76        52\n",
      "    Positive       0.44      0.32      0.37        25\n",
      "\n",
      "    accuracy                           0.65        77\n",
      "   macro avg       0.58      0.56      0.56        77\n",
      "weighted avg       0.63      0.65      0.63        77\n",
      "\n",
      "Number of selected features: 399\n"
     ]
    },
    {
     "data": {
      "image/png": "[encoded data removed]",
      "text/plain": [
       "<Figure size 800x950 with 2 Axes>"
      ]
     },
     "metadata": {},
     "output_type": "display_data"
    },
    {
     "name": "stdout",
     "output_type": "stream",
     "text": [
      "Overlap bacteria found: {'Veillonella_dispar', 'Oscillospiraceae_bacterium_NSJ_64', 'Bacteroides_stercoris', 'Ruminococcaceae_bacterium_AM07_15', 'Lactobacillus_gasseri', 'GGB4585_SGB6340', 'Intestinibacter_SGB6139', 'Oscillibacter_sp_ER4', 'Oribacterium_sinus', 'GGB3571_SGB4778', 'Lancefieldella_rimae', 'Pseudoflavonifractor_SGB15156', 'Alistipes_ihumii', 'Clostridiaceae_unclassified_SGB4769', 'GGB9694_SGB15204', 'Lachnospiraceae_bacterium', 'Eubacterium_ventriosum', 'GGB9634_SGB15093', 'Trueperella_pyogenes', 'GGB9699_SGB15216', 'Rothia_aeria', 'Intestinibacter_bartlettii', 'Porphyromonas_pasteri', 'GGB29535_SGB42321', 'Neisseria_sicca', 'Gemmiger_formicilis', 'Enterococcus_faecium', 'Streptococcus_parasanguinis', 'Roseburia_sp_AF02_12', 'GGB9342_SGB14306', 'Ruminococcus_lactaris', 'Alistipes_putredinis', 'Intestinimonas_massiliensis', 'Bacteroides_xylanisolvens', 'Bacteroides_cellulosilyticus', 'Ruminococcaceae_unclassified_SGB15234', 'Faecalibacillus_intestinalis', 'Blautia_sp_AF19_10LB', 'Bilophila_wadsworthia', 'Eggerthellaceae_unclassified_SGB14341', 'Senegalimassilia_anaerobia', 'Coprobacter_fastidiosus', 'Actinomyces_dentalis', 'Clostridium_sp_AF15_49', 'Lacrimispora_amygdalina', 'Anaerobutyricum_hallii', 'Methanobrevibacter_smithii', 'Prevotella_buccae', 'Clostridium_fessum', 'Coprobacter_secundus', 'Lachnospira_SGB5076', 'Escherichia_coli', 'Erysipelotrichaceae_bacterium', 'Dysosmobacter_welbionis', 'Bacteroides_ovatus', 'Mediterraneibacter_butyricigenes', 'GGB9361_SGB14336', 'Coprococcus_eutactus', 'Eubacterium_sulci', 'Coprococcus_comes', 'Bacteroides_intestinalis', 'GGB9512_SGB14909', 'Firmicutes_bacterium_AF16_15', 'GGB4739_SGB6564', 'Parabacteroides_goldsteinii', 'Solobacterium_SGB6833', 'Lancefieldella_parvula', 'Bacteroides_thetaiotaomicron', 'Rothia_dentocariosa', 'Dorea_longicatena', 'Pseudoruminococcus_massiliensis', 'Clostridiaceae_bacterium', 'Eubacterium_rectale', 'Odoribacter_splanchnicus', 'Streptococcus_infantis', 'Faecalibacterium_prausnitzii', 'Ruminococcus_bicirculans', 'Candidatus_Borkfalkia_ceftriaxoniphila', 'Blautia_faecicola', 'Sutterella_SGB9281', 'Alistipes_indistinctus', 'Candidatus_Pseudoscilispira_faecavium', 'Streptococcus_gordonii', 'Intestinimonas_butyriciproducens', 'Ruminococcus_gnavus', 'Clostridium_sp_AM49_4BH', 'Enterobacter_hormaechei', 'Clostridia_unclassified_SGB4367', 'Clostridium_phoceensis', 'Actinomyces_sp_ICM47', 'Allisonella_histaminiformans', 'Romboutsia_timonensis', 'Isoptericola_variabilis', 'Clostridium_paraputrificum', 'Parabacteroides_distasonis', 'Fusicatenibacter_saccharivorans', 'Actinobaculum_sp_oral_taxon_183', 'Klebsiella_pneumoniae', 'Streptococcus_anginosus', 'Faecalimonas_umbilicata', 'GGB9635_SGB15106', 'Peptococcaceae_bacterium', 'GGB3277_SGB4327', 'Roseburia_hominis', 'GGB9551_SGB14958', 'Duodenibacillus_massiliensis', 'GGB9707_SGB15229', 'Roseburia_faecis', 'Mediterraneibacter_massiliensis', 'Clostridia_unclassified_SGB6276', 'GGB9522_SGB14921', 'Alloscardovia_omnicolens', 'GGB45432_SGB63101', 'Ruminococcus_bromii', 'Mogibacterium_diversum', 'Turicibacter_sanguinis', 'Bacteroides_finegoldii', 'Streptococcus_sp_A12', 'Pseudoflavonifractor_capillosus', 'Anaerotruncus_massiliensis', 'GGB9632_SGB15089', 'GGB58158_SGB79798', 'Butyricimonas_paravirosa', 'GGB45491_SGB63163', 'GGB36331_SGB53806', 'GGB9615_SGB15053', 'GGB4249_SGB5749', 'Clostridia_unclassified_SGB14844', 'Candidatus_Woodwardibium_gallinarum', 'Eggerthellaceae_bacterium', 'Limosilactobacillus_fermentum', 'Clostridium_sp_AF27_2AA', 'Flavonifractor_plautii', 'Eubacterium_siraeum', 'Holdemania_filiformis', 'Clostridiales_unclassified_SGB15145', 'GGB3486_SGB4658', 'Lachnoanaerobaculum_sp_ICM7', 'Erysipelatoclostridium_ramosum', 'Sellimonas_intestinalis', 'Clostridium_sp_AF34_10BH', 'Bifidobacterium_longum', 'Blautia_sp_MSK_20_85', 'Lacrimispora_celerecrescens', 'Cloacibacillus_evryensis', 'Corynebacterium_matruchotii', 'Anaeromassilibacillus_sp_An250', 'Collinsella_phocaeensis', 'Streptococcus_mitis', 'GGB9694_SGB15203', 'Prevotella_oris', 'Blautia_SGB4805', 'Evtepia_gabavorous', 'GGB9620_SGB15068', 'Prevotella_veroralis', 'GGB9623_SGB15075', 'Ruminococcus_sp_NSJ_71', 'GGB9758_SGB15368', 'Coprococcus_catus', 'Adlercreutzia_equolifaciens', 'Clostridia_unclassified_SGB6317', 'GGB9524_SGB14923', 'Candidatus_Cibiobacter_qucibialis', 'Barnesiella_intestinihominis', 'Blautia_SGB4815', 'Lawsonibacter_sp_NSJ_51', 'Neglecta_timonensis', 'Actinomyces_graevenitzii', 'GGB3341_SGB4420', 'Blautia_SGB4831', 'Roseburia_intestinalis', 'Flavonifractor_sp_An100', 'Gordonibacter_pamelaeae', 'Clostridia_bacterium', 'Angelakisella_massiliensis', 'Massilistercora_timonensis', 'Streptococcus_salivarius', 'Bacteroidales_unclassified_SGB2135', 'GGB6649_SGB9391', 'Roseburia_inulinivorans', 'Bacteroides_caccae', 'GGB9176_SGB14114', 'GGB9619_SGB15067', 'GGB3278_SGB4328', 'Firmicutes_bacterium', 'Clostridium_leptum', 'Clostridia_unclassified_SGB15402', 'Actinomyces_sp_ICM58', 'Phascolarctobacterium_faecium', 'Clostridiales_bacterium_KLE1615', 'Clostridiaceae_bacterium_OM08_6BH', 'Candidatus_Nanoperiomorbus_periodonticus', 'Alistipes_shahii', 'Lachnospira_sp_NSJ_43', 'GGB9667_SGB15164', 'Actinomyces_sp_S6_Spd3', 'Alistipes_senegalensis', 'Clostridium_disporicum', 'Streptococcus_sp_263_SSPC', 'Alistipes_inops', 'Neisseria_subflava', 'Rothia_mucilaginosa', 'Lachnospiraceae_bacterium_OM04_12BH', 'Blautia_wexlerae', 'Lachnospiraceae_unclassified_SGB4894', 'Bifidobacterium_dentium', 'Butyrivibrio_crossotus', 'Candidatus_Gastranaerophilales_bacterium', 'Phocaeicola_massiliensis', 'GGB3293_SGB4348', 'Parabacteroides_merdae', 'GGB9557_SGB14966', 'Alistipes_communis', 'Clostridia_unclassified_SGB4447', 'GGB9818_SGB15459', 'GGB9730_SGB15291', 'Eubacteriaceae_bacterium', 'Ruminococcaceae_unclassified_SGB15260', 'Eubacterium_ramulus', 'GGB9614_SGB15049', 'Dorea_formicigenerans', 'Bacteroidales_bacterium', 'Gemella_sanguinis', 'Clostridiales_bacterium_Marseille_P2846', 'Clostridium_sp_AM22_11AC', 'Ruthenibacterium_lactatiformans', 'Dorea_sp_AF24_7LB', 'Ruminococcus_torques', 'Ruminococcaceae_bacterium_D5', 'GGB3614_SGB4886', 'Clostridia_unclassified_SGB66170', 'Blautia_faecis', 'Clostridium_sp_AT4', 'Streptococcus_sanguinis', 'GGB9602_SGB15031', 'Anaerotignum_faecicola', 'GGB3523_SGB4703', 'Streptococcus_thermophilus', 'Bacteroides_uniformis', 'GGB9787_SGB15410', 'GGB9347_SGB14313', 'Clostridium_sp_AF20_17LB', 'Bacteroides_fragilis', 'Bacteroides_eggerthii', 'GGB3478_SGB4643', 'Agathobaculum_butyriciproducens', 'Blautia_obeum', 'Prevotella_nigrescens', 'GGB3746_SGB5089', 'Anaerostipes_hadrus', 'Desulfovibrio_piger', 'Dialister_invisus', 'Veillonella_atypica', 'Clostridium_innocuum', 'Haemophilus_parainfluenzae', 'Candidatus_Neochristensenella_gallicola', 'Bifidobacterium_adolescentis', 'Clostridiales_bacterium', 'Monoglobus_pectinilyticus', 'Bacilli_bacterium', 'Dysosmobacter_sp_NSJ_60', 'Clostridium_sp_AF34_13', 'Catenibacillus_scindens', 'Phocaeicola_vulgatus', 'GGB9623_SGB15076', 'GGB3570_SGB4777', 'Rikenellaceae_bacterium', 'Streptococcus_oralis', 'Blautia_schinkii', 'Blautia_massiliensis', 'Lachnospiraceae_bacterium_BX3', 'Alistipes_onderdonkii', 'Parasutterella_excrementihominis', 'Lachnospira_eligens', 'GGB3256_SGB4303', 'Candidatus_Avimicrobium_caecorum', 'Tyzzerella_nexilis', 'Collinsella_aerofaciens', 'Alistipes_finegoldii', 'Lachnospiraceae_bacterium_WCA3_601_WT_6H', 'Amedibacillus_dolichus', 'Clostridium_sp_AF36_4', 'GGB51441_SGB71759', 'Intestinimonas_gabonensis', 'Veillonella_parvula', 'GGB4599_SGB6362', 'Akkermansia_muciniphila', 'Paraprevotella_clara', 'GGB9635_SGB15103', 'Ruminococcaceae_bacterium', 'Lachnoanaerobaculum_orale'}\n"
     ]
    }
   ],
   "source": [
    "import optuna\n",
    "from optuna.samplers import TPESampler\n",
    "from xgboost import XGBClassifier\n",
    "from sklearn.ensemble import RandomForestClassifier\n",
    "import xgboost as xgb\n",
    "from sklearn.feature_selection import SelectFromModel\n",
    "from sklearn.metrics import (\n",
    "    roc_curve, roc_auc_score, f1_score, accuracy_score, confusion_matrix, \n",
    "    classification_report, ConfusionMatrixDisplay\n",
    ")\n",
    "\n",
    "from sklearn.model_selection import StratifiedKFold\n",
    "from sklearn.utils.class_weight import compute_class_weight\n",
    "import numpy as np\n",
    "from sklearn.model_selection import train_test_split\n",
    "from copy import deepcopy\n",
    "from sklearn.preprocessing import StandardScaler\n",
    "\n",
    "# Constants and Configuration\n",
    "print(f\"Experiment number: {experiment_number} | Seed number: {seed}\")\n",
    "# seed = experiment_seed  # Replace with your experiment seed\n",
    "test_size = 0.25\n",
    "gpu_device = \"hist\"\n",
    "\n",
    "# Function to check for overlaps between train and test data\n",
    "def check_for_overlap(train_data, test_data):\n",
    "    \"\"\"\n",
    "    Checks for overlapping Sample ID and study_id between train and test datasets.\n",
    "    \"\"\"\n",
    "    # Check for overlapping Study IDs\n",
    "    overlap_study_ids = set(train_data[\"study_id\"]) & set(test_data[\"study_id\"])\n",
    "    if overlap_study_ids:\n",
    "        print(f\"Overlap Study ID found: {overlap_study_ids}\")\n",
    "    else:\n",
    "        print(\"No overlap Study ID found.\")\n",
    "\n",
    "    # Check for overlapping Sample IDs\n",
    "    overlap_sample_ids = set(train_data[\"Sample ID\"]) & set(test_data[\"Sample ID\"])\n",
    "    if overlap_sample_ids:\n",
    "        print(f\"Overlap Sample ID found: {overlap_sample_ids}\")\n",
    "    else:\n",
    "        print(\"No overlap Sample ID found.\")\n",
    "\n",
    "def check_for_bacteria(list_a, list_b):\n",
    "    \"\"\"\n",
    "    Checks for overlapping bactertia from list_a and list list_b database and predicted bacteria.\n",
    "    \"\"\"\n",
    "    # Check for overlapping Study IDs\n",
    "    list_a = [item.replace(\" \", \"_\") for item in list_a]\n",
    "    list_b = [item.replace(\" \", \"_\") for item in list_b]\n",
    "    \n",
    "    overlap_bacteria = set(list_a) & set(list_b)\n",
    "    if overlap_bacteria:\n",
    "        print(f\"Overlap bacteria found: {overlap_bacteria}\")\n",
    "    else:\n",
    "        print(\"No overlap bacteria found.\")\n",
    "    return overlap_bacteria\n",
    "\n",
    "        \n",
    "def preprocess_data(df, columns_to_drop, test_size, seed):\n",
    "    # Split study IDs into train/test sets\n",
    "    study_labels = df.groupby(\"study_id\")[\"Alzheimers\"].max().reset_index()\n",
    "    train_ids, test_ids = train_test_split(\n",
    "        study_labels[\"study_id\"],\n",
    "        test_size=test_size,\n",
    "        stratify=study_labels[\"Alzheimers\"],\n",
    "        random_state=seed,\n",
    "    )\n",
    "    \n",
    "    train_data = df[df[\"study_id\"].isin(train_ids)].copy()\n",
    "    test_data = df[df[\"study_id\"].isin(test_ids)].copy()\n",
    "\n",
    "    # Check for overlaps\n",
    "    check_for_overlap(train_data, test_data)\n",
    "    \n",
    "    # Select feature columns\n",
    "    feature_columns = [col for col in df.columns if col not in columns_to_drop]\n",
    "\n",
    "    # Convert feature columns to float64 to ensure compatibility\n",
    "    train_data[feature_columns] = train_data[feature_columns].astype(np.float64)\n",
    "    test_data[feature_columns] = test_data[feature_columns].astype(np.float64)\n",
    "\n",
    "    # Normalize the feature columns\n",
    "    scaler = StandardScaler()\n",
    "    train_data.loc[:, feature_columns] = scaler.fit_transform(train_data[feature_columns])\n",
    "    test_data.loc[:, feature_columns] = scaler.transform(test_data[feature_columns])\n",
    "\n",
    "    return train_data, test_data, feature_columns\n",
    "\n",
    "# Function to compute class weights\n",
    "def compute_weights(y_train):\n",
    "    class_weights = compute_class_weight(\"balanced\", classes=np.unique(y_train), y=y_train)\n",
    "    scale_pos_weight = class_weights[1] / class_weights[0]\n",
    "    return scale_pos_weight\n",
    "\n",
    "# Define Optuna Objective Function\n",
    "def objective(trial, X_train, y_train, scale_pos_weight, seed):\n",
    "    print(f\"Seed in the model {seed} on Device {device}\")\n",
    "    # Feature selection parameters\n",
    "    threshold = trial.suggest_categorical('threshold', ['median', 'mean', '0.5*mean', '1.5*mean', 'very_low'])\n",
    "    max_features = trial.suggest_int('max_features', 1, X_train.shape[1])\n",
    "    norm_order = trial.suggest_int('norm_order', 1, 2)\n",
    "    threshold_value = -1e10 if threshold == 'very_low' else threshold\n",
    "\n",
    "    # Feature selection\n",
    "    selector = SelectFromModel(\n",
    "        estimator=XGBClassifier(\n",
    "            objective='binary:logistic',\n",
    "            eval_metric='logloss',\n",
    "            scale_pos_weight= scale_pos_weight,\n",
    "            random_state=seed,\n",
    "            tree_method=gpu_device, \n",
    "            device=device\n",
    "        ),\n",
    "        threshold=threshold_value,\n",
    "        max_features=max_features,\n",
    "        norm_order=norm_order\n",
    "    )\n",
    "    \n",
    "    selector.fit(X_train, y_train)\n",
    "    X_train_selected = selector.transform(X_train)\n",
    "\n",
    "    # Define RandomForest parameters\n",
    "    n_estimators = trial.suggest_int(\"n_estimators\", 50, 300)\n",
    "    max_depth = trial.suggest_int(\"max_depth\", 3, 30)\n",
    "    min_samples_split = trial.suggest_int(\"min_samples_split\", 2, 10)\n",
    "    min_samples_leaf = trial.suggest_int(\"min_samples_leaf\", 1, 5)\n",
    "    max_features_rf = trial.suggest_float(\"max_features_rf\", 0.5, 1.0)  # Renamed parameter\n",
    "\n",
    "    # Cross-validation\n",
    "    skf = StratifiedKFold(n_splits=3, shuffle=True, random_state=seed)\n",
    "    f1_scores = []\n",
    "    for train_idx, val_idx in skf.split(X_train_selected, y_train):\n",
    "        X_train_fold, X_val_fold = X_train_selected[train_idx], X_train_selected[val_idx]\n",
    "        y_train_fold, y_val_fold = y_train[train_idx], y_train[val_idx]\n",
    "\n",
    "        # Train RandomForestClassifier\n",
    "        model = RandomForestClassifier(\n",
    "            n_estimators=n_estimators,\n",
    "            max_depth=max_depth,\n",
    "            min_samples_split=min_samples_split,\n",
    "            min_samples_leaf=min_samples_leaf,\n",
    "            max_features=max_features_rf,  # Use new name here\n",
    "            random_state=seed,\n",
    "            class_weight={0: 1.0, 1: scale_pos_weight},  # Handle class imbalance\n",
    "        )\n",
    "        model.fit(X_train_fold, y_train_fold)\n",
    "\n",
    "        # Validation predictions\n",
    "        y_val_pred = model.predict_proba(X_val_fold)[:, 1]  # Probability of positive class\n",
    "        y_val_pred_binary = (y_val_pred >= 0.5).astype(int)  # Binary classification\n",
    "        f1_scores.append(f1_score(y_val_fold, y_val_pred_binary))\n",
    "\n",
    "    return np.mean(f1_scores)\n",
    "\n",
    "# Main Program\n",
    "columns_to_drop = [\"Sample ID\", \"study_id\", \"Alzheimers\", \"Date Sample\", \"age\",]\n",
    "\n",
    "train_data, test_data, feature_columns = preprocess_data(clinical_microbiome_df, columns_to_drop, test_size, seed)\n",
    "X_train = deepcopy(train_data[feature_columns].values)\n",
    "y_train = np.array(train_data[\"Alzheimers\"].values)\n",
    "X_test = deepcopy(test_data[feature_columns].values)\n",
    "y_test = np.array(test_data[\"Alzheimers\"].values)\n",
    "scale_pos_weight = compute_weights(y_train)\n",
    "\n",
    "# Run Optuna Optimization\n",
    "study = optuna.create_study(direction=\"maximize\", sampler=TPESampler(seed=seed))\n",
    "study.optimize(lambda trial: objective(trial, X_train, y_train, scale_pos_weight, seed), n_trials=50)\n",
    "\n",
    "# Best Parameters\n",
    "best_params = study.best_params\n",
    "print(\"Best Parameters:\", best_params)\n",
    "\n",
    "# Apply Final Model\n",
    "# Apply Final Model\n",
    "final_selector = SelectFromModel(\n",
    "    estimator=XGBClassifier(\n",
    "        objective='binary:logistic',\n",
    "        eval_metric='logloss',\n",
    "        scale_pos_weight=scale_pos_weight,\n",
    "        random_state=seed,\n",
    "        tree_method=gpu_device,\n",
    "        device=device\n",
    "    ),\n",
    "    threshold=-1e10 if best_params['threshold'] == 'very_low' else best_params['threshold'],\n",
    "    max_features=best_params['max_features'],  # Corrected key\n",
    "    norm_order=best_params['norm_order']\n",
    ")\n",
    "\n",
    "final_selector.fit(X_train, y_train)\n",
    "X_train_selected = final_selector.transform(X_train)\n",
    "X_test_selected = final_selector.transform(X_test)\n",
    "\n",
    "# Train Final Model\n",
    "final_model = RandomForestClassifier(\n",
    "    n_estimators=best_params[\"n_estimators\"],\n",
    "    max_depth=best_params[\"max_depth\"],\n",
    "    min_samples_split=best_params[\"min_samples_split\"],\n",
    "    min_samples_leaf=best_params[\"min_samples_leaf\"],\n",
    "    max_features=best_params[\"max_features_rf\"],  # Use the correct key\n",
    "    random_state=seed,\n",
    "    class_weight={0: 1.0, 1: scale_pos_weight},  # Handle class imbalance\n",
    ")\n",
    "final_model.fit(X_train_selected, y_train)\n",
    "\n",
    "# Predictions and Evaluation\n",
    "y_test_pred = final_model.predict_proba(X_test_selected)[:, 1]  # Probability of positive class\n",
    "y_test_pred_binary = (y_test_pred >= 0.5).astype(int)\n",
    "\n",
    "# Evaluate Model Performance\n",
    "auc = roc_auc_score(y_test, y_test_pred)\n",
    "accuracy = accuracy_score(y_test, y_test_pred_binary)\n",
    "f1 = f1_score(y_test, y_test_pred_binary)\n",
    "conf_matrix = confusion_matrix(y_test, y_test_pred_binary)\n",
    "\n",
    "print(\"\\nTest Metrics:\")\n",
    "print(f\"ROC AUC: {auc}\\nAccuracy: {accuracy}\\nF1 Score: {f1}\\nConfusion Matrix:\\n{conf_matrix}\")\n",
    "disp = ConfusionMatrixDisplay(confusion_matrix=conf_matrix, display_labels=[\"Negative\", \"Positive\"])\n",
    "disp.plot(cmap=\"Blues\")\n",
    "plt.title(\"Confusion Matrix\")\n",
    "plt.show()\n",
    "\n",
    "report = classification_report(y_test, y_test_pred_binary, target_names=[\"Negative\", \"Positive\"])\n",
    "print(\"\\nClassification Report:\")\n",
    "print(report)\n",
    "\n",
    "# Extract feature names for selected features\n",
    "selected_feature_names = [feature_columns[i] for i in range(X_train_selected.shape[1])]\n",
    "# Truncate each feature name to a maximum of 30 characters\n",
    "selected_feature_names = [\n",
    "    feature[:30] if len(feature) > 40 else feature  # Truncate if longer than 30 characters\n",
    "    for feature in selected_feature_names\n",
    "]\n",
    "\n",
    "print(f\"Number of selected features: {len(selected_feature_names)}\")\n",
    "\n",
    "# Step 1: Initialize SHAP explainer\n",
    "explainer = shap.Explainer(final_model, X_train_selected)\n",
    "\n",
    "# Step 2: Compute SHAP values\n",
    "shap_values = explainer(X_train_selected, check_additivity=False)\n",
    "\n",
    "# Step 3: Aggregate SHAP values to mimic XGBoost\n",
    "# For binary classification: take the difference between class 1 and class 0\n",
    "shap_values_aggregated = shap_values.values[:, :, 1] - shap_values.values[:, :, 0]\n",
    "\n",
    "# Step 4: Plot SHAP summary\n",
    "plt.figure(figsize=(20, 10))  # Wide plot\n",
    "plt.title(\"SHAP Violin Plot - Global Feature Importance\", fontsize=14)\n",
    "\n",
    "shap.summary_plot(\n",
    "    shap_values_aggregated,  # Correct SHAP values\n",
    "    X_train_selected,  # Input data aligned with SHAP values\n",
    "    feature_names=selected_feature_names,  # Ensure feature names align\n",
    "    max_display=20,  # Limit to top 20 features\n",
    "    plot_type=\"violin\"  # Violin plot style\n",
    ")\n",
    "\n",
    "bacteria_fount = check_for_bacteria(bacteria_df.species_name.tolist(),selected_feature_names)"
   ]
  },
  {
   "cell_type": "code",
   "execution_count": 15,
   "id": "d23becd3-066b-4a62-ae4f-03c925412b1c",
   "metadata": {},
   "outputs": [
    {
     "name": "stdout",
     "output_type": "stream",
     "text": [
      "Overlap bacteria found: {'Veillonella_dispar', 'Oscillospiraceae_bacterium_NSJ_64', 'Bacteroides_stercoris', 'Ruminococcaceae_bacterium_AM07_15', 'Lactobacillus_gasseri', 'GGB4585_SGB6340', 'Intestinibacter_SGB6139', 'Oscillibacter_sp_ER4', 'Oribacterium_sinus', 'GGB3571_SGB4778', 'Lancefieldella_rimae', 'Pseudoflavonifractor_SGB15156', 'Alistipes_ihumii', 'Clostridiaceae_unclassified_SGB4769', 'GGB9694_SGB15204', 'Lachnospiraceae_bacterium', 'Eubacterium_ventriosum', 'GGB9634_SGB15093', 'Trueperella_pyogenes', 'GGB9699_SGB15216', 'Rothia_aeria', 'Intestinibacter_bartlettii', 'Porphyromonas_pasteri', 'GGB29535_SGB42321', 'Neisseria_sicca', 'Gemmiger_formicilis', 'Enterococcus_faecium', 'Streptococcus_parasanguinis', 'Roseburia_sp_AF02_12', 'GGB9342_SGB14306', 'Ruminococcus_lactaris', 'Alistipes_putredinis', 'Intestinimonas_massiliensis', 'Bacteroides_xylanisolvens', 'Bacteroides_cellulosilyticus', 'Ruminococcaceae_unclassified_SGB15234', 'Faecalibacillus_intestinalis', 'Blautia_sp_AF19_10LB', 'Bilophila_wadsworthia', 'Eggerthellaceae_unclassified_SGB14341', 'Senegalimassilia_anaerobia', 'Coprobacter_fastidiosus', 'Actinomyces_dentalis', 'Clostridium_sp_AF15_49', 'Lacrimispora_amygdalina', 'Anaerobutyricum_hallii', 'Methanobrevibacter_smithii', 'Prevotella_buccae', 'Clostridium_fessum', 'Coprobacter_secundus', 'Lachnospira_SGB5076', 'Escherichia_coli', 'Erysipelotrichaceae_bacterium', 'Dysosmobacter_welbionis', 'Bacteroides_ovatus', 'Mediterraneibacter_butyricigenes', 'GGB9361_SGB14336', 'Coprococcus_eutactus', 'Eubacterium_sulci', 'Coprococcus_comes', 'Bacteroides_intestinalis', 'GGB9512_SGB14909', 'Firmicutes_bacterium_AF16_15', 'GGB4739_SGB6564', 'Parabacteroides_goldsteinii', 'Solobacterium_SGB6833', 'Lancefieldella_parvula', 'Bacteroides_thetaiotaomicron', 'Rothia_dentocariosa', 'Dorea_longicatena', 'Pseudoruminococcus_massiliensis', 'Clostridiaceae_bacterium', 'Eubacterium_rectale', 'Odoribacter_splanchnicus', 'Streptococcus_infantis', 'Faecalibacterium_prausnitzii', 'Ruminococcus_bicirculans', 'Candidatus_Borkfalkia_ceftriaxoniphila', 'Blautia_faecicola', 'Sutterella_SGB9281', 'Alistipes_indistinctus', 'Candidatus_Pseudoscilispira_faecavium', 'Streptococcus_gordonii', 'Intestinimonas_butyriciproducens', 'Ruminococcus_gnavus', 'Clostridium_sp_AM49_4BH', 'Enterobacter_hormaechei', 'Clostridia_unclassified_SGB4367', 'Clostridium_phoceensis', 'Actinomyces_sp_ICM47', 'Allisonella_histaminiformans', 'Romboutsia_timonensis', 'Isoptericola_variabilis', 'Clostridium_paraputrificum', 'Parabacteroides_distasonis', 'Fusicatenibacter_saccharivorans', 'Actinobaculum_sp_oral_taxon_183', 'Klebsiella_pneumoniae', 'Streptococcus_anginosus', 'Faecalimonas_umbilicata', 'GGB9635_SGB15106', 'Peptococcaceae_bacterium', 'GGB3277_SGB4327', 'Roseburia_hominis', 'GGB9551_SGB14958', 'Duodenibacillus_massiliensis', 'GGB9707_SGB15229', 'Roseburia_faecis', 'Mediterraneibacter_massiliensis', 'Clostridia_unclassified_SGB6276', 'GGB9522_SGB14921', 'Alloscardovia_omnicolens', 'GGB45432_SGB63101', 'Ruminococcus_bromii', 'Mogibacterium_diversum', 'Turicibacter_sanguinis', 'Bacteroides_finegoldii', 'Streptococcus_sp_A12', 'Pseudoflavonifractor_capillosus', 'Anaerotruncus_massiliensis', 'GGB9632_SGB15089', 'GGB58158_SGB79798', 'Butyricimonas_paravirosa', 'GGB45491_SGB63163', 'GGB36331_SGB53806', 'GGB9615_SGB15053', 'GGB4249_SGB5749', 'Clostridia_unclassified_SGB14844', 'Candidatus_Woodwardibium_gallinarum', 'Eggerthellaceae_bacterium', 'Limosilactobacillus_fermentum', 'Clostridium_sp_AF27_2AA', 'Flavonifractor_plautii', 'Eubacterium_siraeum', 'Holdemania_filiformis', 'Clostridiales_unclassified_SGB15145', 'GGB3486_SGB4658', 'Lachnoanaerobaculum_sp_ICM7', 'Erysipelatoclostridium_ramosum', 'Sellimonas_intestinalis', 'Clostridium_sp_AF34_10BH', 'Bifidobacterium_longum', 'Blautia_sp_MSK_20_85', 'Lacrimispora_celerecrescens', 'Cloacibacillus_evryensis', 'Corynebacterium_matruchotii', 'Anaeromassilibacillus_sp_An250', 'Collinsella_phocaeensis', 'Streptococcus_mitis', 'GGB9694_SGB15203', 'Prevotella_oris', 'Blautia_SGB4805', 'Evtepia_gabavorous', 'GGB9620_SGB15068', 'Prevotella_veroralis', 'GGB9623_SGB15075', 'Ruminococcus_sp_NSJ_71', 'GGB9758_SGB15368', 'Coprococcus_catus', 'Adlercreutzia_equolifaciens', 'Clostridia_unclassified_SGB6317', 'GGB9524_SGB14923', 'Candidatus_Cibiobacter_qucibialis', 'Barnesiella_intestinihominis', 'Blautia_SGB4815', 'Lawsonibacter_sp_NSJ_51', 'Neglecta_timonensis', 'Actinomyces_graevenitzii', 'GGB3341_SGB4420', 'Blautia_SGB4831', 'Roseburia_intestinalis', 'Flavonifractor_sp_An100', 'Gordonibacter_pamelaeae', 'Clostridia_bacterium', 'Angelakisella_massiliensis', 'Massilistercora_timonensis', 'Streptococcus_salivarius', 'Bacteroidales_unclassified_SGB2135', 'GGB6649_SGB9391', 'Roseburia_inulinivorans', 'Bacteroides_caccae', 'GGB9176_SGB14114', 'GGB9619_SGB15067', 'GGB3278_SGB4328', 'Firmicutes_bacterium', 'Clostridium_leptum', 'Clostridia_unclassified_SGB15402', 'Actinomyces_sp_ICM58', 'Phascolarctobacterium_faecium', 'Clostridiales_bacterium_KLE1615', 'Clostridiaceae_bacterium_OM08_6BH', 'Candidatus_Nanoperiomorbus_periodonticus', 'Alistipes_shahii', 'Lachnospira_sp_NSJ_43', 'GGB9667_SGB15164', 'Actinomyces_sp_S6_Spd3', 'Alistipes_senegalensis', 'Clostridium_disporicum', 'Streptococcus_sp_263_SSPC', 'Alistipes_inops', 'Neisseria_subflava', 'Rothia_mucilaginosa', 'Lachnospiraceae_bacterium_OM04_12BH', 'Blautia_wexlerae', 'Lachnospiraceae_unclassified_SGB4894', 'Bifidobacterium_dentium', 'Butyrivibrio_crossotus', 'Candidatus_Gastranaerophilales_bacterium', 'Phocaeicola_massiliensis', 'GGB3293_SGB4348', 'Parabacteroides_merdae', 'GGB9557_SGB14966', 'Alistipes_communis', 'Clostridia_unclassified_SGB4447', 'GGB9818_SGB15459', 'GGB9730_SGB15291', 'Eubacteriaceae_bacterium', 'Ruminococcaceae_unclassified_SGB15260', 'Eubacterium_ramulus', 'GGB9614_SGB15049', 'Dorea_formicigenerans', 'Bacteroidales_bacterium', 'Gemella_sanguinis', 'Clostridiales_bacterium_Marseille_P2846', 'Clostridium_sp_AM22_11AC', 'Ruthenibacterium_lactatiformans', 'Dorea_sp_AF24_7LB', 'Ruminococcus_torques', 'Ruminococcaceae_bacterium_D5', 'GGB3614_SGB4886', 'Clostridia_unclassified_SGB66170', 'Blautia_faecis', 'Clostridium_sp_AT4', 'Streptococcus_sanguinis', 'GGB9602_SGB15031', 'Anaerotignum_faecicola', 'GGB3523_SGB4703', 'Streptococcus_thermophilus', 'Bacteroides_uniformis', 'GGB9787_SGB15410', 'GGB9347_SGB14313', 'Clostridium_sp_AF20_17LB', 'Bacteroides_fragilis', 'Bacteroides_eggerthii', 'GGB3478_SGB4643', 'Agathobaculum_butyriciproducens', 'Blautia_obeum', 'Prevotella_nigrescens', 'GGB3746_SGB5089', 'Anaerostipes_hadrus', 'Desulfovibrio_piger', 'Dialister_invisus', 'Veillonella_atypica', 'Clostridium_innocuum', 'Haemophilus_parainfluenzae', 'Candidatus_Neochristensenella_gallicola', 'Bifidobacterium_adolescentis', 'Clostridiales_bacterium', 'Monoglobus_pectinilyticus', 'Bacilli_bacterium', 'Dysosmobacter_sp_NSJ_60', 'Clostridium_sp_AF34_13', 'Catenibacillus_scindens', 'Phocaeicola_vulgatus', 'GGB9623_SGB15076', 'GGB3570_SGB4777', 'Rikenellaceae_bacterium', 'Streptococcus_oralis', 'Blautia_schinkii', 'Blautia_massiliensis', 'Lachnospiraceae_bacterium_BX3', 'Alistipes_onderdonkii', 'Parasutterella_excrementihominis', 'Lachnospira_eligens', 'GGB3256_SGB4303', 'Candidatus_Avimicrobium_caecorum', 'Tyzzerella_nexilis', 'Collinsella_aerofaciens', 'Alistipes_finegoldii', 'Lachnospiraceae_bacterium_WCA3_601_WT_6H', 'Amedibacillus_dolichus', 'Clostridium_sp_AF36_4', 'GGB51441_SGB71759', 'Intestinimonas_gabonensis', 'Veillonella_parvula', 'GGB4599_SGB6362', 'Akkermansia_muciniphila', 'Paraprevotella_clara', 'GGB9635_SGB15103', 'Ruminococcaceae_bacterium', 'Lachnoanaerobaculum_orale'}\n"
     ]
    },
    {
     "data": {
      "text/plain": [
       "{'Actinobaculum_sp_oral_taxon_183',\n",
       " 'Actinomyces_dentalis',\n",
       " 'Actinomyces_graevenitzii',\n",
       " 'Actinomyces_sp_ICM47',\n",
       " 'Actinomyces_sp_ICM58',\n",
       " 'Actinomyces_sp_S6_Spd3',\n",
       " 'Adlercreutzia_equolifaciens',\n",
       " 'Agathobaculum_butyriciproducens',\n",
       " 'Akkermansia_muciniphila',\n",
       " 'Alistipes_communis',\n",
       " 'Alistipes_finegoldii',\n",
       " 'Alistipes_ihumii',\n",
       " 'Alistipes_indistinctus',\n",
       " 'Alistipes_inops',\n",
       " 'Alistipes_onderdonkii',\n",
       " 'Alistipes_putredinis',\n",
       " 'Alistipes_senegalensis',\n",
       " 'Alistipes_shahii',\n",
       " 'Allisonella_histaminiformans',\n",
       " 'Alloscardovia_omnicolens',\n",
       " 'Amedibacillus_dolichus',\n",
       " 'Anaerobutyricum_hallii',\n",
       " 'Anaeromassilibacillus_sp_An250',\n",
       " 'Anaerostipes_hadrus',\n",
       " 'Anaerotignum_faecicola',\n",
       " 'Anaerotruncus_massiliensis',\n",
       " 'Angelakisella_massiliensis',\n",
       " 'Bacilli_bacterium',\n",
       " 'Bacteroidales_bacterium',\n",
       " 'Bacteroidales_unclassified_SGB2135',\n",
       " 'Bacteroides_caccae',\n",
       " 'Bacteroides_cellulosilyticus',\n",
       " 'Bacteroides_eggerthii',\n",
       " 'Bacteroides_finegoldii',\n",
       " 'Bacteroides_fragilis',\n",
       " 'Bacteroides_intestinalis',\n",
       " 'Bacteroides_ovatus',\n",
       " 'Bacteroides_stercoris',\n",
       " 'Bacteroides_thetaiotaomicron',\n",
       " 'Bacteroides_uniformis',\n",
       " 'Bacteroides_xylanisolvens',\n",
       " 'Barnesiella_intestinihominis',\n",
       " 'Bifidobacterium_adolescentis',\n",
       " 'Bifidobacterium_dentium',\n",
       " 'Bifidobacterium_longum',\n",
       " 'Bilophila_wadsworthia',\n",
       " 'Blautia_SGB4805',\n",
       " 'Blautia_SGB4815',\n",
       " 'Blautia_SGB4831',\n",
       " 'Blautia_faecicola',\n",
       " 'Blautia_faecis',\n",
       " 'Blautia_massiliensis',\n",
       " 'Blautia_obeum',\n",
       " 'Blautia_schinkii',\n",
       " 'Blautia_sp_AF19_10LB',\n",
       " 'Blautia_sp_MSK_20_85',\n",
       " 'Blautia_wexlerae',\n",
       " 'Butyricimonas_paravirosa',\n",
       " 'Butyrivibrio_crossotus',\n",
       " 'Candidatus_Avimicrobium_caecorum',\n",
       " 'Candidatus_Borkfalkia_ceftriaxoniphila',\n",
       " 'Candidatus_Cibiobacter_qucibialis',\n",
       " 'Candidatus_Gastranaerophilales_bacterium',\n",
       " 'Candidatus_Nanoperiomorbus_periodonticus',\n",
       " 'Candidatus_Neochristensenella_gallicola',\n",
       " 'Candidatus_Pseudoscilispira_faecavium',\n",
       " 'Candidatus_Woodwardibium_gallinarum',\n",
       " 'Catenibacillus_scindens',\n",
       " 'Cloacibacillus_evryensis',\n",
       " 'Clostridia_bacterium',\n",
       " 'Clostridia_unclassified_SGB14844',\n",
       " 'Clostridia_unclassified_SGB15402',\n",
       " 'Clostridia_unclassified_SGB4367',\n",
       " 'Clostridia_unclassified_SGB4447',\n",
       " 'Clostridia_unclassified_SGB6276',\n",
       " 'Clostridia_unclassified_SGB6317',\n",
       " 'Clostridia_unclassified_SGB66170',\n",
       " 'Clostridiaceae_bacterium',\n",
       " 'Clostridiaceae_bacterium_OM08_6BH',\n",
       " 'Clostridiaceae_unclassified_SGB4769',\n",
       " 'Clostridiales_bacterium',\n",
       " 'Clostridiales_bacterium_KLE1615',\n",
       " 'Clostridiales_bacterium_Marseille_P2846',\n",
       " 'Clostridiales_unclassified_SGB15145',\n",
       " 'Clostridium_disporicum',\n",
       " 'Clostridium_fessum',\n",
       " 'Clostridium_innocuum',\n",
       " 'Clostridium_leptum',\n",
       " 'Clostridium_paraputrificum',\n",
       " 'Clostridium_phoceensis',\n",
       " 'Clostridium_sp_AF15_49',\n",
       " 'Clostridium_sp_AF20_17LB',\n",
       " 'Clostridium_sp_AF27_2AA',\n",
       " 'Clostridium_sp_AF34_10BH',\n",
       " 'Clostridium_sp_AF34_13',\n",
       " 'Clostridium_sp_AF36_4',\n",
       " 'Clostridium_sp_AM22_11AC',\n",
       " 'Clostridium_sp_AM49_4BH',\n",
       " 'Clostridium_sp_AT4',\n",
       " 'Collinsella_aerofaciens',\n",
       " 'Collinsella_phocaeensis',\n",
       " 'Coprobacter_fastidiosus',\n",
       " 'Coprobacter_secundus',\n",
       " 'Coprococcus_catus',\n",
       " 'Coprococcus_comes',\n",
       " 'Coprococcus_eutactus',\n",
       " 'Corynebacterium_matruchotii',\n",
       " 'Desulfovibrio_piger',\n",
       " 'Dialister_invisus',\n",
       " 'Dorea_formicigenerans',\n",
       " 'Dorea_longicatena',\n",
       " 'Dorea_sp_AF24_7LB',\n",
       " 'Duodenibacillus_massiliensis',\n",
       " 'Dysosmobacter_sp_NSJ_60',\n",
       " 'Dysosmobacter_welbionis',\n",
       " 'Eggerthellaceae_bacterium',\n",
       " 'Eggerthellaceae_unclassified_SGB14341',\n",
       " 'Enterobacter_hormaechei',\n",
       " 'Enterococcus_faecium',\n",
       " 'Erysipelatoclostridium_ramosum',\n",
       " 'Erysipelotrichaceae_bacterium',\n",
       " 'Escherichia_coli',\n",
       " 'Eubacteriaceae_bacterium',\n",
       " 'Eubacterium_ramulus',\n",
       " 'Eubacterium_rectale',\n",
       " 'Eubacterium_siraeum',\n",
       " 'Eubacterium_sulci',\n",
       " 'Eubacterium_ventriosum',\n",
       " 'Evtepia_gabavorous',\n",
       " 'Faecalibacillus_intestinalis',\n",
       " 'Faecalibacterium_prausnitzii',\n",
       " 'Faecalimonas_umbilicata',\n",
       " 'Firmicutes_bacterium',\n",
       " 'Firmicutes_bacterium_AF16_15',\n",
       " 'Flavonifractor_plautii',\n",
       " 'Flavonifractor_sp_An100',\n",
       " 'Fusicatenibacter_saccharivorans',\n",
       " 'GGB29535_SGB42321',\n",
       " 'GGB3256_SGB4303',\n",
       " 'GGB3277_SGB4327',\n",
       " 'GGB3278_SGB4328',\n",
       " 'GGB3293_SGB4348',\n",
       " 'GGB3341_SGB4420',\n",
       " 'GGB3478_SGB4643',\n",
       " 'GGB3486_SGB4658',\n",
       " 'GGB3523_SGB4703',\n",
       " 'GGB3570_SGB4777',\n",
       " 'GGB3571_SGB4778',\n",
       " 'GGB3614_SGB4886',\n",
       " 'GGB36331_SGB53806',\n",
       " 'GGB3746_SGB5089',\n",
       " 'GGB4249_SGB5749',\n",
       " 'GGB45432_SGB63101',\n",
       " 'GGB45491_SGB63163',\n",
       " 'GGB4585_SGB6340',\n",
       " 'GGB4599_SGB6362',\n",
       " 'GGB4739_SGB6564',\n",
       " 'GGB51441_SGB71759',\n",
       " 'GGB58158_SGB79798',\n",
       " 'GGB6649_SGB9391',\n",
       " 'GGB9176_SGB14114',\n",
       " 'GGB9342_SGB14306',\n",
       " 'GGB9347_SGB14313',\n",
       " 'GGB9361_SGB14336',\n",
       " 'GGB9512_SGB14909',\n",
       " 'GGB9522_SGB14921',\n",
       " 'GGB9524_SGB14923',\n",
       " 'GGB9551_SGB14958',\n",
       " 'GGB9557_SGB14966',\n",
       " 'GGB9602_SGB15031',\n",
       " 'GGB9614_SGB15049',\n",
       " 'GGB9615_SGB15053',\n",
       " 'GGB9619_SGB15067',\n",
       " 'GGB9620_SGB15068',\n",
       " 'GGB9623_SGB15075',\n",
       " 'GGB9623_SGB15076',\n",
       " 'GGB9632_SGB15089',\n",
       " 'GGB9634_SGB15093',\n",
       " 'GGB9635_SGB15103',\n",
       " 'GGB9635_SGB15106',\n",
       " 'GGB9667_SGB15164',\n",
       " 'GGB9694_SGB15203',\n",
       " 'GGB9694_SGB15204',\n",
       " 'GGB9699_SGB15216',\n",
       " 'GGB9707_SGB15229',\n",
       " 'GGB9730_SGB15291',\n",
       " 'GGB9758_SGB15368',\n",
       " 'GGB9787_SGB15410',\n",
       " 'GGB9818_SGB15459',\n",
       " 'Gemella_sanguinis',\n",
       " 'Gemmiger_formicilis',\n",
       " 'Gordonibacter_pamelaeae',\n",
       " 'Haemophilus_parainfluenzae',\n",
       " 'Holdemania_filiformis',\n",
       " 'Intestinibacter_SGB6139',\n",
       " 'Intestinibacter_bartlettii',\n",
       " 'Intestinimonas_butyriciproducens',\n",
       " 'Intestinimonas_gabonensis',\n",
       " 'Intestinimonas_massiliensis',\n",
       " 'Isoptericola_variabilis',\n",
       " 'Klebsiella_pneumoniae',\n",
       " 'Lachnoanaerobaculum_orale',\n",
       " 'Lachnoanaerobaculum_sp_ICM7',\n",
       " 'Lachnospira_SGB5076',\n",
       " 'Lachnospira_eligens',\n",
       " 'Lachnospira_sp_NSJ_43',\n",
       " 'Lachnospiraceae_bacterium',\n",
       " 'Lachnospiraceae_bacterium_BX3',\n",
       " 'Lachnospiraceae_bacterium_OM04_12BH',\n",
       " 'Lachnospiraceae_bacterium_WCA3_601_WT_6H',\n",
       " 'Lachnospiraceae_unclassified_SGB4894',\n",
       " 'Lacrimispora_amygdalina',\n",
       " 'Lacrimispora_celerecrescens',\n",
       " 'Lactobacillus_gasseri',\n",
       " 'Lancefieldella_parvula',\n",
       " 'Lancefieldella_rimae',\n",
       " 'Lawsonibacter_sp_NSJ_51',\n",
       " 'Limosilactobacillus_fermentum',\n",
       " 'Massilistercora_timonensis',\n",
       " 'Mediterraneibacter_butyricigenes',\n",
       " 'Mediterraneibacter_massiliensis',\n",
       " 'Methanobrevibacter_smithii',\n",
       " 'Mogibacterium_diversum',\n",
       " 'Monoglobus_pectinilyticus',\n",
       " 'Neglecta_timonensis',\n",
       " 'Neisseria_sicca',\n",
       " 'Neisseria_subflava',\n",
       " 'Odoribacter_splanchnicus',\n",
       " 'Oribacterium_sinus',\n",
       " 'Oscillibacter_sp_ER4',\n",
       " 'Oscillospiraceae_bacterium_NSJ_64',\n",
       " 'Parabacteroides_distasonis',\n",
       " 'Parabacteroides_goldsteinii',\n",
       " 'Parabacteroides_merdae',\n",
       " 'Paraprevotella_clara',\n",
       " 'Parasutterella_excrementihominis',\n",
       " 'Peptococcaceae_bacterium',\n",
       " 'Phascolarctobacterium_faecium',\n",
       " 'Phocaeicola_massiliensis',\n",
       " 'Phocaeicola_vulgatus',\n",
       " 'Porphyromonas_pasteri',\n",
       " 'Prevotella_buccae',\n",
       " 'Prevotella_nigrescens',\n",
       " 'Prevotella_oris',\n",
       " 'Prevotella_veroralis',\n",
       " 'Pseudoflavonifractor_SGB15156',\n",
       " 'Pseudoflavonifractor_capillosus',\n",
       " 'Pseudoruminococcus_massiliensis',\n",
       " 'Rikenellaceae_bacterium',\n",
       " 'Romboutsia_timonensis',\n",
       " 'Roseburia_faecis',\n",
       " 'Roseburia_hominis',\n",
       " 'Roseburia_intestinalis',\n",
       " 'Roseburia_inulinivorans',\n",
       " 'Roseburia_sp_AF02_12',\n",
       " 'Rothia_aeria',\n",
       " 'Rothia_dentocariosa',\n",
       " 'Rothia_mucilaginosa',\n",
       " 'Ruminococcaceae_bacterium',\n",
       " 'Ruminococcaceae_bacterium_AM07_15',\n",
       " 'Ruminococcaceae_bacterium_D5',\n",
       " 'Ruminococcaceae_unclassified_SGB15234',\n",
       " 'Ruminococcaceae_unclassified_SGB15260',\n",
       " 'Ruminococcus_bicirculans',\n",
       " 'Ruminococcus_bromii',\n",
       " 'Ruminococcus_gnavus',\n",
       " 'Ruminococcus_lactaris',\n",
       " 'Ruminococcus_sp_NSJ_71',\n",
       " 'Ruminococcus_torques',\n",
       " 'Ruthenibacterium_lactatiformans',\n",
       " 'Sellimonas_intestinalis',\n",
       " 'Senegalimassilia_anaerobia',\n",
       " 'Solobacterium_SGB6833',\n",
       " 'Streptococcus_anginosus',\n",
       " 'Streptococcus_gordonii',\n",
       " 'Streptococcus_infantis',\n",
       " 'Streptococcus_mitis',\n",
       " 'Streptococcus_oralis',\n",
       " 'Streptococcus_parasanguinis',\n",
       " 'Streptococcus_salivarius',\n",
       " 'Streptococcus_sanguinis',\n",
       " 'Streptococcus_sp_263_SSPC',\n",
       " 'Streptococcus_sp_A12',\n",
       " 'Streptococcus_thermophilus',\n",
       " 'Sutterella_SGB9281',\n",
       " 'Trueperella_pyogenes',\n",
       " 'Turicibacter_sanguinis',\n",
       " 'Tyzzerella_nexilis',\n",
       " 'Veillonella_atypica',\n",
       " 'Veillonella_dispar',\n",
       " 'Veillonella_parvula'}"
      ]
     },
     "execution_count": 15,
     "metadata": {},
     "output_type": "execute_result"
    }
   ],
   "source": [
    "bacteria_fount = check_for_bacteria(bacteria_df.species_name.tolist(),selected_feature_names)\n",
    "bacteria_fount"
   ]
  },
  {
   "cell_type": "code",
   "execution_count": 16,
   "id": "83401d9b-49ac-484e-b237-8332385b9204",
   "metadata": {},
   "outputs": [
    {
     "data": {
      "text/plain": [
       "np.float64(0.6669230769230768)"
      ]
     },
     "execution_count": 16,
     "metadata": {},
     "output_type": "execute_result"
    }
   ],
   "source": [
    "auc"
   ]
  },
  {
   "cell_type": "code",
   "execution_count": 17,
   "id": "68e83a35-b094-477d-8362-0336e1ccca0a",
   "metadata": {},
   "outputs": [
    {
     "data": {
      "image/png": "[encoded data removed]",
      "text/plain": [
       "<Figure size 640x480 with 1 Axes>"
      ]
     },
     "metadata": {},
     "output_type": "display_data"
    }
   ],
   "source": [
    "# Calculate the ROC curve\n",
    "fpr, tpr, thresholds = roc_curve(y_test, y_test_pred)\n",
    "\n",
    "# Plot the ROC curve\n",
    "plt.figure()\n",
    "plt.plot(fpr, tpr, label=f'ROC Curve (AUC = {auc:.2f})')\n",
    "plt.plot([0, 1], [0, 1], 'k--', label='Random Guess')  # Dashed diagonal line\n",
    "plt.xlim([0.0, 1.0])\n",
    "plt.ylim([0.0, 1.05])\n",
    "plt.xlabel('False Positive Rate')\n",
    "plt.ylabel('True Positive Rate')\n",
    "plt.title('Receiver Operating Characteristic (ROC) Curve')\n",
    "plt.legend(loc='lower right')\n",
    "plt.grid()\n",
    "plt.show()"
   ]
  },
  {
   "cell_type": "code",
   "execution_count": 18,
   "id": "2fb44a51-b6bf-4f46-8e3b-b77007db28cd",
   "metadata": {},
   "outputs": [
    {
     "data": {
      "text/plain": [
       "0.6493506493506493"
      ]
     },
     "execution_count": 18,
     "metadata": {},
     "output_type": "execute_result"
    }
   ],
   "source": [
    "accuracy"
   ]
  },
  {
   "cell_type": "code",
   "execution_count": 19,
   "id": "df953e72-46ac-478d-9f43-e04b282a26db",
   "metadata": {},
   "outputs": [
    {
     "data": {
      "text/plain": [
       "np.float64(0.37209302325581395)"
      ]
     },
     "execution_count": 19,
     "metadata": {},
     "output_type": "execute_result"
    }
   ],
   "source": [
    "f1"
   ]
  },
  {
   "cell_type": "code",
   "execution_count": 20,
   "id": "aa689fbf-a9b0-480e-a8d9-c9dfd310bba3",
   "metadata": {},
   "outputs": [
    {
     "data": {
      "text/plain": [
       "array([[42, 10],\n",
       "       [17,  8]])"
      ]
     },
     "execution_count": 20,
     "metadata": {},
     "output_type": "execute_result"
    }
   ],
   "source": [
    "conf_matrix"
   ]
  },
  {
   "cell_type": "code",
   "execution_count": 21,
   "id": "e403a7d9-cd37-4ffc-b5ba-eef01a8f1273",
   "metadata": {},
   "outputs": [
    {
     "data": {
      "image/png": "[encoded data removed]",
      "text/plain": [
       "<Figure size 640x480 with 2 Axes>"
      ]
     },
     "metadata": {},
     "output_type": "display_data"
    }
   ],
   "source": [
    "disp = ConfusionMatrixDisplay(confusion_matrix=conf_matrix, display_labels=[\"Negative\", \"Positive\"])\n",
    "disp.plot(cmap=\"Blues\")\n",
    "plt.title(\"Confusion Matrix\")\n",
    "plt.show()"
   ]
  },
  {
   "cell_type": "code",
   "execution_count": 22,
   "id": "71b64add-f587-4987-999c-fe5decf75c0f",
   "metadata": {},
   "outputs": [
    {
     "data": {
      "text/html": [
       "<div>\n",
       "<style scoped>\n",
       "    .dataframe tbody tr th:only-of-type {\n",
       "        vertical-align: middle;\n",
       "    }\n",
       "\n",
       "    .dataframe tbody tr th {\n",
       "        vertical-align: top;\n",
       "    }\n",
       "\n",
       "    .dataframe thead th {\n",
       "        text-align: right;\n",
       "    }\n",
       "</style>\n",
       "<table border=\"1\" class=\"dataframe\">\n",
       "  <thead>\n",
       "    <tr style=\"text-align: right;\">\n",
       "      <th></th>\n",
       "      <th>Model</th>\n",
       "      <th>Seed</th>\n",
       "      <th>Experiment_Number</th>\n",
       "      <th>Accuracy</th>\n",
       "      <th>AUC</th>\n",
       "      <th>F1_Score</th>\n",
       "    </tr>\n",
       "  </thead>\n",
       "  <tbody>\n",
       "    <tr>\n",
       "      <th>0</th>\n",
       "      <td>randomforest</td>\n",
       "      <td>513873336</td>\n",
       "      <td>8</td>\n",
       "      <td>0.649351</td>\n",
       "      <td>0.666923</td>\n",
       "      <td>0.372093</td>\n",
       "    </tr>\n",
       "  </tbody>\n",
       "</table>\n",
       "</div>"
      ],
      "text/plain": [
       "          Model       Seed  Experiment_Number  Accuracy       AUC  F1_Score\n",
       "0  randomforest  513873336                  8  0.649351  0.666923  0.372093"
      ]
     },
     "execution_count": 22,
     "metadata": {},
     "output_type": "execute_result"
    }
   ],
   "source": [
    "measures = [\"randomforest\", seed, experiment_number, accuracy, auc, f1]\n",
    "\n",
    "# Create a DataFrame with appropriate column names\n",
    "columns = [\"Model\", \"Seed\", \"Experiment_Number\", \"Accuracy\", \"AUC\", \"F1_Score\"]\n",
    "measures_df = pd.DataFrame([measures], columns=columns)\n",
    "measures_df"
   ]
  },
  {
   "cell_type": "code",
   "execution_count": 23,
   "id": "2332a3f7-e582-42c8-9f0f-bf868c6da554",
   "metadata": {},
   "outputs": [
    {
     "data": {
      "text/plain": [
       "'output/randomforest_experiment08_measures.csv'"
      ]
     },
     "execution_count": 23,
     "metadata": {},
     "output_type": "execute_result"
    }
   ],
   "source": [
    "output_path = \"output\"\n",
    "measures_path = f\"{output_path}{os.sep}randomforest_experiment{experiment_number:02d}_measures.csv\"\n",
    "if output_path and not os.path.exists(output_path):\n",
    "    os.makedirs(output_path)\n",
    "measures_path"
   ]
  },
  {
   "cell_type": "code",
   "execution_count": 24,
   "id": "2dd38431-831e-43dc-8139-bfa31dd1a154",
   "metadata": {},
   "outputs": [],
   "source": [
    "measures_df.to_csv(measures_path, index=False)"
   ]
  }
 ],
 "metadata": {
  "kernelspec": {
   "display_name": "Python 3 (ipykernel)",
   "language": "python",
   "name": "python3"
  },
  "language_info": {
   "codemirror_mode": {
    "name": "ipython",
    "version": 3
   },
   "file_extension": ".py",
   "mimetype": "text/x-python",
   "name": "python",
   "nbconvert_exporter": "python",
   "pygments_lexer": "ipython3",
   "version": "3.11.10"
  }
 },
 "nbformat": 4,
 "nbformat_minor": 5
}
